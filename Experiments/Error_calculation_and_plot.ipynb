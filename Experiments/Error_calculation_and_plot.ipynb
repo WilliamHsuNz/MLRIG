{
 "cells": [
  {
   "cell_type": "code",
   "execution_count": 1,
   "metadata": {},
   "outputs": [
    {
     "name": "stderr",
     "output_type": "stream",
     "text": [
      "Using TensorFlow backend.\n"
     ]
    }
   ],
   "source": [
    "import os\n",
    "import pandas as pd\n",
    "import datetime\n",
    "from matplotlib import pyplot\n",
    "from sklearn.preprocessing import MinMaxScaler\n",
    "from sklearn.preprocessing import StandardScaler\n",
    "from sklearn.preprocessing import LabelEncoder\n",
    "from sklearn.preprocessing import OneHotEncoder\n",
    "from sklearn.metrics import mean_squared_error\n",
    "from sklearn.metrics import mean_absolute_error\n",
    "from keras.models import Sequential\n",
    "from keras.layers import Dense\n",
    "from keras.layers import LSTM\n",
    "from keras.layers import CuDNNLSTM\n",
    "from keras.layers import TimeDistributed\n",
    "from keras.utils import generic_utils\n",
    "from keras.utils import Sequence\n",
    "from keras.callbacks import ModelCheckpoint\n",
    "import tensorflow as tf\n",
    "import numpy as np\n",
    "import scipy \n",
    "import math\n",
    "import h5py\n",
    "import time\n",
    "import copy\n",
    "from sklearn.metrics import mean_absolute_error\n",
    "from numpy.random import seed\n",
    "seed(123)\n",
    "from tensorflow import set_random_seed\n",
    "set_random_seed(456)"
   ]
  },
  {
   "cell_type": "code",
   "execution_count": 2,
   "metadata": {},
   "outputs": [
    {
     "name": "stdout",
     "output_type": "stream",
     "text": [
      "(2099160, 51)\n",
      "Index(['Unnamed: 0', 'STUDENT_INDEX_MASTER', 'DATE', 'QUARTERS', 'AGE',\n",
      "       'ETHNICITY', 'SEX', 'NZDEP', 'TEST', 'HDL', 'LDL', 'TRI', 'TCL',\n",
      "       'TCHDL', 'STATINS', 'ATORVASTATIN', 'SIMVASTATIN',\n",
      "       'CHOLESTEROL_LOWERING', 'ARBs', 'ACE', 'ALPHA_BLOCKERS',\n",
      "       'BETA_BLOCKERS', 'BLOOD_PRESSURE_LOWERING', 'LIPID_LOWERING',\n",
      "       'DIURETICS', 'ANTIANGINAL_ANTIARRYTHMIC', 'CALCIUM_CHANNEL_BLOCKERS',\n",
      "       'ANTIHYPERTENSIVES', 'CARDIAC_GLYCOSIDES', 'NITRATES',\n",
      "       'SYMPATHOMIMETIC', 'OTHERS', 'ANTIPLATELETS', 'ANTICOAGULANTS',\n",
      "       'TRUE_HDL', 'TRUE_LDL', 'TRUE_TRI', 'TRUE_TCL', 'TRUE_TCHDL', 'SBP',\n",
      "       'SMOKING', 'EN_TCHDL', 'HX_DIABETES', 'FAMILY_HISTORY', 'DBP', 'HX_CVD',\n",
      "       'GEN_LIPID', 'RENAL', 'HX_DIABETES_YR', 'SBP2', 'DBP2'],\n",
      "      dtype='object')\n",
      "Index(['Unnamed: 0', 'STUDENT_INDEX_MASTER', 'QUARTERS', 'AGE', 'SEX', 'NZDEP',\n",
      "       'ETHN_A', 'ETHN_B', 'ETHN_C', 'ETHN_D', 'ETHN_E', 'ETHN_H', 'SBP',\n",
      "       'DBP', 'SBP2', 'DBP2', 'SMOKING', 'EN_TCHDL', 'HX_DIABETES',\n",
      "       'FAMILY_HISTORY', 'HX_CVD', 'GEN_LIPID', 'RENAL', 'HX_DIABETES_YR',\n",
      "       'STATINS', 'ATORVASTATIN', 'SIMVASTATIN', 'TEST', 'HDL', 'LDL', 'TRI',\n",
      "       'TCL', 'TCHDL'],\n",
      "      dtype='object')\n",
      "(571480, 33)\n",
      "Index(['Unnamed: 0', 'STUDENT_INDEX_MASTER', 'QUARTERS', 'AGE', 'SEX', 'NZDEP',\n",
      "       'ETHN_A', 'ETHN_B', 'ETHN_C', 'ETHN_D', 'ETHN_E', 'ETHN_H', 'SBP',\n",
      "       'DBP', 'SBP2', 'DBP2', 'SMOKING', 'EN_TCHDL', 'HX_DIABETES',\n",
      "       'FAMILY_HISTORY', 'HX_CVD', 'GEN_LIPID', 'RENAL', 'HX_DIABETES_YR',\n",
      "       'STATINS', 'ATORVASTATIN', 'SIMVASTATIN', 'TEST', 'HDL', 'LDL', 'TRI',\n",
      "       'TCL', 'TCHDL'],\n",
      "      dtype='object')\n",
      "(571480, 33)\n",
      "Index(['Unnamed: 0', 'STUDENT_INDEX_MASTER', 'QUARTERS', 'AGE', 'SEX', 'NZDEP',\n",
      "       'ETHN_A', 'ETHN_B', 'ETHN_C', 'ETHN_D', 'ETHN_E', 'ETHN_H', 'SBP',\n",
      "       'DBP', 'SBP2', 'DBP2', 'SMOKING', 'EN_TCHDL', 'HX_DIABETES',\n",
      "       'FAMILY_HISTORY', 'HX_CVD', 'GEN_LIPID', 'RENAL', 'HX_DIABETES_YR',\n",
      "       'STATINS', 'ATORVASTATIN', 'SIMVASTATIN', 'TEST', 'HDL', 'LDL', 'TRI',\n",
      "       'TCL', 'TCHDL'],\n",
      "      dtype='object')\n",
      "(571480, 33)\n"
     ]
    }
   ],
   "source": [
    "VIEW_df = pd.read_csv('/home/whsu014/data/Cholesterol_PHH_360dayspy_with_true_values_01day_ethn_coded_PREDICT_Variables_sbp2dbp2.csv')\n",
    "print(VIEW_df.shape)\n",
    "print(VIEW_df.columns)\n",
    "complete_inv_y_df = pd.read_csv('/home/whsu014/data/LSTM_TCHDL_8to20_experiment_zero_pad_standardised_20410inds_y.csv')\n",
    "complete_inv_yhat_df = pd.read_csv('/home/whsu014/data/LSTM_TCHDL_8to20_experiment_zero_pad_standardised_20410inds_yhat.csv')\n",
    "complete_inv_naive_df = pd.read_csv('/home/whsu014/data/LSTM_TCHDL_8to20_experiment_zero_pad_standardised_20410inds_naive.csv')\n",
    "print(complete_inv_y_df.columns)\n",
    "print(complete_inv_y_df.shape)\n",
    "print(complete_inv_yhat_df.columns)\n",
    "print(complete_inv_yhat_df.shape)\n",
    "print(complete_inv_naive_df.columns)\n",
    "print(complete_inv_naive_df.shape)"
   ]
  },
  {
   "cell_type": "code",
   "execution_count": 4,
   "metadata": {},
   "outputs": [
    {
     "name": "stdout",
     "output_type": "stream",
     "text": [
      "(2099160, 17)\n",
      "(571480, 32)\n",
      "(571480, 32)\n",
      "(571480, 32)\n"
     ]
    }
   ],
   "source": [
    "#VIEW_v = VIEW_df.iloc[:, [1,3,4,14,15,16,8,9,10,11,12,13,34,35,36,37,38]].values\n",
    "#VIEW_sub_df = VIEW_df.iloc[:, [1,3,4,14,15,16,8,9,10,11,12,13,34,35,36,37,38]]\n",
    "'''\n",
    "complete_inv_y = complete_inv_y_df.values[:, 1:]\n",
    "complete_inv_yhat = complete_inv_yhat_df.values[:, 1:]\n",
    "complete_inv_naive = complete_inv_naive_df.values[:, 1:]\n",
    "print(VIEW_v.shape)\n",
    "print(complete_inv_y.shape)\n",
    "print(complete_inv_yhat.shape)\n",
    "print(complete_inv_naive.shape)\n",
    "'''\n"
   ]
  },
  {
   "cell_type": "code",
   "execution_count": 12,
   "metadata": {},
   "outputs": [
    {
     "name": "stdout",
     "output_type": "stream",
     "text": [
      "(2099160, 17)\n",
      "(571480, 17)\n"
     ]
    }
   ],
   "source": [
    "VIEW_sub_df = VIEW_df.iloc[:, [1,3,4,14,15,16,8,9,10,11,12,13,34,35,36,37,38]]\n",
    "print(VIEW_sub_df.shape)\n",
    "VIEW_v = VIEW_sub_df[VIEW_sub_df.iloc[:, 0].isin(np.unique(complete_inv_y[:, 0]))].values\n",
    "print(VIEW_v.shape)"
   ]
  },
  {
   "cell_type": "code",
   "execution_count": 5,
   "metadata": {},
   "outputs": [
    {
     "name": "stdout",
     "output_type": "stream",
     "text": [
      "STb77b2NPhNK\n",
      "(28, 32)\n",
      "(28, 32)\n",
      "(28, 17)\n",
      "[[ 0.    0.    0.    0.    2.18  2.51  0.97  5.16  2.4 ]\n",
      " [ 0.    0.    0.    0.    2.18  2.49  1.02  5.14  2.4 ]\n",
      " [ 0.    0.    0.    0.    2.17  2.46  1.08  5.13  2.4 ]\n",
      " [ 0.    0.    0.    0.    2.17  2.44  1.13  5.12  2.4 ]\n",
      " [ 0.    0.    0.    0.    2.16  2.41  1.18  5.11  2.4 ]\n",
      " [ 0.    0.    0.    1.    2.16  2.4   1.2   5.1   2.4 ]\n",
      " [ 0.    0.    0.    0.    2.16  2.4   1.2   5.1   2.4 ]\n",
      " [ 0.    0.    0.    0.    2.16  2.4   1.2   5.1   2.4 ]\n",
      " [-0.01 -0.   -0.01  0.13  2.26  2.55  0.84  5.2   2.32]\n",
      " [ 0.   -0.    0.   -0.    2.18  2.65  0.89  5.25  2.39]\n",
      " [-0.   -0.    0.   -0.    2.18  2.71  0.9   5.31  2.38]\n",
      " [ 0.   -0.    0.   -0.    2.15  2.73  0.94  5.32  2.42]\n",
      " [ 0.   -0.    0.   -0.    2.15  2.76  0.97  5.36  2.44]\n",
      " [ 0.   -0.    0.   -0.    2.16  2.76  0.99  5.38  2.44]\n",
      " [ 0.   -0.    0.   -0.    2.19  2.77  1.    5.42  2.43]\n",
      " [ 0.   -0.    0.    0.    2.22  2.75  1.01  5.43  2.41]\n",
      " [ 0.   -0.    0.    0.    2.21  2.77  1.02  5.45  2.43]\n",
      " [ 0.01 -0.    0.    0.    2.23  2.77  1.01  5.47  2.42]\n",
      " [ 0.   -0.    0.   -0.    2.24  2.78  1.01  5.48  2.42]\n",
      " [ 0.   -0.    0.    0.    2.24  2.78  1.02  5.49  2.42]\n",
      " [ 0.   -0.    0.    0.    2.24  2.78  1.02  5.49  2.42]\n",
      " [ 0.   -0.    0.    0.    2.24  2.78  1.03  5.49  2.42]\n",
      " [ 0.   -0.    0.    0.    2.23  2.79  1.03  5.5   2.43]\n",
      " [ 0.    0.    0.    0.    2.22  2.79  1.04  5.5   2.44]\n",
      " [ 0.    0.    0.    0.    2.21  2.8   1.04  5.5   2.45]\n",
      " [ 0.01  0.    0.    0.    2.2   2.81  1.05  5.51  2.46]\n",
      " [ 0.01  0.    0.    0.    2.19  2.82  1.06  5.51  2.48]\n",
      " [ 0.01  0.    0.    0.    2.18  2.82  1.06  5.51  2.49]]\n",
      "[[0.   0.   0.   0.   2.18 2.51 0.97 5.16 2.4 ]\n",
      " [0.   0.   0.   0.   2.18 2.49 1.02 5.14 2.4 ]\n",
      " [0.   0.   0.   0.   2.17 2.46 1.08 5.13 2.4 ]\n",
      " [0.   0.   0.   0.   2.17 2.44 1.13 5.12 2.4 ]\n",
      " [0.   0.   0.   0.   2.16 2.41 1.18 5.11 2.4 ]\n",
      " [0.   0.   0.   1.   2.15 2.41 1.19 5.1  2.41]\n",
      " [0.   0.   0.   0.   2.13 2.44 1.16 5.1  2.44]\n",
      " [0.   0.   0.   0.   2.11 2.46 1.14 5.1  2.46]\n",
      " [0.   0.   0.   0.   2.09 2.49 1.11 5.1  2.49]\n",
      " [0.   0.   0.   0.   2.07 2.51 1.09 5.1  2.51]\n",
      " [0.   0.   0.   0.   2.05 2.54 1.06 5.1  2.54]\n",
      " [0.   0.   0.   0.   2.03 2.56 1.04 5.1  2.56]\n",
      " [0.   0.   0.   0.   2.01 2.58 1.02 5.1  2.58]\n",
      " [0.   0.   0.   1.   2.   2.57 0.99 5.07 2.59]\n",
      " [0.   0.   0.   0.   1.98 2.5  0.97 4.97 2.55]\n",
      " [0.   0.   0.   0.   1.97 2.42 0.96 4.88 2.51]\n",
      " [0.   0.   0.   0.   1.96 2.35 0.94 4.79 2.47]\n",
      " [0.   0.   0.   0.   1.95 2.28 0.92 4.69 2.44]\n",
      " [0.   0.   0.   0.   1.94 2.2  0.9  4.6  2.4 ]\n",
      " [0.   0.   0.   1.   1.91 2.32 0.97 4.7  2.5 ]\n",
      " [0.   0.   0.   0.   1.87 2.44 1.04 4.81 2.61]\n",
      " [0.   0.   0.   0.   1.84 2.56 1.11 4.91 2.71]\n",
      " [0.   0.   0.   0.   1.8  2.69 1.18 5.02 2.82]\n",
      " [0.   0.   0.   0.   1.77 2.81 1.25 5.12 2.92]\n",
      " [0.   0.   0.   1.   1.74 2.9  1.3  5.2  3.  ]\n",
      " [0.   0.   0.   0.   1.74 2.9  1.3  5.2  3.  ]\n",
      " [0.   0.   0.   0.   1.74 2.9  1.3  5.2  3.  ]\n",
      " [0.   0.   0.   0.   1.74 2.9  1.3  5.2  3.  ]]\n",
      "[[0.   2.18 2.51 0.97 5.16 2.4 ]\n",
      " [0.   2.18 2.49 1.02 5.14 2.4 ]\n",
      " [0.   2.17 2.46 1.08 5.13 2.4 ]\n",
      " [0.   2.17 2.44 1.13 5.12 2.4 ]\n",
      " [0.   2.16 2.41 1.18 5.11 2.4 ]\n",
      " [1.   2.15 2.41 1.19 5.1  2.41]\n",
      " [0.   2.13 2.44 1.16 5.1  2.44]\n",
      " [0.   2.11 2.46 1.14 5.1  2.46]\n",
      " [0.   2.09 2.49 1.11 5.1  2.49]\n",
      " [0.   2.07 2.51 1.09 5.1  2.51]\n",
      " [0.   2.05 2.54 1.06 5.1  2.54]\n",
      " [0.   2.03 2.56 1.04 5.1  2.56]\n",
      " [0.   2.01 2.58 1.02 5.1  2.58]\n",
      " [1.   2.   2.57 0.99 5.07 2.59]\n",
      " [0.   1.98 2.5  0.97 4.97 2.55]\n",
      " [0.   1.97 2.42 0.96 4.88 2.51]\n",
      " [0.   1.96 2.35 0.94 4.79 2.47]\n",
      " [0.   1.95 2.28 0.92 4.69 2.44]\n",
      " [0.   1.94 2.2  0.9  4.6  2.4 ]\n",
      " [1.   1.91 2.32 0.97 4.7  2.5 ]\n",
      " [0.   1.87 2.44 1.04 4.81 2.61]\n",
      " [0.   1.84 2.56 1.11 4.91 2.71]\n",
      " [0.   1.8  2.69 1.18 5.02 2.82]\n",
      " [0.   1.77 2.81 1.25 5.12 2.92]\n",
      " [1.   1.74 2.9  1.3  5.2  3.  ]\n",
      " [0.   1.74 2.9  1.3  5.2  3.  ]\n",
      " [0.   1.74 2.9  1.3  5.2  3.  ]\n",
      " [0.   1.74 2.9  1.3  5.2  3.  ]]\n"
     ]
    }
   ],
   "source": [
    "#################################\n",
    "# data check\n",
    "# y should match view (ground truth)\n",
    "#################################\n",
    "ind_id = complete_inv_y[0, 0]\n",
    "print(ind_id)\n",
    "ind_y = complete_inv_y[complete_inv_y[:, 0] == ind_id]\n",
    "ind_yhat = complete_inv_yhat[complete_inv_yhat[:, 0] == ind_id]\n",
    "ind_view = VIEW_v[VIEW_v[:, 0] == ind_id]\n",
    "print(ind_y.shape)\n",
    "print(ind_yhat.shape)\n",
    "print(ind_view.shape)\n",
    "print(np.around(ind_yhat[:, -9:].astype(np.double), decimals=2))\n",
    "print(np.around(ind_y[:, -9:].astype(np.double), decimals=2))\n",
    "print(np.around(ind_view[:, [6,7,8,9,10,11]].astype(np.double), decimals=2))"
   ]
  },
  {
   "cell_type": "code",
   "execution_count": 5,
   "metadata": {},
   "outputs": [
    {
     "name": "stdout",
     "output_type": "stream",
     "text": [
      "complete_inv_y shape (135000, 32)\n",
      "complete_inv_yhat shape (135000, 32)\n",
      "naive shape (135000, 17)\n"
     ]
    }
   ],
   "source": [
    "# Columns of VIEW_v\n",
    "# STUDENT_INDEX_MASTER, QUARTERS, AGE,\n",
    "# STATINS, ATORVASTATIN, SIMVASTATIN,\n",
    "# TEST, HDL, LDL, TRI, TCL, TCHDL,\n",
    "# TRUE_HDL, TRUE_LDL, TRUE_TRI, TRUE_TCL, TRUE_TCHDL\n",
    "#########################\n",
    "# create naive forecast\n",
    "#########################\n",
    "value_indicating_test = max(np.unique(VIEW_v[:, 6]))\n",
    "value_indicating_no_test = min(np.unique(VIEW_v[:, 6]))\n",
    "\n",
    "missing_a_measure = 0\n",
    "IDs_of_missing_measure = []\n",
    "naive_v = np.empty([0, 17])\n",
    "for i in range(len(complete_inv_y)//27): \n",
    "    ind_id = complete_inv_y[(i*27), 0]\n",
    "    ind_v = copy.deepcopy(VIEW_v[VIEW_v[:, 0]==ind_id])\n",
    "    test_list = list(ind_v[0:8, 6])\n",
    "    quarters_v = copy.deepcopy(ind_v[:, 1])\n",
    "    age_v = copy.deepcopy(ind_v[:, 2])\n",
    "    idx = len(test_list) - 1 - \\\n",
    "          test_list[::-1].index(value_indicating_test)\n",
    "    last_v = copy.deepcopy(ind_v[idx, -11:])\n",
    "    # parse values from TRUE choleterol lists\\\n",
    "    for j in range(1, 6):\n",
    "        ch_s = last_v[j+5]\n",
    "        if len(ch_s) > 4:\n",
    "            ch_list = ch_s[1:-1].split(', ')\n",
    "            last_v[j] = float(ch_list[-1])\n",
    "        else:\n",
    "            missing_a_measure += 1\n",
    "            IDs_of_missing_measure.append(ind_v[0, 0])\n",
    "    ind_v[idx, -11:] = last_v\n",
    "    last_v[0] = value_indicating_no_test #this might be the wrong assumption\n",
    "    for j in range((idx+1),28):\n",
    "        ind_v[j, -11:] = last_v\n",
    "    ind_v[:, 1] = quarters_v\n",
    "    ind_v[:, 2] = age_v\n",
    "    naive_v = np.append(naive_v, ind_v[1:,:], axis = 0)\n",
    "print(\"complete_inv_y shape\", complete_inv_y.shape)\n",
    "print(\"complete_inv_yhat shape\", complete_inv_yhat.shape)\n",
    "print(\"naive shape\", naive_v.shape)"
   ]
  },
  {
   "cell_type": "code",
   "execution_count": 7,
   "metadata": {},
   "outputs": [
    {
     "name": "stdout",
     "output_type": "stream",
     "text": [
      "True\n",
      "True\n",
      "(571480, 32)\n"
     ]
    }
   ],
   "source": [
    "# check to see if data y, yhat and naive are equal\n",
    "naive_v = complete_inv_naive # naive_v[:, :-5]\n",
    "print(np.array_equal(complete_inv_y[:, 0], complete_inv_yhat[:, 0]))\n",
    "print(np.array_equal(complete_inv_y[:, 0], naive_v[:, 0]))\n",
    "print(naive_v.shape)"
   ]
  },
  {
   "cell_type": "code",
   "execution_count": 32,
   "metadata": {
    "scrolled": true
   },
   "outputs": [
    {
     "name": "stdout",
     "output_type": "stream",
     "text": [
      "33\n",
      "['STmJzBjhcURi', 'STZzTH2VvIHJ', 'STymmYZ1lyjh', 'STI7CGGPXtKo', 'STPCapjU85TX', 'STUk4DcSxrou', 'ST5OJ0Ov5dU2', 'STcbVLDQCbjC', 'STOuyTjSklWI', 'STwM9FifNBiV', 'STK7l3k6VHxD', 'STZSqLu2uSCR', 'STUXL2CNMrQG', 'STGNZaKPWYyo', 'STX3zXVE03tt', 'STz7Ia3vOUDo', 'STqp0t4Q4BUT', 'STh5z5oCGx43', 'STSMEhYw2oiY', 'STvABYVsPYbZ', 'STpjs8yne89m', 'ST23MASErYn3', 'ST7kkfVQObvu', 'STInLbDQV2bt', 'STFybSLdIFXj', 'STs5vUHEnEGC', 'STxDCVApklSt', 'STMCjJIwWwIE', 'STUwtFdrioA4', 'STYBuVduzGQf', 'ST9SKofXoKid', 'STg1S1QBeKAa', 'STqr57XpQUZE']\n",
      "6639\n",
      "6639\n",
      "6639\n",
      "6639\n",
      "RMSE y: 0.27214580585103254\n",
      "RMSE LSTM:  0.8230622091533867\n",
      "RMSE Naive:  1.0164309763044101\n"
     ]
    }
   ],
   "source": [
    "#######################################\n",
    "# Error calculation\n",
    "#######################################\n",
    "value_indicating_test = max(np.unique(VIEW_v[:, 6]))\n",
    "value_indicating_no_test = min(np.unique(VIEW_v[:, 6]))\n",
    "\n",
    "empty_list_count = 0\n",
    "empty_list_IDs = []\n",
    "TCHDL = []\n",
    "y = []\n",
    "LSTM = []\n",
    "naive = []\n",
    "for i in range(len(complete_inv_y)//28):#len(complete_inv_y)//27\n",
    "    '''\n",
    "    ind_id = complete_inv_y[i*27, 0]\n",
    "    ind_y = copy.deepcopy(complete_inv_y[(i*27):((i+1)*27), :])\n",
    "    ind_yhat = copy.deepcopy(complete_inv_yhat[(i*27):((i+1)*27), :])\n",
    "    ind_naive = copy.deepcopy(naive_v[(i*27):((i+1)*27), :])\n",
    "    ind_truth = copy.deepcopy(VIEW_v[VIEW_v[:, 0] == ind_id])\n",
    "    ind_truth = ind_truth[1:, :]\n",
    "    '''\n",
    "    #print(ind_y.shape)\n",
    "    #print(ind_yhat.shape)\n",
    "    #print(ind_naive.shape)\n",
    "    #print(ind_truth.shape)\n",
    "    \n",
    "    ind_id = complete_inv_y[i*28, 0]\n",
    "    ind_y = copy.deepcopy(complete_inv_y[(i*28):((i+1)*28), :])\n",
    "    ind_yhat = copy.deepcopy(complete_inv_yhat[(i*28):((i+1)*28), :])\n",
    "    ind_naive = copy.deepcopy(naive_v[(i*28):((i+1)*28), :])\n",
    "    ind_truth = copy.deepcopy(VIEW_v[VIEW_v[:, 0] == ind_id])\n",
    "    #ind_truth = ind_truth[1:, :]\n",
    "    \n",
    "    #for j in range(7, 27): # Assess all 20 quarters\n",
    "    for j in range(27, 28):\n",
    "        if ind_truth[j, 6] == value_indicating_test:\n",
    "            if len(ind_truth[j, -1]) > 4:\n",
    "                #TCHDL_s ind_truth[j, -1][1:-1].split(\", \")\n",
    "                TCHDL_list = [float(TCHDL) for TCHDL in ind_truth[j, -1][1:-1].split(\", \")]\n",
    "                mean_TCHDL = sum(TCHDL_list)/len(TCHDL_list)\n",
    "                TCHDL.append(mean_TCHDL)\n",
    "                y.append(ind_y[j, -1])\n",
    "                LSTM.append(ind_yhat[j, -1])\n",
    "                naive.append(ind_naive[j, -1])\n",
    "            else:\n",
    "                empty_list_count += 1\n",
    "                empty_list_IDs.append(ind_id)\n",
    "print(empty_list_count)\n",
    "print(empty_list_IDs)\n",
    "print(len(TCHDL))\n",
    "print(len(y))\n",
    "print(len(LSTM))\n",
    "print(len(naive))\n",
    "              \n",
    "rmse_y = math.sqrt(mean_squared_error(TCHDL, y))\n",
    "rmse_yhat = math.sqrt(mean_squared_error(TCHDL, LSTM))\n",
    "rmse_naive = math.sqrt(mean_squared_error(TCHDL, naive))\n",
    "print(\"RMSE y:\", rmse_y)\n",
    "print(\"RMSE LSTM: \", rmse_yhat)\n",
    "print(\"RMSE Naive: \",rmse_naive)           "
   ]
  },
  {
   "cell_type": "code",
   "execution_count": 218,
   "metadata": {},
   "outputs": [
    {
     "name": "stdout",
     "output_type": "stream",
     "text": [
      "121\n"
     ]
    }
   ],
   "source": [
    "IDs_set = set(empty_list_IDs)\n",
    "print(len(IDs_set))"
   ]
  },
  {
   "cell_type": "code",
   "execution_count": 8,
   "metadata": {
    "scrolled": true
   },
   "outputs": [
    {
     "name": "stdout",
     "output_type": "stream",
     "text": [
      "(0.25840874153447113, 0.34938235260289474)\n",
      "(0.9592096399932639, 1.0727619952797232)\n",
      "(0.8917148914318046, 0.9916773036130168)\n",
      "T test LSTM vs naive\n",
      "Ttest_indResult(statistic=2.2217267843530273, pvalue=0.039363726964537715)\n"
     ]
    }
   ],
   "source": [
    "###############################\n",
    "#  T test\n",
    "###############################\n",
    "# find confidence interval\n",
    "\n",
    "import scipy.stats as st\n",
    "'''\n",
    "true_list_cf = st.t.interval(0.95, len(true_list)-1, \n",
    "                              loc=np.mean(true_list), \n",
    "                              scale=st.sem(true_list))\n",
    "\n",
    "import statsmodels.stats.api as sms\n",
    "true_list_cf = sms.DescrStatsW(true_list).tconfint_mean()\n",
    "'''\n",
    "\n",
    "step = len(TCHDL)//10\n",
    "start = 0\n",
    "end = start + step\n",
    "rmse_y_list = [] # interpolated values\n",
    "rmse_lstm_list = []\n",
    "#rmse_depmix_list = []\n",
    "rmse_naive_list = []\n",
    "for i in range(10):\n",
    "    rmse_y = math.sqrt(mean_squared_error(TCHDL[start:end], y[start:end]))\n",
    "    rmse_lstm = math.sqrt(mean_squared_error(TCHDL[start:end], LSTM[start:end]))\n",
    "    rmse_naive = math.sqrt(mean_squared_error(TCHDL[start:end], naive[start:end]))\n",
    "    #rmse_depmix2 = sqrt(mean_squared_error(true_list[start:end],forecast_w_q_list[start:end]))\n",
    "    rmse_y_list.append(rmse_y)\n",
    "    rmse_lstm_list.append(rmse_lstm)\n",
    "    rmse_naive_list.append(rmse_naive)\n",
    "    #rmse_depmix_list2.append(rmse_depmix2)\n",
    "    start = end\n",
    "    end = end + step\n",
    "\n",
    "y_forecast_cf = st.t.interval(0.95, len(rmse_y_list)-1, \n",
    "                              loc=np.mean(rmse_y_list), \n",
    "                              scale=st.sem(rmse_y_list)) \n",
    "lstm_forecast_cf = st.t.interval(0.95, len(rmse_lstm_list)-1, \n",
    "                              loc=np.mean(rmse_lstm_list), \n",
    "                              scale=st.sem(rmse_lstm_list)) \n",
    "naive_forecast_cf = st.t.interval(0.95, len(rmse_naive_list)-1, \n",
    "                              loc=np.mean(rmse_naive_list), \n",
    "                              scale=st.sem(rmse_naive_list)) \n",
    "print(y_forecast_cf)\n",
    "print(lstm_forecast_cf)\n",
    "print(naive_forecast_cf)\n",
    "#print(naive_forecast_cf)\n",
    "#t test \n",
    "print(\"T test LSTM vs naive\")\n",
    "print(scipy.stats.ttest_ind(rmse_lstm_list, rmse_naive_list))"
   ]
  },
  {
   "cell_type": "code",
   "execution_count": 230,
   "metadata": {
    "scrolled": false
   },
   "outputs": [
    {
     "data": {
      "image/png": "[encoded data removed]",
      "text/plain": [
       "<Figure size 432x288 with 1 Axes>"
      ]
     },
     "metadata": {
      "needs_background": "light"
     },
     "output_type": "display_data"
    }
   ],
   "source": [
    "#################################\n",
    "# plot examples from data\n",
    "#################################\n",
    "# sample individual\n",
    "idx = 4000\n",
    "\n",
    "ind_y = complete_inv_y[(idx*27):((idx+1)*27), -1]\n",
    "ind_yhat = complete_inv_yhat[(idx*27):((idx+1)*27), -1]\n",
    "ind_naive = naive_v[(idx*27):((idx+1)*27), -1]\n",
    "#ind_id = ind_yhat[0, 0]\n",
    "quarters = complete_inv_y[(idx*27):((idx+1)*27), 1]\n",
    "fig, ax = pyplot.subplots()\n",
    "ax.plot(quarters, ind_y, '.-', color='m', alpha=0.5, label=\"y\")\n",
    "ax.plot(quarters, ind_yhat, ':', color='g', alpha=0.8, label=\"LSTM\")\n",
    "ax.plot(quarters, ind_naive, ':', color='c', alpha=0.8, label=\"naive\")\n",
    "ax.set(xlabel='Quarters',\n",
    "       ylabel='TCHDL mmol/mmol', \n",
    "       Title='Forecast comparison (Log & Normalised data) - \\n individual 4000')\n",
    "ax.set_ylim([1, 7])\n",
    "ax.grid()\n",
    "lgd = ax.legend(bbox_to_anchor=(1.05, 1), loc=2, borderaxespad=0.)\n",
    "fig.savefig('/home/whsu014/plots/LSTM_log_normalised_train2500_ind4000.pdf', bbox_extra_artists=(lgd,), bbox_inches='tight')\n",
    "pyplot.show()"
   ]
  },
  {
   "cell_type": "code",
   "execution_count": 35,
   "metadata": {},
   "outputs": [
    {
     "data": {
      "text/plain": [
       "<Figure size 1800x720 with 0 Axes>"
      ]
     },
     "metadata": {},
     "output_type": "display_data"
    },
    {
     "data": {
      "text/plain": [
       "<Figure size 1800x720 with 0 Axes>"
      ]
     },
     "metadata": {},
     "output_type": "display_data"
    },
    {
     "data": {
      "image/png": "[encoded data removed]",
      "text/plain": [
       "<Figure size 432x288 with 1 Axes>"
      ]
     },
     "metadata": {
      "needs_background": "light"
     },
     "output_type": "display_data"
    }
   ],
   "source": [
    "'''\n",
    "rmse_y = np.array([0.221, 0.319, 0.296, 0.281, 0.297, 0.330, 0.291, 0.309, \n",
    "                   0.289, 0.332, 0.302, 0.272, 0.286, 0.278, 0.269, 0.245,\n",
    "                   0.244, 0.306, 0.534, 0.423])\n",
    "\n",
    "rmse_lstm = np.array([0.638, 0.734, 0.809, 0.861, 0.952, 1.009, 0.983, 1.010, \n",
    "                      1.041, 1.032, 1.116, 1.066, 1.084, 1.083, 1.089, 1.152, \n",
    "                      1.111, 1.158, 1.139, 1.293])\n",
    "\n",
    "rmse_naive = np.array([0.808, 0.859, 0.841, 0.851, 0.883, 0.891, 0.915, 0.923, \n",
    "                       0.958, 0.926, 0.989, 0.932, 0.954, 0.998, 0.956, 1.014,\n",
    "                       0.977, 1.003, 0.983, 1.235])\n",
    "quarters = np.array([8,9,10,11,12,13,14,15,16,17,18,19,20,21,22,23,24,25,26,27])\n",
    "\n",
    "RMSE y: 0.27214580585103254\n",
    "RMSE LSTM:  0.8230622091533867\n",
    "RMSE Naive:  1.0164309763044101\n",
    "'''\n",
    "\n",
    "rmse_y = np.array([0.22944313012295398, 0.30005011805923026, 0.29180664792924427,\n",
    "                   0.2947136776913433, 0.29392653807505864, 0.3183983956664269,\n",
    "                   0.2908757278339945, 0.3169100790334165, 0.27620343680893317, \n",
    "                   0.3012421623046293, 0.3028298911073005, 0.31390363104338764, \n",
    "                   0.3024810069660707, 0.3009122631566037, 0.28389573663182827, \n",
    "                   0.2731266400401492, 0.2614878348194144, 0.2707344254837927, \n",
    "                   0.26586084095480944, 0.27214580585103254])\n",
    "rmse_lstm = np.array([0.36403706325301455, 0.7518219015248361, 0.7525797247842755,\n",
    "                      0.7340779905182737, 0.7323918712576748, 0.7652724645307777,\n",
    "                      0.7717773287252355, 0.7777586315671726, 0.7635494228653397,\n",
    "                      0.7847580581034923, 0.7884882502584817, 0.7860682855900513, \n",
    "                      0.8137957388591446, 0.7979187386273661, 0.7991956714328037,\n",
    "                      0.7974982408195348, 0.8098464924788059, 0.7954394835260792, \n",
    "                      0.8195812648916543, 0.8230622091533867])\n",
    "rmse_naive = np.array([0.8138445650852526, 0.8391262345020128, 0.8678938367968041,\n",
    "                       0.8575672434724884, 0.8737655621732114, 0.9183088015098622,\n",
    "                       0.9145933490639688, 0.9338920603099533, 0.9385448169004719, \n",
    "                       0.9350621596302661, 0.9566802563092636, 0.9750666924017455, \n",
    "                       0.9713056995361093, 0.9946462848892437, 0.9650569925016395,\n",
    "                       0.9652276373655632, 0.9783453255992155, 0.9815931274523547,\n",
    "                       0.9993188423515114, 1.0164309763044101])\n",
    "quarters = np.array([8,9,10,11,12,13,14,15,16,17,18,19,20,21,22,23,24,25,26,27])\n",
    "\n",
    "fig = pyplot.figure(figsize=(25, 10))\n",
    "ax = pyplot.figure(figsize=(25, 10))\n",
    "fig, ax = pyplot.subplots()\n",
    "ax.plot(quarters, rmse_y, '.-', color='m', alpha=0.5, label=\"y\")\n",
    "ax.plot(quarters, rmse_lstm, '.-', color='g', alpha=0.8, label=\"LSTM\")\n",
    "ax.plot(quarters, rmse_naive, '.-', color='c', alpha=0.8, label=\"naive\")\n",
    "ax.set(xlabel='Quarters',\n",
    "       ylabel='RMSE', \n",
    "       Title='Forecast comparison quarter by quarter \\n LSTM zero padding')\n",
    "ax.set_ylim([0, 1.4])\n",
    "ax.grid()\n",
    "lgd = ax.legend(bbox_to_anchor=(1.05, 1), loc=2, borderaxespad=0.)\n",
    "fig.savefig('/home/whsu014/plots/ForecastQuarterbyQuarterComparison(LSTM zero padding M2M).pdf', bbox_extra_artists=(lgd,), bbox_inches='tight')\n",
    "pyplot.show()"
   ]
  },
  {
   "cell_type": "markdown",
   "metadata": {},
   "source": []
  }
 ],
 "metadata": {
  "kernelspec": {
   "display_name": "Python 3",
   "language": "python",
   "name": "python3"
  },
  "language_info": {
   "codemirror_mode": {
    "name": "ipython",
    "version": 3
   },
   "file_extension": ".py",
   "mimetype": "text/x-python",
   "name": "python",
   "nbconvert_exporter": "python",
   "pygments_lexer": "ipython3",
   "version": "3.6.8"
  }
 },
 "nbformat": 4,
 "nbformat_minor": 2
}
