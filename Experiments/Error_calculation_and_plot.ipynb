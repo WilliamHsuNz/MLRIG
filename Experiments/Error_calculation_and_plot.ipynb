{
 "cells": [
  {
   "cell_type": "code",
   "execution_count": 1,
   "metadata": {},
   "outputs": [
    {
     "name": "stderr",
     "output_type": "stream",
     "text": [
      "Using TensorFlow backend.\n"
     ]
    }
   ],
   "source": [
    "import os\n",
    "import pandas as pd\n",
    "import datetime\n",
    "from matplotlib import pyplot\n",
    "from sklearn.preprocessing import MinMaxScaler\n",
    "from sklearn.preprocessing import StandardScaler\n",
    "from sklearn.preprocessing import LabelEncoder\n",
    "from sklearn.preprocessing import OneHotEncoder\n",
    "from sklearn.metrics import mean_squared_error\n",
    "from sklearn.metrics import mean_absolute_error\n",
    "from keras.models import Sequential\n",
    "from keras.layers import Dense\n",
    "from keras.layers import LSTM\n",
    "from keras.layers import CuDNNLSTM\n",
    "from keras.layers import TimeDistributed\n",
    "from keras.utils import generic_utils\n",
    "from keras.utils import Sequence\n",
    "from keras.callbacks import ModelCheckpoint\n",
    "import tensorflow as tf\n",
    "import numpy as np\n",
    "import scipy \n",
    "import math\n",
    "import h5py\n",
    "import time\n",
    "import copy\n",
    "from sklearn.metrics import mean_absolute_error\n",
    "from numpy.random import seed\n",
    "seed(123)\n",
    "from tensorflow import set_random_seed\n",
    "set_random_seed(456)"
   ]
  },
  {
   "cell_type": "code",
   "execution_count": 212,
   "metadata": {},
   "outputs": [
    {
     "name": "stdout",
     "output_type": "stream",
     "text": [
      "(2099160, 51)\n",
      "Index(['Unnamed: 0', 'STUDENT_INDEX_MASTER', 'DATE', 'QUARTERS', 'AGE',\n",
      "       'ETHNICITY', 'SEX', 'NZDEP', 'TEST', 'HDL', 'LDL', 'TRI', 'TCL',\n",
      "       'TCHDL', 'STATINS', 'ATORVASTATIN', 'SIMVASTATIN',\n",
      "       'CHOLESTEROL_LOWERING', 'ARBs', 'ACE', 'ALPHA_BLOCKERS',\n",
      "       'BETA_BLOCKERS', 'BLOOD_PRESSURE_LOWERING', 'LIPID_LOWERING',\n",
      "       'DIURETICS', 'ANTIANGINAL_ANTIARRYTHMIC', 'CALCIUM_CHANNEL_BLOCKERS',\n",
      "       'ANTIHYPERTENSIVES', 'CARDIAC_GLYCOSIDES', 'NITRATES',\n",
      "       'SYMPATHOMIMETIC', 'OTHERS', 'ANTIPLATELETS', 'ANTICOAGULANTS',\n",
      "       'TRUE_HDL', 'TRUE_LDL', 'TRUE_TRI', 'TRUE_TCL', 'TRUE_TCHDL', 'SBP',\n",
      "       'SMOKING', 'EN_TCHDL', 'HX_DIABETES', 'FAMILY_HISTORY', 'DBP', 'HX_CVD',\n",
      "       'GEN_LIPID', 'RENAL', 'HX_DIABETES_YR', 'SBP2', 'DBP2'],\n",
      "      dtype='object')\n",
      "Index(['Unnamed: 0', 'STUDENT_INDEX_MASTER', 'QUARTERS', 'AGE', 'SEX', 'NZDEP',\n",
      "       'ETHN_A', 'ETHN_B', 'ETHN_C', 'ETHN_D', 'ETHN_E', 'ETHN_H', 'SBP',\n",
      "       'DBP', 'SBP2', 'DBP2', 'SMOKING', 'EN_TCHDL', 'HX_DIABETES',\n",
      "       'FAMILY_HISTORY', 'HX_CVD', 'GEN_LIPID', 'RENAL', 'HX_DIABETES_YR',\n",
      "       'STATINS', 'ATORVASTATIN', 'SIMVASTATIN', 'TEST', 'HDL', 'LDL', 'TRI',\n",
      "       'TCL', 'TCHDL'],\n",
      "      dtype='object')\n",
      "(135000, 33)\n",
      "Index(['Unnamed: 0', 'STUDENT_INDEX_MASTER', 'QUARTERS', 'AGE', 'SEX', 'NZDEP',\n",
      "       'ETHN_A', 'ETHN_B', 'ETHN_C', 'ETHN_D', 'ETHN_E', 'ETHN_H', 'SBP',\n",
      "       'DBP', 'SBP2', 'DBP2', 'SMOKING', 'EN_TCHDL', 'HX_DIABETES',\n",
      "       'FAMILY_HISTORY', 'HX_CVD', 'GEN_LIPID', 'RENAL', 'HX_DIABETES_YR',\n",
      "       'STATINS', 'ATORVASTATIN', 'SIMVASTATIN', 'TEST', 'HDL', 'LDL', 'TRI',\n",
      "       'TCL', 'TCHDL'],\n",
      "      dtype='object')\n",
      "(135000, 33)\n"
     ]
    }
   ],
   "source": [
    "VIEW_df = pd.read_csv('/home/whsu014/data/Cholesterol_PHH_360dayspy_with_true_values_01day_ethn_coded_PREDICT_Variables_sbp2dbp2.csv')\n",
    "print(VIEW_df.shape)\n",
    "print(VIEW_df.columns)\n",
    "complete_inv_y_df = pd.read_csv('/home/whsu014/data/LSTM_experiment_log_normalised_train2500inds_ID_y.csv')\n",
    "complete_inv_yhat_df = pd.read_csv('/home/whsu014/data/LSTM_experiment_log_normalised_train2500inds_ID_yhat.csv')\n",
    "print(complete_inv_y_df.columns)\n",
    "print(complete_inv_y_df.shape)\n",
    "print(complete_inv_yhat_df.columns)\n",
    "print(complete_inv_yhat_df.shape)"
   ]
  },
  {
   "cell_type": "code",
   "execution_count": 213,
   "metadata": {},
   "outputs": [
    {
     "name": "stdout",
     "output_type": "stream",
     "text": [
      "(2099160, 17)\n",
      "(135000, 32)\n",
      "(135000, 32)\n"
     ]
    }
   ],
   "source": [
    "VIEW_v = VIEW_df.iloc[:, [1,3,4,14,15,16,8,9,10,11,12,13,34,35,36,37,38]].values\n",
    "complete_inv_y = complete_inv_y_df.values[:, 1:]\n",
    "complete_inv_yhat = complete_inv_yhat_df.values[:, 1:]\n",
    "print(VIEW_v.shape)\n",
    "print(complete_inv_y.shape)\n",
    "print(complete_inv_yhat.shape)"
   ]
  },
  {
   "cell_type": "code",
   "execution_count": 214,
   "metadata": {},
   "outputs": [
    {
     "name": "stdout",
     "output_type": "stream",
     "text": [
      "STGeicKXNtxz\n",
      "(27, 32)\n",
      "(27, 32)\n",
      "(28, 17)\n",
      "[[ 0.    0.    0.   -0.    1.85  5.8   2.42  8.79  4.85]\n",
      " [ 0.    0.    0.   -0.01  1.79  4.56  2.24  7.3   4.17]\n",
      " [ 0.01  0.    0.    0.42  1.72  3.8   2.85  6.59  3.8 ]\n",
      " [ 0.01  0.    0.    0.06  1.65  2.91  2.01  5.46  3.34]\n",
      " [ 1.01  0.    1.    0.52  1.75  2.66  1.68  5.02  2.85]\n",
      " [ 1.    0.    1.01 -0.02  1.73  2.56  1.48  4.96  2.89]\n",
      " [ 0.99  0.    0.99 -0.02  1.79  2.56  1.57  5.07  2.85]\n",
      " [ 0.01  0.    0.   -0.    1.65  2.91  2.11  5.51  3.38]\n",
      " [ 0.01  0.    0.    0.    1.93  4.23  2.19  7.28  3.84]\n",
      " [ 0.    0.    0.    0.    2.35  6.2   2.    9.97  4.33]\n",
      " [ 0.    0.   -0.    0.01  2.16  6.29  1.63  9.59  4.54]\n",
      " [ 0.01  0.    0.    0.26  2.13  6.01  1.69  9.18  4.35]\n",
      " [ 0.    0.   -0.    0.03  1.91  4.14  1.53  6.89  3.68]\n",
      " [ 0.01  0.    0.    0.72  1.77  2.82  1.49  5.15  2.88]\n",
      " [ 0.01  0.    0.    0.59  1.67  2.42  1.49  4.67  2.76]\n",
      " [ 0.01  0.    0.   -0.    1.7   2.34  1.4   4.7   2.81]\n",
      " [ 0.01  0.    0.   -0.    1.77  2.92  1.41  5.36  3.08]\n",
      " [ 0.01  0.    0.   -0.    1.94  3.74  1.38  6.39  3.37]\n",
      " [ 0.01  0.    0.    0.    2.31  4.92  1.36  8.13  3.61]\n",
      " [ 0.    0.   -0.    0.01  2.57  5.99  1.38  9.75  3.89]\n",
      " [ 0.    0.   -0.    0.02  2.34  6.08  1.45  9.6   4.21]\n",
      " [ 0.01  0.    0.    0.21  1.96  4.65  1.41  7.39  3.81]\n",
      " [ 0.01  0.    0.    0.35  1.68  3.04  1.38  5.32  3.17]\n",
      " [ 0.01  0.    0.    0.75  1.41  2.43  1.4   4.34  3.02]\n",
      " [ 0.01  0.    0.    0.42  1.32  2.26  1.39  4.12  3.1 ]\n",
      " [ 0.01  0.   -0.    0.    1.32  2.38  1.23  4.23  3.25]\n",
      " [ 0.01  0.   -0.   -0.    1.45  2.9   1.11  4.86  3.41]]\n",
      "[[0.   0.   0.   0.   1.52 3.88 2.31 6.52 4.31]\n",
      " [0.   0.   0.   1.   1.5  3.5  2.13 6.03 4.04]\n",
      " [0.   0.   0.   0.   1.5  2.98 1.84 5.38 3.58]\n",
      " [1.   0.   1.   0.   1.5  2.46 1.55 4.73 3.13]\n",
      " [1.   0.   1.   1.   1.48 2.41 1.48 4.61 3.1 ]\n",
      " [0.   0.   0.   0.   1.45 2.84 1.65 5.04 3.49]\n",
      " [0.   0.   0.   0.   1.42 3.26 1.81 5.46 3.88]\n",
      " [0.   0.   0.   1.   1.19 3.26 1.5  5.09 4.34]\n",
      " [0.   0.   0.   1.   0.95 2.99 0.93 4.37 4.62]\n",
      " [0.   0.   0.   0.   1.14 3.26 1.04 4.88 4.38]\n",
      " [0.   0.   0.   0.   1.33 3.53 1.14 5.39 4.14]\n",
      " [0.   0.   0.   1.   1.43 3.74 1.4  5.82 4.11]\n",
      " [0.   0.   0.   0.   1.41 3.84 1.91 6.13 4.39]\n",
      " [0.   0.   0.   0.   1.39 3.95 2.43 6.44 4.67]\n",
      " [0.   0.   0.   0.   1.37 4.05 2.94 6.74 4.96]\n",
      " [0.   0.   0.   1.   1.36 4.1  3.14 6.87 5.09]\n",
      " [0.   0.   0.   0.   1.35 4.11 3.02 6.82 5.08]\n",
      " [0.   0.   0.   0.   1.34 4.12 2.89 6.76 5.06]\n",
      " [0.   0.   0.   0.   1.34 4.13 2.77 6.71 5.05]\n",
      " [0.   0.   0.   0.   1.33 4.13 2.64 6.66 5.03]\n",
      " [0.   0.   0.   0.   1.32 4.14 2.52 6.6  5.01]\n",
      " [0.   0.   0.   0.   1.31 4.15 2.39 6.55 5.  ]\n",
      " [0.   0.   0.   0.   1.31 4.16 2.27 6.49 4.98]\n",
      " [0.   0.   0.   0.   1.3  4.17 2.15 6.44 4.97]\n",
      " [0.   0.   0.   0.   1.29 4.17 2.02 6.38 4.95]\n",
      " [0.   0.   0.   0.   1.29 4.18 1.9  6.33 4.94]\n",
      " [0.   0.   0.   0.   1.28 4.19 1.77 6.28 4.92]]\n",
      "[[0.   1.58 4.07 2.34 6.79 4.34]\n",
      " [0.   1.52 3.88 2.31 6.52 4.31]\n",
      " [1.   1.5  3.5  2.13 6.03 4.04]\n",
      " [0.   1.5  2.98 1.84 5.38 3.58]\n",
      " [0.   1.5  2.46 1.55 4.73 3.13]\n",
      " [1.   1.48 2.41 1.48 4.61 3.1 ]\n",
      " [0.   1.45 2.84 1.65 5.04 3.49]\n",
      " [0.   1.42 3.26 1.81 5.46 3.88]\n",
      " [1.   1.19 3.26 1.5  5.09 4.34]\n",
      " [1.   0.95 2.99 0.93 4.37 4.62]\n",
      " [0.   1.14 3.26 1.04 4.88 4.38]\n",
      " [0.   1.33 3.53 1.14 5.39 4.14]\n",
      " [1.   1.43 3.74 1.4  5.82 4.11]\n",
      " [0.   1.41 3.84 1.91 6.13 4.39]\n",
      " [0.   1.39 3.95 2.43 6.44 4.67]\n",
      " [0.   1.37 4.05 2.94 6.74 4.96]\n",
      " [1.   1.36 4.1  3.14 6.87 5.09]\n",
      " [0.   1.35 4.11 3.02 6.82 5.08]\n",
      " [0.   1.34 4.12 2.89 6.76 5.06]\n",
      " [0.   1.34 4.13 2.77 6.71 5.05]\n",
      " [0.   1.33 4.13 2.64 6.66 5.03]\n",
      " [0.   1.32 4.14 2.52 6.6  5.01]\n",
      " [0.   1.31 4.15 2.39 6.55 5.  ]\n",
      " [0.   1.31 4.16 2.27 6.49 4.98]\n",
      " [0.   1.3  4.17 2.15 6.44 4.97]\n",
      " [0.   1.29 4.17 2.02 6.38 4.95]\n",
      " [0.   1.29 4.18 1.9  6.33 4.94]\n",
      " [0.   1.28 4.19 1.77 6.28 4.92]]\n"
     ]
    }
   ],
   "source": [
    "#################################\n",
    "# data check\n",
    "# y should match view (ground truth)\n",
    "#################################\n",
    "ind_id = complete_inv_y[0, 0]\n",
    "print(ind_id)\n",
    "ind_y = complete_inv_y[complete_inv_y[:, 0] == ind_id]\n",
    "ind_yhat = complete_inv_yhat[complete_inv_yhat[:, 0] == ind_id]\n",
    "ind_view = VIEW_v[VIEW_v[:, 0] == ind_id]\n",
    "print(ind_y.shape)\n",
    "print(ind_yhat.shape)\n",
    "print(ind_view.shape)\n",
    "print(np.around(ind_yhat[:, -9:].astype(np.double), decimals=2))\n",
    "print(np.around(ind_y[:, -9:].astype(np.double), decimals=2))\n",
    "print(np.around(ind_view[:, [6,7,8,9,10,11]].astype(np.double), decimals=2))"
   ]
  },
  {
   "cell_type": "code",
   "execution_count": 215,
   "metadata": {},
   "outputs": [
    {
     "name": "stdout",
     "output_type": "stream",
     "text": [
      "complete_inv_y shape (135000, 32)\n",
      "complete_inv_yhat shape (135000, 32)\n",
      "naive shape (135000, 17)\n"
     ]
    }
   ],
   "source": [
    "# Columns of VIEW_v\n",
    "# STUDENT_INDEX_MASTER, QUARTERS, AGE,\n",
    "# STATINS, ATORVASTATIN, SIMVASTATIN,\n",
    "# TEST, HDL, LDL, TRI, TCL, TCHDL,\n",
    "# TRUE_HDL, TRUE_LDL, TRUE_TRI, TRUE_TCL, TRUE_TCHDL\n",
    "#########################\n",
    "# create naive forecast\n",
    "#########################\n",
    "value_indicating_test = max(np.unique(VIEW_v[:, 6]))\n",
    "value_indicating_no_test = min(np.unique(VIEW_v[:, 6]))\n",
    "\n",
    "missing_a_measure = 0\n",
    "IDs_of_missing_measure = []\n",
    "naive_v = np.empty([0, 17])\n",
    "for i in range(len(complete_inv_y)//27): \n",
    "    ind_id = complete_inv_y[(i*27), 0]\n",
    "    ind_v = copy.deepcopy(VIEW_v[VIEW_v[:, 0]==ind_id])\n",
    "    test_list = list(ind_v[0:8, 6])\n",
    "    quarters_v = copy.deepcopy(ind_v[:, 1])\n",
    "    age_v = copy.deepcopy(ind_v[:, 2])\n",
    "    idx = len(test_list) - 1 - \\\n",
    "          test_list[::-1].index(value_indicating_test)\n",
    "    last_v = copy.deepcopy(ind_v[idx, -11:])\n",
    "    # parse values from TRUE choleterol lists\\\n",
    "    for j in range(1, 6):\n",
    "        ch_s = last_v[j+5]\n",
    "        if len(ch_s) > 4:\n",
    "            ch_list = ch_s[1:-1].split(', ')\n",
    "            last_v[j] = float(ch_list[-1])\n",
    "        else:\n",
    "            missing_a_measure += 1\n",
    "            IDs_of_missing_measure.append(ind_v[0, 0])\n",
    "    ind_v[idx, -11:] = last_v\n",
    "    last_v[0] = value_indicating_no_test #this might be the wrong assumption\n",
    "    for j in range((idx+1),28):\n",
    "        ind_v[j, -11:] = last_v\n",
    "    ind_v[:, 1] = quarters_v\n",
    "    ind_v[:, 2] = age_v\n",
    "    naive_v = np.append(naive_v, ind_v[1:,:], axis = 0)\n",
    "print(\"complete_inv_y shape\", complete_inv_y.shape)\n",
    "print(\"complete_inv_yhat shape\", complete_inv_yhat.shape)\n",
    "print(\"naive shape\", naive_v.shape)"
   ]
  },
  {
   "cell_type": "code",
   "execution_count": 216,
   "metadata": {},
   "outputs": [
    {
     "name": "stdout",
     "output_type": "stream",
     "text": [
      "True\n",
      "True\n",
      "(135000, 12)\n",
      "[['STGeicKXNtxz' 1 60.0 0.0 0.0 0.0 0 1.5235649546827794\n",
      "  3.882477341389728 2.311782477341389 6.517824773413897\n",
      "  4.3117824773413895]\n",
      " ['STGeicKXNtxz' 2 60.0 0.0 0.0 0.0 1 1.5 3.5043478260869563\n",
      "  2.133695652173913 6.0304347826086975 4.041304347826086]\n",
      " ['STGeicKXNtxz' 3 60.0 0.0 0.0 0.0 0 1.5 2.9826086956521736\n",
      "  1.840217391304348 5.378260869565216 3.584782608695652]\n",
      " ['STGeicKXNtxz' 4 60.0 1.0 0.0 1.0 0 1.5 2.460869565217392\n",
      "  1.5467391304347826 4.72608695652174 3.1282608695652168]\n",
      " ['STGeicKXNtxz' 5 61.0 1.0 0.0 1.0 1 1.5 2.2 1.4 4.4 2.9]\n",
      " ['STGeicKXNtxz' 6 61.0 0.0 0.0 0.0 0 1.5 2.2 1.4 4.4 2.9]\n",
      " ['STGeicKXNtxz' 7 61.0 0.0 0.0 0.0 0 1.5 2.2 1.4 4.4 2.9]\n",
      " ['STGeicKXNtxz' 8 61.0 0.0 0.0 0.0 0 1.5 2.2 1.4 4.4 2.9]\n",
      " ['STGeicKXNtxz' 9 62.0 0.0 0.0 0.0 0 1.5 2.2 1.4 4.4 2.9]\n",
      " ['STGeicKXNtxz' 10 62.0 0.0 0.0 0.0 0 1.5 2.2 1.4 4.4 2.9]\n",
      " ['STGeicKXNtxz' 11 62.0 0.0 0.0 0.0 0 1.5 2.2 1.4 4.4 2.9]\n",
      " ['STGeicKXNtxz' 12 62.0 0.0 0.0 0.0 0 1.5 2.2 1.4 4.4 2.9]\n",
      " ['STGeicKXNtxz' 13 63.0 0.0 0.0 0.0 0 1.5 2.2 1.4 4.4 2.9]\n",
      " ['STGeicKXNtxz' 14 63.0 0.0 0.0 0.0 0 1.5 2.2 1.4 4.4 2.9]\n",
      " ['STGeicKXNtxz' 15 63.0 0.0 0.0 0.0 0 1.5 2.2 1.4 4.4 2.9]\n",
      " ['STGeicKXNtxz' 16 63.0 0.0 0.0 0.0 0 1.5 2.2 1.4 4.4 2.9]\n",
      " ['STGeicKXNtxz' 17 64.0 0.0 0.0 0.0 0 1.5 2.2 1.4 4.4 2.9]\n",
      " ['STGeicKXNtxz' 18 64.0 0.0 0.0 0.0 0 1.5 2.2 1.4 4.4 2.9]\n",
      " ['STGeicKXNtxz' 19 64.0 0.0 0.0 0.0 0 1.5 2.2 1.4 4.4 2.9]\n",
      " ['STGeicKXNtxz' 20 64.0 0.0 0.0 0.0 0 1.5 2.2 1.4 4.4 2.9]\n",
      " ['STGeicKXNtxz' 21 64.0 0.0 0.0 0.0 0 1.5 2.2 1.4 4.4 2.9]\n",
      " ['STGeicKXNtxz' 22 65.0 0.0 0.0 0.0 0 1.5 2.2 1.4 4.4 2.9]\n",
      " ['STGeicKXNtxz' 23 65.0 0.0 0.0 0.0 0 1.5 2.2 1.4 4.4 2.9]\n",
      " ['STGeicKXNtxz' 24 65.0 0.0 0.0 0.0 0 1.5 2.2 1.4 4.4 2.9]\n",
      " ['STGeicKXNtxz' 25 65.0 0.0 0.0 0.0 0 1.5 2.2 1.4 4.4 2.9]\n",
      " ['STGeicKXNtxz' 26 66.0 0.0 0.0 0.0 0 1.5 2.2 1.4 4.4 2.9]\n",
      " ['STGeicKXNtxz' 27 66.0 0.0 0.0 0.0 0 1.5 2.2 1.4 4.4 2.9]\n",
      " ['STPYF9EbchuV' 1 55.0 0.0 0.0 0.0 0 2.4742439024390244\n",
      "  2.651512195121952 0.6 5.351512195121951 2.151512195121952]]\n"
     ]
    }
   ],
   "source": [
    "# check to see if data y, yhat and naive are equal\n",
    "naive_v = naive_v[:, :-5]\n",
    "print(np.array_equal(complete_inv_y[:, 0], complete_inv_yhat[:, 0]))\n",
    "print(np.array_equal(complete_inv_y[:, 0], naive_v[:, 0]))\n",
    "print(naive_v.shape)\n",
    "print(naive_v[0:28, :])"
   ]
  },
  {
   "cell_type": "code",
   "execution_count": 217,
   "metadata": {
    "scrolled": true
   },
   "outputs": [
    {
     "name": "stdout",
     "output_type": "stream",
     "text": [
      "144\n",
      "['STE6dH0VdLfN', 'ST6Uk4FixBDO', 'STfbGCbYQUym', 'ST1CZyuhxJ6z', 'STu3NGCz43DE', 'STUefh119teP', 'STKcyqZqLehp', 'STadVGtEOMKt', 'STAeul2QTgr0', 'STHXmm5DcaYE', 'STmJzBjhcURi', 'STAfWoq16ARw', 'STZzTH2VvIHJ', 'STIrTGqpF9ds', 'STCMWxaLiqtg', 'STCMWxaLiqtg', 'STOv6AEEkImT', 'STaNNg78DsMQ', 'STaKEoYqML1D', 'STaKEoYqML1D', 'STpuEPjj8V2u', 'STeklPiEHISP', 'STeklPiEHISP', 'STcEeutu2WfU', 'STcEeutu2WfU', 'STcEeutu2WfU', 'STXgxv7pw05r', 'STiE2mHFntVq', 'STajZES9bWlE', 'STajZES9bWlE', 'STBlFOhU3usc', 'STBlFOhU3usc', 'STABMNp3SiCR', 'SToMvU6bn0gK', 'STvpyqlgFeJs', 'STDhghGwTEPt', 'ST3JKuppX4Ka', 'STMEHm5K9v3G', 'STCRO5YF8jYe', 'STJ9gGee3iAF', 'ST1yMuUo9Ltr', 'STX7OJnTlMIG', 'SThPXQzfJQAD', 'STM6gUg84DFb', 'STNEVVZsd5Kw', 'STIZCYa618ys', 'STymmYZ1lyjh', 'STymmYZ1lyjh', 'STymmYZ1lyjh', 'ST4BX9ATDT1j', 'ST8by6gxQTsP', 'ST9Fy4xoJdzt', 'ST1fK0ueoH3H', 'STsJzHldpmHf', 'STsJzHldpmHf', 'STsJzHldpmHf', 'STsJzHldpmHf', 'STxvu0dtxW5z', 'STztgo7xuBmh', 'STddoioGu1h3', 'STyBRpldOZW3', 'STA5VWgkzqC3', 'STrCv2b5OrAg', 'STrCv2b5OrAg', 'STTMEcFMkJGt', 'STfku8sAhR3f', 'STls0v1qp040', 'STS6vH1kZOS1', 'STuQREFV7myb', 'STs6uvXUD1B5', 'STWrESSMewvt', 'STJDnqryvl2E', 'ST6JHQm2RktN', 'STjyiiAsuIeB', 'STwDQkGq6f6g', 'ST62tVDN7tF3', 'STMhuAwHzQCK', 'STONP1VPzcnu', 'STQL6LvTPagJ', 'STQL6LvTPagJ', 'STQL6LvTPagJ', 'STVzXoJBKGwe', 'STyz0QYrhOc7', 'STl1fws97QkO', 'STXIj9BMPvlU', 'STjFBi5Vipox', 'STYtX2Leo5AU', 'STksuKJCGNcK', 'ST2HWSqJcsuz', 'ST2HWSqJcsuz', 'STk65AqVv1vR', 'STHAYM1b6cDv', 'STHAYM1b6cDv', 'ST7RIgs6RH0Z', 'STD1YOTmuFCw', 'STD1YOTmuFCw', 'STb7Smdv0zyO', 'STLdJD0OGmXg', 'ST6RELTnacuj', 'STcS45hX7FIS', 'ST6b5BqGTzSM', 'STLiAOsUqUmr', 'STeUDgeovZbO', 'STM9vu13BmFl', 'STxs9Tkc51jM', 'STIZuvdQSxsb', 'STacobuXGQi0', 'STP3vgsGPbTa', 'STd0bCWcl2pE', 'ST5APaluAcew', 'STJ1SEnRp7tE', 'STsHhexJ7WIr', 'STOeCa1JLfNg', 'STC0HeK8aLEy', 'ST0AjtIGaZVo', 'STo6BpZBILNq', 'STo6BpZBILNq', 'STowhwUspfeR', 'STowhwUspfeR', 'ST9dOQ7Elr9I', 'STPbdKhoCgbB', 'STLOLjbpvefs', 'STXSCvORc0Bn', 'STBTGMMxFaac', 'STeh0cXKEUEy', 'STeh0cXKEUEy', 'STjuT8JpxSnK', 'STqyEych5Y41', 'STQ2EyYEcZzn', 'STs2VRgRAqem', 'STnOp79yBgjF', 'STnOp79yBgjF', 'STnOp79yBgjF', 'STSvIg5tjyVr', 'ST1Ov3N841u2', 'STGWja19TsKl', 'STgZN9tkgRfK', 'STAmaIB38l1A', 'STUCNLJZ7qv8', 'ST0xOr4QrqSh', 'STR03nl1RsyC', 'STWOMHXgcsLK', 'STT874gHZ87J', 'ST6AzfYiVOcj']\n",
      "34089\n",
      "34089\n",
      "34089\n",
      "34089\n",
      "0.28687277433324465\n",
      "1.1786416593001254\n",
      "0.9232486650390689\n"
     ]
    }
   ],
   "source": [
    "#######################################\n",
    "# Error calculation\n",
    "#######################################\n",
    "value_indicating_test = max(np.unique(VIEW_v[:, 6]))\n",
    "value_indicating_no_test = min(np.unique(VIEW_v[:, 6]))\n",
    "\n",
    "empty_list_count = 0\n",
    "empty_list_IDs = []\n",
    "TCHDL = []\n",
    "y = []\n",
    "LSTM = []\n",
    "naive = []\n",
    "for i in range(len(complete_inv_y)//27):#len(complete_inv_y)//27\n",
    "    ind_id = complete_inv_y[i*27, 0]\n",
    "    ind_y = copy.deepcopy(complete_inv_y[(i*27):((i+1)*27), :])\n",
    "    ind_yhat = copy.deepcopy(complete_inv_yhat[(i*27):((i+1)*27), :])\n",
    "    ind_naive = copy.deepcopy(naive_v[(i*27):((i+1)*27), :])\n",
    "    ind_truth = copy.deepcopy(VIEW_v[VIEW_v[:, 0] == ind_id])\n",
    "    ind_truth = ind_truth[1:, :]\n",
    "    #print(ind_y.shape)\n",
    "    #print(ind_yhat.shape)\n",
    "    #print(ind_naive.shape)\n",
    "    #print(ind_truth.shape)\n",
    "    for j in range(7, 27): \n",
    "        if ind_truth[j, 6] == value_indicating_test:\n",
    "            if len(ind_truth[j, -1]) > 4:\n",
    "                #TCHDL_s ind_truth[j, -1][1:-1].split(\", \")\n",
    "                TCHDL_list = [float(TCHDL) for TCHDL in ind_truth[j, -1][1:-1].split(\", \")]\n",
    "                mean_TCHDL = sum(TCHDL_list)/len(TCHDL_list)\n",
    "                TCHDL.append(mean_TCHDL)\n",
    "                y.append(ind_y[j, -1])\n",
    "                LSTM.append(ind_yhat[j, -1])\n",
    "                naive.append(ind_naive[j, -1])\n",
    "            else:\n",
    "                empty_list_count += 1\n",
    "                empty_list_IDs.append(ind_id)\n",
    "print(empty_list_count)\n",
    "print(empty_list_IDs)\n",
    "print(len(TCHDL))\n",
    "print(len(y))\n",
    "print(len(LSTM))\n",
    "print(len(naive))\n",
    "              \n",
    "rmse_y = math.sqrt(mean_squared_error(TCHDL, y))\n",
    "rmse_yhat = math.sqrt(mean_squared_error(TCHDL, LSTM))\n",
    "rmse_naive = math.sqrt(mean_squared_error(TCHDL, naive))\n",
    "print(rmse_y)\n",
    "print(rmse_yhat)\n",
    "print(rmse_naive)           "
   ]
  },
  {
   "cell_type": "code",
   "execution_count": 218,
   "metadata": {},
   "outputs": [
    {
     "name": "stdout",
     "output_type": "stream",
     "text": [
      "121\n"
     ]
    }
   ],
   "source": [
    "IDs_set = set(empty_list_IDs)\n",
    "print(len(IDs_set))"
   ]
  },
  {
   "cell_type": "code",
   "execution_count": 219,
   "metadata": {},
   "outputs": [
    {
     "name": "stdout",
     "output_type": "stream",
     "text": [
      "(0.2530564360914005, 0.31487146195223614)\n",
      "(1.0991390704921102, 1.2495876041663132)\n",
      "(0.8939455481628373, 0.951151417095865)\n",
      "T test LSTM vs naive\n",
      "Ttest_indResult(statistic=7.078207127572619, pvalue=1.3381006067778647e-06)\n"
     ]
    }
   ],
   "source": [
    "###############################\n",
    "#  T test\n",
    "###############################\n",
    "# find confidence interval\n",
    "\n",
    "import scipy.stats as st\n",
    "'''\n",
    "true_list_cf = st.t.interval(0.95, len(true_list)-1, \n",
    "                              loc=np.mean(true_list), \n",
    "                              scale=st.sem(true_list))\n",
    "\n",
    "import statsmodels.stats.api as sms\n",
    "true_list_cf = sms.DescrStatsW(true_list).tconfint_mean()\n",
    "'''\n",
    "\n",
    "step = len(TCHDL)//10\n",
    "start = 0\n",
    "end = start + step\n",
    "rmse_y_list = [] # interpolated values\n",
    "rmse_lstm_list = []\n",
    "#rmse_depmix_list = []\n",
    "rmse_naive_list = []\n",
    "for i in range(10):\n",
    "    rmse_y = math.sqrt(mean_squared_error(TCHDL[start:end], y[start:end]))\n",
    "    rmse_lstm = math.sqrt(mean_squared_error(TCHDL[start:end], LSTM[start:end]))\n",
    "    rmse_naive = math.sqrt(mean_squared_error(TCHDL[start:end], naive[start:end]))\n",
    "    #rmse_depmix2 = sqrt(mean_squared_error(true_list[start:end],forecast_w_q_list[start:end]))\n",
    "    rmse_y_list.append(rmse_y)\n",
    "    rmse_lstm_list.append(rmse_lstm)\n",
    "    rmse_naive_list.append(rmse_naive)\n",
    "    #rmse_depmix_list2.append(rmse_depmix2)\n",
    "    start = end\n",
    "    end = end + step\n",
    "\n",
    "y_forecast_cf = st.t.interval(0.95, len(rmse_y_list)-1, \n",
    "                              loc=np.mean(rmse_y_list), \n",
    "                              scale=st.sem(rmse_y_list)) \n",
    "lstm_forecast_cf = st.t.interval(0.95, len(rmse_lstm_list)-1, \n",
    "                              loc=np.mean(rmse_lstm_list), \n",
    "                              scale=st.sem(rmse_lstm_list)) \n",
    "naive_forecast_cf = st.t.interval(0.95, len(rmse_naive_list)-1, \n",
    "                              loc=np.mean(rmse_naive_list), \n",
    "                              scale=st.sem(rmse_naive_list)) \n",
    "print(y_forecast_cf)\n",
    "print(lstm_forecast_cf)\n",
    "print(naive_forecast_cf)\n",
    "#print(naive_forecast_cf)\n",
    "#t test \n",
    "print(\"T test LSTM vs naive\")\n",
    "print(scipy.stats.ttest_ind(rmse_lstm_list, rmse_naive_list))"
   ]
  },
  {
   "cell_type": "code",
   "execution_count": 230,
   "metadata": {
    "scrolled": true
   },
   "outputs": [
    {
     "data": {
      "image/png": "[encoded data removed]",
      "text/plain": [
       "<Figure size 432x288 with 1 Axes>"
      ]
     },
     "metadata": {
      "needs_background": "light"
     },
     "output_type": "display_data"
    }
   ],
   "source": [
    "#################################\n",
    "# plot examples from data\n",
    "#################################\n",
    "# sample individual\n",
    "idx = 4000\n",
    "\n",
    "ind_y = complete_inv_y[(idx*27):((idx+1)*27), -1]\n",
    "ind_yhat = complete_inv_yhat[(idx*27):((idx+1)*27), -1]\n",
    "ind_naive = naive_v[(idx*27):((idx+1)*27), -1]\n",
    "#ind_id = ind_yhat[0, 0]\n",
    "quarters = complete_inv_y[(idx*27):((idx+1)*27), 1]\n",
    "fig, ax = pyplot.subplots()\n",
    "ax.plot(quarters, ind_y, '.-', color='m', alpha=0.5, label=\"y\")\n",
    "ax.plot(quarters, ind_yhat, ':', color='g', alpha=0.8, label=\"LSTM\")\n",
    "ax.plot(quarters, ind_naive, ':', color='c', alpha=0.8, label=\"naive\")\n",
    "ax.set(xlabel='Quarters',\n",
    "       ylabel='TCHDL mmol/mmol', \n",
    "       Title='Forecast comparison (Log & Normalised data) - \\n individual 4000')\n",
    "ax.set_ylim([1, 7])\n",
    "ax.grid()\n",
    "lgd = ax.legend(bbox_to_anchor=(1.05, 1), loc=2, borderaxespad=0.)\n",
    "fig.savefig('/home/whsu014/plots/LSTM_log_normalised_train2500_ind4000.pdf', bbox_extra_artists=(lgd,), bbox_inches='tight')\n",
    "pyplot.show()"
   ]
  },
  {
   "cell_type": "markdown",
   "metadata": {},
   "source": []
  }
 ],
 "metadata": {
  "kernelspec": {
   "display_name": "Python 3",
   "language": "python",
   "name": "python3"
  },
  "language_info": {
   "codemirror_mode": {
    "name": "ipython",
    "version": 3
   },
   "file_extension": ".py",
   "mimetype": "text/x-python",
   "name": "python",
   "nbconvert_exporter": "python",
   "pygments_lexer": "ipython3",
   "version": "3.6.8"
  }
 },
 "nbformat": 4,
 "nbformat_minor": 2
}
