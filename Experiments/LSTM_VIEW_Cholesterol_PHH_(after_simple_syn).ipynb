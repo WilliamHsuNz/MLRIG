{
 "cells": [
  {
   "cell_type": "code",
   "execution_count": 107,
   "metadata": {},
   "outputs": [],
   "source": [
    "import os\n",
    "import pandas as pd\n",
    "import datetime\n",
    "from matplotlib import pyplot\n",
    "from sklearn.preprocessing import MinMaxScaler\n",
    "from sklearn.preprocessing import StandardScaler\n",
    "from sklearn.preprocessing import LabelEncoder\n",
    "from sklearn.preprocessing import OneHotEncoder\n",
    "from sklearn.metrics import mean_squared_error\n",
    "from sklearn.metrics import mean_absolute_error\n",
    "from keras.models import Sequential\n",
    "from keras.layers import Dense\n",
    "from keras.layers import LSTM\n",
    "from keras.layers import CuDNNLSTM\n",
    "from keras.layers import TimeDistributed\n",
    "from keras.utils import generic_utils\n",
    "from keras.utils import Sequence\n",
    "from keras.callbacks import ModelCheckpoint\n",
    "import tensorflow as tf\n",
    "import numpy as np\n",
    "import scipy \n",
    "import math\n",
    "import h5py\n",
    "import time\n",
    "import copy\n",
    "from sklearn.metrics import mean_absolute_error\n",
    "from numpy.random import seed\n",
    "seed(123)\n",
    "from tensorflow import set_random_seed\n",
    "set_random_seed(456)"
   ]
  },
  {
   "cell_type": "code",
   "execution_count": 2,
   "metadata": {},
   "outputs": [
    {
     "name": "stdout",
     "output_type": "stream",
     "text": [
      "/home/whsu014/dev/mlrig/Experiments\n",
      "[name: \"/device:CPU:0\"\n",
      "device_type: \"CPU\"\n",
      "memory_limit: 268435456\n",
      "locality {\n",
      "}\n",
      "incarnation: 15283185653333647303\n",
      ", name: \"/device:XLA_CPU:0\"\n",
      "device_type: \"XLA_CPU\"\n",
      "memory_limit: 17179869184\n",
      "locality {\n",
      "}\n",
      "incarnation: 5930438455888805286\n",
      "physical_device_desc: \"device: XLA_CPU device\"\n",
      ", name: \"/device:GPU:0\"\n",
      "device_type: \"GPU\"\n",
      "memory_limit: 5534908416\n",
      "locality {\n",
      "  bus_id: 1\n",
      "  links {\n",
      "  }\n",
      "}\n",
      "incarnation: 6444440288832609222\n",
      "physical_device_desc: \"device: 0, name: GeForce RTX 2080, pci bus id: 0000:0a:00.0, compute capability: 7.5\"\n",
      ", name: \"/device:GPU:1\"\n",
      "device_type: \"GPU\"\n",
      "memory_limit: 3152936960\n",
      "locality {\n",
      "  bus_id: 1\n",
      "  links {\n",
      "  }\n",
      "}\n",
      "incarnation: 3662042545809540257\n",
      "physical_device_desc: \"device: 1, name: GeForce RTX 2080, pci bus id: 0000:42:00.0, compute capability: 7.5\"\n",
      ", name: \"/device:XLA_GPU:0\"\n",
      "device_type: \"XLA_GPU\"\n",
      "memory_limit: 17179869184\n",
      "locality {\n",
      "}\n",
      "incarnation: 15687446027437272446\n",
      "physical_device_desc: \"device: XLA_GPU device\"\n",
      ", name: \"/device:XLA_GPU:1\"\n",
      "device_type: \"XLA_GPU\"\n",
      "memory_limit: 17179869184\n",
      "locality {\n",
      "}\n",
      "incarnation: 12744731446212420416\n",
      "physical_device_desc: \"device: XLA_GPU device\"\n",
      "]\n"
     ]
    }
   ],
   "source": [
    "import tensorflow as tf\n",
    "import keras\n",
    "print(os.getcwd())\n",
    "config = tf.ConfigProto()\n",
    "config.gpu_options.allow_growth = True\n",
    "tf.keras.backend.set_session(tf.Session(config=config))\n",
    "#config = tf.ConfigProto( device_count = {'GPU': 1 , 'CPU': 56} ) \n",
    "#sess = tf.Session(config=config) \n",
    "#keras.backend.set_session(sess)\n",
    "#sess = tf.Session(config=tf.ConfigProto(log_device_placement=True))\n",
    "from tensorflow.python.client import device_lib\n",
    "print(device_lib.list_local_devices())"
   ]
  },
  {
   "cell_type": "code",
   "execution_count": 68,
   "metadata": {},
   "outputs": [
    {
     "name": "stdout",
     "output_type": "stream",
     "text": [
      "(2099160, 51)\n",
      "Index(['Unnamed: 0', 'STUDENT_INDEX_MASTER', 'DATE', 'QUARTERS', 'AGE',\n",
      "       'ETHNICITY', 'SEX', 'NZDEP', 'TEST', 'HDL', 'LDL', 'TRI', 'TCL',\n",
      "       'TCHDL', 'STATINS', 'ATORVASTATIN', 'SIMVASTATIN',\n",
      "       'CHOLESTEROL_LOWERING', 'ARBs', 'ACE', 'ALPHA_BLOCKERS',\n",
      "       'BETA_BLOCKERS', 'BLOOD_PRESSURE_LOWERING', 'LIPID_LOWERING',\n",
      "       'DIURETICS', 'ANTIANGINAL_ANTIARRYTHMIC', 'CALCIUM_CHANNEL_BLOCKERS',\n",
      "       'ANTIHYPERTENSIVES', 'CARDIAC_GLYCOSIDES', 'NITRATES',\n",
      "       'SYMPATHOMIMETIC', 'OTHERS', 'ANTIPLATELETS', 'ANTICOAGULANTS',\n",
      "       'TRUE_HDL', 'TRUE_LDL', 'TRUE_TRI', 'TRUE_TCL', 'TRUE_TCHDL', 'SBP',\n",
      "       'SMOKING', 'EN_TCHDL', 'HX_DIABETES', 'FAMILY_HISTORY', 'DBP', 'HX_CVD',\n",
      "       'GEN_LIPID', 'RENAL', 'HX_DIABETES_YR', 'SBP2', 'DBP2'],\n",
      "      dtype='object')\n"
     ]
    }
   ],
   "source": [
    "VIEW_df = pd.read_csv('/home/whsu014/data/Cholesterol_PHH_360dayspy_with_true_values_01day_ethn_coded_PREDICT_Variables_sbp2dbp2.csv')\n",
    "print(VIEW_df.shape)\n",
    "print(VIEW_df.columns)\n"
   ]
  },
  {
   "cell_type": "code",
   "execution_count": 69,
   "metadata": {},
   "outputs": [
    {
     "name": "stdout",
     "output_type": "stream",
     "text": [
      "(2099160, 33)\n",
      "STUDENT_INDEX_MASTER          0\n",
      "DATE                          0\n",
      "QUARTERS                      0\n",
      "AGE                           0\n",
      "ETHNICITY                     0\n",
      "SEX                           0\n",
      "NZDEP                         0\n",
      "TEST                          0\n",
      "HDL                           0\n",
      "LDL                           0\n",
      "TRI                           0\n",
      "TCL                           0\n",
      "TCHDL                         0\n",
      "STATINS                       0\n",
      "ATORVASTATIN                  0\n",
      "SIMVASTATIN                   0\n",
      "TRUE_HDL                      0\n",
      "TRUE_LDL                      0\n",
      "TRUE_TRI                      0\n",
      "TRUE_TCL                      0\n",
      "TRUE_TCHDL                    0\n",
      "SBP                           0\n",
      "DBP                           0\n",
      "SBP2                          0\n",
      "DBP2                        112\n",
      "SMOKING                      28\n",
      "EN_TCHDL                  23884\n",
      "HX_DIABETES                   0\n",
      "FAMILY_HISTORY                0\n",
      "HX_CVD                        0\n",
      "GEN_LIPID                     0\n",
      "RENAL                   1440208\n",
      "HX_DIABETES_YR          1417864\n",
      "dtype: int64\n"
     ]
    }
   ],
   "source": [
    "VIEW_sub_df = VIEW_df[['STUDENT_INDEX_MASTER', 'DATE', 'QUARTERS', \n",
    "                       'AGE', 'ETHNICITY', 'SEX', 'NZDEP', 'TEST', \n",
    "                       'HDL', 'LDL', 'TRI', 'TCL', 'TCHDL', 'STATINS', \n",
    "                       'ATORVASTATIN', 'SIMVASTATIN', \n",
    "                       'TRUE_HDL', 'TRUE_LDL', 'TRUE_TRI', 'TRUE_TCL',\n",
    "                       'TRUE_TCHDL', 'SBP', 'DBP',\n",
    "                       'SBP2', 'DBP2', 'SMOKING', 'EN_TCHDL', \n",
    "                       'HX_DIABETES', 'FAMILY_HISTORY', 'HX_CVD', \n",
    "                       'GEN_LIPID', 'RENAL', 'HX_DIABETES_YR']]\n",
    "print(VIEW_sub_df.shape)\n",
    "print(VIEW_sub_df.isnull().sum())"
   ]
  },
  {
   "cell_type": "code",
   "execution_count": 70,
   "metadata": {},
   "outputs": [
    {
     "name": "stdout",
     "output_type": "stream",
     "text": [
      "ETHNICITY ['E' 'A' 'B' 'H' 'C' 'G' 'D' 'F']\n",
      "SEX ['F' 'M']\n",
      "NZDEP [4 1 3 5 2]\n",
      "SMOKING [ 0.  3.  1.  4.  5.  2. nan]\n",
      "HX_DIABETES [0. 1.]\n",
      "FAMILY_HISTORY [1. 0.]\n",
      "HX_CVD [0. 1.]\n",
      "GEN_LIPID [0. 1. 4. 2. 3.]\n",
      "RENAL [nan  0.  1.  2.  3.]\n"
     ]
    }
   ],
   "source": [
    "print(\"ETHNICITY\", VIEW_sub_df.ETHNICITY.unique())\n",
    "print(\"SEX\", VIEW_sub_df.SEX.unique())\n",
    "print(\"NZDEP\", VIEW_sub_df.NZDEP.unique())\n",
    "print(\"SMOKING\", VIEW_sub_df.SMOKING.unique())\n",
    "print(\"HX_DIABETES\", VIEW_sub_df.HX_DIABETES.unique())\n",
    "print(\"FAMILY_HISTORY\", VIEW_sub_df.FAMILY_HISTORY.unique())\n",
    "print(\"HX_CVD\", VIEW_sub_df.HX_CVD.unique())\n",
    "print(\"GEN_LIPID\", VIEW_sub_df.GEN_LIPID.unique())\n",
    "print(\"RENAL\", VIEW_sub_df.RENAL.unique())"
   ]
  },
  {
   "cell_type": "code",
   "execution_count": 71,
   "metadata": {},
   "outputs": [
    {
     "name": "stdout",
     "output_type": "stream",
     "text": [
      "28\n",
      "1440208\n",
      "1417864\n"
     ]
    }
   ],
   "source": [
    "# find number of nan in SMOKING and RENAL\n",
    "print(VIEW_sub_df.SMOKING.isnull().sum())\n",
    "print(VIEW_sub_df.RENAL.isnull().sum())\n",
    "print(VIEW_sub_df.HX_DIABETES_YR.isnull().sum())"
   ]
  },
  {
   "cell_type": "code",
   "execution_count": 72,
   "metadata": {},
   "outputs": [
    {
     "name": "stdout",
     "output_type": "stream",
     "text": [
      "(2099160, 33)\n",
      "(2075136, 33)\n"
     ]
    }
   ],
   "source": [
    "# remove individuals that \n",
    "# contains nans\n",
    "print(VIEW_sub_df.shape)\n",
    "VIEW_sub_df = VIEW_sub_df[np.isfinite(VIEW_sub_df['DBP2'])]\n",
    "VIEW_sub_df = VIEW_sub_df[np.isfinite(VIEW_sub_df['SMOKING'])]\n",
    "VIEW_sub_df = VIEW_sub_df[np.isfinite(VIEW_sub_df['EN_TCHDL'])]\n",
    "print(VIEW_sub_df.shape)"
   ]
  },
  {
   "cell_type": "code",
   "execution_count": 73,
   "metadata": {},
   "outputs": [
    {
     "name": "stdout",
     "output_type": "stream",
     "text": [
      "3597\n",
      "44184\n",
      "6486\n",
      "1234\n",
      "7236\n",
      "50\n",
      "2333\n",
      "8992\n"
     ]
    }
   ],
   "source": [
    "# Count size of ethnicity groups\n",
    "print(VIEW_sub_df[VIEW_sub_df.ETHNICITY == 'A'].shape[0]//28)\n",
    "print(VIEW_sub_df[VIEW_sub_df.ETHNICITY == 'B'].shape[0]//28)\n",
    "print(VIEW_sub_df[VIEW_sub_df.ETHNICITY == 'C'].shape[0]//28)\n",
    "print(VIEW_sub_df[VIEW_sub_df.ETHNICITY == 'D'].shape[0]//28)\n",
    "print(VIEW_sub_df[VIEW_sub_df.ETHNICITY == 'E'].shape[0]//28)\n",
    "print(VIEW_sub_df[VIEW_sub_df.ETHNICITY == 'F'].shape[0]//28)\n",
    "print(VIEW_sub_df[VIEW_sub_df.ETHNICITY == 'G'].shape[0]//28)\n",
    "print(VIEW_sub_df[VIEW_sub_df.ETHNICITY == 'H'].shape[0]//28)"
   ]
  },
  {
   "cell_type": "code",
   "execution_count": 74,
   "metadata": {},
   "outputs": [
    {
     "name": "stdout",
     "output_type": "stream",
     "text": [
      "3597\n",
      "44184\n",
      "6486\n",
      "3617\n",
      "7236\n",
      "8992\n"
     ]
    }
   ],
   "source": [
    "# Combine D, F and G\n",
    "VIEW_sub_A_df = VIEW_sub_df[VIEW_sub_df.ETHNICITY == 'A']\n",
    "VIEW_sub_B_df = VIEW_sub_df[VIEW_sub_df.ETHNICITY == 'B']\n",
    "VIEW_sub_C_df = VIEW_sub_df[VIEW_sub_df.ETHNICITY == 'C']\n",
    "VIEW_sub_D_df = VIEW_sub_df[VIEW_sub_df.ETHNICITY.isin(['D', 'F', 'G'])] # MELAA, Other and Other_Asian\n",
    "VIEW_sub_E_df = VIEW_sub_df[VIEW_sub_df.ETHNICITY == 'E']\n",
    "VIEW_sub_H_df = VIEW_sub_df[VIEW_sub_df.ETHNICITY == 'H']\n",
    "print(VIEW_sub_A_df.shape[0]//28)\n",
    "print(VIEW_sub_B_df.shape[0]//28)\n",
    "print(VIEW_sub_C_df.shape[0]//28)\n",
    "print(VIEW_sub_D_df.shape[0]//28)\n",
    "print(VIEW_sub_E_df.shape[0]//28)\n",
    "print(VIEW_sub_H_df.shape[0]//28)"
   ]
  },
  {
   "cell_type": "code",
   "execution_count": 75,
   "metadata": {},
   "outputs": [
    {
     "name": "stdout",
     "output_type": "stream",
     "text": [
      "(2075136, 33)\n",
      "(630000, 33)\n"
     ]
    }
   ],
   "source": [
    "# stratified random sampling unique ID \n",
    "# to control ethn imbalance\n",
    "ethn_A_list = VIEW_sub_A_df.STUDENT_INDEX_MASTER.unique()\n",
    "ethn_B_list = VIEW_sub_B_df.STUDENT_INDEX_MASTER.unique()\n",
    "ethn_C_list = VIEW_sub_C_df.STUDENT_INDEX_MASTER.unique()\n",
    "ethn_D_list = VIEW_sub_D_df.STUDENT_INDEX_MASTER.unique()\n",
    "ethn_E_list = VIEW_sub_E_df.STUDENT_INDEX_MASTER.unique()\n",
    "ethn_H_list = VIEW_sub_H_df.STUDENT_INDEX_MASTER.unique()\n",
    "ethn_A_sample = list(np.random.choice(ethn_A_list, 3500, replace=False))\n",
    "ethn_B_sample = list(np.random.choice(ethn_B_list, 5000, replace=False)) # over sample Europeans\n",
    "ethn_C_sample = list(np.random.choice(ethn_C_list, 3500, replace=False)) # to make a data of \n",
    "ethn_D_sample = list(np.random.choice(ethn_D_list, 3500, replace=False)) # 20,000 individuals\n",
    "ethn_E_sample = list(np.random.choice(ethn_E_list, 3500, replace=False)) # 3335 all others 3333\n",
    "ethn_H_sample = list(np.random.choice(ethn_H_list, 3500, replace=False))\n",
    "print(VIEW_sub_df.shape)\n",
    "ethn_sample = ethn_A_sample + ethn_B_sample + ethn_C_sample + \\\n",
    "              ethn_D_sample + ethn_E_sample + ethn_H_sample\n",
    "VIEW_sub_df = VIEW_sub_df[VIEW_sub_df.STUDENT_INDEX_MASTER.isin(ethn_sample)]\n",
    "print(VIEW_sub_df.shape)"
   ]
  },
  {
   "cell_type": "code",
   "execution_count": 76,
   "metadata": {},
   "outputs": [
    {
     "name": "stdout",
     "output_type": "stream",
     "text": [
      "Index(['STUDENT_INDEX_MASTER', 'DATE', 'QUARTERS', 'AGE', 'ETHNICITY', 'SEX',\n",
      "       'NZDEP', 'TEST', 'HDL', 'LDL', 'TRI', 'TCL', 'TCHDL', 'STATINS',\n",
      "       'ATORVASTATIN', 'SIMVASTATIN', 'TRUE_HDL', 'TRUE_LDL', 'TRUE_TRI',\n",
      "       'TRUE_TCL', 'TRUE_TCHDL', 'SBP', 'DBP', 'SBP2', 'DBP2', 'SMOKING',\n",
      "       'EN_TCHDL', 'HX_DIABETES', 'FAMILY_HISTORY', 'HX_CVD', 'GEN_LIPID',\n",
      "       'RENAL', 'HX_DIABETES_YR'],\n",
      "      dtype='object')\n",
      "98000\n",
      "140000\n",
      "98000\n",
      "33432\n",
      "1344\n",
      "63224\n",
      "98000\n",
      "98000\n"
     ]
    }
   ],
   "source": [
    "print(VIEW_sub_df.columns) \n",
    "#check ETHN distribution\n",
    "print(VIEW_sub_df[VIEW_sub_df.ETHNICITY == \"A\"].shape[0])\n",
    "print(VIEW_sub_df[VIEW_sub_df.ETHNICITY == \"B\"].shape[0])\n",
    "print(VIEW_sub_df[VIEW_sub_df.ETHNICITY == \"C\"].shape[0])\n",
    "print(VIEW_sub_df[VIEW_sub_df.ETHNICITY == \"D\"].shape[0])\n",
    "print(VIEW_sub_df[VIEW_sub_df.ETHNICITY == \"F\"].shape[0])\n",
    "print(VIEW_sub_df[VIEW_sub_df.ETHNICITY == \"G\"].shape[0])\n",
    "print(VIEW_sub_df[VIEW_sub_df.ETHNICITY == \"E\"].shape[0])\n",
    "print(VIEW_sub_df[VIEW_sub_df.ETHNICITY == \"H\"].shape[0])"
   ]
  },
  {
   "cell_type": "code",
   "execution_count": 77,
   "metadata": {},
   "outputs": [
    {
     "name": "stdout",
     "output_type": "stream",
     "text": [
      "Index(['STUDENT_INDEX_MASTER', 'DATE', 'QUARTERS', 'AGE', 'ETHNICITY', 'SEX',\n",
      "       'NZDEP', 'TEST', 'HDL', 'LDL', 'TRI', 'TCL', 'TCHDL', 'STATINS',\n",
      "       'ATORVASTATIN', 'SIMVASTATIN', 'TRUE_HDL', 'TRUE_LDL', 'TRUE_TRI',\n",
      "       'TRUE_TCL', 'TRUE_TCHDL', 'SBP', 'DBP', 'SBP2', 'DBP2', 'SMOKING',\n",
      "       'EN_TCHDL', 'HX_DIABETES', 'FAMILY_HISTORY', 'HX_CVD', 'GEN_LIPID',\n",
      "       'RENAL', 'HX_DIABETES_YR'],\n",
      "      dtype='object')\n",
      "2009-07-01 00:00:00\n",
      "2008.0\n"
     ]
    }
   ],
   "source": [
    "print(VIEW_sub_df.columns)\n",
    "print(VIEW_sub_df.DATE.iloc[0])\n",
    "print(VIEW_sub_df.HX_DIABETES_YR.iloc[110])\n",
    "#print(VIEW_sub_df.isnull().sum())"
   ]
  },
  {
   "cell_type": "code",
   "execution_count": 78,
   "metadata": {},
   "outputs": [],
   "source": [
    "# encode ID strings to numbers\n",
    "# create a dictionary to store \n",
    "# its mapping \n",
    "VIEW_sub_v = VIEW_sub_df.values\n",
    "ID_to_num = {}\n",
    "num = 0\n",
    "for i in range(len(VIEW_sub_v)):\n",
    "    if VIEW_sub_v[i, 0] not in ID_to_num:\n",
    "        ID_to_num[VIEW_sub_v[i, 0]] = num\n",
    "        num += 1\n",
    "    VIEW_sub_v[i, 0] = ID_to_num[VIEW_sub_v[i, 0]]\n",
    "# if ethn is , F or G change to D\n",
    "for i in range(len(VIEW_sub_v)):\n",
    "    if VIEW_sub_v[i, 4] in ['F', 'G']:\n",
    "        VIEW_sub_v[i, 4] = 'D'\n",
    "# change date into datetime object 26, 27\n",
    "for i in range(len(VIEW_sub_v)):\n",
    "    VIEW_sub_v[i, 1] = datetime.datetime.strptime(VIEW_sub_v[i, 1], '%Y-%m-%d %H:%M:%S')\n",
    "    # process RENAL values\n",
    "    # change RENAL [nan  0.  1.  2.  3.]\n",
    "    # to RENAL [0, 1, 2, 3, 4]\n",
    "    if np.isnan(VIEW_sub_v[i, 31]):\n",
    "        VIEW_sub_v[i, 31] = 0\n",
    "    else:\n",
    "        VIEW_sub_v[i, 31] = VIEW_sub_v[i, 31] + 1\n",
    "    # process HX_DIABETES_YR values\n",
    "    if np.isnan(VIEW_sub_v[i, 32]):\n",
    "        VIEW_sub_v[i, 32] = 0\n",
    "    else:\n",
    "        VIEW_sub_v[i, 32] = VIEW_sub_v[i, 1].year - VIEW_sub_v[i, 32]"
   ]
  },
  {
   "cell_type": "code",
   "execution_count": 80,
   "metadata": {
    "scrolled": true
   },
   "outputs": [
    {
     "name": "stdout",
     "output_type": "stream",
     "text": [
      "0\n",
      "[0 0 0 0 0 0 0 0 0 0 0 0 0 0 0 0 0 0 0 0 0 0 0 0 0 0 0 0 1 1 1 1 1 1 1 1 1\n",
      " 1 1 1 1 1 1 1 1 1 1 1 1 1 1 1 1 1 1 1 2 2 2 2 2 2 2 2 2 2 2 2 2 2 2 2 2 2\n",
      " 2 2 2 2 2 2 2 2 2 2 3 3 3 3 3 3 3 3 3 3 3 3 3 3 3 3]\n",
      "[59.0 60.0 60.0 60.0 60.0 61.0 61.0 61.0 61.0 62.0 62.0 62.0 62.0 63.0\n",
      " 63.0 63.0 63.0 64.0 64.0 64.0 64.0 64.0 65.0 65.0 65.0 65.0 66.0 66.0\n",
      " 56.0 56.0 56.0 56.0 57.0 57.0 57.0 57.0 58.0 58.0 58.0 58.0 59.0 59.0\n",
      " 59.0 59.0 59.0 60.0 60.0 60.0 60.0 61.0 61.0 61.0 61.0 62.0 62.0 62.0\n",
      " 54.0 55.0 55.0 55.0 55.0 56.0 56.0 56.0 56.0 57.0 57.0 57.0 57.0 58.0\n",
      " 58.0 58.0 58.0 59.0 59.0 59.0 59.0 60.0 60.0 60.0 60.0 61.0 61.0 61.0\n",
      " 72.0 72.0 72.0 73.0 73.0 73.0 73.0 74.0 74.0 74.0 74.0 75.0 75.0 75.0\n",
      " 75.0 76.0]\n",
      "ETHNICITY VALUES ['A' 'B' 'C' 'D' 'E' 'H']\n",
      "RENAL VALUES [0 1.0 2.0 3.0 4.0]\n",
      "HX_DIABETES_YR VALUES [0 1.0 2.0 3.0 4.0 5.0 6.0 7.0 8.0 9.0 10.0 11.0 12.0 13.0 14.0 15.0 16.0\n",
      " 17.0 18.0 19.0 20.0 21.0 22.0 23.0 24.0 25.0 26.0 27.0 28.0 29.0 30.0\n",
      " 31.0 32.0 33.0 34.0 35.0 36.0 37.0 38.0 39.0 40.0 41.0 42.0 43.0 44.0\n",
      " 46.0 47.0 48.0 49.0 51.0 53.0 54.0 59.0 63.0]\n",
      "3500\n",
      "5000\n",
      "3500\n",
      "3500\n",
      "3500\n",
      "3500\n"
     ]
    }
   ],
   "source": [
    "print(pd.isnull(VIEW_sub_v).sum())\n",
    "print(VIEW_sub_v[0:100, 0])\n",
    "print(VIEW_sub_v[0:100, 3])\n",
    "print(\"ETHNICITY VALUES\", np.unique(VIEW_sub_v[:, 4]))\n",
    "print(\"RENAL VALUES\", np.unique(VIEW_sub_v[:, 31]))\n",
    "print(\"HX_DIABETES_YR VALUES\", np.unique(VIEW_sub_v[:, 32]))\n",
    "#check distribution of ETHNICITY in the first 5000 individuals\n",
    "VIEW_sub_sub = VIEW_sub_v[:(5000*28), :]\n",
    "print(VIEW_sub_sub[VIEW_sub_sub[:, 4]== \"A\"].shape[0]//28)\n",
    "print(VIEW_sub_sub[VIEW_sub_sub[:, 4]== \"B\"].shape[0]//28)\n",
    "print(VIEW_sub_sub[VIEW_sub_sub[:, 4]== \"C\"].shape[0]//28)\n",
    "print(VIEW_sub_sub[VIEW_sub_sub[:, 4]== \"D\"].shape[0]//28)\n",
    "print(VIEW_sub_sub[VIEW_sub_sub[:, 4]== \"E\"].shape[0]//28)\n",
    "print(VIEW_sub_sub[VIEW_sub_sub[:, 4]== \"H\"].shape[0]//28)"
   ]
  },
  {
   "cell_type": "markdown",
   "metadata": {},
   "source": [
    "'STUDENT_INDEX_MASTER', 'DATE', 'QUARTERS', 'AGE', 'ETHNICITY', 'SEX',\n",
    "'NZDEP', 'TEST', 'HDL', 'LDL', 'TRI', 'TCL', 'TCHDL', 'STATINS',\n",
    "'ATORVASTATIN', 'SIMVASTATIN', 'TRUE_HDL', 'TRUE_LDL', 'TRUE_TRI',\n",
    "'TRUE_TCL', 'TRUE_TCHDL', 'SBP', 'DBP', 'SBP2', 'DBP2', 'SMOKING',\n",
    "'EN_TCHDL', 'HX_DIABETES', 'FAMILY_HISTORY', 'HX_CVD', 'GEN_LIPID',\n",
    "'RENAL', 'HX_DIABETES_YR'"
   ]
  },
  {
   "cell_type": "code",
   "execution_count": 81,
   "metadata": {},
   "outputs": [
    {
     "name": "stdout",
     "output_type": "stream",
     "text": [
      "(630000, 33)\n"
     ]
    }
   ],
   "source": [
    "print(VIEW_sub_v.shape)"
   ]
  },
  {
   "cell_type": "code",
   "execution_count": 82,
   "metadata": {
    "scrolled": true
   },
   "outputs": [
    {
     "name": "stdout",
     "output_type": "stream",
     "text": [
      "(630000, 37)\n"
     ]
    }
   ],
   "source": [
    "# one hot encode categorical variables\n",
    "for i in range(len(VIEW_sub_v)):\n",
    "    if VIEW_sub_v[i, 5] == 'M':\n",
    "        VIEW_sub_v[i, 5] = 0\n",
    "    else:\n",
    "        VIEW_sub_v[i, 5] = 1\n",
    "        \n",
    "ethn_v = np.zeros((len(VIEW_sub_v), 6))\n",
    "ethn_idx = {'A': 0,\n",
    "            'B': 1,\n",
    "            'C': 2,\n",
    "            'D': 3,\n",
    "            'E': 4,\n",
    "            'H': 5}\n",
    "\n",
    "for i in range(len(VIEW_sub_v)):\n",
    "    ethn_v[i, ethn_idx[VIEW_sub_v[i, 4]]] = 1\n",
    "\n",
    "# reorganise columns  \n",
    "# STUDENT_INDEX_MASTER, QUARTERS, AGE, SEX, NZDEP, \n",
    "# A, B, C, D, E, H\n",
    "# SBP, DBP, SBP2, DBP2,\n",
    "# SMOKING, EN_TCHDL, HX_DIABETES, FAMILY_HISTORY, HX_CVD, \n",
    "# GEN_LIPID, RENAL, HX_DIABETES_YR\n",
    "# STATINS, ATORVASTATIN, SIMVASTATIN, \n",
    "# TEST, HDL, LDL, TRI, TCL, TCHDL\n",
    "# TRUE_HDL, TRUE_LDL, TRUE_TRI, TRUE_TCL, TRUE_TCHDL\n",
    "VIEW_sub_v1 = VIEW_sub_v[:, [0,2,3,5,6]] # Demographic variables + QUARTERS\n",
    "VIEW_sub_v2 = VIEW_sub_v[:, [13,14,15]] # STATINS  PHH\n",
    "VIEW_sub_v3 = VIEW_sub_v[:, [21,22,23,24,25,26,27,28,29,30,31,32]] # PREDICT variables\n",
    "VIEW_sub_v4 = VIEW_sub_v[:, [7,8,9,10,11,12]] # INTERPOLATED CHOLESTEROLS TESTSAFE\n",
    "VIEW_sub_v5 = VIEW_sub_v[:, [16,17,18,19,20]] # TRUE CHOLESTEROLS\n",
    "VIEW_1hot_encoded_v = np.append(VIEW_sub_v1, ethn_v, axis= 1)\n",
    "VIEW_1hot_encoded_v = np.append(VIEW_1hot_encoded_v, VIEW_sub_v3, \\\n",
    "                                axis=1)\n",
    "VIEW_1hot_encoded_v = np.append(VIEW_1hot_encoded_v, VIEW_sub_v2, \\\n",
    "                                axis=1)\n",
    "VIEW_1hot_encoded_v = np.append(VIEW_1hot_encoded_v, VIEW_sub_v4, \\\n",
    "                                axis=1)\n",
    "VIEW_1hot_encoded_v = np.append(VIEW_1hot_encoded_v, VIEW_sub_v5, \\\n",
    "                                axis=1)\n",
    "print(VIEW_1hot_encoded_v.shape)"
   ]
  },
  {
   "cell_type": "code",
   "execution_count": 25,
   "metadata": {},
   "outputs": [
    {
     "name": "stdout",
     "output_type": "stream",
     "text": [
      "0x7fa008058d00\n",
      "0x7fa008058ee0\n",
      "0x7fa00062cc10\n",
      "0x7fa00062c670\n",
      "0x7fa00062c620\n",
      "0x7fa008058580\n",
      "0x7fa008058f80\n"
     ]
    }
   ],
   "source": [
    "# check object memory address\n",
    "print(hex(id(VIEW_sub_v1)))\n",
    "print(hex(id(VIEW_sub_v2)))\n",
    "print(hex(id(VIEW_sub_v3)))\n",
    "print(hex(id(VIEW_sub_v4)))\n",
    "print(hex(id(VIEW_sub_v5)))\n",
    "print(hex(id(VIEW_sub_v)))\n",
    "print(hex(id(VIEW_1hot_encoded_v)))"
   ]
  },
  {
   "cell_type": "markdown",
   "metadata": {},
   "source": [
    " # Reorganised columns\n",
    " STUDENT_INDEX_MASTER, QUARTERS, AGE, SEX, NZDEP, \n",
    " A, B, C, D, E, H, interrutption, post_int_time, \n",
    " SBP, DBP, SBP2, DBP2,\n",
    " SMOKING, EN_TCHDL, HX_DIABETES, FAMILY_HISTORY, HX_CVD, \n",
    " GEN_LIPID, RENAL, HX_DIABETES_YR,\n",
    " STATINS(25), ATORVASTATIN, SIMVASTATIN, \n",
    " TEST, HDL, LDL, TRI, TCL, TCHDL\n",
    " TRUE_HDL, TRUE_LDL, TRUE_TRI, TRUE_TCL, TRUE_TCHDL (38)"
   ]
  },
  {
   "cell_type": "code",
   "execution_count": 28,
   "metadata": {},
   "outputs": [
    {
     "name": "stdout",
     "output_type": "stream",
     "text": [
      "(588000, 39)\n",
      "0x7f9fd873aa30\n"
     ]
    }
   ],
   "source": [
    "##########################################\n",
    "# introduce Interrupted Timeseries design\n",
    "##########################################\n",
    "'''\n",
    "number_of_inds = VIEW_1hot_encoded_v.shape[0]//28\n",
    "interruption_v = np.array([[0,0,0,0,0,0,0,0,1,1,1,1,1,1,1,1,1,1,1,1,1,1,1,1,1,1,1,1]*number_of_inds]).T\n",
    "post_interruption_time_v = np.array([[0,0,0,0,0,0,0,0,1,2,3,4,5,6,7,8,9,10,11,12,13,14,15,16,17,18,19,20]*number_of_inds]).T\n",
    "\n",
    "#print(interruption_v.shape)\n",
    "#print(post_interruption_time_v.shape)\n",
    "demo_v = VIEW_1hot_encoded_v[:, [0,1,2,3,4,5,6,7,8,9,10]] # democraphic variables\n",
    "PREDICT_PHH_TESTSAFE_v = VIEW_1hot_encoded_v[:, 11:] #\n",
    "VIEW_1hot_encoded_v = np.append(demo_v, interruption_v, axis = 1)\n",
    "VIEW_1hot_encoded_v = np.append(VIEW_1hot_encoded_v, post_interruption_time_v, axis = 1)\n",
    "VIEW_1hot_encoded_v = np.append(VIEW_1hot_encoded_v, PREDICT_PHH_TESTSAFE_v, axis = 1)\n",
    "print(VIEW_1hot_encoded_v.shape)\n",
    "print(hex(id(VIEW_1hot_encoded_v)))\n",
    "'''"
   ]
  },
  {
   "cell_type": "code",
   "execution_count": 83,
   "metadata": {},
   "outputs": [
    {
     "name": "stdout",
     "output_type": "stream",
     "text": [
      "[0 1]\n",
      "1\n",
      "0\n",
      "<class 'float'>\n"
     ]
    }
   ],
   "source": [
    "print(np.unique(VIEW_1hot_encoded_v[:, -11]))\n",
    "print(max(np.unique(VIEW_1hot_encoded_v[:, -11])))\n",
    "print(min(np.unique(VIEW_1hot_encoded_v[:, -11])))\n",
    "#print(VIEW_1hot_encoded_v[0:28, -11:])\n",
    "print(type(VIEW_1hot_encoded_v[0, -10]))"
   ]
  },
  {
   "cell_type": "code",
   "execution_count": 86,
   "metadata": {},
   "outputs": [
    {
     "name": "stdout",
     "output_type": "stream",
     "text": [
      "22500\n"
     ]
    }
   ],
   "source": [
    "print(len(VIEW_1hot_encoded_v)//28)"
   ]
  },
  {
   "cell_type": "code",
   "execution_count": 87,
   "metadata": {},
   "outputs": [
    {
     "name": "stdout",
     "output_type": "stream",
     "text": [
      "4769.119346141815\n",
      "822\n",
      "822\n",
      "(630000, 37)\n",
      "(630000, 37)\n"
     ]
    }
   ],
   "source": [
    "# generate test set\n",
    "# before normalising\n",
    "# flatten Cholesterol vectors\n",
    "# after the last test within\n",
    "# the first 8 quarters using \n",
    "# TRUE cholesterol values\n",
    "\n",
    "#number_of_inds = #VIEW_1hot_encoded_v.shape[0]//28\n",
    "#start = 0\n",
    "#end = 28\n",
    "missing_a_measure = 0\n",
    "IDs_of_missing_measure = []\n",
    "value_indicating_test = max(np.unique(VIEW_1hot_encoded_v[:, -11]))\n",
    "value_indicating_no_test = min(np.unique(VIEW_1hot_encoded_v[:, -11]))\n",
    "VIEW_1hot_encoded_test_v = np.empty([0, 37])\n",
    "number_of_inds = len(VIEW_1hot_encoded_v)//28\n",
    "start_t = time.time()\n",
    "for i in range(number_of_inds): #number_of_inds 21000\n",
    "    ind_v = copy.deepcopy(VIEW_1hot_encoded_v[(i*28):((i+1)*28), :])\n",
    "    test_list = list(ind_v[0:8, -11])\n",
    "    #quarters_v = copy.deepcopy(ind_v[:, 1])\n",
    "    #age_v = copy.deepcopy(ind_v[:, 2])\n",
    "    idx = len(test_list) - 1 - \\\n",
    "          test_list[::-1].index(value_indicating_test)\n",
    "    last_v = copy.deepcopy(ind_v[idx, -11:])\n",
    "    # parse values from TRUE choleterol lists\\\n",
    "    # if more than 1 test result in a given quarter\n",
    "    # use the last result\n",
    "    for j in range(1, 6):\n",
    "        ch_s = last_v[j+5]\n",
    "        if len(ch_s) > 4:\n",
    "            ch_list = ch_s[1:-1].split(', ')\n",
    "            last_v[j] = float(ch_list[-1])\n",
    "        else:\n",
    "            missing_a_measure += 1\n",
    "            IDs_of_missing_measure.append(ind_v[0, 0])\n",
    "    ind_v[idx, -11:] = last_v\n",
    "    last_v[0] = value_indicating_no_test \n",
    "    for j in range((idx+1),28):\n",
    "        ind_v[j, -11:] = last_v\n",
    "    #ind_v[:, 1] = quarters_v\n",
    "    #ind_v[:, 2] = age_v\n",
    "    #print(ind_v[:, 25:34])\n",
    "    VIEW_1hot_encoded_test_v = np.append(VIEW_1hot_encoded_test_v, \\\n",
    "                               ind_v, axis = 0)\n",
    "end_t = time.time()\n",
    "print(end_t - start_t)\n",
    "#print(VIEW_1hot_encoded_test_v[0:28, -11:])   \n",
    "print(missing_a_measure)\n",
    "print(len(IDs_of_missing_measure))\n",
    "print(VIEW_1hot_encoded_v.shape)\n",
    "print(VIEW_1hot_encoded_test_v.shape)"
   ]
  },
  {
   "cell_type": "code",
   "execution_count": 88,
   "metadata": {},
   "outputs": [
    {
     "name": "stdout",
     "output_type": "stream",
     "text": [
      "number of individuals with missing measure 609\n",
      "number of individuals without missing measure 21891\n",
      "(612948, 37)\n",
      "(612948, 37)\n"
     ]
    }
   ],
   "source": [
    "#####################################################\n",
    "# subset both training and test data to contain only\n",
    "# individuals that have all Cholesterol tests\n",
    "# in the last test in the first 8 quarters\n",
    "#####################################################\n",
    "print(\"number of individuals with missing measure\", len(np.unique(IDs_of_missing_measure)))\n",
    "#print(VIEW_1hot_encoded_test_v[VIEW_1hot_encoded_test_v[:, 0] == 68][:, -11:])\n",
    "#print(len(np.unique(VIEW_1hot_encoded_test_v[:, 0])))\n",
    "all_IDs_set = set(np.unique(VIEW_1hot_encoded_test_v[:, 0]))\n",
    "missing_IDs = set(IDs_of_missing_measure)\n",
    "new_IDs_set = all_IDs_set - missing_IDs\n",
    "#print(len(all_IDs_set))\n",
    "#print(len(missing_IDs))\n",
    "#print(type(new_IDs_set))\n",
    "print(\"number of individuals without missing measure\", len(new_IDs_set))\n",
    "#print(type(list(new_IDs_set)))\n",
    "#print(len(list(new_IDs_set)))\n",
    "new_IDs_list = list(new_IDs_set)\n",
    "VIEW_1hot_encoded_test_v = VIEW_1hot_encoded_test_v[np.isin(VIEW_1hot_encoded_test_v[:, 0], \\\n",
    "                                                            new_IDs_list)]\n",
    "VIEW_1hot_encoded_v = VIEW_1hot_encoded_v[np.isin(VIEW_1hot_encoded_v[:, 0], \\\n",
    "                                                            new_IDs_list)]\n",
    "print(VIEW_1hot_encoded_v.shape)\n",
    "print(VIEW_1hot_encoded_test_v.shape)"
   ]
  },
  {
   "cell_type": "code",
   "execution_count": 97,
   "metadata": {},
   "outputs": [
    {
     "name": "stdout",
     "output_type": "stream",
     "text": [
      "21891\n",
      "21891\n",
      "21891\n"
     ]
    }
   ],
   "source": [
    "print(len(VIEW_1hot_encoded_v)//28)\n",
    "print(len(np.unique(VIEW_1hot_encoded_v[:, 0])))\n",
    "print(len(np.unique(VIEW_1hot_encoded_test_v[:, 0])))"
   ]
  },
  {
   "cell_type": "code",
   "execution_count": 26,
   "metadata": {},
   "outputs": [
    {
     "name": "stdout",
     "output_type": "stream",
     "text": [
      "[0 1]\n",
      "[1 2 3 4 5]\n",
      "20414\n",
      "(571592, 37)\n",
      "(571592, 37)\n",
      "[[ 0.    1.    4.    2.4   2.36]\n",
      " [ 1.    1.    4.    2.4   2.36]\n",
      " [ 2.    1.    4.    2.4   2.53]\n",
      " [ 3.    1.    4.    2.4   2.39]\n",
      " [ 4.    1.    4.    2.4   2.15]\n",
      " [ 5.    1.    4.    2.4   2.24]\n",
      " [ 6.    1.    4.    2.4   2.33]\n",
      " [ 7.    1.    4.    2.4   2.38]\n",
      " [ 8.    1.    4.    2.4   2.59]\n",
      " [ 9.    1.    4.    2.4   2.76]\n",
      " [10.    1.    4.    2.4   3.09]\n",
      " [11.    1.    4.    2.4   3.05]\n",
      " [12.    1.    4.    2.4   3.42]\n",
      " [13.    1.    4.    2.4   3.42]\n",
      " [14.    1.    4.    2.4   3.52]\n",
      " [15.    1.    4.    2.4   3.41]\n",
      " [16.    1.    4.    2.4   3.37]\n",
      " [17.    1.    4.    2.4   3.33]\n",
      " [18.    1.    4.    2.4   3.34]\n",
      " [19.    1.    4.    2.4   3.37]\n",
      " [20.    1.    4.    2.4   3.43]\n",
      " [21.    1.    4.    2.4   3.38]\n",
      " [22.    1.    4.    2.4   3.45]\n",
      " [23.    1.    4.    2.4   3.27]\n",
      " [24.    1.    4.    2.4   3.24]\n",
      " [25.    1.    4.    2.4   3.41]\n",
      " [26.    1.    4.    2.4   3.26]\n",
      " [27.    1.    4.    2.4   3.37]\n",
      " [ 0.    0.    1.    4.1   4.11]\n",
      " [ 1.    0.    1.    4.1   4.  ]\n",
      " [ 2.    0.    1.    4.1   4.03]\n",
      " [ 3.    0.    1.    4.1   4.06]\n",
      " [ 4.    0.    1.    4.1   4.11]\n",
      " [ 5.    0.    1.    4.1   4.1 ]\n",
      " [ 6.    0.    1.    4.1   4.23]\n",
      " [ 7.    0.    1.    4.1   4.17]\n",
      " [ 8.    0.    1.    4.1   3.79]\n",
      " [ 9.    0.    1.    4.1   4.12]\n",
      " [10.    0.    1.    4.1   3.37]\n",
      " [11.    0.    1.    4.1   3.26]\n",
      " [12.    0.    1.    4.1   3.08]\n",
      " [13.    0.    1.    4.1   3.12]\n",
      " [14.    0.    1.    4.1   3.07]\n",
      " [15.    0.    1.    4.1   3.1 ]\n",
      " [16.    0.    1.    4.1   3.08]\n",
      " [17.    0.    1.    4.1   3.01]\n",
      " [18.    0.    1.    4.1   3.13]\n",
      " [19.    0.    1.    4.1   3.23]\n",
      " [20.    0.    1.    4.1   3.26]\n",
      " [21.    0.    1.    4.1   2.99]\n",
      " [22.    0.    1.    4.1   3.21]\n",
      " [23.    0.    1.    4.1   3.15]\n",
      " [24.    0.    1.    4.1   2.94]\n",
      " [25.    0.    1.    4.1   3.01]\n",
      " [26.    0.    1.    4.1   2.99]\n",
      " [27.    0.    1.    4.1   3.15]\n",
      " [ 0.    1.    3.    2.1   2.23]\n",
      " [ 1.    1.    3.    2.1   2.02]\n",
      " [ 2.    1.    3.    2.1   2.06]\n",
      " [ 3.    1.    3.    2.1   2.16]\n",
      " [ 4.    1.    3.    2.1   2.21]\n",
      " [ 5.    1.    3.    2.1   2.21]\n",
      " [ 6.    1.    3.    2.1   2.11]\n",
      " [ 7.    1.    3.    2.1   2.14]\n",
      " [ 8.    1.    3.    2.1   2.18]\n",
      " [ 9.    1.    3.    2.1   2.18]\n",
      " [10.    1.    3.    2.1   2.05]\n",
      " [11.    1.    3.    2.1   2.25]\n",
      " [12.    1.    3.    2.1   2.1 ]\n",
      " [13.    1.    3.    2.1   2.24]\n",
      " [14.    1.    3.    2.1   2.1 ]\n",
      " [15.    1.    3.    2.1   2.09]\n",
      " [16.    1.    3.    2.1   2.17]\n",
      " [17.    1.    3.    2.1   1.98]\n",
      " [18.    1.    3.    2.1   2.17]\n",
      " [19.    1.    3.    2.1   2.18]\n",
      " [20.    1.    3.    2.1   2.26]\n",
      " [21.    1.    3.    2.1   1.91]\n",
      " [22.    1.    3.    2.1   2.31]\n",
      " [23.    1.    3.    2.1   1.99]\n",
      " [24.    1.    3.    2.1   2.27]\n",
      " [25.    1.    3.    2.1   2.17]\n",
      " [26.    1.    3.    2.1   2.09]\n",
      " [27.    1.    3.    2.1   2.22]]\n",
      "\n",
      "[[ 0.    1.    4.    2.4   2.43]\n",
      " [ 1.    1.    4.    2.4   2.51]\n",
      " [ 2.    1.    4.    2.4   2.52]\n",
      " [ 3.    1.    4.    2.4   2.36]\n",
      " [ 4.    1.    4.    2.4   2.58]\n",
      " [ 5.    1.    4.    2.4   2.43]\n",
      " [ 6.    1.    4.    2.4   2.55]\n",
      " [ 7.    1.    4.    2.4   2.44]\n",
      " [ 8.    1.    4.    2.4   2.6 ]\n",
      " [ 9.    1.    4.    2.4   2.78]\n",
      " [10.    1.    4.    2.4   3.03]\n",
      " [11.    1.    4.    2.4   3.13]\n",
      " [12.    1.    4.    2.4   3.44]\n",
      " [13.    1.    4.    2.4   3.25]\n",
      " [14.    1.    4.    2.4   3.33]\n",
      " [15.    1.    4.    2.4   3.41]\n",
      " [16.    1.    4.    2.4   3.34]\n",
      " [17.    1.    4.    2.4   3.33]\n",
      " [18.    1.    4.    2.4   3.27]\n",
      " [19.    1.    4.    2.4   3.28]\n",
      " [20.    1.    4.    2.4   3.45]\n",
      " [21.    1.    4.    2.4   3.55]\n",
      " [22.    1.    4.    2.4   3.47]\n",
      " [23.    1.    4.    2.4   3.38]\n",
      " [24.    1.    4.    2.4   3.43]\n",
      " [25.    1.    4.    2.4   3.42]\n",
      " [26.    1.    4.    2.4   3.42]\n",
      " [27.    1.    4.    2.4   3.6 ]\n",
      " [ 0.    0.    1.    4.1   4.26]\n",
      " [ 1.    0.    1.    4.1   4.16]\n",
      " [ 2.    0.    1.    4.1   4.17]\n",
      " [ 3.    0.    1.    4.1   3.85]\n",
      " [ 4.    0.    1.    4.1   4.01]\n",
      " [ 5.    0.    1.    4.1   4.11]\n",
      " [ 6.    0.    1.    4.1   4.27]\n",
      " [ 7.    0.    1.    4.1   4.07]\n",
      " [ 8.    0.    1.    4.1   3.92]\n",
      " [ 9.    0.    1.    4.1   3.64]\n",
      " [10.    0.    1.    4.1   3.5 ]\n",
      " [11.    0.    1.    4.1   3.31]\n",
      " [12.    0.    1.    4.1   3.09]\n",
      " [13.    0.    1.    4.1   3.08]\n",
      " [14.    0.    1.    4.1   3.21]\n",
      " [15.    0.    1.    4.1   3.19]\n",
      " [16.    0.    1.    4.1   3.  ]\n",
      " [17.    0.    1.    4.1   3.12]\n",
      " [18.    0.    1.    4.1   3.15]\n",
      " [19.    0.    1.    4.1   3.  ]\n",
      " [20.    0.    1.    4.1   3.04]\n",
      " [21.    0.    1.    4.1   3.17]\n",
      " [22.    0.    1.    4.1   3.06]\n",
      " [23.    0.    1.    4.1   3.16]\n",
      " [24.    0.    1.    4.1   3.24]\n",
      " [25.    0.    1.    4.1   2.97]\n",
      " [26.    0.    1.    4.1   3.06]\n",
      " [27.    0.    1.    4.1   2.87]\n",
      " [ 0.    1.    3.    2.1   2.18]\n",
      " [ 1.    1.    3.    2.1   2.2 ]\n",
      " [ 2.    1.    3.    2.1   2.17]\n",
      " [ 3.    1.    3.    2.1   2.04]\n",
      " [ 4.    1.    3.    2.1   2.07]\n",
      " [ 5.    1.    3.    2.1   2.03]\n",
      " [ 6.    1.    3.    2.1   2.05]\n",
      " [ 7.    1.    3.    2.1   2.12]\n",
      " [ 8.    1.    3.    2.1   2.14]\n",
      " [ 9.    1.    3.    2.1   2.11]\n",
      " [10.    1.    3.    2.1   2.11]\n",
      " [11.    1.    3.    2.1   2.12]\n",
      " [12.    1.    3.    2.1   2.14]\n",
      " [13.    1.    3.    2.1   2.09]\n",
      " [14.    1.    3.    2.1   2.06]\n",
      " [15.    1.    3.    2.1   2.11]\n",
      " [16.    1.    3.    2.1   1.97]\n",
      " [17.    1.    3.    2.1   2.01]\n",
      " [18.    1.    3.    2.1   2.08]\n",
      " [19.    1.    3.    2.1   2.29]\n",
      " [20.    1.    3.    2.1   2.09]\n",
      " [21.    1.    3.    2.1   2.11]\n",
      " [22.    1.    3.    2.1   2.07]\n",
      " [23.    1.    3.    2.1   2.18]\n",
      " [24.    1.    3.    2.1   2.21]\n",
      " [25.    1.    3.    2.1   1.94]\n",
      " [26.    1.    3.    2.1   2.16]\n",
      " [27.    1.    3.    2.1   2.02]]\n"
     ]
    }
   ],
   "source": [
    "# STUDENT_INDEX_MASTER, QUARTERS, AGE, SEX, NZDEP, \n",
    "# A, B, C, D, E, H\n",
    "# SBP, DBP, SBP2, DBP2,\n",
    "# SMOKING, EN_TCHDL, HX_DIABETES, FAMILY_HISTORY, HX_CVD, \n",
    "# GEN_LIPID, RENAL, HX_DIABETES_YR\n",
    "# STATINS, ATORVASTATIN, SIMVASTATIN, \n",
    "# TEST, HDL, LDL, TRI, TCL, TCHDL,\n",
    "# TRUE_HDL, TRUE_LDL, TRUE_TRI, TRUE_TCL, TRUE_TCHDL\n",
    "\n",
    "###############################################\n",
    "# create simple synthetic TCHDL \n",
    "##############################################\n",
    "'''\n",
    "print(np.unique(VIEW_1hot_encoded_v[:, 3]))\n",
    "print(np.unique(VIEW_1hot_encoded_v[:, 4]))\n",
    "\n",
    "number_of_inds = len(VIEW_1hot_encoded_v)//28\n",
    "print(number_of_inds)\n",
    "for i in range(number_of_inds): # number_of_inds\n",
    "    # training data\n",
    "    ind_data = VIEW_1hot_encoded_v[(i*28): ((i+1)*28), :]\n",
    "    sex = ind_data[0, 3]\n",
    "    nzdep = ind_data[0, 4]\n",
    "    en_tchdl = ind_data[0, 16]\n",
    "    # test data\n",
    "    ind_data_t = VIEW_1hot_encoded_test_v[(i*28): ((i+1)*28), :]\n",
    "    sex_t = ind_data_t[0, 3]\n",
    "    nzdep_t = ind_data_t[0, 4]\n",
    "    en_tchdl_t = ind_data_t[0, 16]\n",
    "    \n",
    "    tchdl_v = np.array([[-10.0]*28])\n",
    "    tchdl_vt = np.array([[-10.0]*28])\n",
    "    for j in range(28):\n",
    "        tchdl = np.random.normal(en_tchdl, 0.1)\n",
    "        tchdl_t = np.random.normal(en_tchdl_t, 0.1)\n",
    "        if j > 7 and sex == 0:\n",
    "            tchdl = tchdl - (min(12, j)-7)*0.2\n",
    "            tchdl_t = tchdl_t - (min(12, j)-7)*0.2\n",
    "        elif j > 7 and nzdep > 3:\n",
    "            tchdl = tchdl + (min(12, j)-7)*0.2\n",
    "            tchdl_t = tchdl_t + (min(12, j)-7)*0.2\n",
    "        else:\n",
    "            tchdl = tchdl\n",
    "            tchdl_t = tchdl_t\n",
    "        tchdl_v[0, j] = tchdl\n",
    "        tchdl_vt[0, j] = tchdl_t\n",
    "    VIEW_1hot_encoded_v[(i*28): ((i+1)*28), -6] = tchdl_v[0]\n",
    "    VIEW_1hot_encoded_test_v[(i*28): ((i+1)*28), -6] = tchdl_vt[0]\n",
    "print(VIEW_1hot_encoded_v.shape)\n",
    "print(VIEW_1hot_encoded_test_v.shape)\n",
    "print(np.around(VIEW_1hot_encoded_v[0:84, [1,3,4,16,-6]].astype(np.double), decimals=2))\n",
    "print()\n",
    "print(np.around(VIEW_1hot_encoded_test_v[0:84, [1,3,4,16,-6]].astype(np.double), decimals=2))\n",
    "'''"
   ]
  },
  {
   "cell_type": "code",
   "execution_count": 98,
   "metadata": {},
   "outputs": [
    {
     "name": "stdout",
     "output_type": "stream",
     "text": [
      "(612948, 32)\n",
      "(612948, 32)\n",
      "(612948, 32)\n",
      "(612948, 32)\n"
     ]
    }
   ],
   "source": [
    "VIEW_1hot_encoded_wout_true_v = copy.deepcopy(VIEW_1hot_encoded_v[:, :-5])\n",
    "VIEW_1hot_encoded_test_wout_true_v = copy.deepcopy(VIEW_1hot_encoded_test_v[:, :-5])\n",
    "print(VIEW_1hot_encoded_wout_true_v.shape)\n",
    "print(VIEW_1hot_encoded_test_wout_true_v.shape)\n",
    "###################################\n",
    "# log transform cholesterol values\n",
    "###################################\n",
    "#print(np.around(VIEW_1hot_encoded_wout_true_v[0:25, -5:].astype(np.double), decimals=2))\n",
    "\n",
    "#VIEW_1hot_encoded_wout_true_v[:, -5:] = np.log(VIEW_1hot_encoded_wout_true_v[:, -5:].astype(np.double))\n",
    "#VIEW_1hot_encoded_test_wout_true_v[:, -5:] = np.log(VIEW_1hot_encoded_test_wout_true_v[:, -5:].astype(np.double))\n",
    "\n",
    "#print(np.around(VIEW_1hot_encoded_wout_true_v[0:25, -5:].astype(np.double), decimals=2))\n",
    "#VIEW_1hot_encoded_wout_true_v = np.exp(VIEW_1hot_encoded_wout_true_v[:, -5:].astype(np.double))\n",
    "#print(np.around(VIEW_1hot_encoded_wout_true_v[0:25, -5:].astype(np.double), decimals=2))\n",
    "print(VIEW_1hot_encoded_wout_true_v.shape)\n",
    "print(VIEW_1hot_encoded_test_wout_true_v.shape)"
   ]
  },
  {
   "cell_type": "code",
   "execution_count": 99,
   "metadata": {},
   "outputs": [],
   "source": [
    "# normalise vectors to values between 0 and 1\n",
    "#scaler = MinMaxScaler(feature_range=(0, 1))\n",
    "#scaled_train = scaler.fit_transform(VIEW_1hot_encoded_wout_true_v)\n",
    "#scaled_test = scaler.transform(VIEW_1hot_encoded_test_wout_true_v)\n",
    "#decided to use standardise instead of normalise\n",
    "# z = (X - u)/s\n",
    "# u is the mean of the training samples\n",
    "# s is the standard devidation of the training samples\n",
    "scaler = StandardScaler()\n",
    "scaled_train = scaler.fit_transform(VIEW_1hot_encoded_wout_true_v)\n",
    "scaled_test = scaler.transform(VIEW_1hot_encoded_test_wout_true_v)\n",
    "#print(np.around(VIEW_1hot_encoded_wout_true_v[0:28, -5:].astype(np.double), decimals=2))\n",
    "#print(np.around(scaled_train[0:28, -5:].astype(np.double), decimals=2))\n",
    "#inv_data = scaler.inverse_transform(scaled_train)\n",
    "#print(np.around(inv_data[0:28, -5:].astype(np.double), decimals=2))\n",
    "\n",
    "#print(\"TEST VALUES\", np.unique(scaled_train[:, -6]))\n",
    "#print(\"Value indicating test\", max(np.unique(scaled_train[:, -6])))"
   ]
  },
  {
   "cell_type": "code",
   "execution_count": 100,
   "metadata": {},
   "outputs": [
    {
     "data": {
      "text/plain": [
       "(array([1.7100e+02, 6.4200e+02, 2.2950e+03, 6.0590e+03, 1.3732e+04,\n",
       "        1.9009e+04, 2.7484e+04, 5.0083e+04, 3.9219e+04, 4.4408e+04,\n",
       "        4.7950e+04, 4.4812e+04, 4.4313e+04, 4.0520e+04, 3.9943e+04,\n",
       "        4.5901e+04, 2.8381e+04, 2.4059e+04, 1.8839e+04, 1.7699e+04,\n",
       "        1.2836e+04, 1.1371e+04, 7.6350e+03, 8.4280e+03, 4.0010e+03,\n",
       "        3.3310e+03, 2.7170e+03, 1.8640e+03, 1.4190e+03, 7.6900e+02,\n",
       "        6.7800e+02, 7.9800e+02, 2.3800e+02, 2.8400e+02, 2.5000e+02,\n",
       "        1.7800e+02, 2.2900e+02, 8.2000e+01, 1.0200e+02, 9.2000e+01,\n",
       "        6.0000e+00, 2.0000e+00, 2.7000e+01, 3.0000e+00, 0.0000e+00,\n",
       "        2.0000e+00, 1.0000e+00, 2.0000e+00, 2.1000e+01, 2.0000e+00,\n",
       "        0.0000e+00, 0.0000e+00, 0.0000e+00, 0.0000e+00, 2.0000e+00,\n",
       "        2.7000e+01, 1.0000e+00, 0.0000e+00, 0.0000e+00, 0.0000e+00,\n",
       "        0.0000e+00, 0.0000e+00, 0.0000e+00, 2.1000e+01, 0.0000e+00,\n",
       "        0.0000e+00, 0.0000e+00, 0.0000e+00, 0.0000e+00, 1.0000e+00,\n",
       "        0.0000e+00, 0.0000e+00, 2.0000e+00, 0.0000e+00, 0.0000e+00,\n",
       "        0.0000e+00, 1.0000e+00, 0.0000e+00, 0.0000e+00, 0.0000e+00,\n",
       "        0.0000e+00, 0.0000e+00, 0.0000e+00, 0.0000e+00, 1.0000e+00,\n",
       "        0.0000e+00, 0.0000e+00, 0.0000e+00, 0.0000e+00, 0.0000e+00,\n",
       "        0.0000e+00, 2.0000e+00, 0.0000e+00, 0.0000e+00, 0.0000e+00,\n",
       "        0.0000e+00, 1.0000e+00, 0.0000e+00, 1.0000e+00, 1.0000e+00]),\n",
       " array([-2.52493511, -2.32493237, -2.12492963, -1.92492689, -1.72492415,\n",
       "        -1.52492141, -1.32491867, -1.12491593, -0.92491319, -0.72491045,\n",
       "        -0.52490771, -0.32490497, -0.12490223,  0.07510051,  0.27510325,\n",
       "         0.47510599,  0.67510873,  0.87511147,  1.07511421,  1.27511696,\n",
       "         1.4751197 ,  1.67512244,  1.87512518,  2.07512792,  2.27513066,\n",
       "         2.4751334 ,  2.67513614,  2.87513888,  3.07514162,  3.27514436,\n",
       "         3.4751471 ,  3.67514984,  3.87515258,  4.07515532,  4.27515806,\n",
       "         4.4751608 ,  4.67516354,  4.87516628,  5.07516903,  5.27517177,\n",
       "         5.47517451,  5.67517725,  5.87517999,  6.07518273,  6.27518547,\n",
       "         6.47518821,  6.67519095,  6.87519369,  7.07519643,  7.27519917,\n",
       "         7.47520191,  7.67520465,  7.87520739,  8.07521013,  8.27521287,\n",
       "         8.47521561,  8.67521835,  8.8752211 ,  9.07522384,  9.27522658,\n",
       "         9.47522932,  9.67523206,  9.8752348 , 10.07523754, 10.27524028,\n",
       "        10.47524302, 10.67524576, 10.8752485 , 11.07525124, 11.27525398,\n",
       "        11.47525672, 11.67525946, 11.8752622 , 12.07526494, 12.27526768,\n",
       "        12.47527042, 12.67527317, 12.87527591, 13.07527865, 13.27528139,\n",
       "        13.47528413, 13.67528687, 13.87528961, 14.07529235, 14.27529509,\n",
       "        14.47529783, 14.67530057, 14.87530331, 15.07530605, 15.27530879,\n",
       "        15.47531153, 15.67531427, 15.87531701, 16.07531975, 16.27532249,\n",
       "        16.47532524, 16.67532798, 16.87533072, 17.07533346, 17.2753362 ,\n",
       "        17.47533894]),\n",
       " <a list of 100 Patch objects>)"
      ]
     },
     "execution_count": 100,
     "metadata": {},
     "output_type": "execute_result"
    },
    {
     "data": {
      "image/png": "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\n",
      "text/plain": [
       "<Figure size 432x288 with 1 Axes>"
      ]
     },
     "metadata": {
      "needs_background": "light"
     },
     "output_type": "display_data"
    }
   ],
   "source": [
    "#pyplot.hist(VIEW_1hot_encoded_v[:, -1], bins= 100)\n",
    "pyplot.hist(scaled_test[:, -1], bins= 100)"
   ]
  },
  {
   "cell_type": "code",
   "execution_count": 165,
   "metadata": {},
   "outputs": [
    {
     "name": "stdout",
     "output_type": "stream",
     "text": [
      "(560000, 32)\n",
      "(140000, 32)\n"
     ]
    }
   ],
   "source": [
    "# Create test data array\n",
    "# ensuring test does not \n",
    "# look foreward beyond \n",
    "# last test in the initial\n",
    "# 8 quarters\n",
    "'''\n",
    "number_of_inds = 5000#VIEW_1hot_encoded_v.shape[0]//28\n",
    "start = 0\n",
    "end = 28\n",
    "value_indicating_test = max(np.unique(scaled_train[:, -6]))\n",
    "value_indicating_no_test = min(np.unique(scaled_train[:, -6]))\n",
    "scaled_test = np.empty([0, 32])\n",
    "for i in range(number_of_inds):\n",
    "    ind_v = copy.deepcopy(scaled_train[start:end, :])\n",
    "    test_list = list(ind_v[0:8, -6])\n",
    "    quarters_v = copy.deepcopy(ind_v[:, 1])\n",
    "    age_v = copy.deepcopy(ind_v[:, 2])\n",
    "    idx = len(test_list) - 1 - \\\n",
    "          test_list[::-1].index(value_indicating_test)\n",
    "    last_v = copy.deepcopy(ind_v[idx, -6:])\n",
    "    last_v[0] = value_indicating_no_test #this might be the wrong assumption\n",
    "    for j in range((idx+1),28):\n",
    "        ind_v[j, -6:] = last_v\n",
    "        #ind_v[j, -6] = 0  # set TEST to 0\n",
    "    ind_v[:, 1] = quarters_v\n",
    "    ind_v[:, 2] = age_v\n",
    "    scaled_test = np.append(scaled_test, \\\n",
    "                            ind_v, axis = 0)\n",
    "    start = end\n",
    "    end += 28\n",
    "print(scaled_train.shape)\n",
    "print(scaled_test.shape)\n",
    "#VIEW_1hot_encoded_v = VIEW_1hot_encoded_v[0:(number_of_inds*28), :]\n",
    "#print(VIEW_1hot_encoded_v.shape)\n",
    "#print(VIEW_1hot_encoded_test_v.shape)\n",
    "'''"
   ]
  },
  {
   "cell_type": "code",
   "execution_count": 102,
   "metadata": {},
   "outputs": [
    {
     "name": "stdout",
     "output_type": "stream",
     "text": [
      "(612948, 32)\n",
      "(612948, 32)\n",
      "0\n",
      "0\n",
      "[[1.67 1.72 2.3  4.4  2.7 ]\n",
      " [1.87 1.52 2.3  4.4  2.43]\n",
      " [2.07 1.33 2.3  4.4  2.17]\n",
      " [2.15 1.33 2.13 4.4  2.06]\n",
      " [2.01 1.67 1.68 4.4  2.21]\n",
      " [1.87 2.01 1.22 4.4  2.36]\n",
      " [1.82 1.86 1.37 4.29 2.35]\n",
      " [1.82 1.52 1.74 4.14 2.27]\n",
      " [1.81 1.21 2.1  4.   2.21]\n",
      " [1.76 1.46 1.99 4.14 2.37]\n",
      " [1.7  1.71 1.87 4.28 2.54]\n",
      " [1.65 1.96 1.76 4.42 2.7 ]\n",
      " [1.65 2.1  1.6  4.49 2.74]\n",
      " [1.73 2.1  1.35 4.45 2.6 ]\n",
      " [1.81 2.1  1.1  4.41 2.46]\n",
      " [1.95 2.1  1.   4.51 2.34]\n",
      " [2.13 2.1  1.   4.7  2.25]\n",
      " [2.08 2.08 1.25 4.72 2.35]\n",
      " [1.76 2.02 1.77 4.57 2.66]\n",
      " [1.63 1.94 1.92 4.42 2.73]\n",
      " [1.66 1.83 1.78 4.28 2.6 ]\n",
      " [1.68 1.72 1.64 4.14 2.48]\n",
      " [1.71 1.61 1.49 3.99 2.35]\n",
      " [1.73 1.5  1.35 3.85 2.23]\n",
      " [1.76 1.39 1.21 3.71 2.1 ]\n",
      " [1.79 1.32 1.13 3.64 2.01]\n",
      " [1.85 1.41 1.27 3.83 2.06]\n",
      " [1.9  1.5  1.4  4.   2.1 ]]\n",
      "[[1.67 1.72 2.3  4.4  2.7 ]\n",
      " [1.87 1.52 2.3  4.4  2.43]\n",
      " [2.07 1.33 2.3  4.4  2.17]\n",
      " [2.15 1.33 2.13 4.4  2.06]\n",
      " [2.01 1.67 1.68 4.4  2.21]\n",
      " [1.87 2.01 1.22 4.4  2.36]\n",
      " [1.83 2.1  1.1  4.4  2.4 ]\n",
      " [1.83 2.1  1.1  4.4  2.4 ]\n",
      " [1.83 2.1  1.1  4.4  2.4 ]\n",
      " [1.83 2.1  1.1  4.4  2.4 ]\n",
      " [1.83 2.1  1.1  4.4  2.4 ]\n",
      " [1.83 2.1  1.1  4.4  2.4 ]\n",
      " [1.83 2.1  1.1  4.4  2.4 ]\n",
      " [1.83 2.1  1.1  4.4  2.4 ]\n",
      " [1.83 2.1  1.1  4.4  2.4 ]\n",
      " [1.83 2.1  1.1  4.4  2.4 ]\n",
      " [1.83 2.1  1.1  4.4  2.4 ]\n",
      " [1.83 2.1  1.1  4.4  2.4 ]\n",
      " [1.83 2.1  1.1  4.4  2.4 ]\n",
      " [1.83 2.1  1.1  4.4  2.4 ]\n",
      " [1.83 2.1  1.1  4.4  2.4 ]\n",
      " [1.83 2.1  1.1  4.4  2.4 ]\n",
      " [1.83 2.1  1.1  4.4  2.4 ]\n",
      " [1.83 2.1  1.1  4.4  2.4 ]\n",
      " [1.83 2.1  1.1  4.4  2.4 ]\n",
      " [1.83 2.1  1.1  4.4  2.4 ]\n",
      " [1.83 2.1  1.1  4.4  2.4 ]\n",
      " [1.83 2.1  1.1  4.4  2.4 ]]\n"
     ]
    }
   ],
   "source": [
    "#inspect inds\n",
    "ind = 3\n",
    "print(VIEW_1hot_encoded_wout_true_v.shape)\n",
    "print(VIEW_1hot_encoded_test_wout_true_v.shape)\n",
    "print(VIEW_1hot_encoded_wout_true_v[0, 0])\n",
    "print(VIEW_1hot_encoded_test_wout_true_v[0, 0])\n",
    "print(np.around(VIEW_1hot_encoded_wout_true_v[(ind*28):((ind+1)*28), -5:].astype(np.double), decimals=2))\n",
    "print(np.around(VIEW_1hot_encoded_test_wout_true_v[(ind*28):((ind+1)*28), -5:].astype(np.double), decimals=2))"
   ]
  },
  {
   "cell_type": "code",
   "execution_count": 145,
   "metadata": {},
   "outputs": [
    {
     "name": "stdout",
     "output_type": "stream",
     "text": [
      "(560000, 32)\n",
      "(560000, 26)\n",
      "(560000, 32)\n",
      "(560000, 26)\n"
     ]
    }
   ],
   "source": [
    "#STUDENT_INDEX_MASTER, QUARTERS, AGE, SEX, NZDEP, \n",
    "# A, B, C, D, E, H (10)\n",
    "# SBP, DBP, SBP2, DBP2,\n",
    "# SMOKING, EN_TCHDL, HX_DIABETES, FAMILY_HISTORY, HX_CVD, \n",
    "# GEN_LIPID, RENAL, HX_DIABETES_YR\n",
    "# STATINS, ATORVASTATIN, SIMVASTATIN, \n",
    "# TEST, HDL, LDL, TRI, TCL, TCHDL\n",
    "#VIEW_1hot_encoded_non_sparse_v = VIEW_1hot_encoded_v[:, [0,1,2,3,4,5,6,\\\n",
    "#                                                         7,8,9,10,11,12,\\\n",
    "#                                                         13,14,15,16,23,\\\n",
    "#                                                         24,25,26,27,28,\\\n",
    "#                                                         29,30,31]]\n",
    "#VIEW_1hot_encoded_test_non_sparse_v = VIEW_1hot_encoded_test_v[:, [0,1,2,3,4,5,6,\\\n",
    "#                                                         7,8,9,10,11,12,\\\n",
    "#                                                         13,14,15,16,23,\\\n",
    "#                                                         24,25,26,27,28,\\\n",
    "#                                                         29,30,31]]\n",
    "#print(VIEW_1hot_encoded_v.shape)\n",
    "#print(VIEW_1hot_encoded_non_sparse_v.shape)\n",
    "#print(VIEW_1hot_encoded_test_v.shape)\n",
    "#print(VIEW_1hot_encoded_test_non_sparse_v.shape)"
   ]
  },
  {
   "cell_type": "code",
   "execution_count": null,
   "metadata": {},
   "outputs": [],
   "source": [
    "print(x)"
   ]
  },
  {
   "cell_type": "code",
   "execution_count": 103,
   "metadata": {},
   "outputs": [
    {
     "name": "stdout",
     "output_type": "stream",
     "text": [
      "VIEW_1hot_encoded_v.shape (612948, 37)\n",
      "number of inds 21891\n"
     ]
    }
   ],
   "source": [
    "###############################################\n",
    "# set up data for training with generator\n",
    "# build x and y list\n",
    "###############################################\n",
    "\n",
    "def generate_x_y(scaled, number_of_inds, folds):\n",
    "    x_list = []\n",
    "    y_list = []\n",
    "    x = np.empty([0, 32])\n",
    "    ground_truth = np.empty([0, 32])\n",
    "    ##################\n",
    "    entry_start = 0\n",
    "    len_list = [0]\n",
    "    len_list_x = [0]\n",
    "    len_list_y = [0]\n",
    "    id_count = 0\n",
    "    ##################\n",
    "    #number_of_inds = len(scaled)//28\n",
    "    for i in range(number_of_inds):\n",
    "        start = i*28\n",
    "        end = (i+1)*28\n",
    "        ind_data = scaled[start:end, :]\n",
    "        ##################################\n",
    "        # create ground truth for forecast\n",
    "        ##################################\n",
    "        id_count += 1\n",
    "        ind_x = ind_data[:-1, :-9]\n",
    "        ind_y = ind_data[1:, -9:]\n",
    "        ind_xy = np.append(ind_x, ind_y, axis=1)\n",
    "        ground_truth = np.append(ground_truth, ind_xy, axis=0)\n",
    "        ##################################\n",
    "        # create data for 1 step forecast\n",
    "        ##################################\n",
    "        for i in range(len(ind_data)-1):\n",
    "            x_list.append(ind_data[:(i+1), :])\n",
    "            y_list.append(ind_data[(i+1), -9:])\n",
    "            if i == len(ind_data)-2:\n",
    "                x = np.append(x, x_list[-1], axis=0)\n",
    "                n_rows = x_list[-1].shape[0]\n",
    "                entry_start += n_rows\n",
    "                len_list.append(entry_start)\n",
    "        # store the indices to fold\n",
    "        # changed from 10 fold to 2 fold \n",
    "        # due to amount of data and fair \n",
    "        # comparison with depmix\n",
    "        if id_count % (number_of_inds//folds) == 0 and \\\n",
    "            id_count != 0:\n",
    "                len_list_x.append(len(x_list))\n",
    "                len_list_y.append(len(y_list))\n",
    "    return x_list, y_list, len_list_x, len_list_y, len_list, x, ground_truth\n",
    "\n",
    "print(\"VIEW_1hot_encoded_v.shape\", VIEW_1hot_encoded_v.shape)\n",
    "number_of_inds = VIEW_1hot_encoded_v.shape[0]//28\n",
    "print(\"number of inds\", number_of_inds)\n",
    "x_train_list, y_train_list, \\\n",
    "len_list_x_train, len_list_y_train, \\\n",
    "len_list_train, x_train, ground_truth_train = generate_x_y(scaled_train, number_of_inds, 10)\n",
    "\n",
    "x_test_list, y_test_list, \\\n",
    "len_list_x_test, len_list_y_test, \\\n",
    "len_list_test, x_test, ground_truth_test = generate_x_y(scaled_test, number_of_inds, 10)"
   ]
  },
  {
   "cell_type": "code",
   "execution_count": 104,
   "metadata": {},
   "outputs": [
    {
     "name": "stdout",
     "output_type": "stream",
     "text": [
      "21892\n",
      "10946\n",
      "27\n",
      "295542\n",
      "[0, 59103, 118206, 177309, 236412, 295515, 354618, 413721, 472824, 531927, 591030]\n",
      "[0, 59103, 118206, 177309, 236412, 295515, 354618, 413721, 472824, 531927, 591030]\n"
     ]
    }
   ],
   "source": [
    "start_idx = 0\n",
    "size = len(len_list_train)//2\n",
    "print(len(len_list_train))\n",
    "print(size)\n",
    "start = len_list_train[start_idx+1]\n",
    "end = len_list_train[start_idx+size]\n",
    "print(start)\n",
    "print(end)\n",
    "print(len_list_x_train)\n",
    "print(len_list_y_train)\n",
    "#print(\"x_train[start:end, :-9] shape\", x_train[start:end, :-9].shape)\n",
    "#print(\"yhat shape\", yhat.shape)"
   ]
  },
  {
   "cell_type": "code",
   "execution_count": 153,
   "metadata": {
    "scrolled": true},
   "outputs": [
    {
     "name": "stdout",
     "output_type": "stream",
     "text": [" "]
    }
   ],
   "source": [
    "import tensorflow as tf\n",
    "###########################################\n",
    "# two fold cross validatioin\n",
    "###########################################\n",
    "\n",
    "# keras generators need to be \n",
    "# infinitely iterable\n",
    "def train_generator(x_list, y_list):\n",
    "    # 0.1 validatioin split\n",
    "    train_length = (len(x_list)//10)*9\n",
    "    while True:\n",
    "        for i in range(train_length):\n",
    "            train_x = np.array([x_list[i]])\n",
    "            train_y = np.array([y_list[i]])\n",
    "            yield train_x, train_y\n",
    "            \n",
    "def val_generator(x_list, y_list):\n",
    "#    # 0.1 validation split\n",
    "    val_length = len(x_list)//10\n",
    "    while True:\n",
    "        for i in range(-val_length, 0, 1):\n",
    "            val_x = np.array([x_list[i]])\n",
    "            val_y = np.array([y_list[i]])\n",
    "            yield val_x, val_y\n",
    "            \n",
    "###########################################\n",
    "# use keras.utils.Sequence for \n",
    "# thread-safe multiprocess\n",
    "###########################################\n",
    "start_idx = 0\n",
    "size = len(len_list_train)//10 #changed from 2, 10\n",
    "\n",
    "rmse_lstm_list = []\n",
    "rmse_naive_list = []\n",
    "\n",
    "complete_inv_y = np.empty([0, 32])\n",
    "complete_inv_yhat = np.empty([0, 32])\n",
    "complete_inv_naive = np.empty([0, 32])\n",
    "\n",
    "start_outside = time.time()\n",
    "\n",
    "for f in range(10):  #2\n",
    "    print(\"Fold: \", f+1)\n",
    "    ##################################\n",
    "    # forecast using LSTM\n",
    "    ##################################\n",
    "    lstm_start = len_list_x_train[f]\n",
    "    lstm_end = len_list_x_train[f+1]\n",
    "    \n",
    "\n",
    "    train1_x = x_train_list[:lstm_start]\n",
    "    train2_x = x_train_list[lstm_end:]\n",
    "    train_x = train1_x + train2_x\n",
    "    \n",
    "    test_x = x_test_list[lstm_start:lstm_end]\n",
    "    \n",
    "    train1_y = y_train_list[:lstm_start]\n",
    "    train2_y = y_train_list[lstm_end:]\n",
    "    train_y = train1_y + train2_y\n",
    "    \n",
    "    test_y = y_test_list[lstm_start:lstm_end]\n",
    "    \n",
    "    # time training\n",
    "    start_time = time.time()\n",
    "    # design network\n",
    "    #with tf.device('/device:GPU:0'):\n",
    "    with tf.Session(config = tf.ConfigProto(log_device_placement = True)):        \n",
    "        model = Sequential()\n",
    "        model.add(CuDNNLSTM(1024, return_sequences=True,\n",
    "                        input_shape=(None, 32)))\n",
    "        model.add(CuDNNLSTM(1024, return_sequences=True))\n",
    "        model.add(CuDNNLSTM(1024))\n",
    "        model.add(Dense(9))\n",
    "        model.compile(loss='mae', optimizer='adam')\n",
    "        weight = \"weights\" + str(f) + \".hdf5\"\n",
    "        checkpointer = ModelCheckpoint(filepath=weight,\n",
    "                                    monitor='val_loss', verbose=1,\n",
    "                                    save_best_only=True)\n",
    "        history = model.fit_generator(generator=train_generator(train_x, \n",
    "                                                                train_y), \n",
    "                                        steps_per_epoch=(len(train_x)//10)*9, \n",
    "                                        epochs=20, \n",
    "                                        validation_data=val_generator(train_x, \n",
    "                                                                    train_y), \n",
    "                                        validation_steps=len(train_x)//10, \n",
    "                                        callbacks=[checkpointer], \n",
    "                                        verbose=2, shuffle=False)\n",
    "\n",
    "    # plot history\n",
    "    pyplot.plot(history.history['loss'], label='train')\n",
    "    pyplot.plot(history.history['val_loss'], label='validation')\n",
    "    pyplot.legend()\n",
    "    pyplot.show()\n",
    "    \n",
    "    end_time = time.time()\n",
    "    print(\"Training LSTM: \", end_time - start_time)\n",
    "    #########################################\n",
    "    # LSTM prediction\n",
    "    #########################################\n",
    "    model.load_weights(weight)\n",
    "    yhat = np.empty((0, 9))\n",
    "    forecast = np.empty((0, 9))\n",
    "    for i in range(len(test_x)):\n",
    "        #yhat_pred = model.predict(np.array([test_x[i]]))\n",
    "        #print(\"yhat_pred.shape: \", yhat_pred.shape)\n",
    "        #yhat = np.append(yhat, yhat_pred, axis=0)\n",
    "        if len(test_x[i]) < 8:\n",
    "            yhat_pred = model.predict(np.array([test_x[i]]))\n",
    "        elif len(test_x[i]) == 8:\n",
    "            yhat_pred = model.predict(np.array([test_x[i]]))\n",
    "            #print(\"forecast shape\", forecast.shape)\n",
    "            #print(\"yhat_pred shape\", yhat_pred.shape)\n",
    "            forecast = np.append(forecast, yhat_pred, axis=0)\n",
    "        elif len(test_x[i]) > 8:\n",
    "            adjusted_y = np.append(test_x[i][:-len(forecast), -9:], forecast, axis=0)\n",
    "            test_x[i] = np.append(test_x[i][:, :-9], adjusted_y, axis=1)\n",
    "            yhat_pred = model.predict(np.array([test_x[i]]))\n",
    "            #print(\"forecast shape\", forecast.shape)\n",
    "            #print(\"yhat_pred shape\", yhat_pred.shape)\n",
    "            forecast = np.append(forecast, yhat_pred, axis=0)    \n",
    "            if len(test_x[i]) == 27:\n",
    "                forecast = np.empty((0, 9))\n",
    "        #print(\"yhat shape\", yhat.shape)\n",
    "        #print(\"yhat_pred shape\", yhat_pred.shape)\n",
    "        yhat = np.append(yhat, yhat_pred, axis=0)\n",
    "    start = len_list_train[start_idx]\n",
    "    end = len_list_train[start_idx+size]\n",
    "    #print(\"x_train[start:end, :-9] shape\", x_train[start:end, :-9].shape)\n",
    "    #print(\"yhat shape\", yhat.shape)\n",
    "    xyhat = np.append(x_train[start:end, :-9], yhat, axis=1)\n",
    "    inv_yhat = scaler.inverse_transform(xyhat)\n",
    "    inv_y = scaler.inverse_transform(ground_truth_train[start:end, :])\n",
    "    if np.array_equal(inv_y[:, :-9], inv_yhat[:, :-9]):\n",
    "        print(\"inv_y x and inv_yhat x are the same\")\n",
    "    else:\n",
    "        print(\"inv_y x and inv_yhat x are not the same\")\n",
    "    end_time = time.time()\n",
    "    print(\"Training and Testing LSTM: \", end_time - start_time)\n",
    "    #########################################################\n",
    "    # forecasting using Vector Autoregression (VAR) and Naive\n",
    "    #########################################################\n",
    "    rmse_lstm = math.sqrt(mean_squared_error(inv_y[:, -9:], inv_yhat[:, -9:]))\n",
    "    rmse_lstm_list.append(rmse_lstm)\n",
    "    \n",
    "    complete_inv_y = np.append(complete_inv_y, inv_y, axis=0)\n",
    "    complete_inv_yhat = np.append(complete_inv_yhat, inv_yhat, axis=0)\n",
    "\n",
    "    end_time = time.time()\n",
    "    print(\"End of fold \"+str(f)+\":\", end_time - start_time)\n",
    "    start_idx += size\n",
    "print(\"rmse_lstm_list\")\n",
    "print(rmse_lstm_list)\n",
    "end_outside = time.time()\n",
    "print(\"Entire process took:\", end_outside - start_outside)"
   ]
  },
  {
   "cell_type": "code",
   "execution_count": 109,
   "metadata": {},
   "outputs": [
    {
     "name": "stdout",
     "output_type": "stream",
     "text": [
      "(59103, 32)\n",
      "(59103, 32)\n",
      "[0. 0. 0. 0. 0. 0. 0. 0. 0. 0. 0. 0. 0. 0. 0. 0. 0. 0. 0. 0.]\n",
      "['STGeicKXNtxz' 'STGeicKXNtxz' 'STGeicKXNtxz' 'STGeicKXNtxz'\n",
      " 'STGeicKXNtxz' 'STGeicKXNtxz' 'STGeicKXNtxz' 'STGeicKXNtxz'\n",
      " 'STGeicKXNtxz' 'STGeicKXNtxz' 'STGeicKXNtxz' 'STGeicKXNtxz'\n",
      " 'STGeicKXNtxz' 'STGeicKXNtxz' 'STGeicKXNtxz' 'STGeicKXNtxz'\n",
      " 'STGeicKXNtxz' 'STGeicKXNtxz' 'STGeicKXNtxz' 'STGeicKXNtxz']\n",
      "['STGeicKXNtxz' 'STGeicKXNtxz' 'STGeicKXNtxz' 'STGeicKXNtxz'\n",
      " 'STGeicKXNtxz' 'STGeicKXNtxz' 'STGeicKXNtxz' 'STGeicKXNtxz'\n",
      " 'STGeicKXNtxz' 'STGeicKXNtxz' 'STGeicKXNtxz' 'STGeicKXNtxz'\n",
      " 'STGeicKXNtxz' 'STGeicKXNtxz' 'STGeicKXNtxz' 'STGeicKXNtxz'\n",
      " 'STGeicKXNtxz' 'STGeicKXNtxz' 'STGeicKXNtxz' 'STGeicKXNtxz']\n"
     ]
    }
   ],
   "source": [
    "#########################################\n",
    "# map number id back to unique strings\n",
    "#########################################\n",
    "print(complete_inv_y.shape)\n",
    "print(complete_inv_yhat.shape)\n",
    "print(complete_inv_y[0:20, 0])\n",
    "\n",
    "num_to_ID = {v: k for k, v in ID_to_num.items()}\n",
    "complete_inv_y = np.array(complete_inv_y, dtype = np.object)\n",
    "complete_inv_yhat = np.array(complete_inv_yhat, dtype = np.object)\n",
    "\n",
    "for i in range(len(complete_inv_y)):\n",
    "    complete_inv_y[i, 0] = num_to_ID[round(complete_inv_y[i, 0])]\n",
    "    complete_inv_yhat[i, 0] = num_to_ID[round(complete_inv_yhat[i, 0])]\n",
    "print(complete_inv_y[0:20, 0])\n",
    "print(complete_inv_yhat[0:20, 0]) \n",
    "######################################\n",
    "# inverse log transform cholesterol values\n",
    "######################################\n",
    "#complete_inv_y[:, -5:] = np.exp(complete_inv_y[:, -5:].astype(np.double))\n",
    "#complete_inv_yhat[:, -5:] = np.exp(complete_inv_yhat[:, -5:].astype(np.double))"
   ]
  },
  {
   "cell_type": "code",
   "execution_count": 66,
   "metadata": {},
   "outputs": [
    {
     "name": "stdout",
     "output_type": "stream",
     "text": [
      "['STb77b2NPhNK' 'STb77b2NPhNK' 'STb77b2NPhNK' 'STb77b2NPhNK'\n",
      " 'STb77b2NPhNK' 'STb77b2NPhNK' 'STb77b2NPhNK' 'STb77b2NPhNK'\n",
      " 'STb77b2NPhNK' 'STb77b2NPhNK' 'STb77b2NPhNK' 'STb77b2NPhNK'\n",
      " 'STb77b2NPhNK' 'STb77b2NPhNK' 'STb77b2NPhNK' 'STb77b2NPhNK'\n",
      " 'STb77b2NPhNK' 'STb77b2NPhNK' 'STb77b2NPhNK' 'STb77b2NPhNK']\n"
     ]
    }
   ],
   "source": [
    "VIEW_1hot_encoded_v = np.array(VIEW_1hot_encoded_v, dtype = np.object)\n",
    "\n",
    "for i in range(len(VIEW_1hot_encoded_v)):\n",
    "    VIEW_1hot_encoded_v[i, 0] = num_to_ID[round(VIEW_1hot_encoded_v[i, 0])]\n",
    "\n",
    "print(VIEW_1hot_encoded_v[0:20, 0])\n",
    "\n",
    "######################################"
   ]
  },
  {
   "cell_type": "code",
   "execution_count": 67,
   "metadata": {},
   "outputs": [
    {
     "name": "stdout",
     "output_type": "stream",
     "text": [
      "(571592, 39)\n",
      "0\n",
      "0x7f9dce1040d0\n",
      "0x7f9dce107760\n",
      "(571592, 34)\n"
     ]
    }
   ],
   "source": [
    "print(VIEW_1hot_encoded_v.shape)\n",
    "print(pd.isnull(VIEW_1hot_encoded_v).sum())\n",
    "print(hex(id(VIEW_1hot_encoded_v)))\n",
    "\n",
    "its_v = VIEW_1hot_encoded_v[:, :-5] #interrupted time series (ITS) values \n",
    "print(hex(id(its_v)))\n",
    "print(its_v.shape)\n",
    "its_df = pd.DataFrame(its_v)\n",
    "its_df.columns = ['STUDENT_INDEX_MASTER', 'QUARTERS',\n",
    "                  'AGE', 'SEX', 'NZDEP', 'ETHN_A', \n",
    "                  'ETHN_B', 'ETHN_C', 'ETHN_D', \n",
    "                  'ETHN_E', 'ETHN_H', 'INTERRUPTION', 'POST_INTERRUPTION',\n",
    "                  'SBP', 'DBP', 'SBP2', 'DBP2',\n",
    "                  'SMOKING', 'EN_TCHDL', 'HX_DIABETES',\n",
    "                  'FAMILY_HISTORY', 'HX_CVD', 'GEN_LIPID',\n",
    "                  'RENAL', 'HX_DIABETES_YR', 'STATINS',\n",
    "                  'ATORVASTATIN', 'SIMVASTATIN', \n",
    "                  'TEST', 'HDL', 'LDL', 'TRI', 'TCL', \n",
    "                  'TCHDL']\n",
    "its_df.to_csv('/home/whsu014/data/LSTM_interrupted_time_series_data.csv', sep=\",\")"
   ]
  },
  {
   "cell_type": "code",
   "execution_count": 110,
   "metadata": {},
   "outputs": [],
   "source": [
    "complete_inv_y_df = pd.DataFrame(complete_inv_y)\n",
    "complete_inv_y_df.columns = ['STUDENT_INDEX_MASTER', 'QUARTERS',\n",
    "                             'AGE', 'SEX', 'NZDEP', 'ETHN_A', \n",
    "                             'ETHN_B', 'ETHN_C', 'ETHN_D', \n",
    "                             'ETHN_E', 'ETHN_H', #'INTERRUPTION', 'POST_INTERRUPTION',# (10)\n",
    "                             'SBP', 'DBP', 'SBP2', 'DBP2',\n",
    "                             'SMOKING', 'EN_TCHDL', 'HX_DIABETES',\n",
    "                             'FAMILY_HISTORY', 'HX_CVD', 'GEN_LIPID',\n",
    "                             'RENAL', 'HX_DIABETES_YR', 'STATINS',\n",
    "                             'ATORVASTATIN', 'SIMVASTATIN', \n",
    "                             'TEST', 'HDL', 'LDL', 'TRI', 'TCL', \n",
    "                             'TCHDL']\n",
    "complete_inv_y_df.to_csv('/home/whsu014/data/LSTM_TCHDL_experiment_standardised_21891inds_y.csv', sep=\",\")\n",
    "complete_inv_yhat_df = pd.DataFrame(complete_inv_yhat)\n",
    "complete_inv_yhat_df.columns = ['STUDENT_INDEX_MASTER', 'QUARTERS',\n",
    "                             'AGE', 'SEX', 'NZDEP', 'ETHN_A', \n",
    "                             'ETHN_B', 'ETHN_C', 'ETHN_D', \n",
    "                             'ETHN_E', 'ETHN_H', #'INTERRUPTION', 'POST_INTERRUPTION',# (10)\n",
    "                             'SBP', 'DBP', 'SBP2', 'DBP2',\n",
    "                             'SMOKING', 'EN_TCHDL', 'HX_DIABETES',\n",
    "                             'FAMILY_HISTORY', 'HX_CVD', 'GEN_LIPID',\n",
    "                             'RENAL', 'HX_DIABETES_YR', 'STATINS',\n",
    "                             'ATORVASTATIN', 'SIMVASTATIN', \n",
    "                             'TEST', 'HDL', 'LDL', 'TRI', 'TCL', \n",
    "                             'TCHDL']\n",
    "complete_inv_yhat_df.to_csv('/home/whsu014/data/LSTM_TCHDL_experiment_standardised_21891inds_yhat.csv', sep=\",\")\n"
   ]
  },
  {
   "cell_type": "code",
   "execution_count": 392,
   "metadata": {},
   "outputs": [
    {
     "name": "stdout",
     "output_type": "stream",
     "text": [
      "(2099160, 51)\n",
      "Index(['Unnamed: 0', 'STUDENT_INDEX_MASTER', 'DATE', 'QUARTERS', 'AGE',\n",
      "       'ETHNICITY', 'SEX', 'NZDEP', 'TEST', 'HDL', 'LDL', 'TRI', 'TCL',\n",
      "       'TCHDL', 'STATINS', 'ATORVASTATIN', 'SIMVASTATIN',\n",
      "       'CHOLESTEROL_LOWERING', 'ARBs', 'ACE', 'ALPHA_BLOCKERS',\n",
      "       'BETA_BLOCKERS', 'BLOOD_PRESSURE_LOWERING', 'LIPID_LOWERING',\n",
      "       'DIURETICS', 'ANTIANGINAL_ANTIARRYTHMIC', 'CALCIUM_CHANNEL_BLOCKERS',\n",
      "       'ANTIHYPERTENSIVES', 'CARDIAC_GLYCOSIDES', 'NITRATES',\n",
      "       'SYMPATHOMIMETIC', 'OTHERS', 'ANTIPLATELETS', 'ANTICOAGULANTS',\n",
      "       'TRUE_HDL', 'TRUE_LDL', 'TRUE_TRI', 'TRUE_TCL', 'TRUE_TCHDL', 'SBP',\n",
      "       'SMOKING', 'EN_TCHDL', 'HX_DIABETES', 'FAMILY_HISTORY', 'DBP', 'HX_CVD',\n",
      "       'GEN_LIPID', 'RENAL', 'HX_DIABETES_YR', 'SBP2', 'DBP2'],\n",
      "      dtype='object')\n",
      "Index(['Unnamed: 0', 'STUDENT_INDEX_MASTER', 'QUARTERS', 'AGE', 'SEX', 'NZDEP',\n",
      "       'ETHN_A', 'ETHN_B', 'ETHN_C', 'ETHN_D', 'ETHN_E', 'ETHN_H', 'SBP',\n",
      "       'DBP', 'SBP2', 'DBP2', 'SMOKING', 'EN_TCHDL', 'HX_DIABETES',\n",
      "       'FAMILY_HISTORY', 'HX_CVD', 'GEN_LIPID', 'RENAL', 'HX_DIABETES_YR',\n",
      "       'STATINS', 'ATORVASTATIN', 'SIMVASTATIN', 'TEST', 'HDL', 'LDL', 'TRI',\n",
      "       'TCL', 'TCHDL'],\n",
      "      dtype='object')\n",
      "(550152, 33)\n",
      "Index(['Unnamed: 0', 'STUDENT_INDEX_MASTER', 'QUARTERS', 'AGE', 'SEX', 'NZDEP',\n",
      "       'ETHN_A', 'ETHN_B', 'ETHN_C', 'ETHN_D', 'ETHN_E', 'ETHN_H', 'SBP',\n",
      "       'DBP', 'SBP2', 'DBP2', 'SMOKING', 'EN_TCHDL', 'HX_DIABETES',\n",
      "       'FAMILY_HISTORY', 'HX_CVD', 'GEN_LIPID', 'RENAL', 'HX_DIABETES_YR',\n",
      "       'STATINS', 'ATORVASTATIN', 'SIMVASTATIN', 'TEST', 'HDL', 'LDL', 'TRI',\n",
      "       'TCL', 'TCHDL'],\n",
      "      dtype='object')\n",
      "(550152, 33)\n"
     ]
    }
   ],
   "source": [
    "VIEW_df = pd.read_csv('/home/whsu014/data/Cholesterol_PHH_360dayspy_with_true_values_01day_ethn_coded_PREDICT_Variables_sbp2dbp2.csv')\n",
    "print(VIEW_df.shape)\n",
    "print(VIEW_df.columns)\n",
    "complete_inv_y_df = pd.read_csv('/home/whsu014/data/LSTM_experiment_standardised_train10188inds_ID_y.csv')\n",
    "complete_inv_yhat_df = pd.read_csv('/home/whsu014/data/LSTM_experiment_standardised_train10188inds_ID_yhat.csv')\n",
    "print(complete_inv_y_df.columns)\n",
    "print(complete_inv_y_df.shape)\n",
    "print(complete_inv_yhat_df.columns)\n",
    "print(complete_inv_yhat_df.shape)"
   ]
  },
  {
   "cell_type": "code",
   "execution_count": 111,
   "metadata": {},
   "outputs": [
    {
     "name": "stdout",
     "output_type": "stream",
     "text": [
      "(2099160, 17)\n",
      "(59103, 32)\n",
      "(59103, 32)\n"
     ]
    }
   ],
   "source": [
    "VIEW_v = VIEW_df.iloc[:, [1,3,4,14,15,16,8,9,10,11,12,13,34,35,36,37,38]].values\n",
    "\n",
    "#complete_inv_y = complete_inv_y_df.values[:, 1:]\n",
    "#complete_inv_yhat = complete_inv_yhat_df.values[:, 1:]\n",
    "print(VIEW_v.shape)\n",
    "print(complete_inv_y.shape)\n",
    "print(complete_inv_yhat.shape)"
   ]
  },
  {
   "cell_type": "code",
   "execution_count": 112,
   "metadata": {
    "scrolled": true
   },
   "outputs": [
    {
     "name": "stdout",
     "output_type": "stream",
     "text": [
      "STGeicKXNtxz\n",
      "(27, 32)\n",
      "(27, 32)\n",
      "(28, 17)\n",
      "[[-0.   -0.   -0.01  0.01  1.52  4.28  2.44  6.89  4.54]\n",
      " [-0.01 -0.    0.    0.01  1.46  3.63  2.43  6.18  4.29]\n",
      " [-0.01 -0.   -0.    0.01  1.46  3.18  1.92  5.49  3.74]\n",
      " [ 0.01  0.    0.    0.93  1.46  2.38  1.7   4.53  3.13]\n",
      " [ 1.   -0.    1.    0.99  1.47  2.03  1.26  4.03  2.79]\n",
      " [ 1.   -0.    1.    0.    1.59  2.02  1.42  4.24  2.7 ]\n",
      " [ 1.   -0.    1.    0.    1.51  2.08  1.36  4.17  2.82]\n",
      " [ 0.05 -0.    0.    0.    1.53  2.14  1.37  4.27  2.82]\n",
      " [-0.01 -0.    0.    0.    1.53  1.96  1.36  4.07  2.68]\n",
      " [-0.    0.    0.    0.77  1.52  1.73  1.37  3.84  2.57]\n",
      " [-0.01 -0.    0.    0.    1.54  1.63  1.45  3.85  2.52]\n",
      " [-0.01  0.    0.    0.    1.52  1.47  1.42  3.66  2.45]\n",
      " [-0.    0.    0.    0.55  1.48  1.37  1.46  3.52  2.4 ]\n",
      " [-0.01  0.    0.    0.    1.49  1.37  1.52  3.58  2.43]\n",
      " [-0.01  0.   -0.    0.    1.49  1.35  1.47  3.53  2.4 ]\n",
      " [-0.    0.    0.    0.84  1.48  1.26  1.49  3.43  2.35]\n",
      " [-0.01  0.    0.   -0.    1.49  1.28  1.53  3.5   2.36]\n",
      " [-0.01  0.    0.    0.    1.52  1.25  1.49  3.47  2.32]\n",
      " [-0.01  0.    0.    0.89  1.54  1.13  1.49  3.35  2.21]\n",
      " [-0.01  0.   -0.    0.01  1.56  0.99  1.44  3.24  2.11]\n",
      " [-0.02  0.01 -0.    1.02  1.58  0.62  1.41  2.88  1.88]\n",
      " [-0.02  0.01  0.01  0.99  1.67  0.66  1.35  2.98  1.79]\n",
      " [-0.03  0.01 -0.    0.02  1.68  0.72  1.23  3.01  1.8 ]\n",
      " [-0.02  0.01  0.    1.    1.68  0.61  1.3   2.91  1.78]\n",
      " [-0.02  0.01  0.01  0.99  1.72  0.72  1.19  3.    1.76]\n",
      " [-0.03  0.01 -0.    0.02  1.72  0.72  1.1   2.96  1.75]\n",
      " [-0.02  0.01  0.    1.    1.73  0.65  1.19  2.94  1.75]]\n",
      "[[0.   0.   0.   0.   1.52 3.88 2.31 6.52 4.31]\n",
      " [0.   0.   0.   1.   1.5  3.5  2.13 6.03 4.04]\n",
      " [0.   0.   0.   0.   1.5  2.98 1.84 5.38 3.58]\n",
      " [1.   0.   1.   0.   1.5  2.46 1.55 4.73 3.13]\n",
      " [1.   0.   1.   1.   1.48 2.41 1.48 4.61 3.1 ]\n",
      " [0.   0.   0.   0.   1.45 2.84 1.65 5.04 3.49]\n",
      " [0.   0.   0.   0.   1.42 3.26 1.81 5.46 3.88]\n",
      " [0.   0.   0.   1.   1.19 3.26 1.5  5.09 4.34]\n",
      " [0.   0.   0.   1.   0.95 2.99 0.93 4.37 4.62]\n",
      " [0.   0.   0.   0.   1.14 3.26 1.04 4.88 4.38]\n",
      " [0.   0.   0.   0.   1.33 3.53 1.14 5.39 4.14]\n",
      " [0.   0.   0.   1.   1.43 3.74 1.4  5.82 4.11]\n",
      " [0.   0.   0.   0.   1.41 3.84 1.91 6.13 4.39]\n",
      " [0.   0.   0.   0.   1.39 3.95 2.43 6.44 4.67]\n",
      " [0.   0.   0.   0.   1.37 4.05 2.94 6.74 4.96]\n",
      " [0.   0.   0.   1.   1.36 4.1  3.14 6.87 5.09]\n",
      " [0.   0.   0.   0.   1.35 4.11 3.02 6.82 5.08]\n",
      " [0.   0.   0.   0.   1.34 4.12 2.89 6.76 5.06]\n",
      " [0.   0.   0.   0.   1.34 4.13 2.77 6.71 5.05]\n",
      " [0.   0.   0.   0.   1.33 4.13 2.64 6.66 5.03]\n",
      " [0.   0.   0.   0.   1.32 4.14 2.52 6.6  5.01]\n",
      " [0.   0.   0.   0.   1.31 4.15 2.39 6.55 5.  ]\n",
      " [0.   0.   0.   0.   1.31 4.16 2.27 6.49 4.98]\n",
      " [0.   0.   0.   0.   1.3  4.17 2.15 6.44 4.97]\n",
      " [0.   0.   0.   0.   1.29 4.17 2.02 6.38 4.95]\n",
      " [0.   0.   0.   0.   1.29 4.18 1.9  6.33 4.94]\n",
      " [0.   0.   0.   0.   1.28 4.19 1.77 6.28 4.92]]\n",
      "[[0.   0.   0.   0.   1.58 4.07 2.34 6.79 4.34]\n",
      " [0.   0.   0.   0.   1.52 3.88 2.31 6.52 4.31]\n",
      " [0.   0.   0.   1.   1.5  3.5  2.13 6.03 4.04]\n",
      " [0.   0.   0.   0.   1.5  2.98 1.84 5.38 3.58]\n",
      " [1.   0.   1.   0.   1.5  2.46 1.55 4.73 3.13]\n",
      " [1.   0.   1.   1.   1.48 2.41 1.48 4.61 3.1 ]\n",
      " [0.   0.   0.   0.   1.45 2.84 1.65 5.04 3.49]\n",
      " [0.   0.   0.   0.   1.42 3.26 1.81 5.46 3.88]\n",
      " [0.   0.   0.   1.   1.19 3.26 1.5  5.09 4.34]\n",
      " [0.   0.   0.   1.   0.95 2.99 0.93 4.37 4.62]\n",
      " [0.   0.   0.   0.   1.14 3.26 1.04 4.88 4.38]\n",
      " [0.   0.   0.   0.   1.33 3.53 1.14 5.39 4.14]\n",
      " [0.   0.   0.   1.   1.43 3.74 1.4  5.82 4.11]\n",
      " [0.   0.   0.   0.   1.41 3.84 1.91 6.13 4.39]\n",
      " [0.   0.   0.   0.   1.39 3.95 2.43 6.44 4.67]\n",
      " [0.   0.   0.   0.   1.37 4.05 2.94 6.74 4.96]\n",
      " [0.   0.   0.   1.   1.36 4.1  3.14 6.87 5.09]\n",
      " [0.   0.   0.   0.   1.35 4.11 3.02 6.82 5.08]\n",
      " [0.   0.   0.   0.   1.34 4.12 2.89 6.76 5.06]\n",
      " [0.   0.   0.   0.   1.34 4.13 2.77 6.71 5.05]\n",
      " [0.   0.   0.   0.   1.33 4.13 2.64 6.66 5.03]\n",
      " [0.   0.   0.   0.   1.32 4.14 2.52 6.6  5.01]\n",
      " [0.   0.   0.   0.   1.31 4.15 2.39 6.55 5.  ]\n",
      " [0.   0.   0.   0.   1.31 4.16 2.27 6.49 4.98]\n",
      " [0.   0.   0.   0.   1.3  4.17 2.15 6.44 4.97]\n",
      " [0.   0.   0.   0.   1.29 4.17 2.02 6.38 4.95]\n",
      " [0.   0.   0.   0.   1.29 4.18 1.9  6.33 4.94]\n",
      " [0.   0.   0.   0.   1.28 4.19 1.77 6.28 4.92]]\n"
     ]
    }
   ],
   "source": [
    "#################################\n",
    "# data check\n",
    "# y should match view (ground truth)\n",
    "#################################\n",
    "ind_id = complete_inv_y[0, 0]\n",
    "print(ind_id)\n",
    "ind_y = complete_inv_y[complete_inv_y[:, 0] == ind_id]\n",
    "ind_yhat = complete_inv_yhat[complete_inv_yhat[:, 0] == ind_id]\n",
    "ind_view = VIEW_v[VIEW_v[:, 0] == ind_id]\n",
    "print(ind_y.shape)\n",
    "print(ind_yhat.shape)\n",
    "print(ind_view.shape)\n",
    "print(np.around(ind_yhat[:, -9:].astype(np.double), decimals=2))\n",
    "print(np.around(ind_y[:, -9:].astype(np.double), decimals=2))\n",
    "print(np.around(ind_view[:, [3,4,5,6,7,8,9,10,11]].astype(np.double), decimals=2))"
   ]
  },
  {
   "cell_type": "code",
   "execution_count": 114,
   "metadata": {},
   "outputs": [
    {
     "name": "stdout",
     "output_type": "stream",
     "text": [
      "complete_inv_y shape (59103, 32)\n",
      "complete_inv_yhat shape (59103, 32)\n",
      "naive shape (59103, 17)\n"
     ]
    }
   ],
   "source": [
    "# Columns of VIEW_v\n",
    "# STUDENT_INDEX_MASTER, QUARTERS, AGE,\n",
    "# STATINS, ATORVASTATIN, SIMVASTATIN,\n",
    "# TEST, HDL, LDL, TRI, TCL, TCHDL,\n",
    "# TRUE_HDL, TRUE_LDL, TRUE_TRI, TRUE_TCL, TRUE_TCHDL\n",
    "#########################\n",
    "# create naive forecast\n",
    "#########################\n",
    "value_indicating_test = max(np.unique(VIEW_v[:, 6]))\n",
    "value_indicating_no_test = min(np.unique(VIEW_v[:, 6]))\n",
    "\n",
    "missing_a_measure = 0\n",
    "IDs_of_missing_measure = []\n",
    "naive_v = np.empty([0, 17])\n",
    "for i in range(len(complete_inv_y)//27): \n",
    "    ind_id = complete_inv_y[(i*27), 0]\n",
    "    ind_v = copy.deepcopy(VIEW_v[VIEW_v[:, 0]==ind_id])\n",
    "    test_list = list(ind_v[0:8, 6])\n",
    "    quarters_v = copy.deepcopy(ind_v[:, 1])\n",
    "    age_v = copy.deepcopy(ind_v[:, 2])\n",
    "    idx = len(test_list) - 1 - \\\n",
    "          test_list[::-1].index(value_indicating_test)\n",
    "    last_v = copy.deepcopy(ind_v[idx, -11:])\n",
    "    # parse values from TRUE choleterol lists\\\n",
    "    for j in range(1, 6):\n",
    "        ch_s = last_v[j+5]\n",
    "        if len(ch_s) > 4:\n",
    "            ch_list = ch_s[1:-1].split(', ')\n",
    "            last_v[j] = float(ch_list[-1])\n",
    "        else:\n",
    "            missing_a_measure += 1\n",
    "            IDs_of_missing_measure.append(ind_v[0, 0])\n",
    "    ind_v[idx, -11:] = last_v\n",
    "    last_v[0] = value_indicating_no_test #this might be the wrong assumption\n",
    "    for j in range((idx+1),28):\n",
    "        ind_v[j, -11:] = last_v\n",
    "    ind_v[:, 1] = quarters_v\n",
    "    ind_v[:, 2] = age_v\n",
    "    naive_v = np.append(naive_v, ind_v[1:,:], axis = 0)\n",
    "print(\"complete_inv_y shape\", complete_inv_y.shape)\n",
    "print(\"complete_inv_yhat shape\", complete_inv_yhat.shape)\n",
    "print(\"naive shape\", naive_v.shape)"
   ]
  },
  {
   "cell_type": "code",
   "execution_count": 115,
   "metadata": {},
   "outputs": [
    {
     "name": "stdout",
     "output_type": "stream",
     "text": [
      "True\n",
      "True\n",
      "(59103, 12)\n"
     ]
    }
   ],
   "source": [
    "# check to see if data y, yhat and naive are equal\n",
    "naive_v = naive_v[:, :-5]\n",
    "print(np.array_equal(complete_inv_y[:, 0], complete_inv_yhat[:, 0]))\n",
    "print(np.array_equal(complete_inv_y[:, 0], naive_v[:, 0]))\n",
    "print(naive_v.shape)\n",
   ]
  },
  {
   "cell_type": "code",
   "execution_count": 116,
   "metadata": {},
   "outputs": [
    {
     "name": "stdout",
     "output_type": "stream",
     "text": [
      "67\n",
      "['STSuqwi6xmBI', 'STUCCthPefrX', 'ST2rc6wwik3X', 'STE6dH0VdLfN', 'STNNvnPjWdkj', 'ST6Uk4FixBDO', 'STfbGCbYQUym', 'STQcaBpNv714', 'ST1CZyuhxJ6z', 'STu3NGCz43DE', 'ST5hvtZPtbWY', 'STUefh119teP', 'STc9RPRKeJqQ', 'STc9RPRKeJqQ', 'STBXPSNYkFbs', 'STBXPSNYkFbs', 'STHXmm5DcaYE', 'STmJzBjhcURi', 'STAfWoq16ARw', 'STIrTGqpF9ds', 'STCMWxaLiqtg', 'STCMWxaLiqtg', 'STOv6AEEkImT', 'STaNNg78DsMQ', 'STaKEoYqML1D', 'STaKEoYqML1D', 'STpuEPjj8V2u', 'STiE2mHFntVq', 'ST0oFj6AujXJ', 'STABMNp3SiCR', 'STDhghGwTEPt', 'STMEHm5K9v3G', 'STCRO5YF8jYe', 'STM0JfcfGWRU', 'STCQ0ieXUBsa', 'SThPXQzfJQAD', 'STIZCYa618ys', 'STkxcg57jNM9', 'STPtUd0psW84', 'STTZlfwPMNnl', 'STymmYZ1lyjh', 'STymmYZ1lyjh', 'STymmYZ1lyjh', 'ST1ydS4GDkgh', 'STsYViUOk1iJ', 'STt0JimJGCyk', 'STt0JimJGCyk', 'STPZ4eTDlku9', 'ST26O4yS0yT7', 'ST1fK0ueoH3H', 'STbiiQD55YLg', 'STv3H97i3SaI', 'STFAQ9bICt1l', 'STsJzHldpmHf', 'STsJzHldpmHf', 'STsJzHldpmHf', 'STsJzHldpmHf', 'STfhfUxnU3kh', 'STxvu0dtxW5z', 'STddoioGu1h3', 'STJjf2JP7yOY', 'STyBRpldOZW3', 'ST3UFS1qbRfI', 'STvU0furCY4C', 'STA5VWgkzqC3', 'SThdlBeX7doY', 'STXIjSlseT2J']\n",
      "14800\n",
      "14800\n",
      "14800\n",
      "14800\n",
      "RMSE y 0.2751492829135456\n",
      "RMSE yhat 1.0478631583314373\n",
      "RMSE naive 0.9353105244862343\n"
     ]
    }
   ],
   "source": [
    "#######################################\n",
    "# Error calculation\n",
    "#######################################\n",
    "value_indicating_test = max(np.unique(VIEW_v[:, 6]))\n",
    "value_indicating_no_test = min(np.unique(VIEW_v[:, 6]))\n",
    "\n",
    "empty_list_count = 0\n",
    "empty_list_IDs = []\n",
    "TCHDL = []\n",
    "y = []\n",
    "LSTM = []\n",
    "naive = []\n",
    "for i in range(len(complete_inv_y)//27):#len(complete_inv_y)//27\n",
    "    ind_id = complete_inv_y[i*27, 0]\n",
    "    ind_y = copy.deepcopy(complete_inv_y[(i*27):((i+1)*27), :])\n",
    "    ind_yhat = copy.deepcopy(complete_inv_yhat[(i*27):((i+1)*27), :])\n",
    "    ind_naive = copy.deepcopy(naive_v[(i*27):((i+1)*27), :])\n",
    "    ind_truth = copy.deepcopy(VIEW_v[VIEW_v[:, 0] == ind_id])\n",
    "    ind_truth = ind_truth[1:, :]\n",
    "    #print(ind_y.shape)\n",
    "    #print(ind_yhat.shape)\n",
    "    #print(ind_naive.shape)\n",
    "    #print(ind_truth.shape)\n",
    "    for j in range(7, 27): \n",
    "        if ind_truth[j, 6] == value_indicating_test:\n",
    "            if len(ind_truth[j, -1]) > 4:\n",
    "                #TCHDL_s ind_truth[j, -1][1:-1].split(\", \")\n",
    "                TCHDL_list = [float(TCHDL) for TCHDL in ind_truth[j, -1][1:-1].split(\", \")]\n",
    "                mean_TCHDL = sum(TCHDL_list)/len(TCHDL_list)\n",
    "                TCHDL.append(mean_TCHDL)\n",
    "                y.append(ind_y[j, -1])\n",
    "                LSTM.append(ind_yhat[j, -1])\n",
    "                naive.append(ind_naive[j, -1])\n",
    "            else:\n",
    "                empty_list_count += 1\n",
    "                empty_list_IDs.append(ind_id)\n",
    "print(empty_list_count)\n",
    "print(empty_list_IDs)\n",
    "print(len(TCHDL))\n",
    "print(len(y))\n",
    "print(len(LSTM))\n",
    "print(len(naive))\n",
    "              \n",
    "rmse_y = math.sqrt(mean_squared_error(TCHDL, y))\n",
    "rmse_yhat = math.sqrt(mean_squared_error(TCHDL, LSTM))\n",
    "rmse_naive = math.sqrt(mean_squared_error(TCHDL, naive))\n",
    "print(\"RMSE y\", rmse_y)\n",
    "print(\"RMSE yhat\", rmse_yhat)\n",
    "print(\"RMSE naive\", rmse_naive)           "
   ]
  },
  {
   "cell_type": "code",
   "execution_count": 359,
   "metadata": {},
   "outputs": [
    {
     "name": "stdout",
     "output_type": "stream",
     "text": [
      "121\n"
     ]
    }
   ],
   "source": [
    "IDs_set = set(empty_list_IDs)\n",
    "print(len(IDs_set))"
   ]
  },
  {
   "cell_type": "code",
   "execution_count": 117,
   "metadata": {},
   "outputs": [
    {
     "name": "stdout",
     "output_type": "stream",
     "text": [
      "(0.2522014135386203, 0.29514264546862595)\n",
      "(1.0242750375128922, 1.0705524768448256)\n",
      "(0.8965655859800035, 0.9714196306889409)\n",
      "T test LSTM vs naive\n",
      "Ttest_indResult(statistic=5.831008676471405, pvalue=1.5959784111631718e-05)\n"
     ]
    }
   ],
   "source": [
    "###############################\n",
    "#  T test\n",
    "###############################\n",
    "# find confidence interval\n",
    "\n",
    "import scipy.stats as st\n",
    "'''\n",
    "true_list_cf = st.t.interval(0.95, len(true_list)-1, \n",
    "                              loc=np.mean(true_list), \n",
    "                              scale=st.sem(true_list))\n",
    "\n",
    "import statsmodels.stats.api as sms\n",
    "true_list_cf = sms.DescrStatsW(true_list).tconfint_mean()\n",
    "'''\n",
    "\n",
    "step = len(TCHDL)//10\n",
    "start = 0\n",
    "end = start + step\n",
    "rmse_y_list = [] # interpolated values\n",
    "rmse_lstm_list = []\n",
    "#rmse_depmix_list = []\n",
    "rmse_naive_list = []\n",
    "for i in range(10):\n",
    "    rmse_y = math.sqrt(mean_squared_error(TCHDL[start:end], y[start:end]))\n",
    "    rmse_lstm = math.sqrt(mean_squared_error(TCHDL[start:end], LSTM[start:end]))\n",
    "    rmse_naive = math.sqrt(mean_squared_error(TCHDL[start:end], naive[start:end]))\n",
    "    #rmse_depmix2 = sqrt(mean_squared_error(true_list[start:end],forecast_w_q_list[start:end]))\n",
    "    rmse_y_list.append(rmse_y)\n",
    "    rmse_lstm_list.append(rmse_lstm)\n",
    "    rmse_naive_list.append(rmse_naive)\n",
    "    #rmse_depmix_list2.append(rmse_depmix2)\n",
    "    start = end\n",
    "    end = end + step\n",
    "\n",
    "y_forecast_cf = st.t.interval(0.95, len(rmse_y_list)-1, \n",
    "                              loc=np.mean(rmse_y_list), \n",
    "                              scale=st.sem(rmse_y_list)) \n",
    "lstm_forecast_cf = st.t.interval(0.95, len(rmse_lstm_list)-1, \n",
    "                              loc=np.mean(rmse_lstm_list), \n",
    "                              scale=st.sem(rmse_lstm_list)) \n",
    "naive_forecast_cf = st.t.interval(0.95, len(rmse_naive_list)-1, \n",
    "                              loc=np.mean(rmse_naive_list), \n",
    "                              scale=st.sem(rmse_naive_list)) \n",
    "print(y_forecast_cf)\n",
    "print(lstm_forecast_cf)\n",
    "print(naive_forecast_cf)\n",
    "#print(naive_forecast_cf)\n",
    "#t test \n",
    "print(\"T test LSTM vs naive\")\n",
    "print(scipy.stats.ttest_ind(rmse_lstm_list, rmse_naive_list))"
   ]
  },
  {
   "cell_type": "code",
   "execution_count": 152,
   "metadata": {},
   "outputs": [
    {
     "data": {
      "image/png": "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\n",
      "text/plain": [
       "<Figure size 432x288 with 1 Axes>"
      ]
     },
     "metadata": {
      "needs_background": "light"
     },
     "output_type": "display_data"
    }
   ],
   "source": [
    "#################################\n",
    "# plot examples from data\n",
    "#################################\n",
    "# sample individual\n",
    "idx = 190 #90 140 and 40\n",
    "ind_y = complete_inv_y[(idx*27):((idx+1)*27), -1]\n",
    "ind_yhat = complete_inv_yhat[(idx*27):((idx+1)*27), -1]\n",
    "ind_naive = naive_v[(idx*27):((idx+1)*27), -1]\n",
    "#ind_id = ind_yhat[0, 0]\n",
    "quarters = complete_inv_y[(idx*27):((idx+1)*27), 1]\n",
    "fig, ax = pyplot.subplots()\n",
    "ax.plot(quarters, ind_y, '.-', color='m', alpha=0.5, label=\"y\")\n",
    "ax.plot(quarters, ind_yhat, ':', color='g', alpha=0.8, label=\"LSTM\")\n",
    "ax.plot(quarters, ind_naive, ':', color='c', alpha=0.8, label=\"naive\")\n",
    "ax.set(xlabel='Quarters',\n",
    "       ylabel='TCHDL mmol/mmol', \n",
    "       Title='Forecast comparison (trained with 10188 individuals standardised data) - \\n individual 4000')\n",
    "ax.set_ylim([-1, 8])\n",
    "ax.grid()\n",
    "lgd = ax.legend(bbox_to_anchor=(1.05, 1), loc=2, borderaxespad=0.)\n",
    "#fig.savefig('/home/whsu014/plots/LSTM_standardised_train10188_ind4000.pdf', bbox_extra_artists=(lgd,), bbox_inches='tight')\n",
    "pyplot.show()"
   ]
  },
  {
   "cell_type": "code",
   "execution_count": null,
   "metadata": {},
   "outputs": [],
   "source": []
  }
 ],
 "metadata": {
  "kernelspec": {
   "display_name": "Python 3",
   "language": "python",
   "name": "python3"
  },
  "language_info": {
   "codemirror_mode": {
    "name": "ipython",
    "version": 3
   },
   "file_extension": ".py",
   "mimetype": "text/x-python",
   "name": "python",
   "nbconvert_exporter": "python",
   "pygments_lexer": "ipython3",
   "version": "3.6.8"
  }
 },
 "nbformat": 4,
 "nbformat_minor": 2
}
