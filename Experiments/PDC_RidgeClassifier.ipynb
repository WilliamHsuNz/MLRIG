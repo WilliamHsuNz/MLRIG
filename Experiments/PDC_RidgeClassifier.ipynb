{
 "cells": [
  {
   "cell_type": "code",
   "execution_count": 1,
   "metadata": {},
   "outputs": [],
   "source": [
    "import os\n",
    "import pandas as pd\n",
    "import datetime\n",
    "from matplotlib import pyplot\n",
    "from sklearn.preprocessing import MinMaxScaler\n",
    "from sklearn.preprocessing import StandardScaler\n",
    "from sklearn.preprocessing import LabelEncoder\n",
    "from sklearn.preprocessing import OneHotEncoder\n",
    "from sklearn.metrics import mean_squared_error\n",
    "from sklearn.metrics import mean_absolute_error\n",
    "from sklearn.linear_model import LinearRegression\n",
    "from sklearn.linear_model import RidgeClassifierCV\n",
    "from sklearn.linear_model import LogisticRegression\n",
    "import numpy as np\n",
    "import scipy \n",
    "import math\n",
    "import h5py\n",
    "import time\n",
    "import copy\n",
    "import sys\n",
    "import feather\n",
    "from sklearn.metrics import mean_absolute_error\n",
    "from numpy.random import seed\n",
    "pd.set_option('display.max_rows', None)\n",
    "pd.set_option('display.max_columns', None)\n",
    "pd.set_option('display.width', None)\n",
    "pd.set_option('display.max_colwidth', -1)\n",
    "seed(123)\n",
    "from tensorflow import set_random_seed\n",
    "set_random_seed(456)\n",
    "np.set_printoptions(threshold=sys.maxsize)"
   ]
  },
  {
   "cell_type": "code",
   "execution_count": 2,
   "metadata": {},
   "outputs": [
    {
     "name": "stdout",
     "output_type": "stream",
     "text": [
      "Index(['VSIMPLE_INDEX_MASTER', 'QUARTER', 'AGE', 'SEX', 'NZDEP', 'ETHN_1',\n",
      "       'ETHN_2', 'ETHN_3', 'ETHN_4', 'ETHN_5',\n",
      "       ...\n",
      "       'PT_DIABETES_YR', 'PT_ATRIAL_FIBRILLATION', 'PT_IMP_FATAL_CVD',\n",
      "       'TRUE_HDL', 'TRUE_LDL', 'TRUE_TRI', 'TRUE_TCL', 'TRUE_TCHDL',\n",
      "       'TRUE_HBA1C', 'TRUE_EGFR'],\n",
      "      dtype='object', length=191)\n",
      "(2902784, 191)\n",
      "[0.]\n",
      "(2902784, 190)\n",
      "Number of inds: 100096\n",
      "100096.0\n",
      "100096.0\n",
      "(2520000, 182)\n",
      "90000.0\n",
      "Index(['VSIMPLE_INDEX_MASTER', 'AGE', 'SEX', 'NZDEP', 'ETHN_1', 'ETHN_2',\n",
      "       'ETHN_3', 'ETHN_4', 'ETHN_5', 'TEST',\n",
      "       ...\n",
      "       'PT_DIABETES_YR', 'PT_ATRIAL_FIBRILLATION', 'PT_IMP_FATAL_CVD',\n",
      "       'TRUE_HDL', 'TRUE_LDL', 'TRUE_TRI', 'TRUE_TCL', 'TRUE_TCHDL',\n",
      "       'TRUE_HBA1C', 'TRUE_EGFR'],\n",
      "      dtype='object', length=189)\n",
      "(282688, 189)\n",
      "Number of inds: 10096\n"
     ]
    }
   ],
   "source": [
    "# set up training set\n",
    "view_1hot_df = feather.read_dataframe(\"/home/whsu014/data/view_1hot_nona_len29_float_age_impute_and_True_HG_100096inds.feather\")\n",
    "print(view_1hot_df.columns)\n",
    "print(view_1hot_df.shape)\n",
    "\n",
    "print(view_1hot_df['CVD_ISOSORBRIDE_DINITRATE'].unique())\n",
    "view_1hot_df = view_1hot_df.drop(['CVD_ISOSORBRIDE_DINITRATE'], axis=1)\n",
    "print(view_1hot_df.shape)\n",
    "print(\"Number of inds:\", len(view_1hot_df['VSIMPLE_INDEX_MASTER'].unique()))\n",
    "# set length to 28\n",
    "print(view_1hot_df.shape[0]/29)\n",
    "view_1hot_df = copy.deepcopy(view_1hot_df[view_1hot_df['QUARTER']!=0])\n",
    "print(view_1hot_df.shape[0]/28)\n",
    "# Take 90000 inds for train and validation set\n",
    "# remove true values\n",
    "# remove QUARTER\n",
    "view_1hot_df = view_1hot_df.drop(['QUARTER'], axis=1)\n",
    "train_v = copy.deepcopy(view_1hot_df.iloc[:(28*90000), :-7].values)\n",
    "print(train_v.shape)\n",
    "print(train_v.shape[0]/28)\n",
    "\n",
    "# set up test set\n",
    "test_df = feather.read_dataframe(\"/home/whsu014/data/Test_set_with_TRUE_10096inds.feather\")\n",
    "print(test_df.columns)\n",
    "print(test_df.shape)\n",
    "print(\"Number of inds:\", len(test_df['VSIMPLE_INDEX_MASTER'].unique()))\n",
    "test_v = copy.deepcopy(test_df.iloc[:, :-7].values)"
   ]
  },
  {
   "cell_type": "code",
   "execution_count": 3,
   "metadata": {},
   "outputs": [
    {
     "name": "stdout",
     "output_type": "stream",
     "text": [
      "(2520000, 182)\n",
      "(282688, 182)\n"
     ]
    }
   ],
   "source": [
    "print(train_v.shape)\n",
    "print(test_v.shape)"
   ]
  },
  {
   "cell_type": "code",
   "execution_count": 4,
   "metadata": {},
   "outputs": [
    {
     "name": "stdout",
     "output_type": "stream",
     "text": [
      "AGE: 1\n",
      "NZDEP: 3\n",
      "ETHN_1: 4\n",
      "ETHN_5: 8\n",
      "TEST: 9\n",
      "HDL: 10\n",
      "LDL: 11\n",
      "TRI: 12\n",
      "TCL: 13\n",
      "TCHDL: 14\n",
      "TESTED: 15\n",
      "DIED: 16\n",
      "############# PHARMS ##############\n",
      "LL_SIMVASTATIN: 17\n",
      "LL_PDC: 28\n",
      "CVD_FELODIPINE: 29\n",
      "CVD_HYDROCHLOROTHIAZIDE: 81\n",
      "OTHER_TENOXICAM: 82\n",
      "OTHER_VILDAGLIPTIN: 119\n",
      "############# NMDS ##############\n",
      "NUMBER_OF_DAYS: 120\n",
      "hx_broad_cvd: 122\n",
      "out_atrial_fibrillation: 162\n",
      "############# HbA1c, GFR and PT ##############\n",
      "HBA1C: 163\n",
      "TEST_HBA1C: 164\n",
      "TESTED_HBA1c: 165\n",
      "EGFR: 166\n",
      "TEST_EGFR: 167\n",
      "TESTED_EGFR: 168\n",
      "PT_SBP: 169\n",
      "PT_DIABETES_YR: 179\n",
      "PT_ATRIAL_FIBRILLATION: 180\n",
      "PT_IMP_FATAL_CVD: 181\n"
     ]
    }
   ],
   "source": [
    "print('AGE:', view_1hot_df.columns.get_loc('AGE'))\n",
    "print('NZDEP:', view_1hot_df.columns.get_loc('NZDEP'))\n",
    "print('ETHN_1:', view_1hot_df.columns.get_loc('ETHN_1'))\n",
    "print('ETHN_5:', view_1hot_df.columns.get_loc('ETHN_5'))\n",
    "print('TEST:', view_1hot_df.columns.get_loc('TEST'))\n",
    "print('HDL:', view_1hot_df.columns.get_loc('HDL'))\n",
    "print('LDL:', view_1hot_df.columns.get_loc('LDL'))\n",
    "print('TRI:', view_1hot_df.columns.get_loc('TRI'))\n",
    "print('TCL:', view_1hot_df.columns.get_loc('TCL'))\n",
    "print('TCHDL:', view_1hot_df.columns.get_loc('TCHDL'))\n",
    "print('TESTED:', view_1hot_df.columns.get_loc('TESTED'))\n",
    "print('DIED:', view_1hot_df.columns.get_loc('DIED'))\n",
    "print('############# PHARMS ##############')\n",
    "print('LL_SIMVASTATIN:', view_1hot_df.columns.get_loc('LL_SIMVASTATIN'))\n",
    "print('LL_PDC:', view_1hot_df.columns.get_loc('LL_PDC'))\n",
    "print('CVD_FELODIPINE:', view_1hot_df.columns.get_loc('CVD_FELODIPINE'))\n",
    "print('CVD_HYDROCHLOROTHIAZIDE:', view_1hot_df.columns.get_loc('CVD_HYDROCHLOROTHIAZIDE'))\n",
    "print('OTHER_TENOXICAM:', view_1hot_df.columns.get_loc('OTHER_TENOXICAM'))\n",
    "print('OTHER_VILDAGLIPTIN:', view_1hot_df.columns.get_loc('OTHER_VILDAGLIPTIN'))\n",
    "print('############# NMDS ##############')\n",
    "print('NUMBER_OF_DAYS:', view_1hot_df.columns.get_loc('NUMBER_OF_DAYS'))\n",
    "print('hx_broad_cvd:', view_1hot_df.columns.get_loc('hx_broad_cvd'))\n",
    "print('out_atrial_fibrillation:', view_1hot_df.columns.get_loc('out_atrial_fibrillation'))\n",
    "print('############# HbA1c, GFR and PT ##############')\n",
    "print('HBA1C:', view_1hot_df.columns.get_loc('HBA1C'))\n",
    "print('TEST_HBA1C:', view_1hot_df.columns.get_loc('TEST_HBA1C'))\n",
    "print('TESTED_HBA1c:', view_1hot_df.columns.get_loc('TESTED_HBA1C'))\n",
    "print('EGFR:', view_1hot_df.columns.get_loc('EGFR'))\n",
    "print('TEST_EGFR:',view_1hot_df.columns.get_loc('TEST_EGFR'))\n",
    "print('TESTED_EGFR:', view_1hot_df.columns.get_loc('TESTED_EGFR'))\n",
    "print('PT_SBP:', view_1hot_df.columns.get_loc('PT_SBP'))\n",
    "print('PT_DIABETES_YR:', view_1hot_df.columns.get_loc('PT_DIABETES_YR'))\n",
    "print('PT_ATRIAL_FIBRILLATION:', view_1hot_df.columns.get_loc('PT_ATRIAL_FIBRILLATION'))\n",
    "print('PT_IMP_FATAL_CVD:', view_1hot_df.columns.get_loc('PT_IMP_FATAL_CVD'))"
   ]
  },
  {
   "cell_type": "code",
   "execution_count": 5,
   "metadata": {},
   "outputs": [],
   "source": [
    "def setup_xy_last_quarter(time_series_v):\n",
    "    num_of_inds = time_series_v.shape[0]//28\n",
    "    num_of_features = time_series_v.shape[1]\n",
    "    \n",
    "    x_ = np.empty((num_of_inds, num_of_features))\n",
    "    y_ = []\n",
    "    for i in range(num_of_inds):\n",
    "        ind_v = copy.deepcopy(time_series_v[(i*28):((i+1)*28), :])\n",
    "        x_[i, :] = ind_v[7, :]\n",
    "        if sum(ind_v[8:, 28])/20 >= 80:\n",
    "            y_.append(1)\n",
    "        else:\n",
    "            y_.append(0)\n",
    "    return x_, np.array(y_)"
   ]
  },
  {
   "cell_type": "code",
   "execution_count": 6,
   "metadata": {},
   "outputs": [],
   "source": [
    "def setup_xy_aggregated(time_series_v):\n",
    "    num_of_inds = time_series_v.shape[0]//28\n",
    "    num_of_features = time_series_v.shape[1]\n",
    "    \n",
    "    x_ = np.empty((num_of_inds, num_of_features))\n",
    "    y_ = []\n",
    "    for i in range(num_of_inds):\n",
    "        ind_v = copy.deepcopy(time_series_v[(i*28):((i+1)*28), :])\n",
    "        x_[i, 0:9] = ind_v[7, 0:9]\n",
    "        x_[i, 9:169] = np.sum(ind_v[:8, 9:169], axis=0)/8.0\n",
    "        x_[i, 169:182] = ind_v[7, 169:182]\n",
    "        if sum(ind_v[8:, 28])/20 >= 80:\n",
    "            y_.append(1)\n",
    "        else:\n",
    "            y_.append(0)\n",
    "    return x_, np.array(y_)"
   ]
  },
  {
   "cell_type": "code",
   "execution_count": 7,
   "metadata": {},
   "outputs": [],
   "source": [
    "def setup_xy(time_series_v):\n",
    "    x_ = []\n",
    "    y_ = []\n",
    "    num_of_inds = time_series_v.shape[0]//28\n",
    "    num_of_features = time_series_v.shape[1]\n",
    "    print(\"Number of inds:\", num_of_inds)\n",
    "    print(\"Number of features:\", num_of_features)\n",
    "    for i in range(num_of_inds):\n",
    "        ind_v = time_series_v[(i*28):((i+1)*28), :]\n",
    "        ind_x = ind_v[:8, :] \n",
    "        ind_flat_x = []\n",
    "        for j in range(len(ind_x)):\n",
    "            if j == 0:\n",
    "                ind_flat_x.extend(ind_x[j, 0:])\n",
    "            else:\n",
    "                ind_flat_x.extend(ind_x[j, 1:])\n",
    "        x_.append(np.array(ind_flat_x))\n",
    "        if sum(ind_v[8:, 28])/20 >= 80:\n",
    "            y_.append(1)\n",
    "        else:\n",
    "            y_.append(0)\n",
    "    return np.array(x_), np.array(y_)"
   ]
  },
  {
   "cell_type": "code",
   "execution_count": 8,
   "metadata": {},
   "outputs": [
    {
     "name": "stdout",
     "output_type": "stream",
     "text": [
      "(90000, 182)\n",
      "(90000,)\n",
      "(10096, 182)\n",
      "(10096,)\n"
     ]
    }
   ],
   "source": [
    "#x_train, y_train = setup_xy(train_v)\n",
    "#x_test, y_test = setup_xy(test_v)\n",
    "\n",
    "x_train, y_train = setup_xy_aggregated(train_v)\n",
    "x_test, y_test = setup_xy_aggregated(test_v)\n",
    "\n",
    "#x_train, y_train = setup_xy_last_quarter(train_v)\n",
    "#x_test, y_test = setup_xy_last_quarter(test_v)\n",
    "\n",
    "print(x_train.shape)\n",
    "print(y_train.shape)\n",
    "print(x_test.shape)\n",
    "print(y_test.shape)"
   ]
  },
  {
   "cell_type": "code",
   "execution_count": 36,
   "metadata": {},
   "outputs": [
    {
     "name": "stdout",
     "output_type": "stream",
     "text": [
      "[[0.78 0.48 0.   0.   0.   0.   0.   1.   0.   0.   0.26 0.11 0.04 0.09\n",
      "  0.08 1.   0.   0.06 0.   0.   0.   0.   0.   0.   0.   0.   0.   0.\n",
      "  0.06 0.  ]\n",
      " [0.83 0.37 0.   0.25 1.   0.   0.   0.   0.   0.   0.22 0.38 0.05 0.22\n",
      "  0.22 0.   0.   0.   0.   0.   0.   0.   0.   0.   0.   0.   0.   0.\n",
      "  0.   0.  ]\n",
      " [0.07 0.39 1.   0.25 0.   0.   0.   0.   1.   1.   0.16 0.24 0.05 0.14\n",
      "  0.21 1.   0.   0.67 0.   0.41 0.   0.   0.   0.   0.   0.   0.   0.\n",
      "  1.   0.  ]\n",
      " [0.84 0.21 1.   0.25 1.   0.   0.   0.   0.   0.   0.27 0.21 0.02 0.11\n",
      "  0.1  1.   0.   1.   0.   0.   0.   0.   0.   0.   0.   0.   0.   0.\n",
      "  1.   0.  ]\n",
      " [0.96 0.49 0.   1.   1.   0.   0.   0.   0.   0.   0.3  0.26 0.03 0.16\n",
      "  0.12 0.   0.   1.   0.   0.   0.   0.   0.   0.   0.   0.   0.   0.\n",
      "  1.   0.  ]]\n"
     ]
    }
   ],
   "source": [
    "# for logistic regression experiment\n",
    "scaler = MinMaxScaler()\n",
    "scaled_train = scaler.fit_transform(x_train)\n",
    "scaled_test = scaler.transform(x_test)\n",
    "x_train = scaled_train\n",
    "x_test = scaled_test\n",
    "\n",
    "print(np.round(x_train[:5, :30], \n",
    "              decimals=2))"
   ]
  },
  {
   "cell_type": "code",
   "execution_count": 10,
   "metadata": {},
   "outputs": [
    {
     "name": "stdout",
     "output_type": "stream",
     "text": [
      "(90000,)\n",
      "(38089,)\n",
      "(51911,)\n",
      "\n",
      "(10096,)\n",
      "(4339,)\n",
      "(5757,)\n"
     ]
    }
   ],
   "source": [
    "print(y_train.shape)\n",
    "print(y_train[y_train[:] == 0].shape)\n",
    "print(y_train[y_train[:] == 1].shape)\n",
    "print()\n",
    "print(y_test.shape)\n",
    "print(y_test[y_test[:] == 0].shape)\n",
    "print(y_test[y_test[:] == 1].shape)"
   ]
  },
  {
   "cell_type": "code",
   "execution_count": 19,
   "metadata": {},
   "outputs": [
    {
     "data": {
      "image/png": "[encoded data removed]",
      "text/plain": [
       "<Figure size 648x720 with 1 Axes>"
      ]
     },
     "metadata": {
      "needs_background": "light"
     },
     "output_type": "display_data"
    }
   ],
   "source": [
    "pyplot.rcParams.update({'font.size':16})\n",
    "pyplot.figure(figsize=(9,10))\n",
    "\n",
    "fs= 20\n",
    "pyplot.subplot(111)\n",
    "pyplot.hist(y_test[:], bins=10, color='gray')\n",
    "\n",
    "pyplot.subplots_adjust(top=0.9, bottom=0.1, left=0.10, right=0.90, hspace=0.4, wspace=0.2)\n",
    "\n",
    "pyplot.xlim(-0.2, 1.2)\n",
    "pyplot.xticks([0.05, 0.95], [\"Non-adherent\", \"Adherent\"], fontsize=fs*1.2)\n",
    "pyplot.title('Non-adherent and Adherent Class Frequency \\n (test set)', fontsize=fs*1.3)\n",
    "pyplot.xlabel('Classes', fontsize=fs*1.2)\n",
    "pyplot.ylabel('Count', fontsize=fs*1.2)\n",
    "#pyplot.legend(fontsize=fs*0.8, loc='lower right')\n",
    "filename = \"/home/whsu014/plots/PDC_class_frequency_test.png\"\n",
    "pyplot.savefig(filename)\n",
    "pyplot.show()"
   ]
  },
  {
   "cell_type": "code",
   "execution_count": 10,
   "metadata": {},
   "outputs": [
    {
     "name": "stdout",
     "output_type": "stream",
     "text": [
      "Number of inds: 90000\n",
      "Number per fold: 9000\n",
      "train_x_lr: (90000, 182)\n",
      "train_y_lr: (90000,)\n",
      "val num: 9000\n",
      "Train x shape: (81000, 182)\n",
      "Train y shape: (81000,)\n",
      "Val x shape: (9000, 182)\n",
      "Val y shape: (9000,)\n",
      "Prediction using RidgeCV\n",
      "Alpha: 0.01\n",
      "Mean accuracy: 0.7134444444444444\n",
      "Test x shape: (10096, 182)\n",
      "Test y shape: (10096,)\n",
      "Mean accuracy: 0.7134444444444444\n",
      "lr_probs shape: (10096,)\n",
      "(10096, 1)\n",
      "Number of coefficients (weight vector): 182\n",
      "Intercept [-0.13480914]\n",
      "Entire process took:  1.3014988899230957\n"
     ]
    }
   ],
   "source": [
    "num_of_inds = x_train.shape[0]\n",
    "num_per_fold = num_of_inds//10\n",
    "print(\"Number of inds:\", num_of_inds)\n",
    "print(\"Number per fold:\", num_per_fold)\n",
    "\n",
    "start_time = time.time()\n",
    "for f in range(1):\n",
    "    #start = f*num_per_fold\n",
    "    end = (f+1)*num_per_fold\n",
    "    train1_x = x_train[:end, ]\n",
    "    train2_x = x_train[end:, ]\n",
    "    train_x_lr = np.append(train2_x, train1_x, axis=0) #new obj\n",
    "    train1_y = y_train[:end, ]\n",
    "    train2_y = y_train[end:, ]\n",
    "    train_y_lr = np.append(train2_y, train1_y, axis=0)\n",
    "    print(\"train_x_lr:\", train_x_lr.shape)\n",
    "    print(\"train_y_lr:\", train_y_lr.shape)\n",
    "    \n",
    "    # remove data used for \n",
    "    # validation set\n",
    "    val_num = int(np.ceil(train_x_lr.shape[0]/10))\n",
    "    print(\"val num:\", val_num)\n",
    "    train_x = train_x_lr[:-val_num, :]\n",
    "    print(\"Train x shape:\", train_x.shape)\n",
    "    train_y = train_y_lr[:-val_num]\n",
    "    print(\"Train y shape:\", train_y.shape)\n",
    "    \n",
    "    val_x = train_x_lr[-val_num:, :]\n",
    "    val_y = train_y_lr[-val_num:]\n",
    "    print(\"Val x shape:\", val_x.shape)\n",
    "    print(\"Val y shape:\", val_y.shape)\n",
    "    ###########################\n",
    "    # RidgeClassifier\n",
    "    ###########################\n",
    "    rcv = RidgeClassifierCV(alphas=[1e-6, 1e-5, 1e-4, \n",
    "                          1e-3, 1e-2, 1e-1,\n",
    "                          1.0, 10.0, 100.0], \n",
    "                 normalize=True,\n",
    "                 store_cv_values=True).fit(train_x, train_y)\n",
    "    print(\"Prediction using RidgeCV\")\n",
    "    a = rcv.alpha_\n",
    "    print(\"Alpha:\", a)\n",
    "    print(\"Mean accuracy:\", rcv.score(val_x, val_y))\n",
    "    ###########################\n",
    "    # LogisticRegression\n",
    "    ###########################\n",
    "    '''\n",
    "    rcv = LogisticRegression(solver='lbfgs',\n",
    "                             penalty='none',\n",
    "                             max_iter=10000,\n",
    "                            ).fit(train_x, train_y)\n",
    "    '''\n",
    "    ########################\n",
    "    # Predict on test set\n",
    "    ########################\n",
    "    print(\"Test x shape:\", x_test.shape)\n",
    "    print(\"Test y shape:\", y_test.shape)\n",
    "    print(\"Mean accuracy:\", rcv.score(val_x, val_y))\n",
    "    test_yhat = rcv.predict(x_test)\n",
    "    lr_probs = rcv.decision_function(x_test)\n",
    "    print('lr_probs shape:', lr_probs.shape)\n",
    "    print(np.array([lr_probs[: ]]).T.shape)\n",
    "print(\"Number of coefficients (weight vector):\", len(rcv.coef_[0]))\n",
    "print(\"Intercept\", rcv.intercept_)\n",
    "print(\"Entire process took: \", time.time() - start_time)"
   ]
  },
  {
   "cell_type": "code",
   "execution_count": null,
   "metadata": {},
   "outputs": [],
   "source": [
    "val_yhat = rcv.predict(val_x)\n",
    "print(val_yhat.shape)\n",
    "\n",
    "acc = 0\n",
    "for i in range(val_x.shape[0]):\n",
    "    if val_yhat[i] == val_y[i]:\n",
    "        acc += 1\n",
    "print(acc)\n",
    "print(acc/val_x.shape[0])\n",
    "\n",
    "'''\n",
    "print(test_yhat.shape)\n",
    "print(y_test.shape)\n",
    "print(test_yhat[:10])\n",
    "print(y_test[:10])\n",
    "acc = 0\n",
    "for i in range(y_test.shape[0]):\n",
    "    if test_yhat[i] == y_test[i]:\n",
    "        acc += 1\n",
    "print(acc)\n",
    "print(acc/y_test.shape[0])\n",
    "'''"
   ]
  },
  {
   "cell_type": "code",
   "execution_count": 38,
   "metadata": {},
   "outputs": [
    {
     "name": "stdout",
     "output_type": "stream",
     "text": [
      "(10096, 1)\n"
     ]
    }
   ],
   "source": [
    "lr_probs_df = pd.DataFrame(lr_probs)\n",
    "lr_probs_df.columns = ['ADHERENT']\n",
    "print(lr_probs_df.shape)\n",
    "feather.write_dataframe(lr_probs_df, \"/home/whsu014/data/PDC_Logit_yhat_10000iter.feather\")"
   ]
  },
  {
   "cell_type": "code",
   "execution_count": 6,
   "metadata": {},
   "outputs": [
    {
     "name": "stdout",
     "output_type": "stream",
     "text": [
      "Index(['LL_Not_COVERED'], dtype='object')\n",
      "(10096, 1)\n"
     ]
    }
   ],
   "source": [
    "probs_df = feather.read_dataframe(\"/home/whsu014/data/PDC_Logit_normalized_no_penalty_yhat.feather\")\n",
    "print(probs_df.columns)\n",
    "print(probs_df.shape)\n",
    "probs_df.columns = ['ADHERENT']\n",
    "feather.write_dataframe(probs_df, \"/home/whsu014/data/PDC_Logit_normalized_no_penalty_yhat.feather\")"
   ]
  },
  {
   "cell_type": "markdown",
   "metadata": {},
   "source": [
    "## Cox proportional hazard data preparation"
   ]
  },
  {
   "cell_type": "code",
   "execution_count": 55,
   "metadata": {},
   "outputs": [],
   "source": [
    "def setup_xy_last_quarter_PDC(time_series_v):\n",
    "    num_of_inds = time_series_v.shape[0]//28\n",
    "    num_of_features = time_series_v.shape[1]\n",
    "    \n",
    "    x_ = np.empty((num_of_inds, num_of_features + 1)) # additional feature time\n",
    "    y_ = []\n",
    "    for i in range(num_of_inds):\n",
    "        ind_v = copy.deepcopy(time_series_v[(i*28):((i+1)*28), :])\n",
    "        x_[i, :-1] = ind_v[7, :]\n",
    "        ##############################\n",
    "        # construct y\n",
    "        ##############################\n",
    "        adherent = False\n",
    "        event_time = [90 * 20]\n",
    "        if sum(ind_v[8:, 28])/20 >= 80:\n",
    "            y_.append(0)\n",
    "            adherent = True\n",
    "        else:\n",
    "            y_.append(1)\n",
    "        ###############################\n",
    "        # find time to event\n",
    "        ###############################\n",
    "        PDC_gap = 0\n",
    "        if (not adherent) and (len(event_time) == 1):\n",
    "            for j in range(8, 28):\n",
    "                ##############################\n",
    "                #if ind_v[j, 28] < 80:\n",
    "                ##############################\n",
    "                PDC_gap += (100 - ind_v[j, 28])\n",
    "                if PDC_gap > 400:\n",
    "                    event_time.append((j-7)*90)\n",
    "        x_[i, -1] = min(event_time) \n",
    "    return x_, np.array(y_)"
   ]
  },
  {
   "cell_type": "code",
   "execution_count": 57,
   "metadata": {},
   "outputs": [],
   "source": [
    "def setup_xy_aggregated_PDC(time_series_v):\n",
    "    num_of_inds = time_series_v.shape[0]//28\n",
    "    num_of_features = time_series_v.shape[1]\n",
    "    \n",
    "    x_ = np.empty((num_of_inds, num_of_features + 1)) # additional feature time\n",
    "    y_ = []\n",
    "    for i in range(num_of_inds):\n",
    "        ind_v = copy.deepcopy(time_series_v[(i*28):((i+1)*28), :])\n",
    "        x_[i, 0:9] = ind_v[7, 0:9]\n",
    "        x_[i, 9:169] = np.sum(ind_v[:8, 9:169], axis=0)/8.0\n",
    "        x_[i, 169:182] = ind_v[7, 169:182]\n",
    "        ##############################\n",
    "        # construct y\n",
    "        ##############################\n",
    "        adherent = False\n",
    "        event_time = [90 * 20]\n",
    "        if sum(ind_v[8:, 28])/20 >= 80:\n",
    "            y_.append(0)\n",
    "            adherent = True\n",
    "        else:\n",
    "            y_.append(1)\n",
    "        ##############################\n",
    "        # find time to event\n",
    "        ##############################\n",
    "        PDC_gap = 0\n",
    "        if (not adherent) and (len(event_time) == 1):\n",
    "            for j in range(8, 28):\n",
    "                ##########################\n",
    "                #if ind_v[j, 28] < 80:\n",
    "                ##########################\n",
    "                PDC_gap += (100 - ind_v[j, 28])\n",
    "                if PDC_gap > 400:\n",
    "                    event_time.append((j-7)*90)\n",
    "        x_[i, -1] = min(event_time)\n",
    "    return x_, np.array(y_)"
   ]
  },
  {
   "cell_type": "code",
   "execution_count": 65,
   "metadata": {},
   "outputs": [
    {
     "name": "stdout",
     "output_type": "stream",
     "text": [
      "(90000, 183)\n",
      "(90000,)\n",
      "(10096, 183)\n",
      "(10096,)\n"
     ]
    }
   ],
   "source": [
    "#x_train, y_train = setup_xy_aggregated_PDC(train_v)\n",
    "#x_test, y_test = setup_xy_aggregated_PDC(test_v)\n",
    "\n",
    "x_train, y_train = setup_xy_last_quarter_PDC(train_v)\n",
    "x_test, y_test = setup_xy_last_quarter_PDC(test_v)\n",
    "\n",
    "#x_train, y_train = setup_xy_cox(train_v)\n",
    "#x_test, y_test = setup_xy_cox(test_v)\n",
    "\n",
    "print(x_train.shape)\n",
    "print(y_train.shape)\n",
    "print(x_test.shape)\n",
    "print(y_test.shape)"
   ]
  },
  {
   "cell_type": "code",
   "execution_count": 66,
   "metadata": {},
   "outputs": [
    {
     "name": "stdout",
     "output_type": "stream",
     "text": [
      "(90000, 184)\n",
      "(10096, 184)\n"
     ]
    }
   ],
   "source": [
    "train_PDC_v = np.append(x_train, np.array([y_train]).T, axis = 1)\n",
    "print(train_PDC_v.shape)\n",
    "test_PDC_v = np.append(x_test, np.array([y_test]).T, axis = 1)\n",
    "print(test_PDC_v.shape)"
   ]
  },
  {
   "cell_type": "code",
   "execution_count": 67,
   "metadata": {},
   "outputs": [
    {
     "name": "stdout",
     "output_type": "stream",
     "text": [
      "182\n",
      "184\n"
     ]
    }
   ],
   "source": [
    "col_names = list(test_df.columns)\n",
    "col_names = col_names[:-7]\n",
    "print(len(col_names))\n",
    "col_names.extend([\"TIME\", \"STATUS\"])\n",
    "print(len(col_names))"
   ]
  },
  {
   "cell_type": "code",
   "execution_count": 68,
   "metadata": {},
   "outputs": [],
   "source": [
    "train_PDC_df = pd.DataFrame(train_PDC_v)\n",
    "test_PDC_df = pd.DataFrame(test_PDC_v)\n",
    "train_PDC_df.columns = col_names\n",
    "test_PDC_df.columns = col_names\n",
    "feather.write_dataframe(train_PDC_df, \"/home/whsu014/data/Cox_PDC_last_quarter_train_90000inds.feather\")\n",
    "feather.write_dataframe(test_PDC_df, \"/home/whsu014/data/Cox_PDC_last_quarter_test_10096inds.feather\")"
   ]
  },
  {
   "cell_type": "code",
   "execution_count": 69,
   "metadata": {},
   "outputs": [
    {
     "name": "stdout",
     "output_type": "stream",
     "text": [
      "[ 990.  450.  900. 1530.  810.  630.  540. 1080. 1350. 1710. 1620. 1260.\n",
      " 1800. 1440. 1170.  720.]\n",
      "[1800.]\n",
      "[ 450. 1710. 1530.  900.  810. 1080.  630. 1800. 1350. 1170. 1620.  540.\n",
      "  720. 1440. 1260.  990.]\n",
      "[1800.]\n"
     ]
    }
   ],
   "source": [
    "# data check\n",
    "print(train_PDC_df[train_PDC_df['STATUS']==1]['TIME'].unique())\n",
    "print(train_PDC_df[train_PDC_df['STATUS']==0]['TIME'].unique())\n",
    "print(test_PDC_df[test_PDC_df['STATUS']==1]['TIME'].unique())\n",
    "print(test_PDC_df[test_PDC_df['STATUS']==0]['TIME'].unique())"
   ]
  },
  {
   "cell_type": "code",
   "execution_count": 62,
   "metadata": {},
   "outputs": [
    {
     "name": "stdout",
     "output_type": "stream",
     "text": [
      "[1800.  990.  450.  900. 1530.  810.  630.  540. 1080. 1350. 1710. 1620.\n",
      " 1260. 1440. 1170.  720.]\n",
      "[0. 1.]\n",
      "[ 450. 1710. 1800. 1530.  900.  810. 1080.  630. 1350. 1170. 1620.  540.\n",
      "  720. 1440. 1260.  990.]\n",
      "[1. 0.]\n"
     ]
    }
   ],
   "source": [
    "print(train_PDC_df[\"TIME\"].unique()) # 1620, 1710\n",
    "print(train_PDC_df[\"STATUS\"].unique())\n",
    "print(test_PDC_df[\"TIME\"].unique()) #  1710\n",
    "print(test_PDC_df[\"STATUS\"].unique())"
   ]
  },
  {
   "cell_type": "code",
   "execution_count": 19,
   "metadata": {},
   "outputs": [
    {
     "data": {
      "text/plain": [
       "(array([4339.,    0.,    0.,    0.,    0.,    0.,    0.,    0.,    0.,\n",
       "        5757.]),\n",
       " array([0. , 0.1, 0.2, 0.3, 0.4, 0.5, 0.6, 0.7, 0.8, 0.9, 1. ]),\n",
       " <a list of 10 Patch objects>)"
      ]
     },
     "execution_count": 19,
     "metadata": {},
     "output_type": "execute_result"
    },
    {
     "data": {
      "image/png": "[encoded data removed]",
      "text/plain": [
       "<Figure size 432x288 with 1 Axes>"
      ]
     },
     "metadata": {
      "needs_background": "light"
     },
     "output_type": "display_data"
    }
   ],
   "source": [
    "pyplot.hist(test_PDC_df.STATUS)"
   ]
  },
  {
   "cell_type": "code",
   "execution_count": 29,
   "metadata": {},
   "outputs": [
    {
     "name": "stdout",
     "output_type": "stream",
     "text": [
      "VSIMPLE_INDEX_MASTER + AGE + SEX + NZDEP + ETHN_1 + ETHN_2 + ETHN_3 + ETHN_4 + ETHN_5 + TEST + HDL + LDL + TRI + TCL + TCHDL + TESTED + DIED + LL_SIMVASTATIN + LL_BEZAFIBRATE + LL_ATORVASTATIN + LL_EZETIMIBE + LL_NICOTINIC_ACID + LL_ACIPIMOX + LL_CHOLESTYRAMINE + LL_COLESTIPOL_HYDROCHLORIDE + LL_PRAVASTATIN + LL_EZETIMIBE_WITH_SIMVASTATIN + LL_GEMFIBROZIL + LL_PDC + CVD_FELODIPINE + CVD_QUINAPRIL + CVD_METOPROLOL_SUCCINATE + CVD_CILAZAPRIL + CVD_ATENOLOL + CVD_BENDROFLUMETHIAZIDE + CVD_WARFARIN_SODIUM + CVD_FUROSEMIDE + CVD_CELIPROLOL + CVD_DILTIAZEM_HYDROCHLORIDE + CVD_ASPIRIN + CVD_NIFEDIPINE + CVD_CAPTOPRIL + CVD_DIPYRIDAMOLE + CVD_CANDESARTAN_CILEXETIL + CVD_INDAPAMIDE + CVD_ENALAPRIL_MALEATE + CVD_SOTALOL + CVD_GLYCERYL_TRINITRATE + CVD_ISOSORBIDE_MONONITRATE + CVD_PINDOLOL + CVD_CARVEDILOL + CVD_METHYLDOPA + CVD_LOSARTAN_POTASSIUM + CVD_VERAPAMIL_HYDROCHLORIDE + CVD_AMILORIDE_HYDROCHLORIDE + CVD_CLONIDINE_HYDROCHLORIDE + CVD_CLONIDINE + CVD_NADOLOL + CVD_PROPRANOLOL + CVD_AMLODIPINE + CVD_LABETALOL + CVD_LISINOPRIL + CVD_TRIAMTERENE + CVD_TIMOLOL + CVD_METOPROLOL_TARTRATE + CVD_ACEBUTOLOL + CVD_PERHEXILINE_MALEATE + CVD_CHLORTALIDONE + CVD_BUMETANIDE + CVD_PERINDOPRIL + CVD_TRANDOLAPRIL + CVD_CLOPIDOGREL + CVD_ISRADIPINE + CVD_RIVAROXABAN + CVD_DABIGATRAN + CVD_BISOPROLOL_FUMARATE + CVD_PRASUGREL + CVD_NICORANDIL + CVD_METOLAZONE + CVD_TICAGRELOR + CVD_HYDRALAZINE_HYDROCHLORIDE + CVD_HYDROCHLOROTHIAZIDE + OTHER_TENOXICAM + OTHER_PANTOPRAZOLE + OTHER_OMEPRAZOLE + OTHER_NAPROXEN_SODIUM + OTHER_DICLOFENAC_SODIUM + OTHER_METFORMIN_HYDROCHLORIDE + OTHER_SULINDAC + OTHER_GLICLAZIDE + OTHER_GLIPIZIDE + OTHER_INSULIN_ISOPHANE + OTHER_INSULIN_NEUTRAL + OTHER_KETOPROFEN + OTHER_IBUPROFEN + OTHER_INSULIN_ASPART + OTHER_PREDNISONE + OTHER_INDOMETHACIN + OTHER_NAPROXEN + OTHER_GLIBENCLAMIDE + OTHER_RANITIDINE + OTHER_PIROXICAM + OTHER_INSULIN_LISPRO + OTHER_TIAPROFENIC_ACID + OTHER_PIOGLITAZONE + OTHER_DEXAMETHASONE + OTHER_INSULIN_ZINC_SUSPENSION + OTHER_HYDROCORTISONE + OTHER_PREDNISOLONE + OTHER_TOLBUTAMIDE + OTHER_MEFENAMIC_ACID + OTHER_LANSOPRAZOLE + OTHER_METHYLPREDNISOLONE + OTHER_INSULIN_GLARGINE + OTHER_INSULIND_GLULISINE + OTHER_AMOXYCILLIN + OTHER_CLARITHROMYCIN + OTHER_INSULIN_LISPRO_PROTAMINE + OTHER_INSULIN_ASPART_PROTAMINE + OTHER_VILDAGLIPTIN + NUMBER_OF_DAYS + ACUTE_ADM + hx_broad_cvd + hx_athero_cvd + hx_chd_diags + hx_acs + hx_mi + hx_unst_angina + hx_angina + hx_other_chd + hx_chd_procs + hx_pci + hx_cabg + hx_other_chd_procs + hx_pvd_diags + hx_pvd_procs + hx_haemorrhagic_stroke + hx_cevd + hx_ischaemic_stroke + hx_tia + hx_other_cevd + hx_heart_failure + hx_atrial_fibrillation + mortality_broad_cvd_with_other + mortality_other_related_cvd_deaths + out_broad_cvd + out_athero_cvd + out_chd + out_mi + out_acs + out_unst_angina + out_angina + out_other_chd + out_pvd_diags + out_pvd_procs + out_pci_cabg + out_haemorrhagic_stroke + out_cevd + out_ischaemic_stroke + out_tia + out_other_cevd + out_heart_failure + out_atrial_fibrillation + HBA1C + TEST_HBA1C + TESTED_HBA1C + EGFR + TEST_EGFR + TESTED_EGFR + PT_SBP + PT_SBP2 + PT_DBP + PT_DBP2 + PT_SMOKING + PT_EN_TCHDL + PT_DIABETES + PT_FAMILY_HISTORY + PT_GEN_LIPID + PT_RENAL + PT_DIABETES_YR + PT_ATRIAL_FIBRILLATION + PT_IMP_FATAL_CVD + TIME + STATUS + \n"
     ]
    }
   ],
   "source": [
    "R_formula = \"\"\n",
    "for i in list(train_PDC_df.columns):\n",
    "    R_formula += i + \" + \"\n",
    "print(R_formula)"
   ]
  },
  {
   "cell_type": "code",
   "execution_count": null,
   "metadata": {},
   "outputs": [],
   "source": []
  }
 ],
 "metadata": {
  "kernelspec": {
   "display_name": "Python 3",
   "language": "python",
   "name": "python3"
  },
  "language_info": {
   "codemirror_mode": {
    "name": "ipython",
    "version": 3
   },
   "file_extension": ".py",
   "mimetype": "text/x-python",
   "name": "python",
   "nbconvert_exporter": "python",
   "pygments_lexer": "ipython3",
   "version": "3.6.8"
  }
 },
 "nbformat": 4,
 "nbformat_minor": 2
}
