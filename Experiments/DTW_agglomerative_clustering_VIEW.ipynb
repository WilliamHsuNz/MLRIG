{
 "cells": [
  {
   "cell_type": "code",
   "execution_count": 1,
   "metadata": {},
   "outputs": [
    {
     "name": "stderr",
     "output_type": "stream",
     "text": [
      "Using TensorFlow backend.\n"
     ]
    }
   ],
   "source": [
    "import os\n",
    "import pandas as pd\n",
    "import datetime\n",
    "from matplotlib import pyplot\n",
    "from sklearn.preprocessing import MinMaxScaler\n",
    "from sklearn.preprocessing import StandardScaler\n",
    "from sklearn.preprocessing import LabelEncoder\n",
    "from sklearn.preprocessing import OneHotEncoder\n",
    "from sklearn.metrics import mean_squared_error\n",
    "from sklearn.metrics import mean_absolute_error\n",
    "from sklearn.cluster import AgglomerativeClustering\n",
    "from keras.models import Sequential\n",
    "from keras.layers import Dense\n",
    "from keras.layers import LSTM\n",
    "from keras.layers import CuDNNLSTM\n",
    "from keras.layers import TimeDistributed\n",
    "from keras.utils import generic_utils\n",
    "from keras.utils import Sequence\n",
    "from keras.callbacks import ModelCheckpoint\n",
    "import tensorflow as tf\n",
    "import numpy as np\n",
    "import scipy \n",
    "from scipy.cluster import hierarchy\n",
    "from scipy.spatial.distance import pdist\n",
    "import math\n",
    "import h5py\n",
    "import time\n",
    "import copy\n",
    "from sklearn.metrics import mean_absolute_error\n",
    "from numpy.random import seed\n",
    "seed(123)\n",
    "from tensorflow import set_random_seed\n",
    "set_random_seed(456)"
   ]
  },
  {
   "cell_type": "code",
   "execution_count": 2,
   "metadata": {},
   "outputs": [
    {
     "name": "stdout",
     "output_type": "stream",
     "text": [
      "[0 0 1 1 1 2 3 4 5]\n",
      "[0 1 2 3 4 5 6 6 7]\n"
     ]
    }
   ],
   "source": [
    "#x = np.array([2, 0, 1, 1, 2, 4, 2, 1, 2, 0]).reshape(-1, 1)\n",
    "#y = np.array([1, 1, 2, 4, 2, 1, 2, 0]).reshape(-1, 1)\n",
    "#x = np.array([0., 0, 1, 2, 1, 0, 1, 0, 0, 2, 1, 0, 0])\n",
    "#y = np.array([0., 1, 2, 3, 1, 0, 0, 0, 2, 1, 0, 0, 0])\n",
    "#x = np.array([0, 0, 1, 2, 1, 0, 1, 0, 0])\n",
    "#y = np.array([0, 1, 2, 0, 0, 0, 0, 0, 0])\n",
    "x = np.array([1, 2, 3, 2, 2.13, 1])\n",
    "y = np.array([1, 1, 2, 2, 2.42, 3, 2, 1])\n",
    "euclidean_norm = lambda x, y: np.abs(x - y)\n",
    "def dtw(x, y, func):\n",
    "    cost_matrix = np.empty((len(y), len(x)))\n",
    "    cost_matrix.fill(np.nan)\n",
    "    for i in range(len(y)):\n",
    "        for j in range(len(x)):\n",
    "            cost_matrix[i, j] = func(x[j], y[i])\n",
    "    acc_cost_matrix = np.empty((len(y), len(x)))\n",
    "    acc_cost_matrix.fill(np.nan)\n",
    "    acc_cost_matrix[0, 0] = cost_matrix[0, 0]\n",
    "    for i in range(1, len(y)):\n",
    "        acc_cost_matrix[i, 0] = acc_cost_matrix[i-1, 0] +\\\n",
    "                                cost_matrix[i, 0]\n",
    "    for j in range(1, len(x)):\n",
    "        acc_cost_matrix[0, j] = acc_cost_matrix[0, j-1] +\\\n",
    "                                cost_matrix[0, j]\n",
    "    for i in range(1, len(y)):\n",
    "        for j in range(1, len(x)):\n",
    "            acc_cost_matrix[i, j] = cost_matrix[i, j] + \\\n",
    "                                    min(acc_cost_matrix[i-1, j],\n",
    "                                        acc_cost_matrix[i, j-1],\n",
    "                                        acc_cost_matrix[i-1, j-1])\n",
    "    path_x = []\n",
    "    path_y = []\n",
    "    x_idx = len(x)-1\n",
    "    y_idx = len(y)-1\n",
    "    path_x.append(x_idx)\n",
    "    path_y.append(y_idx)\n",
    "    while y_idx != 0 or x_idx != 0:\n",
    "        if y_idx >= 1 and x_idx >= 1:\n",
    "            up = acc_cost_matrix[y_idx-1, x_idx]\n",
    "            diag = acc_cost_matrix[y_idx-1, x_idx-1]\n",
    "            acro = acc_cost_matrix[y_idx, x_idx-1]\n",
    "            if min(up, diag, acro) == diag:\n",
    "                x_idx -= 1\n",
    "                y_idx -= 1\n",
    "            elif min(up, diag, acro) == up:\n",
    "                y_idx -= 1\n",
    "            elif min(up, diag, acro) == acro:\n",
    "                x_idx -= 1     \n",
    "        elif y_idx == 0:\n",
    "            x_idx -= 1\n",
    "        elif x_idx == 0:\n",
    "            y_idx -= 1\n",
    "        path_x.append(x_idx)\n",
    "        path_y.append(y_idx)\n",
    "    path_x = path_x[::-1]\n",
    "    path_y = path_y[::-1]\n",
    "    \n",
    "    distance = acc_cost_matrix[len(y)-1, len(x)-1]\n",
    "    path = np.array([path_x, path_y])\n",
    "    return distance, cost_matrix, acc_cost_matrix, path\n",
    "distance, cost_matrix, acc_cost_matrix, path = dtw(x, y, euclidean_norm)\n",
    "print(path[0])\n",
    "print(path[1])"
   ]
  },
  {
   "cell_type": "code",
   "execution_count": 3,
   "metadata": {},
   "outputs": [
    {
     "name": "stdout",
     "output_type": "stream",
     "text": [
      "(2, 9)\n",
      "0.5499999999999998\n",
      "[[0.   1.   3.   4.   5.13 5.13]\n",
      " [0.   1.   3.   4.   5.13 5.13]\n",
      " [1.   0.   1.   1.   1.13 2.13]\n",
      " [2.   0.   1.   1.   1.13 2.13]\n",
      " [3.42 0.42 0.58 1.   1.29 2.55]\n",
      " [5.42 1.42 0.42 1.42 1.87 3.29]\n",
      " [6.42 1.42 1.42 0.42 0.55 1.55]\n",
      " [6.42 2.42 3.42 1.42 1.55 0.55]]\n"
     ]
    },
    {
     "data": {
      "image/png": "[encoded data removed]",
      "text/plain": [
       "<Figure size 432x288 with 1 Axes>"
      ]
     },
     "metadata": {
      "needs_background": "light"
     },
     "output_type": "display_data"
    }
   ],
   "source": [
    "print(path.shape)\n",
    "print(distance)\n",
    "print(acc_cost_matrix)\n",
    "pyplot.imshow(acc_cost_matrix, origin='lower', cmap='gray', interpolation='nearest')\n",
    "pyplot.plot(path[0], path[1], 'w')\n",
    "pyplot.show()"
   ]
  },
  {
   "cell_type": "code",
   "execution_count": 4,
   "metadata": {},
   "outputs": [
    {
     "name": "stdout",
     "output_type": "stream",
     "text": [
      "(2099160, 51)\n",
      "Index(['Unnamed: 0', 'STUDENT_INDEX_MASTER', 'DATE', 'QUARTERS', 'AGE',\n",
      "       'ETHNICITY', 'SEX', 'NZDEP', 'TEST', 'HDL', 'LDL', 'TRI', 'TCL',\n",
      "       'TCHDL', 'STATINS', 'ATORVASTATIN', 'SIMVASTATIN',\n",
      "       'CHOLESTEROL_LOWERING', 'ARBs', 'ACE', 'ALPHA_BLOCKERS',\n",
      "       'BETA_BLOCKERS', 'BLOOD_PRESSURE_LOWERING', 'LIPID_LOWERING',\n",
      "       'DIURETICS', 'ANTIANGINAL_ANTIARRYTHMIC', 'CALCIUM_CHANNEL_BLOCKERS',\n",
      "       'ANTIHYPERTENSIVES', 'CARDIAC_GLYCOSIDES', 'NITRATES',\n",
      "       'SYMPATHOMIMETIC', 'OTHERS', 'ANTIPLATELETS', 'ANTICOAGULANTS',\n",
      "       'TRUE_HDL', 'TRUE_LDL', 'TRUE_TRI', 'TRUE_TCL', 'TRUE_TCHDL', 'SBP',\n",
      "       'SMOKING', 'EN_TCHDL', 'HX_DIABETES', 'FAMILY_HISTORY', 'DBP', 'HX_CVD',\n",
      "       'GEN_LIPID', 'RENAL', 'HX_DIABETES_YR', 'SBP2', 'DBP2'],\n",
      "      dtype='object')\n",
      "(2099160, 33)\n",
      "STUDENT_INDEX_MASTER          0\n",
      "DATE                          0\n",
      "QUARTERS                      0\n",
      "AGE                           0\n",
      "ETHNICITY                     0\n",
      "SEX                           0\n",
      "NZDEP                         0\n",
      "TEST                          0\n",
      "HDL                           0\n",
      "LDL                           0\n",
      "TRI                           0\n",
      "TCL                           0\n",
      "TCHDL                         0\n",
      "STATINS                       0\n",
      "ATORVASTATIN                  0\n",
      "SIMVASTATIN                   0\n",
      "TRUE_HDL                      0\n",
      "TRUE_LDL                      0\n",
      "TRUE_TRI                      0\n",
      "TRUE_TCL                      0\n",
      "TRUE_TCHDL                    0\n",
      "SBP                           0\n",
      "DBP                           0\n",
      "SBP2                          0\n",
      "DBP2                        112\n",
      "SMOKING                      28\n",
      "EN_TCHDL                  23884\n",
      "HX_DIABETES                   0\n",
      "FAMILY_HISTORY                0\n",
      "HX_CVD                        0\n",
      "GEN_LIPID                     0\n",
      "RENAL                   1440208\n",
      "HX_DIABETES_YR          1417864\n",
      "dtype: int64\n"
     ]
    }
   ],
   "source": [
    "VIEW_df = pd.read_csv('/home/whsu014/data/Cholesterol_PHH_360dayspy_with_true_values_01day_ethn_coded_PREDICT_Variables_sbp2dbp2.csv')\n",
    "print(VIEW_df.shape)\n",
    "print(VIEW_df.columns)\n",
    "VIEW_sub_df = VIEW_df[['STUDENT_INDEX_MASTER', 'DATE', 'QUARTERS', \n",
    "                       'AGE', 'ETHNICITY', 'SEX', 'NZDEP', 'TEST', \n",
    "                       'HDL', 'LDL', 'TRI', 'TCL', 'TCHDL', 'STATINS', \n",
    "                       'ATORVASTATIN', 'SIMVASTATIN', \n",
    "                       'TRUE_HDL', 'TRUE_LDL', 'TRUE_TRI', 'TRUE_TCL',\n",
    "                       'TRUE_TCHDL', 'SBP', 'DBP',\n",
    "                       'SBP2', 'DBP2', 'SMOKING', 'EN_TCHDL', \n",
    "                       'HX_DIABETES', 'FAMILY_HISTORY', 'HX_CVD', \n",
    "                       'GEN_LIPID', 'RENAL', 'HX_DIABETES_YR']]\n",
    "print(VIEW_sub_df.shape)\n",
    "print(VIEW_sub_df.isnull().sum())\n"
   ]
  },
  {
   "cell_type": "code",
   "execution_count": 5,
   "metadata": {},
   "outputs": [
    {
     "name": "stdout",
     "output_type": "stream",
     "text": [
      "3611\n",
      "44538\n",
      "6552\n",
      "1243\n",
      "7390\n",
      "50\n",
      "2358\n",
      "9228\n"
     ]
    }
   ],
   "source": [
    "# Count size of ethnicity groups\n",
    "print(VIEW_sub_df[VIEW_sub_df.ETHNICITY == 'A'].shape[0]//28)\n",
    "print(VIEW_sub_df[VIEW_sub_df.ETHNICITY == 'B'].shape[0]//28)\n",
    "print(VIEW_sub_df[VIEW_sub_df.ETHNICITY == 'C'].shape[0]//28)\n",
    "print(VIEW_sub_df[VIEW_sub_df.ETHNICITY == 'D'].shape[0]//28)\n",
    "print(VIEW_sub_df[VIEW_sub_df.ETHNICITY == 'E'].shape[0]//28)\n",
    "print(VIEW_sub_df[VIEW_sub_df.ETHNICITY == 'F'].shape[0]//28)\n",
    "print(VIEW_sub_df[VIEW_sub_df.ETHNICITY == 'G'].shape[0]//28)\n",
    "print(VIEW_sub_df[VIEW_sub_df.ETHNICITY == 'H'].shape[0]//28)"
   ]
  },
  {
   "cell_type": "code",
   "execution_count": 6,
   "metadata": {},
   "outputs": [
    {
     "name": "stdout",
     "output_type": "stream",
     "text": [
      "3611\n",
      "44538\n",
      "6552\n",
      "3651\n",
      "7390\n",
      "9228\n"
     ]
    }
   ],
   "source": [
    "# Combine D, F and G\n",
    "VIEW_sub_A_df = VIEW_sub_df[VIEW_sub_df.ETHNICITY == 'A']\n",
    "VIEW_sub_B_df = VIEW_sub_df[VIEW_sub_df.ETHNICITY == 'B']\n",
    "VIEW_sub_C_df = VIEW_sub_df[VIEW_sub_df.ETHNICITY == 'C']\n",
    "VIEW_sub_D_df = VIEW_sub_df[VIEW_sub_df.ETHNICITY.isin(['D', 'F', 'G'])] # MELAA, Other and Other_Asian\n",
    "VIEW_sub_E_df = VIEW_sub_df[VIEW_sub_df.ETHNICITY == 'E']\n",
    "VIEW_sub_H_df = VIEW_sub_df[VIEW_sub_df.ETHNICITY == 'H']\n",
    "print(VIEW_sub_A_df.shape[0]//28)\n",
    "print(VIEW_sub_B_df.shape[0]//28)\n",
    "print(VIEW_sub_C_df.shape[0]//28)\n",
    "print(VIEW_sub_D_df.shape[0]//28)\n",
    "print(VIEW_sub_E_df.shape[0]//28)\n",
    "print(VIEW_sub_H_df.shape[0]//28)"
   ]
  },
  {
   "cell_type": "code",
   "execution_count": 7,
   "metadata": {},
   "outputs": [
    {
     "name": "stdout",
     "output_type": "stream",
     "text": [
      "(2099160, 33)\n",
      "(630000, 33)\n"
     ]
    }
   ],
   "source": [
    "# random sampling unique ID \n",
    "# to control ethn imbalance\n",
    "ethn_A_list = VIEW_sub_A_df.STUDENT_INDEX_MASTER.unique()\n",
    "ethn_B_list = VIEW_sub_B_df.STUDENT_INDEX_MASTER.unique()\n",
    "ethn_C_list = VIEW_sub_C_df.STUDENT_INDEX_MASTER.unique()\n",
    "ethn_D_list = VIEW_sub_D_df.STUDENT_INDEX_MASTER.unique()\n",
    "ethn_E_list = VIEW_sub_E_df.STUDENT_INDEX_MASTER.unique()\n",
    "ethn_H_list = VIEW_sub_H_df.STUDENT_INDEX_MASTER.unique()\n",
    "ethn_A_sample = list(np.random.choice(ethn_A_list, 3500, replace=False))\n",
    "ethn_B_sample = list(np.random.choice(ethn_B_list, 5000, replace=False)) # over sample Europeans\n",
    "ethn_C_sample = list(np.random.choice(ethn_C_list, 3500, replace=False)) # to make a data of \n",
    "ethn_D_sample = list(np.random.choice(ethn_D_list, 3500, replace=False)) # 20,000 individuals\n",
    "ethn_E_sample = list(np.random.choice(ethn_E_list, 3500, replace=False)) # 3335 all others 3333\n",
    "ethn_H_sample = list(np.random.choice(ethn_H_list, 3500, replace=False))\n",
    "print(VIEW_sub_df.shape)\n",
    "ethn_sample = ethn_A_sample + ethn_B_sample + ethn_C_sample + \\\n",
    "              ethn_D_sample + ethn_E_sample + ethn_H_sample\n",
    "VIEW_sub_df = VIEW_sub_df[VIEW_sub_df.STUDENT_INDEX_MASTER.isin(ethn_sample)]\n",
    "print(VIEW_sub_df.shape)"
   ]
  },
  {
   "cell_type": "code",
   "execution_count": 8,
   "metadata": {},
   "outputs": [
    {
     "name": "stdout",
     "output_type": "stream",
     "text": [
      "(450000, 33)\n",
      "(450000, 33)\n"
     ]
    }
   ],
   "source": [
    "#########################################\n",
    "# only cluster 20 quarters after PREDICT\n",
    "#########################################\n",
    "DTW_quarters = [8,9,10,11,12,13,14,15,16,17,18,19,\\\n",
    "                20,21,22,23,24,25,26,27,]\n",
    "DTW_VIEW_sub_df = VIEW_sub_df[VIEW_sub_df.QUARTERS.isin(DTW_quarters)]\n",
    "print(DTW_VIEW_sub_df.shape)\n",
    "DTW_VIEW_v = DTW_VIEW_sub_df.values\n",
    "print(DTW_VIEW_v.shape)"
   ]
  },
  {
   "cell_type": "code",
   "execution_count": 9,
   "metadata": {},
   "outputs": [
    {
     "name": "stdout",
     "output_type": "stream",
     "text": [
      "Time took for calculating DTW distance:  507.00625872612\n"
     ]
    }
   ],
   "source": [
    "euclidean_norm = lambda x, y: np.abs(x - y)\n",
    "start_time = time.time()\n",
    "time_series = []\n",
    "for i in range(1000):\n",
    "    time_series.append(DTW_VIEW_v[(i*20):((i+1)*20), 12])\n",
    "\n",
    "# distance_matrix = np.empty((len(time_series), len(time_series)))\n",
    "# distance_matrix.fill(np.nan)\n",
    "distance_list = []\n",
    "\n",
    "#cost_matrix_list = []       \n",
    "for i in range(len(time_series)):\n",
    "    for j in range((i+1), len(time_series)):\n",
    "        distance, cost_matrix, acc_cost_matrix, path = dtw(time_series[i], \n",
    "                                                    time_series[j],\n",
    "                                                    euclidean_norm)\n",
    "        distance_list.append(distance)\n",
    "        #cost_matrix_list.append(acc_cost_matrix)\n",
    "end_time = time.time()\n",
    "print(\"Time took for calculating DTW distance: \", end_time - start_time)\n",
    "####################################\n",
    "# fill entire distance matrix from \n",
    "# upper tri matrix\n",
    "####################################\n",
    "#idx_lower =  np.tril_indices(len(distance_matrix), -1)\n",
    "#distance_matrix[idx_lower] = distance_matrix.T[idx_lower]\n"
   ]
  },
  {
   "cell_type": "code",
   "execution_count": 15,
   "metadata": {},
   "outputs": [
    {
     "name": "stdout",
     "output_type": "stream",
     "text": [
      "[2.49 2.51 2.54 2.56 2.58 2.59 2.55 2.51 2.47 2.44 2.4  2.5  2.61 2.71\n",
      " 2.82 2.92 3.   3.   3.   3.  ]\n",
      "[4.34 4.62 4.38 4.14 4.11 4.39 4.67 4.96 5.09 5.08 5.06 5.05 5.03 5.01\n",
      " 5.   4.98 4.97 4.95 4.94 4.92]\n",
      "[2.6  2.61 2.61 2.62 2.63 2.63 2.64 2.64 2.65 2.66 2.66 2.67 2.67 2.68\n",
      " 2.69 2.69 2.7  2.7  2.7  2.7 ]\n",
      "[2.1  2.1  2.1  2.1  2.2  2.36 2.53 2.69 2.79 2.75 2.71 2.67 2.63 2.61\n",
      " 2.66 2.7  2.74 2.79 2.83 2.88]\n",
      "[4.65 4.31 3.97 3.85 4.54 5.   4.91 4.56 7.16 5.57 4.07 4.03 4.03 4.13\n",
      " 4.19 4.16 4.14 4.11 4.2  4.35]\n",
      "[5.47 5.5  5.52 5.55 5.58 5.54 5.3  5.05 4.81 4.57 4.33 4.08 3.91 3.97\n",
      " 4.03 4.09 4.15 4.21 4.27 4.32]\n",
      "[2.21 2.37 2.54 2.7  2.74 2.6  2.46 2.34 2.25 2.35 2.66 2.73 2.6  2.48\n",
      " 2.35 2.23 2.1  2.01 2.06 2.1 ]\n",
      "[4.59 4.58 4.56 4.55 4.54 4.52 4.51 4.67 5.06 5.44 5.83 6.22 5.83 4.74\n",
      " 3.94 3.4  3.36 3.32 3.29 3.25]\n",
      "[4.5  4.43 4.35 4.28 4.2  4.13 4.21 4.37 4.53 4.7  4.76 4.66 4.56 4.46\n",
      " 4.36 4.26 4.24 4.35 4.46 4.57]\n",
      "[2.4  2.4  2.4  2.4  2.4  2.4  2.4  2.4  2.36 2.26 2.16 2.06 1.96 1.95\n",
      " 2.09 2.23 2.37 2.51 2.65 2.78]\n"
     ]
    }
   ],
   "source": [
    "print(np.around(time_series[0].astype(np.double), decimals=2))\n",
    "print(np.around(time_series[1].astype(np.double), decimals=2))\n",
    "print(np.around(time_series[2].astype(np.double), decimals=2))\n",
    "print(np.around(time_series[3].astype(np.double), decimals=2))\n",
    "print(np.around(time_series[4].astype(np.double), decimals=2))\n",
    "print(np.around(time_series[5].astype(np.double), decimals=2))\n",
    "print(np.around(time_series[6].astype(np.double), decimals=2))\n",
    "print(np.around(time_series[7].astype(np.double), decimals=2))\n",
    "print(np.around(time_series[8].astype(np.double), decimals=2))\n",
    "print(np.around(time_series[9].astype(np.double), decimals=2))\n",
    "#print(np.around(distance_matrix.astype(np.double), decimals=3))\n",
    "#print(type(distance_matrix[0, 0]))\n",
    "#print(len(distance_matrix))"
   ]
  },
  {
   "cell_type": "code",
   "execution_count": 147,
   "metadata": {},
   "outputs": [
    {
     "name": "stdout",
     "output_type": "stream",
     "text": [
      "45\n",
      "[42.50224531  3.00986882  3.56678533 36.71203561 41.05980273  6.53158619\n",
      " 36.9887314  35.18409747  4.55145244 42.56729498 44.76848795 12.61912013\n",
      " 16.5674636  47.8243716  14.14106605  6.87461781 49.13622653  3.76286368\n",
      " 36.77708528 41.12485241  5.743722   37.05378108 35.24914714  6.20486567\n",
      " 38.97827825 43.32604537  5.72774719 39.25497405 37.45034011  3.73599847\n",
      " 11.59299652 42.03416191 10.49362049  6.98834996 43.34601683 46.38192903\n",
      " 14.95952447 11.12392138 47.69378396 42.3108577  40.50622376  4.69840451\n",
      " 12.75272512 43.62271263 41.81807869]\n"
     ]
    }
   ],
   "source": [
    "'''\n",
    "condense_list = []\n",
    "len(distance_matrix)\n",
    "for i in range(len(distance_matrix)):\n",
    "    for j in range((i+1), len(distance_matrix)):\n",
    "        condense_list.append(distance_matrix[i, j])\n",
    "condense_matrix = np.array(condense_list)\n",
    "print(len(condense_matrix))\n",
    "print(condense_matrix)\n",
    "'''"
   ]
  },
  {
   "cell_type": "code",
   "execution_count": 10,
   "metadata": {
    "scrolled": true
   },
   "outputs": [
    {
     "name": "stdout",
     "output_type": "stream",
     "text": [
      "499500\n"
     ]
    }
   ],
   "source": [
    "#####################################\n",
    "# Agglomerative Clustering\n",
    "#####################################\n",
    "#agg = AgglomerativeClustering(n_clusters = 2, \n",
    "#                              affinity = \"precomputed\", \n",
    "#                              linkage = 'average')\n",
    "#fig = pyplot.figure(figsize=(25, 10))\n",
    "#agg.fit_predict(distance_matrix)\n",
    "#print(Z)\n",
    "print(len(distance_list))\n",
    "condensed_matrix = np.array(distance_list)"
   ]
  },
  {
   "cell_type": "code",
   "execution_count": 108,
   "metadata": {},
   "outputs": [
    {
     "name": "stdout",
     "output_type": "stream",
     "text": [
      "Time took for agglomerative clustering:  0.011213064193725586\n",
      "0.7144987494350151\n"
     ]
    },
    {
     "data": {
      "image/png": "[encoded data removed]",
      "text/plain": [
       "<Figure size 1800x720 with 1 Axes>"
      ]
     },
     "metadata": {
      "needs_background": "light"
     },
     "output_type": "display_data"
    }
   ],
   "source": [
    "start_time = time.time()\n",
    "Z = hierarchy.linkage(condensed_matrix, 'average')\n",
    "end_time = time.time()\n",
    "print(\"Time took for agglomerative clustering: \", end_time-start_time)\n",
    "############################################\n",
    "# check Cophenetic Correlation Coefficient\n",
    "# Compares the pairwise distance of samples\n",
    "# to hierarchical clustering results\n",
    "# should be close to 1\n",
    "############################################\n",
    "c, coph_dist = hierarchy.cophenet(Z, condensed_matrix)\n",
    "\n",
    "print(c)\n",
    "\n",
    "fig = pyplot.figure(figsize=(25, 10))\n",
    "pyplot.title(\"Agglomerative Cluster of VIEW TCHDL time-series\", fontsize=20)\n",
    "pyplot.xlabel(\"Sample indices\", fontsize=18)\n",
    "pyplot.ylabel(\"Dynamic Time Warping Distance\", fontsize=18)\n",
    "dn = hierarchy.dendrogram(Z)\n",
    "pyplot.show()"
   ]
  },
  {
   "cell_type": "code",
   "execution_count": 123,
   "metadata": {},
   "outputs": [
    {
     "name": "stdout",
     "output_type": "stream",
     "text": [
      "[[0 0 0 0 0 0]\n",
      " [1 1 2 2 2 2]\n",
      " [0 0 1 1 1 1]\n",
      " [0 0 0 0 0 0]\n",
      " [0 0 0 0 0 0]\n",
      " [0 0 0 0 0 0]\n",
      " [0 0 1 1 1 1]\n",
      " [0 0 1 1 1 1]\n",
      " [0 0 0 0 0 0]\n",
      " [0 0 1 1 1 1]]\n",
      "(1000, 6)\n",
      "[0 1 2 3 4]\n",
      "[0 1 2 3 4 5]\n",
      "[0 1 2 3 4 5 6]\n",
      "[0 1 2 3 4 5 6 7]\n",
      "[0 1 2 3 4 5 6 7 8]\n",
      "[0 1 2 3 4 5 6 7 8 9]\n",
      "1000\n",
      "6\n"
     ]
    }
   ],
   "source": [
    "cutree = scipy.cluster.hierarchy.cut_tree(Z, n_clusters=[5,6,7,8,9,10])\n",
    "print(cutree[-10:, ])\n",
    "print(cutree.shape)\n",
    "print(np.unique(cutree[:, 0]))\n",
    "print(np.unique(cutree[:, 1]))\n",
    "print(np.unique(cutree[:, 2]))\n",
    "print(np.unique(cutree[:, 3]))\n",
    "print(np.unique(cutree[:, 4]))\n",
    "print(np.unique(cutree[:, 5]))\n",
    "print(cutree.shape[0])\n",
    "print(cutree.shape[1])"
   ]
  },
  {
   "cell_type": "code",
   "execution_count": 150,
   "metadata": {},
   "outputs": [
    {
     "name": "stdout",
     "output_type": "stream",
     "text": [
      "(630000, 33)\n",
      "(630000, 39)\n",
      "(28000, 39)\n",
      "0.6695921421051025\n",
      "(28000, 39)\n",
      "STUDENT_INDEX_MASTER        0\n",
      "DATE                        0\n",
      "QUARTERS                    0\n",
      "AGE                         0\n",
      "ETHNICITY                   0\n",
      "SEX                         0\n",
      "NZDEP                       0\n",
      "TEST                        0\n",
      "HDL                         0\n",
      "LDL                         0\n",
      "TRI                         0\n",
      "TCL                         0\n",
      "TCHDL                       0\n",
      "STATINS                     0\n",
      "ATORVASTATIN                0\n",
      "SIMVASTATIN                 0\n",
      "TRUE_HDL                    0\n",
      "TRUE_LDL                    0\n",
      "TRUE_TRI                    0\n",
      "TRUE_TCL                    0\n",
      "TRUE_TCHDL                  0\n",
      "SBP                         0\n",
      "DBP                         0\n",
      "SBP2                        0\n",
      "DBP2                        0\n",
      "SMOKING                     0\n",
      "EN_TCHDL                  280\n",
      "HX_DIABETES                 0\n",
      "FAMILY_HISTORY              0\n",
      "HX_CVD                      0\n",
      "GEN_LIPID                   0\n",
      "RENAL                   18060\n",
      "HX_DIABETES_YR          17808\n",
      "5CLUSTERS                   0\n",
      "6CLUSTERS                   0\n",
      "7CLUSTERS                   0\n",
      "8CLUSTERS                   0\n",
      "9CLUSTERS                   0\n",
      "10CLUSTERS                  0\n",
      "dtype: int64\n"
     ]
    }
   ],
   "source": [
    "import sys\n",
    "np.set_printoptions(threshold=sys.maxsize, suppress=True)\n",
    "VIEW_sub_v = VIEW_sub_df.values\n",
    "print(VIEW_sub_v.shape)  #data contain full 28 quarters\n",
    "#print(DTW_VIEW_v.shape) # data contain only 20 quarters post PREDICT\n",
    "\n",
    "start_time = time.time()\n",
    "clusters5to10 = np.zeros((630000, 6))\n",
    "clusters5to10.fill(np.nan)\n",
    "for i in range(cutree.shape[0]):\n",
    "    for j in range(cutree.shape[1]):\n",
    "        cluster = [cutree[i, j]]*28\n",
    "        clusters5to10[(i*28):((i+1)*28), j] = np.array(cluster).T\n",
    "VIEW_sub_v = np.append(VIEW_sub_v, clusters5to10, axis=1)\n",
    "print(VIEW_sub_v.shape)\n",
    "VIEW_sub_v = VIEW_sub_v[0:28000, :]\n",
    "print(VIEW_sub_v.shape)\n",
    "VIEW_clusters_df = pd.DataFrame(VIEW_sub_v)\n",
    "VIEW_clusters_df.columns = [['STUDENT_INDEX_MASTER', 'DATE', 'QUARTERS', \n",
    "                            'AGE', 'ETHNICITY', 'SEX', 'NZDEP', 'TEST', \n",
    "                           'HDL', 'LDL', 'TRI', 'TCL', 'TCHDL', 'STATINS', \n",
    "                           'ATORVASTATIN', 'SIMVASTATIN', \n",
    "                           'TRUE_HDL', 'TRUE_LDL', 'TRUE_TRI', 'TRUE_TCL',\n",
    "                           'TRUE_TCHDL', 'SBP', 'DBP',\n",
    "                           'SBP2', 'DBP2', 'SMOKING', 'EN_TCHDL', \n",
    "                           'HX_DIABETES', 'FAMILY_HISTORY', 'HX_CVD', \n",
    "                           'GEN_LIPID', 'RENAL', 'HX_DIABETES_YR',\n",
    "                           '5CLUSTERS', '6CLUSTERS','7CLUSTERS','8CLUSTERS',\n",
    "                           '9CLUSTERS', '10CLUSTERS']] #, '17CLUSTERS',\n",
    "                            #'18CLUSTERS', '19CLUSTERS', '20CLUSTERS']]\n",
    "end_time = time.time()\n",
    "print(end_time - start_time)\n",
    "print(VIEW_clusters_df.shape)\n",
    "print(VIEW_clusters_df.isnull().sum())\n",
    "VIEW_clusters_df.to_csv('/home/whsu014/data/DTW5to10Clusters_1000inds.csv', sep=\",\")"
   ]
  },
  {
   "cell_type": "code",
   "execution_count": 149,
   "metadata": {
    "scrolled": false
   },
   "outputs": [
    {
     "name": "stdout",
     "output_type": "stream",
     "text": [
      "SIZE of Cluster 1: 394\n",
      "SIZE of Cluster 2: 489\n",
      "SIZE of Cluster 3: 88\n",
      "SIZE of Cluster 4: 3\n",
      "SIZE of Cluster 5: 16\n",
      "SIZE of Cluster 6: 3\n",
      "SIZE of Cluster 7: 3\n",
      "SIZE of Cluster 8: 2\n",
      "SIZE of Cluster 9: 1\n",
      "SIZE of Cluster 10: 1\n",
      "(3152, 39)\n",
      "(7880, 39)\n",
      "SIZE of Cluster 1: 394\n"
     ]
    },
    {
     "data": {
      "image/png": "[encoded data removed]",
      "text/plain": [
       "<Figure size 576x720 with 1 Axes>"
      ]
     },
     "metadata": {
      "needs_background": "light"
     },
     "output_type": "display_data"
    }
   ],
   "source": [
    "\n",
    "# fig, axes = pyplot.subplots(5, 1)\n",
    "for c in range(10):\n",
    "    VIEW_clusters = VIEW_sub_v[VIEW_sub_v[:, -1] == c]\n",
    "    print(\"SIZE of Cluster \" + str(c+1) + \": \" + str(VIEW_clusters.shape[0]//28))\n",
    "\n",
    "\n",
    "cluster_no = 0\n",
    "fig = pyplot.figure(figsize=(8, 10))\n",
    "#fig = pyplot.figure(figsize=(25, 10))\n",
    "VIEW_clusters = VIEW_sub_v[VIEW_sub_v[:, -1] == cluster_no]\n",
    "VIEW_clusters_b = VIEW_clusters[VIEW_clusters[:, 2] < 8]\n",
    "VIEW_clusters_a = VIEW_clusters[VIEW_clusters[:, 2] >= 8]\n",
    "print(VIEW_clusters_b.shape)\n",
    "print(VIEW_clusters_a.shape)\n",
    "print(\"SIZE of Cluster \" + str(cluster_no+1) + \": \" + str(VIEW_clusters.shape[0]//28))\n",
    "\n",
    "for i in range(20):\n",
    "    quarters = VIEW_clusters_b[(i*8):((i+1)*8), 2]\n",
    "    TCHDL = VIEW_clusters_b[(i*8):((i+1)*8), 12]\n",
    "    #quarters = VIEW_clusters_a[(i*20):((i+1)*20), 2]\n",
    "    #TCHDL = VIEW_clusters_a[(i*20):((i+1)*20), 12]\n",
    "    pyplot.plot(quarters, TCHDL, '-', color='C0', alpha=0.5, label=\"y\")\n",
    "\n",
    "pyplot.grid()\n",
    "pyplot.tick_params(axis='both', which='major', labelsize=25)\n",
    "pyplot.ylim([1, 11])\n",
    "pyplot.title(\"Before PREDICT: Cluster \" + str(cluster_no+1), fontsize=35)\n",
    "#pyplot.title(\"DTW Agglomerative Clustering of TCHDL time-series: Cluster \" + str(cluster_no+1), fontsize=35)\n",
    "pyplot.xlabel(\"Quarters\", fontsize=25)\n",
    "pyplot.ylabel(\"TCHDL mmol/mmol\", fontsize=25)\n",
    "fig_name = '/home/whsu014/plots/VIEWb10ClustersCluster' + str(cluster_no+1) + 'max20samples.pdf'\n",
    "fig.savefig(fig_name, bbox_inches='tight')\n",
    "pyplot.show()\n"
   ]
  },
  {
   "cell_type": "code",
   "execution_count": 44,
   "metadata": {},
   "outputs": [],
   "source": []
  }
 ],
 "metadata": {
  "kernelspec": {
   "display_name": "Python 3",
   "language": "python",
   "name": "python3"
  },
  "language_info": {
   "codemirror_mode": {
    "name": "ipython",
    "version": 3
   },
   "file_extension": ".py",
   "mimetype": "text/x-python",
   "name": "python",
   "nbconvert_exporter": "python",
   "pygments_lexer": "ipython3",
   "version": "3.6.8"
  }
 },
 "nbformat": 4,
 "nbformat_minor": 2
}
