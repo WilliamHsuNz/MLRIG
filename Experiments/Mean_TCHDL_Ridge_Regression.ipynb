{
 "cells": [
  {
   "cell_type": "code",
   "execution_count": 1,
   "metadata": {},
   "outputs": [],
   "source": [
    "import os\n",
    "import pandas as pd\n",
    "import datetime\n",
    "from matplotlib import pyplot\n",
    "from sklearn.preprocessing import MinMaxScaler\n",
    "from sklearn.preprocessing import StandardScaler\n",
    "from sklearn.preprocessing import LabelEncoder\n",
    "from sklearn.preprocessing import OneHotEncoder\n",
    "from sklearn.metrics import mean_squared_error\n",
    "from sklearn.metrics import mean_absolute_error\n",
    "from sklearn.linear_model import RidgeCV\n",
    "from sklearn.linear_model import Ridge\n",
    "from sklearn.linear_model import LinearRegression\n",
    "import numpy as np\n",
    "import scipy \n",
    "import math\n",
    "import h5py\n",
    "import time\n",
    "import copy\n",
    "import sys\n",
    "import feather\n",
    "from sklearn.metrics import mean_absolute_error\n",
    "from numpy.random import seed\n",
    "pd.set_option('display.max_rows', None)\n",
    "pd.set_option('display.max_columns', None)\n",
    "pd.set_option('display.width', None)\n",
    "pd.set_option('display.max_colwidth', -1)\n",
    "seed(123)\n",
    "from tensorflow import set_random_seed\n",
    "set_random_seed(456)\n",
    "np.set_printoptions(threshold=sys.maxsize)"
   ]
  },
  {
   "cell_type": "code",
   "execution_count": 2,
   "metadata": {},
   "outputs": [
    {
     "name": "stdout",
     "output_type": "stream",
     "text": [
      "Index(['VSIMPLE_INDEX_MASTER', 'QUARTER', 'AGE', 'SEX', 'NZDEP', 'ETHN_1',\n",
      "       'ETHN_2', 'ETHN_3', 'ETHN_4', 'ETHN_5',\n",
      "       ...\n",
      "       'PT_DIABETES_YR', 'PT_ATRIAL_FIBRILLATION', 'PT_IMP_FATAL_CVD',\n",
      "       'TRUE_HDL', 'TRUE_LDL', 'TRUE_TRI', 'TRUE_TCL', 'TRUE_TCHDL',\n",
      "       'TRUE_HBA1C', 'TRUE_EGFR'],\n",
      "      dtype='object', length=191)\n",
      "(2902784, 191)\n",
      "[0.]\n",
      "(2902784, 190)\n"
     ]
    }
   ],
   "source": [
    "view_1hot_df = feather.read_dataframe(\"/home/whsu014/data/view_1hot_nona_len29_float_age_impute_and_True_HG_100096inds.feather\")\n",
    "print(view_1hot_df.columns)\n",
    "print(view_1hot_df.shape)\n",
    "\n",
    "print(view_1hot_df['CVD_ISOSORBRIDE_DINITRATE'].unique())\n",
    "view_1hot_df = view_1hot_df.drop(['CVD_ISOSORBRIDE_DINITRATE'], axis=1)\n",
    "print(view_1hot_df.shape)"
   ]
  },
  {
   "cell_type": "code",
   "execution_count": 3,
   "metadata": {},
   "outputs": [
    {
     "name": "stdout",
     "output_type": "stream",
     "text": [
      "Number of inds: 100096\n",
      "100096.0\n",
      "100096.0\n",
      "(2520000, 182)\n",
      "90000.0\n",
      "(2520000, 7)\n",
      "90000.0\n"
     ]
    }
   ],
   "source": [
    "print(\"Number of inds:\", len(view_1hot_df['VSIMPLE_INDEX_MASTER'].unique()))\n",
    "# set to length 28\n",
    "print(view_1hot_df.shape[0]/29)\n",
    "view_1hot_df = copy.deepcopy(view_1hot_df[view_1hot_df['QUARTER']!=0])\n",
    "print(view_1hot_df.shape[0]/28)\n",
    "# Take 90000 inds for train and validation set\n",
    "# remove true values\n",
    "# remove QUARTER\n",
    "view_1hot_df = view_1hot_df.drop(['QUARTER'], axis=1)\n",
    "train_v = copy.deepcopy(view_1hot_df.iloc[:(28*90000), :-7].values)\n",
    "train_true_v = copy.deepcopy(view_1hot_df.iloc[:(28*90000), -7:].values)\n",
    "print(train_v.shape)\n",
    "print(train_v.shape[0]/28)\n",
    "print(train_true_v.shape)\n",
    "print(train_true_v.shape[0]/28)"
   ]
  },
  {
   "cell_type": "code",
   "execution_count": 4,
   "metadata": {},
   "outputs": [
    {
     "name": "stdout",
     "output_type": "stream",
     "text": [
      "Index(['VSIMPLE_INDEX_MASTER', 'AGE', 'SEX', 'NZDEP', 'ETHN_1', 'ETHN_2',\n",
      "       'ETHN_3', 'ETHN_4', 'ETHN_5', 'TEST',\n",
      "       ...\n",
      "       'PT_DIABETES_YR', 'PT_ATRIAL_FIBRILLATION', 'PT_IMP_FATAL_CVD',\n",
      "       'TRUE_HDL', 'TRUE_LDL', 'TRUE_TRI', 'TRUE_TCL', 'TRUE_TCHDL',\n",
      "       'TRUE_HBA1C', 'TRUE_EGFR'],\n",
      "      dtype='object', length=189)\n",
      "(282688, 189)\n",
      "Number of inds: 10096\n",
      "TCHDL: 14\n",
      "(282688, 182)\n",
      "10096.0\n",
      "(282688, 7)\n",
      "10096.0\n"
     ]
    }
   ],
   "source": [
    "# set up test set\n",
    "test_df = feather.read_dataframe(\"/home/whsu014/data/Test_set_with_TRUE_10096inds.feather\")\n",
    "print(test_df.columns)\n",
    "print(test_df.shape)\n",
    "print(\"Number of inds:\", len(test_df['VSIMPLE_INDEX_MASTER'].unique()))\n",
    "test_v = copy.deepcopy(test_df.iloc[:, :-7].values)\n",
    "test_true_v = copy.deepcopy(test_df.iloc[:, -7:].values)\n",
    "print(\"TCHDL:\", test_df.columns.get_loc('TCHDL'))\n",
    "print(test_v.shape)\n",
    "print(test_v.shape[0]/28)\n",
    "print(test_true_v.shape)\n",
    "print(test_true_v.shape[0]/28)"
   ]
  },
  {
   "cell_type": "code",
   "execution_count": 5,
   "metadata": {},
   "outputs": [],
   "source": [
    "def get_mean_TCHDL(train_v):\n",
    "    mean_tchdl = []\n",
    "    num_of_inds = train_v.shape[0]//28\n",
    "    for i in range(num_of_inds):\n",
    "        ind_v = train_v[(i*28):((i+1)*28), :]\n",
    "        ind_tchdl = np.mean(ind_v[8:28, 14])\n",
    "        mean_tchdl.append(ind_tchdl)\n",
    "    print(len(mean_tchdl)) \n",
    "    return np.array(mean_tchdl).T"
   ]
  },
  {
   "cell_type": "code",
   "execution_count": 6,
   "metadata": {},
   "outputs": [],
   "source": [
    "def setup_xy(time_series):\n",
    "    num_of_inds = time_series.shape[0]//28\n",
    "    n_features = time_series.shape[1]\n",
    "    #non sequential\n",
    "    _x = np.empty((num_of_inds,\n",
    "                   n_features+(n_features-1)*7), \n",
    "                   dtype='float')\n",
    "    ###############################################\n",
    "    # Construct x and y.  Flatten times series \n",
    "    # to 1 row.\n",
    "    ###############################################\n",
    "    for i in range(num_of_inds):\n",
    "        ind_v = copy.deepcopy(time_series[(i*28):((i+1)*28), :])\n",
    "        _x[i, :n_features] = copy.deepcopy(ind_v[0, :])\n",
    "        for j in range(1, 8):\n",
    "            start_idx = (j-1)*(n_features-1)+n_features\n",
    "            end_idx = start_idx + (n_features-1)\n",
    "            _x[i, start_idx:end_idx] = copy.deepcopy(ind_v[j, 1:])\n",
    "    _y = get_mean_TCHDL(time_series)\n",
    "    return _x, _y"
   ]
  },
  {
   "cell_type": "code",
   "execution_count": 7,
   "metadata": {},
   "outputs": [
    {
     "name": "stdout",
     "output_type": "stream",
     "text": [
      "90000\n",
      "10096\n",
      "(90000, 1449)\n",
      "(90000,)\n",
      "(10096, 1449)\n",
      "(10096,)\n"
     ]
    }
   ],
   "source": [
    "x_train, y_train = setup_xy(train_v)\n",
    "x_test, y_test = setup_xy(test_v)\n",
    "print(x_train.shape)\n",
    "print(y_train.shape)\n",
    "print(x_test.shape)\n",
    "print(y_test.shape)"
   ]
  },
  {
   "cell_type": "code",
   "execution_count": 10,
   "metadata": {},
   "outputs": [
    {
     "name": "stdout",
     "output_type": "stream",
     "text": [
      "Number per fold: 9000\n",
      "End: 9000\n",
      "val num: 9000\n",
      "Train x shape: (81000, 1449)\n",
      "Train y shape: (81000,)\n",
      "Val x shape: (9000, 1449)\n",
      "Val y shape: (9000,)\n",
      "Time to find L2 parameter through cross validation and fit model 23.202205896377563\n",
      "Prediction using RidgeCV\n",
      "Alpha: 0.01\n",
      "R^2 train: 0.6618368624135442\n",
      "R^2 val: 0.6573828551410142\n",
      "Test x shape: (10096, 1449)\n",
      "Test y shape: (10096,)\n",
      "Number of coefficients (weight vector): 1449\n",
      "Intercept 2.438281377512569\n"
     ]
    }
   ],
   "source": [
    "start_time = time.time()\n",
    "\n",
    "num_per_fold = train_v.shape[0]//280\n",
    "print(\"Number per fold:\", num_per_fold)\n",
    "\n",
    "end = int(num_per_fold*1)\n",
    "print(\"End:\", end)\n",
    "train1_x = x_train[:end, ]\n",
    "train2_x = x_train[end:, ]\n",
    "train_x_rr = np.append(train2_x, train1_x, axis=0)\n",
    "val_num = int(np.ceil(train_x_rr.shape[0]/10)*1)\n",
    "print(\"val num:\", val_num)\n",
    "train_x = train_x_rr[:-val_num, :]\n",
    "print(\"Train x shape:\", train_x.shape)\n",
    "\n",
    "train1_y = y_train[:end, ]\n",
    "train2_y = y_train[end:, ]\n",
    "train_y_rr = np.append(train2_y, train1_y, axis=0)\n",
    "train_y = train_y_rr[:-val_num]\n",
    "print(\"Train y shape:\", train_y.shape)\n",
    "\n",
    "val_x = train_x_rr[-val_num:, :]\n",
    "val_y = train_y_rr[-val_num:]\n",
    "print(\"Val x shape:\", val_x.shape)\n",
    "print(\"Val y shape:\", val_y.shape)\n",
    "    \n",
    "start_time = time.time()\n",
    "rcv = RidgeCV(alphas=[1e-6, 1e-5, 1e-4, \n",
    "                      1e-3, 1e-2, 1e-1,\n",
    "                      1.0, 10.0], \n",
    "              normalize=True,\n",
    "              store_cv_values=True).fit(train_x, train_y)\n",
    "print(\"Time to find L2 parameter through cross validation and fit model\", time.time() - start_time)\n",
    "print(\"Prediction using RidgeCV\")\n",
    "a = rcv.alpha_\n",
    "print(\"Alpha:\", a)\n",
    "print(\"R^2 train:\", rcv.score(train_x, train_y))\n",
    "print(\"R^2 val:\", rcv.score(val_x, val_y))\n",
    "\n",
    "########################\n",
    "# on test set\n",
    "########################\n",
    "print(\"Test x shape:\", x_test.shape)\n",
    "print(\"Test y shape:\", y_test.shape)\n",
    "test_yhat = rcv.predict(x_test)\n",
    "print(\"Number of coefficients (weight vector):\", len(rcv.coef_))\n",
    "print(\"Intercept\", rcv.intercept_)"
   ]
  },
  {
   "cell_type": "code",
   "execution_count": 12,
   "metadata": {},
   "outputs": [
    {
     "name": "stdout",
     "output_type": "stream",
     "text": [
      "(10096, 1)\n"
     ]
    }
   ],
   "source": [
    "test_yhat_df = pd.DataFrame(test_yhat)\n",
    "print(test_yhat_df.shape)\n",
    "test_yhat_df.columns = [\"MEAN_TCHDL\"]\n",
    "feather.write_dataframe(test_yhat_df, \"/home/whsu014/data/mean_TCHDL_Ridge_Regression_yhat.feather\")"
   ]
  },
  {
   "cell_type": "code",
   "execution_count": 8,
   "metadata": {},
   "outputs": [],
   "source": [
    "y_test_df = pd.DataFrame(y_test)\n",
    "y_test_df.columns = [\"MEAN_TCHDL\"]\n",
    "feather.write_dataframe(y_test_df, \"/home/whsu014/data/mean_TCHDL_y.feather\")"
   ]
  },
  {
   "cell_type": "code",
   "execution_count": null,
   "metadata": {},
   "outputs": [],
   "source": []
  }
 ],
 "metadata": {
  "kernelspec": {
   "display_name": "Python 3",
   "language": "python",
   "name": "python3"
  },
  "language_info": {
   "codemirror_mode": {
    "name": "ipython",
    "version": 3
   },
   "file_extension": ".py",
   "mimetype": "text/x-python",
   "name": "python",
   "nbconvert_exporter": "python",
   "pygments_lexer": "ipython3",
   "version": "3.6.8"
  }
 },
 "nbformat": 4,
 "nbformat_minor": 2
}
