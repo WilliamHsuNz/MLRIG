{
 "cells": [
  {
   "cell_type": "code",
   "execution_count": 1,
   "metadata": {},
   "outputs": [
    {
     "name": "stderr",
     "output_type": "stream",
     "text": [
      "Using TensorFlow backend.\n"
     ]
    }
   ],
   "source": [
    "import os\n",
    "import pandas as pd\n",
    "import datetime\n",
    "from matplotlib import pyplot\n",
    "from sklearn.preprocessing import MinMaxScaler\n",
    "from sklearn.preprocessing import StandardScaler\n",
    "from sklearn.preprocessing import LabelEncoder\n",
    "from sklearn.preprocessing import OneHotEncoder\n",
    "from sklearn.metrics import mean_squared_error\n",
    "from sklearn.metrics import mean_absolute_error\n",
    "from sklearn.linear_model import LinearRegression\n",
    "from sklearn.linear_model import RidgeClassifierCV\n",
    "from keras.models import Sequential\n",
    "from keras.layers import Dense\n",
    "from keras.layers import LSTM\n",
    "from keras.layers import CuDNNLSTM\n",
    "from keras.layers import CuDNNGRU\n",
    "from keras.layers import RepeatVector\n",
    "from keras.layers import TimeDistributed\n",
    "from keras.layers import Bidirectional\n",
    "from keras.layers import Lambda\n",
    "from keras.layers import Dropout\n",
    "from keras.layers import SimpleRNN\n",
    "from keras.utils import generic_utils\n",
    "from keras.utils import Sequence\n",
    "from keras import regularizers\n",
    "from keras import optimizers\n",
    "from keras.callbacks import ModelCheckpoint\n",
    "import tensorflow as tf\n",
    "import numpy as np\n",
    "import scipy \n",
    "import math\n",
    "import h5py\n",
    "import time\n",
    "import copy\n",
    "import sys\n",
    "import feather\n",
    "from sklearn.metrics import mean_absolute_error\n",
    "from numpy.random import seed\n",
    "pd.set_option('display.max_rows', None)\n",
    "pd.set_option('display.max_columns', None)\n",
    "pd.set_option('display.width', None)\n",
    "pd.set_option('display.max_colwidth', -1)\n",
    "seed(123)\n",
    "from tensorflow import set_random_seed\n",
    "set_random_seed(456)\n",
    "np.set_printoptions(threshold=sys.maxsize)"
   ]
  },
  {
   "cell_type": "code",
   "execution_count": 2,
   "metadata": {},
   "outputs": [
    {
     "name": "stdout",
     "output_type": "stream",
     "text": [
      "/home/whsu014/dev/mlrig/Experiments\n"
     ]
    }
   ],
   "source": [
    "import keras\n",
    "print(os.getcwd())\n",
    "config = tf.ConfigProto()\n",
    "config.gpu_options.allow_growth = True\n",
    "tf.keras.backend.set_session(tf.Session(config=config))\n",
    "from tensorflow.python.client import device_lib\n",
    "#print(device_lib.list_local_devices())"
   ]
  },
  {
   "cell_type": "code",
   "execution_count": 3,
   "metadata": {},
   "outputs": [
    {
     "name": "stdout",
     "output_type": "stream",
     "text": [
      "Index(['VSIMPLE_INDEX_MASTER', 'QUARTER', 'AGE', 'SEX', 'NZDEP', 'ETHN_1',\n",
      "       'ETHN_2', 'ETHN_3', 'ETHN_4', 'ETHN_5',\n",
      "       ...\n",
      "       'PT_DIABETES_YR', 'PT_ATRIAL_FIBRILLATION', 'PT_IMP_FATAL_CVD',\n",
      "       'TRUE_HDL', 'TRUE_LDL', 'TRUE_TRI', 'TRUE_TCL', 'TRUE_TCHDL',\n",
      "       'TRUE_HBA1C', 'TRUE_EGFR'],\n",
      "      dtype='object', length=190)\n",
      "(2479500, 190)\n",
      "Number of inds in train: 85500.0\n",
      "Index(['VSIMPLE_INDEX_MASTER', 'QUARTER', 'AGE', 'SEX', 'NZDEP', 'ETHN_1',\n",
      "       'ETHN_2', 'ETHN_3', 'ETHN_4', 'ETHN_5',\n",
      "       ...\n",
      "       'PT_DIABETES_YR', 'PT_ATRIAL_FIBRILLATION', 'PT_IMP_FATAL_CVD',\n",
      "       'TRUE_HDL', 'TRUE_LDL', 'TRUE_TRI', 'TRUE_TCL', 'TRUE_TCHDL',\n",
      "       'TRUE_HBA1C', 'TRUE_EGFR'],\n",
      "      dtype='object', length=190)\n",
      "(281271, 190)\n",
      "Number of inds in test: 9699.0\n"
     ]
    }
   ],
   "source": [
    "train_df = feather.read_dataframe(\"/home/whsu014/data/Post_PREDICT_Train_with_TRUE_85500inds.feather\")\n",
    "print(train_df.columns)\n",
    "print(train_df.shape)\n",
    "print(\"Number of inds in train:\", train_df.shape[0]/29)\n",
    "test_df = feather.read_dataframe(\"/home/whsu014/data/Post_PREDICT_Test_with_TRUE_9699inds.feather\")\n",
    "print(test_df.columns)\n",
    "print(test_df.shape)\n",
    "print(\"Number of inds in test:\", test_df.shape[0]/29)"
   ]
  },
  {
   "cell_type": "code",
   "execution_count": 4,
   "metadata": {},
   "outputs": [
    {
     "name": "stdout",
     "output_type": "stream",
     "text": [
      "85500.0\n",
      "9699.0\n",
      "(1710000, 182)\n",
      "85500.0\n",
      "(193980, 182)\n",
      "9699.0\n"
     ]
    }
   ],
   "source": [
    "# set length to 20\n",
    "train_df = copy.deepcopy(train_df[train_df['QUARTER']>8])\n",
    "test_df = copy.deepcopy(test_df[test_df['QUARTER']>8])\n",
    "print(train_df.shape[0]/20)\n",
    "print(test_df.shape[0]/20)\n",
    "# remove true values\n",
    "# remove QUARTER\n",
    "train_df = train_df.drop(['QUARTER'], axis=1)\n",
    "test_df = test_df.drop(['QUARTER'], axis=1)\n",
    "train_v = copy.deepcopy(train_df.iloc[:, :-7].values)\n",
    "test_v = copy.deepcopy(test_df.iloc[:, :-7].values)\n",
    "print(train_v.shape)\n",
    "print(train_v.shape[0]/20)\n",
    "print(test_v.shape)\n",
    "print(test_v.shape[0]/20)"
   ]
  },
  {
   "cell_type": "code",
   "execution_count": 5,
   "metadata": {},
   "outputs": [
    {
     "name": "stdout",
     "output_type": "stream",
     "text": [
      "LL_PDC: 28\n"
     ]
    }
   ],
   "source": [
    "print('LL_PDC:', train_df.columns.get_loc('LL_PDC'))"
   ]
  },
  {
   "cell_type": "code",
   "execution_count": 15,
   "metadata": {},
   "outputs": [],
   "source": [
    "def setup_xy_last_quarter(time_series_v):\n",
    "    num_of_inds = time_series_v.shape[0]//20\n",
    "    num_of_features = time_series_v.shape[1]\n",
    "    \n",
    "    x_ = np.empty((num_of_inds, num_of_features))\n",
    "    y_ = []\n",
    "    for i in range(num_of_inds):\n",
    "        ind_v = copy.deepcopy(time_series_v[(i*20):((i+1)*20), :])\n",
    "        x_[i, :] = ind_v[15, :]\n",
    "        if sum(ind_v[16:, 28])/4 >= 80:\n",
    "            y_.append(1)\n",
    "        else:\n",
    "            y_.append(0)\n",
    "    return x_, np.array(y_)"
   ]
  },
  {
   "cell_type": "code",
   "execution_count": 16,
   "metadata": {},
   "outputs": [],
   "source": [
    "def setup_xy_aggregated(time_series_v, obs_steps):\n",
    "    num_of_inds = time_series_v.shape[0]//20\n",
    "    num_of_features = time_series_v.shape[1]\n",
    "    \n",
    "    x_ = np.empty((num_of_inds, num_of_features))\n",
    "    y_ = []\n",
    "    for i in range(num_of_inds):\n",
    "        ind_v = copy.deepcopy(time_series_v[(i*20):((i+1)*20), :])\n",
    "        x_[i, 0:9] = ind_v[15, 0:9]\n",
    "        x_[i, 9:169] = np.sum(ind_v[(16-obs_steps):16, 9:169], axis=0)/obs_steps\n",
    "        x_[i, 169:182] = ind_v[15, 169:182]\n",
    "        if sum(ind_v[16:, 28])/4 >= 80:\n",
    "            y_.append(1)\n",
    "        else:\n",
    "            y_.append(0)\n",
    "    return x_, np.array(y_)"
   ]
  },
  {
   "cell_type": "code",
   "execution_count": 17,
   "metadata": {},
   "outputs": [],
   "source": [
    "def setup_xy(time_series_v, obs_steps):\n",
    "    x_ = []\n",
    "    y_ = []\n",
    "    num_of_inds = time_series_v.shape[0]//20\n",
    "    num_of_features = time_series_v.shape[1]\n",
    "    print(\"Number of inds:\", num_of_inds)\n",
    "    print(\"Number of features:\", num_of_features)\n",
    "    for i in range(num_of_inds):\n",
    "        ind_v = time_series_v[(i*20):((i+1)*20), :]\n",
    "        ind_x = ind_v[(16-obs_steps):16, :] # at most len 16\n",
    "        ind_flat_x = []\n",
    "        for j in range(len(ind_x)):\n",
    "            if j == 0:\n",
    "                ind_flat_x.extend(ind_x[j, :])\n",
    "            else:\n",
    "                ind_flat_x.extend(ind_x[j, 1:])\n",
    "        x_.append(np.array(ind_flat_x))\n",
    "        if sum(ind_v[16:20, 28])/4 >= 80:\n",
    "            y_.append(1)\n",
    "        else:\n",
    "            y_.append(0)\n",
    "    return np.array(x_), np.array(y_)"
   ]
  },
  {
   "cell_type": "code",
   "execution_count": 53,
   "metadata": {},
   "outputs": [
    {
     "name": "stdout",
     "output_type": "stream",
     "text": [
      "(85500, 182)\n",
      "(85500,)\n",
      "(9699, 182)\n",
      "(9699,)\n"
     ]
    }
   ],
   "source": [
    "#x_train, y_train = setup_xy(train_v, 4)\n",
    "#x_test, y_test = setup_xy(test_v, 4)\n",
    "\n",
    "#x_train, y_train = setup_xy_aggregated(train_v, 4)\n",
    "#x_test, y_test = setup_xy_aggregated(test_v, 4)\n",
    "\n",
    "x_train, y_train = setup_xy_last_quarter(train_v)\n",
    "x_test, y_test = setup_xy_last_quarter(test_v)\n",
    "\n",
    "print(x_train.shape)\n",
    "print(y_train.shape)\n",
    "print(x_test.shape)\n",
    "print(y_test.shape)"
   ]
  },
  {
   "cell_type": "code",
   "execution_count": 54,
   "metadata": {},
   "outputs": [
    {
     "name": "stdout",
     "output_type": "stream",
     "text": [
      "(85500,)\n"
     ]
    },
    {
     "data": {
      "image/png": "[encoded data removed]",
      "text/plain": [
       "<Figure size 576x360 with 1 Axes>"
      ]
     },
     "metadata": {
      "needs_background": "light"
     },
     "output_type": "display_data"
    }
   ],
   "source": [
    "pyplot.rcParams.update({'font.size': 10})\n",
    "pyplot.figure(figsize=(8,5))\n",
    "pyplot.subplot(111)\n",
    "pyplot.hist(y_train[:], bins=100)\n",
    "\n",
    "pyplot.subplots_adjust(top=0.9, bottom=0.1, left=0.10, right=0.7, hspace=0.4, wspace=0.2)\n",
    "pyplot.show()"
   ]
  },
  {
   "cell_type": "code",
   "execution_count": 55,
   "metadata": {},
   "outputs": [
    {
     "name": "stdout",
     "output_type": "stream",
     "text": [
      "Number of inds: 85500\n",
      "Number per fold: 8550\n",
      "train_x_lr: (85500, 182)\n",
      "train_y_lr: (85500,)\n",
      "val num: 8550\n",
      "Train x shape: (76950, 182)\n",
      "Train y shape: (76950,)\n",
      "Prediction using RidgeCV\n",
      "Alpha: 0.001\n",
      "R^2: 0.85364522417154\n",
      "Test x shape: (9699, 182)\n",
      "Test y shape: (9699,)\n",
      "lr_probs shape: (9699,)\n",
      "(9699, 1)\n",
      "Entire process took:  0.9914746284484863\n"
     ]
    }
   ],
   "source": [
    "num_of_inds = x_train.shape[0]\n",
    "num_per_fold = num_of_inds//10\n",
    "print(\"Number of inds:\", num_of_inds)\n",
    "print(\"Number per fold:\", num_per_fold)\n",
    "\n",
    "rmse_lstm_list = []\n",
    "rmse_naive_list = []\n",
    "\n",
    "\n",
    "start_time = time.time()\n",
    "for f in range(1):\n",
    "    #start = f*num_per_fold\n",
    "    end = (f+1)*num_per_fold\n",
    "    train1_x = x_train[:end, ]\n",
    "    train2_x = x_train[end:, ]\n",
    "    train_x_lr = np.append(train2_x, train1_x, axis=0) #new obj\n",
    "    train1_y = y_train[:end, ]\n",
    "    train2_y = y_train[end:, ]\n",
    "    train_y_lr = np.append(train2_y, train1_y, axis=0)\n",
    "    print(\"train_x_lr:\", train_x_lr.shape)\n",
    "    print(\"train_y_lr:\", train_y_lr.shape)\n",
    "    \n",
    "    # remove data used for \n",
    "    # validation set\n",
    "    val_num = int(np.ceil(train_x_lr.shape[0]/10))\n",
    "    print(\"val num:\", val_num)\n",
    "    train_x = train_x_lr[:-val_num, :]\n",
    "    print(\"Train x shape:\", train_x.shape)\n",
    "    train_y = train_y_lr[:-val_num]\n",
    "    print(\"Train y shape:\", train_y.shape)\n",
    "    \n",
    "    rcv = RidgeClassifierCV(alphas=[1e-6, 1e-5, 1e-4, \n",
    "                                    1e-3, 1e-2, 1e-1,\n",
    "                                    1.0, 10.0], \n",
    "                            normalize=True,\n",
    "                            store_cv_values=True).fit(train_x, train_y)\n",
    "\n",
    "    print(\"Prediction using RidgeCV\")\n",
    "    a = rcv.alpha_\n",
    "    print(\"Alpha:\", a)\n",
    "    print(\"R^2:\", rcv.score(train_x, train_y))\n",
    "    ########################\n",
    "    # Predict on test set\n",
    "    ########################\n",
    "    print(\"Test x shape:\", x_test.shape)\n",
    "    print(\"Test y shape:\", y_test.shape)\n",
    "    \n",
    "    test_yhat = rcv.predict(x_test)\n",
    "    lr_probs = rcv.decision_function(x_test)\n",
    "    print('lr_probs shape:', lr_probs.shape)\n",
    "    print(np.array([lr_probs[: ]]).T.shape)\n",
    "    \n",
    "print(\"Entire process took: \", time.time() - start_time)"
   ]
  },
  {
   "cell_type": "code",
   "execution_count": 56,
   "metadata": {},
   "outputs": [
    {
     "name": "stdout",
     "output_type": "stream",
     "text": [
      "[1 0 1 1 1 0 1 1 0 1]\n",
      "[ 0.71873034 -1.23275249  0.93786788  0.72927474  0.70331616 -0.45656877\n",
      "  0.58998052  0.97119242 -1.01486359  0.55647456]\n",
      "[1 0 1 1 0 0 1 1 0 1]\n"
     ]
    }
   ],
   "source": [
    "print(test_yhat[:10])\n",
    "print(lr_probs[:10])\n",
    "print(y_test[:10])"
   ]
  },
  {
   "cell_type": "code",
   "execution_count": 57,
   "metadata": {},
   "outputs": [
    {
     "name": "stdout",
     "output_type": "stream",
     "text": [
      "(9699, 1)\n"
     ]
    }
   ],
   "source": [
    "lr_probs_df = pd.DataFrame(lr_probs)\n",
    "lr_probs_df.columns = ['LL_COVERED']\n",
    "print(lr_probs_df.shape)\n",
    "#\"/home/whsu014/data/Post_PREDICT_PDC_16to4_RC_yhat.feather\"\n",
    "#Post_PREDICT_PDC_4to4_RC_aggregated_yhat.feather\n",
    "#Post_PREDICT_PDC_RC_last_quarter_yhat.feather\n",
    "feather.write_dataframe(lr_probs_df, \"/home/whsu014/data/Post_PREDICT_PDC_RC_last_quarter_yhat.feather\")"
   ]
  },
  {
   "cell_type": "code",
   "execution_count": null,
   "metadata": {},
   "outputs": [],
   "source": []
  }
 ],
 "metadata": {
  "kernelspec": {
   "display_name": "Python 3",
   "language": "python",
   "name": "python3"
  },
  "language_info": {
   "codemirror_mode": {
    "name": "ipython",
    "version": 3
   },
   "file_extension": ".py",
   "mimetype": "text/x-python",
   "name": "python",
   "nbconvert_exporter": "python",
   "pygments_lexer": "ipython3",
   "version": "3.6.8"
  }
 },
 "nbformat": 4,
 "nbformat_minor": 2
}
