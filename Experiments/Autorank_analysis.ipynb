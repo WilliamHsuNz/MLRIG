{
 "cells": [
  {
   "cell_type": "code",
   "execution_count": 1,
   "metadata": {},
   "outputs": [],
   "source": [
    "import numpy as np\n",
    "import pandas as pd\n",
    "import matplotlib.pyplot as plt\n",
    "import feather\n",
    "from autorank import autorank, plot_stats, create_report, latex_table"
   ]
  },
  {
   "cell_type": "code",
   "execution_count": 2,
   "metadata": {},
   "outputs": [
    {
     "name": "stdout",
     "output_type": "stream",
     "text": [
      "C:\\Users\\whsu014\\Documents\\PhD\\Data\\VIEW\n"
     ]
    }
   ],
   "source": [
    "import os\n",
    "print(os.getcwd())"
   ]
  },
  {
   "cell_type": "code",
   "execution_count": 3,
   "metadata": {},
   "outputs": [
    {
     "name": "stdout",
     "output_type": "stream",
     "text": [
      "(100, 11)\n",
      "Index(['LSTM', 'RNN', 'MLP', 'RC', 'RC (aggregated)', 'RC (last quarter)',\n",
      "       'LR', 'LR (aggregated)', 'LR (last quarter)', 'Cox (aggregated)',\n",
      "       'Cox (last quarter)'],\n",
      "      dtype='object')\n",
      "[[0.423 0.415 0.409 ... 0.412 0.414 0.41 ]\n",
      " [0.449 0.441 0.432 ... 0.436 0.44  0.431]\n",
      " [0.43  0.426 0.415 ... 0.417 0.421 0.415]\n",
      " ...\n",
      " [0.4   0.389 0.394 ... 0.394 0.398 0.39 ]\n",
      " [0.428 0.418 0.413 ... 0.413 0.419 0.408]\n",
      " [0.405 0.394 0.395 ... 0.394 0.399 0.39 ]]\n"
     ]
    }
   ],
   "source": [
    "#ap_scores_df = feather.read_dataframe(\"ap_scores.feather\")\n",
    "ap_scores_df = feather.read_dataframe(\"ap_scores_IFC_patched.feather\")\n",
    "print(ap_scores_df.shape)\n",
    "print(ap_scores_df.columns)\n",
    "print(np.round(ap_scores_df.values, decimals=3))"
   ]
  },
  {
   "cell_type": "code",
   "execution_count": 5,
   "metadata": {
    "scrolled": false
   },
   "outputs": [
    {
     "name": "stdout",
     "output_type": "stream",
     "text": [
      "RankResult(rankdf=\n",
      "                    meanrank      mean       std  ci_lower  ci_upper  \\\n",
      "LSTM                    1.42  0.425688  0.015129  0.422285  0.429091   \n",
      "RC (aggregated)         3.81  0.421214  0.014563  0.417811  0.424617   \n",
      "RC                      3.94  0.420684  0.014941  0.417281  0.424087   \n",
      "LR (aggregated)         3.96  0.420468  0.014024  0.417065  0.423871   \n",
      "RNN                     5.79  0.418110  0.015667  0.414707  0.421513   \n",
      "Cox (aggregated)        6.14  0.417732  0.014230  0.414328  0.421135   \n",
      "RC (last quarter)       6.29  0.417125  0.015463  0.413722  0.420528   \n",
      "MLP                     7.36  0.415512  0.015007  0.412109  0.418915   \n",
      "LR (last quarter)       7.98  0.414577  0.015087  0.411174   0.41798   \n",
      "LR                      9.36  0.411771  0.014794  0.408368  0.415174   \n",
      "Cox (last quarter)      9.95  0.411254  0.015144   0.40785  0.414657   \n",
      "\n",
      "                   effect_size   magnitude  \n",
      "LSTM                         0  negligible  \n",
      "RC (aggregated)       0.301286       small  \n",
      "RC                    0.332805       small  \n",
      "LR (aggregated)       0.357838       small  \n",
      "RNN                   0.492072       small  \n",
      "Cox (aggregated)      0.541745      medium  \n",
      "RC (last quarter)      0.55978      medium  \n",
      "MLP                   0.675318      medium  \n",
      "LR (last quarter)     0.735443      medium  \n",
      "LR                    0.930143       large  \n",
      "Cox (last quarter)    0.953614       large  \n",
      "pvalue=6.1523786481726496e-201\n",
      "cd=None\n",
      "omnibus=anova\n",
      "posthoc=tukeyhsd\n",
      "all_normal=True\n",
      "pvals_shapiro=[0.26100513339042664, 0.8788856863975525, 0.40630272030830383, 0.6519355177879333, 0.6605279445648193, 0.2569199204444885, 0.6517125964164734, 0.5859377384185791, 0.47700604796409607, 0.7754058241844177, 0.47396957874298096]\n",
      "homoscedastic=True\n",
      "pval_homogeneity=0.9951420222734744\n",
      "homogeneity_test=bartlett\n",
      "alpha=0.05\n",
      "alpha_normality=0.004545454545454546\n",
      "num_samples=100\n",
      "posterior_matrix=\n",
      "None\n",
      "decision_matrix=\n",
      "None\n",
      "rope=None\n",
      "rope_mode=None\n",
      "effect_size=cohen_d)\n"
     ]
    },
    {
     "name": "stderr",
     "output_type": "stream",
     "text": [
      "c:\\users\\whsu014\\appdata\\local\\programs\\python\\python36\\lib\\site-packages\\statsmodels\\sandbox\\stats\\multicomp.py:775: UserWarning: FixedFormatter should only be used together with FixedLocator\n",
      "  ax1.set_yticklabels(np.insert(self.groupsunique.astype(str), 0, ''))\n"
     ]
    }
   ],
   "source": [
    "result = autorank(ap_scores_df, alpha=0.05, verbose=False)\n",
    "print(result)"
   ]
  },
  {
   "cell_type": "code",
   "execution_count": 6,
   "metadata": {
    "scrolled": false
   },
   "outputs": [
    {
     "name": "stdout",
     "output_type": "stream",
     "text": [
      "The statistical analysis was conducted for 11 populations with 100 paired samples.\n",
      "The family-wise significance level of the tests is alpha=0.050.\n",
      "We failed to reject the null hypothesis that the population is normal for all populations (minimal observed p-value=0.257). Therefore, we assume that all populations are normal.\n",
      "We applied Bartlett's test for homogeneity and failed to reject the null hypothesis (p=0.995) that the data is homoscedastic. Thus, we assume that our data is homoscedastic.\n",
      "Because we have more than two populations and all populations are normal and homoscedastic, we use repeated measures ANOVA as omnibus test to determine if there are any significant differences between the mean values of the populations. If the results of the ANOVA test are significant, we use the post-hoc Tukey HSD test to infer which differences are significant. We report the mean value (M) and the standard deviation (SD) for each population. Populations are significantly different if their confidence intervals are not overlapping.\n",
      "We reject the null hypothesis (p=0.000) of the repeated measures ANOVA that there is a difference between the mean values of the populations LSTM (M=0.426+-0.003, SD=0.015), RC (aggregated) (M=0.421+-0.003, SD=0.015), RC (M=0.421+-0.003, SD=0.015), LR (aggregated) (M=0.420+-0.003, SD=0.014), RNN (M=0.418+-0.003, SD=0.016), Cox (aggregated) (M=0.418+-0.003, SD=0.014), RC (last quarter) (M=0.417+-0.003, SD=0.015), MLP (M=0.416+-0.003, SD=0.015), LR (last quarter) (M=0.415+-0.003, SD=0.015), LR (M=0.412+-0.003, SD=0.015), and Cox (last quarter) (M=0.411+-0.003, SD=0.015). Therefore, we assume that there is a statistically significant difference between the mean values of the populations.\n",
      "Based post-hoc Tukey HSD test, we assume that there are no significant differences within the following groups: RC (aggregated), RC, LR (aggregated), and RNN; RC, LR (aggregated), RNN, and Cox (aggregated); LR (aggregated), RNN, Cox (aggregated), and RC (last quarter); RNN, Cox (aggregated), RC (last quarter), and MLP; Cox (aggregated), RC (last quarter), MLP, and LR (last quarter); LR (last quarter), LR, and Cox (last quarter). All other differences are significant.\n",
      "\n"
     ]
    }
   ],
   "source": [
    "create_report(result)"
   ]
  },
  {
   "cell_type": "code",
   "execution_count": 8,
   "metadata": {
    "scrolled": true
   },
   "outputs": [
    {
     "data": {
      "image/png": "[encoded data removed]",
      "text/plain": [
       "<Figure size 432x792 with 1 Axes>"
      ]
     },
     "metadata": {},
     "output_type": "display_data"
    }
   ],
   "source": [
    "#plt.figure(figsize=(5, 10))\n",
    "\n",
    "plot_stats(result)\n",
    "plt.tight_layout()\n",
    "figname = \"Plots/CVD_EVENT_Confidence_Intervals_of_the_mean.png\"\n",
    "#plt.savefig(figname)\n",
    "plt.show()"
   ]
  },
  {
   "cell_type": "code",
   "execution_count": 16,
   "metadata": {
    "scrolled": true
   },
   "outputs": [
    {
     "data": {
      "image/png": "[encoded data removed]",
      "text/plain": [
       "<Figure size 720x576 with 1 Axes>"
      ]
     },
     "metadata": {},
     "output_type": "display_data"
    }
   ],
   "source": [
    "plt.rcParams.update({'font.size':16})\n",
    "\n",
    "plt.figure(figsize=(10, 8))\n",
    "plt.ylim([0, 12])\n",
    "plt.xlim([0.400, 0.435])\n",
    "\n",
    "plt.yticks([1,2,3,4,5,6,7,8,9,10,11],\n",
    "           [\"Cox (last quarter)\", \n",
    "            \"LR\", \"LR (last quarter)\",  \n",
    "            \"MLP\", \"RC (last quarter)\", \n",
    "            \"Cox (aggregated)\", \"Simple RNN\", \n",
    "            \"LR (aggregated)\", \"RC\", \n",
    "            \"RC (aggregated)\", \"LSTM\"])\n",
    "\n",
    "plt.xticks([0.400, 0.405, 0.410, 0.415, 0.420, 0.425, 0.430, 0.435])\n",
    "plt.plot(0.425688 , 11, marker='o', color='g')\n",
    "plt.plot([0.422285  , 0.429091], [11, 11], linestyle = '-', color='g') # LSTM\n",
    "plt.plot(0.421214, 10, marker='o', color='sienna')\n",
    "plt.plot([0.417811,  0.424617 ], [10, 10], linestyle = '-', color='sienna') # RC (aggregated)\n",
    "plt.plot(0.420684, 9, marker='o', color='b')\n",
    "plt.plot([0.417281, 0.424087], [9, 9], linestyle = '-', color='b') # RC\n",
    "plt.plot(0.420468, 8, marker='o', color='orange')\n",
    "plt.plot([0.417065, 0.423871], [8, 8], linestyle = '-', color='orange') # LR (aggregated)\n",
    "plt.plot(0.418110, 7, marker='o', color='m')\n",
    "plt.plot([0.414707, 0.421513], [7, 7], linestyle = '-', color='m') # Simple RNN\n",
    "plt.plot(0.417732, 6, marker='o', color='darkslategray')\n",
    "plt.plot([0.414328, 0.421135], [6, 6], linestyle = '-', color='darkslategray') # Cox (aggregated) \n",
    "plt.plot(0.417125, 5, marker='o', color='coral')\n",
    "plt.plot([0.413722, 0.420528], [5, 5], linestyle = '-', color='coral') #RC (last quarter)\n",
    "\n",
    "plt.plot(0.415512, 4, marker='o', color='c')\n",
    "plt.plot([0.412109, 0.418915], [4, 4], linestyle = '-', color='c') # MLP\n",
    "\n",
    "plt.plot(0.414577, 3, marker='o', color='maroon')\n",
    "plt.plot([0.411174, 0.41798], [3, 3], linestyle = '-', color='maroon') # LR (last quarter)\n",
    "\n",
    "plt.plot(0.411771, 2, marker='o', color='olive')\n",
    "plt.plot([0.408368, 0.415174], [2, 2], linestyle = '-', color='olive') # LR\n",
    "\n",
    "plt.plot(0.411254, 1, marker='o', color='red')\n",
    "plt.plot([0.40785, 0.414657], [1, 1], linestyle = '-', color='red') # Cox (last quarter)\n",
    "\n",
    "plt.xlabel(\"Average precision\")\n",
    "\n",
    "plt.tight_layout()\n",
    "figname = \"Plots/CVD_EVENT_Confidence_Intervals_of_the_mean_IFC_patched_colours_short_.png\"\n",
    "plt.savefig(figname)\n",
    "plt.show()"
   ]
  },
  {
   "cell_type": "code",
   "execution_count": 12,
   "metadata": {},
   "outputs": [
    {
     "name": "stdout",
     "output_type": "stream",
     "text": [
      "(100, 2)\n",
      "Index(['LSTM_single', 'LSTM_multi'], dtype='object')\n",
      "[[0.423 0.423]\n",
      " [0.449 0.442]\n",
      " [0.43  0.43 ]\n",
      " [0.396 0.389]\n",
      " [0.432 0.428]\n",
      " [0.414 0.408]\n",
      " [0.439 0.443]\n",
      " [0.434 0.434]\n",
      " [0.422 0.417]\n",
      " [0.428 0.431]\n",
      " [0.426 0.426]\n",
      " [0.439 0.438]\n",
      " [0.452 0.451]\n",
      " [0.438 0.434]\n",
      " [0.424 0.423]\n",
      " [0.417 0.415]\n",
      " [0.449 0.444]\n",
      " [0.436 0.431]\n",
      " [0.423 0.425]\n",
      " [0.438 0.435]\n",
      " [0.453 0.451]\n",
      " [0.426 0.426]\n",
      " [0.433 0.433]\n",
      " [0.425 0.424]\n",
      " [0.428 0.423]\n",
      " [0.423 0.423]\n",
      " [0.429 0.431]\n",
      " [0.452 0.452]\n",
      " [0.438 0.435]\n",
      " [0.411 0.403]\n",
      " [0.408 0.408]\n",
      " [0.447 0.443]\n",
      " [0.447 0.45 ]\n",
      " [0.417 0.418]\n",
      " [0.447 0.446]\n",
      " [0.44  0.446]\n",
      " [0.423 0.426]\n",
      " [0.404 0.4  ]\n",
      " [0.434 0.434]\n",
      " [0.429 0.427]\n",
      " [0.42  0.415]\n",
      " [0.395 0.396]\n",
      " [0.444 0.438]\n",
      " [0.439 0.441]\n",
      " [0.434 0.428]\n",
      " [0.452 0.45 ]\n",
      " [0.415 0.411]\n",
      " [0.416 0.419]\n",
      " [0.414 0.411]\n",
      " [0.437 0.443]\n",
      " [0.415 0.407]\n",
      " [0.406 0.408]\n",
      " [0.419 0.415]\n",
      " [0.41  0.405]\n",
      " [0.445 0.451]\n",
      " [0.44  0.442]\n",
      " [0.404 0.407]\n",
      " [0.436 0.432]\n",
      " [0.406 0.405]\n",
      " [0.413 0.418]\n",
      " [0.448 0.446]\n",
      " [0.432 0.429]\n",
      " [0.43  0.427]\n",
      " [0.421 0.418]\n",
      " [0.439 0.429]\n",
      " [0.439 0.436]\n",
      " [0.413 0.408]\n",
      " [0.437 0.437]\n",
      " [0.382 0.387]\n",
      " [0.428 0.425]\n",
      " [0.415 0.416]\n",
      " [0.415 0.416]\n",
      " [0.418 0.412]\n",
      " [0.411 0.417]\n",
      " [0.409 0.412]\n",
      " [0.399 0.403]\n",
      " [0.397 0.39 ]\n",
      " [0.402 0.406]\n",
      " [0.425 0.418]\n",
      " [0.427 0.428]\n",
      " [0.426 0.425]\n",
      " [0.446 0.451]\n",
      " [0.439 0.437]\n",
      " [0.405 0.403]\n",
      " [0.421 0.416]\n",
      " [0.425 0.431]\n",
      " [0.421 0.419]\n",
      " [0.424 0.426]\n",
      " [0.415 0.415]\n",
      " [0.434 0.439]\n",
      " [0.41  0.408]\n",
      " [0.443 0.445]\n",
      " [0.422 0.42 ]\n",
      " [0.421 0.425]\n",
      " [0.438 0.439]\n",
      " [0.434 0.43 ]\n",
      " [0.441 0.437]\n",
      " [0.4   0.395]\n",
      " [0.428 0.421]\n",
      " [0.405 0.41 ]]\n"
     ]
    }
   ],
   "source": [
    "#ap_scores_df = feather.read_dataframe(\"LSTM_single_multi_ap_scores.feather\")\n",
    "ap_scores_df = feather.read_dataframe(\"LSTM_IFC_Patched_single_multi_ap_scores.feather\")\n",
    "print(ap_scores_df.shape)\n",
    "ap_scores_df.columns = ['LSTM_single', 'LSTM_multi']\n",
    "print(ap_scores_df.columns)\n",
    "print(np.round(ap_scores_df.values, decimals=3))"
   ]
  },
  {
   "cell_type": "code",
   "execution_count": 13,
   "metadata": {
    "scrolled": true
   },
   "outputs": [
    {
     "name": "stdout",
     "output_type": "stream",
     "text": [
      "RankResult(rankdf=\n",
      "             meanrank      mean       std  ci_lower  ci_upper effect_size  \\\n",
      "LSTM_single      1.35  0.425688  0.015129  0.422245  0.429131           0   \n",
      "LSTM_multi       1.65  0.424596  0.015437  0.421082  0.428109   0.0714639   \n",
      "\n",
      "              magnitude  \n",
      "LSTM_single  negligible  \n",
      "LSTM_multi   negligible  \n",
      "pvalue=0.005345269670426502\n",
      "cd=None\n",
      "omnibus=ttest\n",
      "posthoc=None\n",
      "all_normal=True\n",
      "pvals_shapiro=[0.26100513339042664, 0.21537825465202332]\n",
      "homoscedastic=True\n",
      "pval_homogeneity=0.8416210517683739\n",
      "homogeneity_test=bartlett\n",
      "alpha=0.05\n",
      "alpha_normality=0.025\n",
      "num_samples=100\n",
      "posterior_matrix=\n",
      "None\n",
      "decision_matrix=\n",
      "None\n",
      "rope=None\n",
      "rope_mode=None\n",
      "effect_size=cohen_d)\n"
     ]
    }
   ],
   "source": [
    "result = autorank(ap_scores_df, alpha=0.05, verbose=False)\n",
    "print(result)"
   ]
  },
  {
   "cell_type": "code",
   "execution_count": 14,
   "metadata": {},
   "outputs": [
    {
     "name": "stdout",
     "output_type": "stream",
     "text": [
      "The statistical analysis was conducted for 2 populations with 100 paired samples.\n",
      "The family-wise significance level of the tests is alpha=0.050.\n",
      "We failed to reject the null hypothesis that the population is normal for all populations (minimal observed p-value=0.215). Therefore, we assume that all populations are normal.\n",
      "No check for homogeneity was required because we only have two populations.\n",
      "Because we have only two populations and both populations are normal, we use the t-test to determine differences between the mean values of the populations and report the mean value (M)and the standard deviation (SD) for each population. \n",
      "We reject the null hypothesis (p=0.005) of the paired t-test that the mean values of the populations LSTM_single (M=0.426+-0.003, SD=0.015) and LSTM_multi (M=0.425+-0.004, SD=0.015) are equal. Therefore, we assume that the mean value of LSTM_single is significantly larger than the mean value of LSTM_multi with a negligible effect size (d=0.071).\n"
     ]
    }
   ],
   "source": [
    "create_report(result)"
   ]
  },
  {
   "cell_type": "code",
   "execution_count": 15,
   "metadata": {},
   "outputs": [
    {
     "data": {
      "image/png": "[encoded data removed]",
      "text/plain": [
       "<Figure size 432x144 with 1 Axes>"
      ]
     },
     "metadata": {},
     "output_type": "display_data"
    }
   ],
   "source": [
    "#plt.figure(figsize=(5, 10))\n",
    "plot_stats(result)\n",
    "plt.tight_layout()\n",
    "#figname = \"Plots/CVD_EVENT_Confidence_Intervals_of_the_mean.png\"\n",
    "#plt.savefig(figname)\n",
    "plt.show()"
   ]
  },
  {
   "cell_type": "code",
   "execution_count": 19,
   "metadata": {
    "scrolled": true
   },
   "outputs": [
    {
     "data": {
      "image/png": "[encoded data removed]",
      "text/plain": [
       "<Figure size 720x288 with 1 Axes>"
      ]
     },
     "metadata": {},
     "output_type": "display_data"
    }
   ],
   "source": [
    "plt.rcParams.update({'font.size':16})\n",
    "\n",
    "plt.figure(figsize=(10, 4))\n",
    "plt.ylim([0, 3])\n",
    "plt.xlim([0.419, 0.431])\n",
    "plt.yticks([1,2], ['LSTM multi-output', 'LSTM single-output'])\n",
    "\n",
    "plt.plot(0.425688, 2, marker='o', color='g')\n",
    "plt.plot([0.422245, 0.429131], [2, 2], linestyle = '-', color='g')\n",
    "plt.plot(0.424596 , 1, marker='o', color='indigo')\n",
    "plt.plot([0.421082, 0.428109], [1, 1], linestyle = '-', color='indigo')\n",
    "plt.xlabel(\"Average precision\")\n",
    "plt.tight_layout()\n",
    "figname = \"Plots/CVD_EVENT_IFC_patched_confidence_intervals_of_the_mean_colours_multi_I.png\"\n",
    "plt.savefig(figname)\n",
    "plt.show()"
   ]
  },
  {
   "cell_type": "code",
   "execution_count": null,
   "metadata": {
    "collapsed": true
   },
   "outputs": [],
   "source": []
  }
 ],
 "metadata": {
  "kernelspec": {
   "display_name": "Python 3",
   "language": "python",
   "name": "python3"
  },
  "language_info": {
   "codemirror_mode": {
    "name": "ipython",
    "version": 3
   },
   "file_extension": ".py",
   "mimetype": "text/x-python",
   "name": "python",
   "nbconvert_exporter": "python",
   "pygments_lexer": "ipython3",
   "version": "3.6.8"
  }
 },
 "nbformat": 4,
 "nbformat_minor": 2
}
