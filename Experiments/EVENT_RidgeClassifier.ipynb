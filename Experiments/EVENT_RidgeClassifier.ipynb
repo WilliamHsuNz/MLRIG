{
 "cells": [
  {
   "cell_type": "code",
   "execution_count": 1,
   "metadata": {},
   "outputs": [],
   "source": [
    "import os\n",
    "import pandas as pd\n",
    "import datetime\n",
    "from matplotlib import pyplot\n",
    "from sklearn.preprocessing import MinMaxScaler\n",
    "from sklearn.preprocessing import StandardScaler\n",
    "from sklearn.preprocessing import LabelEncoder\n",
    "from sklearn.preprocessing import OneHotEncoder\n",
    "from sklearn.metrics import mean_squared_error\n",
    "from sklearn.metrics import mean_absolute_error\n",
    "from sklearn.linear_model import LinearRegression\n",
    "from sklearn.linear_model import RidgeClassifierCV\n",
    "from sklearn.linear_model import LogisticRegression\n",
    "from sklearn.utils import class_weight\n",
    "import numpy as np\n",
    "import scipy \n",
    "import math\n",
    "import h5py\n",
    "import time\n",
    "import copy\n",
    "import sys\n",
    "import feather\n",
    "from sklearn.metrics import mean_absolute_error\n",
    "from numpy.random import seed\n",
    "pd.set_option('display.max_rows', None)\n",
    "pd.set_option('display.max_columns', None)\n",
    "pd.set_option('display.width', None)\n",
    "pd.set_option('display.max_colwidth', -1)\n",
    "seed(123)\n",
    "from tensorflow import set_random_seed\n",
    "set_random_seed(456)\n",
    "np.set_printoptions(threshold=sys.maxsize)"
   ]
  },
  {
   "cell_type": "code",
   "execution_count": 2,
   "metadata": {},
   "outputs": [
    {
     "name": "stdout",
     "output_type": "stream",
     "text": [
      "Index(['VSIMPLE_INDEX_MASTER', 'QUARTER', 'AGE', 'SEX', 'NZDEP', 'ETHN_1',\n",
      "       'ETHN_2', 'ETHN_3', 'ETHN_4', 'ETHN_5',\n",
      "       ...\n",
      "       'PT_DIABETES_YR', 'PT_ATRIAL_FIBRILLATION', 'PT_IMP_FATAL_CVD',\n",
      "       'TRUE_HDL', 'TRUE_LDL', 'TRUE_TRI', 'TRUE_TCL', 'TRUE_TCHDL',\n",
      "       'TRUE_HBA1C', 'TRUE_EGFR'],\n",
      "      dtype='object', length=191)\n",
      "(2902784, 191)\n",
      "[0.]\n",
      "(2902784, 190)\n",
      "Number of inds: 100096\n",
      "100096.0\n",
      "100096.0\n",
      "(2520000, 182)\n",
      "90000.0\n",
      "Index(['VSIMPLE_INDEX_MASTER', 'AGE', 'SEX', 'NZDEP', 'ETHN_1', 'ETHN_2',\n",
      "       'ETHN_3', 'ETHN_4', 'ETHN_5', 'TEST',\n",
      "       ...\n",
      "       'PT_DIABETES_YR', 'PT_ATRIAL_FIBRILLATION', 'PT_IMP_FATAL_CVD',\n",
      "       'TRUE_HDL', 'TRUE_LDL', 'TRUE_TRI', 'TRUE_TCL', 'TRUE_TCHDL',\n",
      "       'TRUE_HBA1C', 'TRUE_EGFR'],\n",
      "      dtype='object', length=189)\n",
      "(282688, 189)\n",
      "Number of inds: 10096\n"
     ]
    }
   ],
   "source": [
    "# set up training set\n",
    "#view_1hot_df = feather.read_dataframe(\"/home/whsu014/data/view_1hot_nona_len29_float_age_impute_and_True_HG_100096inds.feather\")\n",
    "view_1hot_df = feather.read_dataframe(\"/home/whsu014/data/view_imp_fatal_cvd_patched_100096inds.feather\")\n",
    "print(view_1hot_df.columns)\n",
    "print(view_1hot_df.shape)\n",
    "\n",
    "print(view_1hot_df['CVD_ISOSORBRIDE_DINITRATE'].unique())\n",
    "view_1hot_df = view_1hot_df.drop(['CVD_ISOSORBRIDE_DINITRATE'], axis=1)\n",
    "print(view_1hot_df.shape)\n",
    "print(\"Number of inds:\", len(view_1hot_df['VSIMPLE_INDEX_MASTER'].unique()))\n",
    "# set length to 28\n",
    "print(view_1hot_df.shape[0]/29)\n",
    "view_1hot_df = copy.deepcopy(view_1hot_df[view_1hot_df['QUARTER']!=0])\n",
    "print(view_1hot_df.shape[0]/28)\n",
    "##########################################################\n",
    "# make balanced data\n",
    "##########################################################\n",
    "#balanced_ids_train = feather.read_dataframe(\"/home/whsu014/data/EVENT_balanced_ids_train.feather\")\n",
    "#view_1hot_df = view_1hot_df[view_1hot_df[\"VSIMPLE_INDEX_MASTER\"].isin\\\n",
    "#                            (balanced_ids_train[\"VSIMPLE_INDEX_MASTER\"])]\n",
    "##########################################################\n",
    "# Take 90000 inds for train and validation set\n",
    "# remove true values\n",
    "# remove QUARTER\n",
    "view_1hot_df = view_1hot_df.drop(['QUARTER'], axis=1)\n",
    "train_v = copy.deepcopy(view_1hot_df.iloc[:(28*90000), :-7].values)\n",
    "print(train_v.shape)\n",
    "print(train_v.shape[0]/28)\n",
    "\n",
    "# set up test set\n",
    "#test_df = feather.read_dataframe(\"/home/whsu014/data/Test_set_with_TRUE_10096inds.feather\")\n",
    "test_df = feather.read_dataframe(\"/home/whsu014/data/test_imp_fatal_cvd_patched_10096inds.feather\")\n",
    "print(test_df.columns)\n",
    "print(test_df.shape)\n",
    "print(\"Number of inds:\", len(test_df['VSIMPLE_INDEX_MASTER'].unique()))\n",
    "##########################################################\n",
    "# make balanced data\n",
    "##########################################################\n",
    "#balanced_ids_test = feather.read_dataframe(\"/home/whsu014/data/EVENT_balanced_ids_test.feather\")\n",
    "#test_df = test_df[test_df[\"VSIMPLE_INDEX_MASTER\"].isin\\\n",
    "#                 (balanced_ids_test[\"VSIMPLE_INDEX_MASTER\"])]\n",
    "##########################################################\n",
    "test_v = copy.deepcopy(test_df.iloc[:, :-7].values)"
   ]
  },
  {
   "cell_type": "code",
   "execution_count": 3,
   "metadata": {},
   "outputs": [
    {
     "name": "stdout",
     "output_type": "stream",
     "text": [
      "Unique ids in balanced train set: 90000\n",
      "Unique ids in balanced test set: 10096\n"
     ]
    }
   ],
   "source": [
    "print(\"Unique ids in balanced train set:\", len(np.unique(train_v[:, 0])))\n",
    "print(\"Unique ids in balanced test set:\", len(np.unique(test_v[:, 0])))"
   ]
  },
  {
   "cell_type": "code",
   "execution_count": 4,
   "metadata": {},
   "outputs": [
    {
     "name": "stdout",
     "output_type": "stream",
     "text": [
      "Number of days: 120\n",
      "Acute adm: 121\n",
      "Mortality broad cvd with other: 143\n",
      "out broad_cvd: 145\n",
      "out atrial fibrillation: 162\n",
      "PT IMP FATAL CVD: 181\n"
     ]
    }
   ],
   "source": [
    "print(\"Number of days:\", view_1hot_df.columns.get_loc('NUMBER_OF_DAYS'))\n",
    "print(\"Acute adm:\", view_1hot_df.columns.get_loc('ACUTE_ADM'))\n",
    "print(\"Mortality broad cvd with other:\", view_1hot_df.columns.get_loc('mortality_broad_cvd_with_other'))\n",
    "print(\"out broad_cvd:\", view_1hot_df.columns.get_loc('out_broad_cvd'))\n",
    "print(\"out atrial fibrillation:\", view_1hot_df.columns.get_loc('out_atrial_fibrillation'))\n",
    "print(\"PT IMP FATAL CVD:\", view_1hot_df.columns.get_loc('PT_IMP_FATAL_CVD'))"
   ]
  },
  {
   "cell_type": "code",
   "execution_count": 5,
   "metadata": {},
   "outputs": [
    {
     "name": "stdout",
     "output_type": "stream",
     "text": [
      "AGE: 1\n",
      "NZDEP: 3\n",
      "ETHN_1: 4\n",
      "ETHN_5: 8\n",
      "TEST: 9\n",
      "HDL: 10\n",
      "LDL: 11\n",
      "TRI: 12\n",
      "TCL: 13\n",
      "TCHDL: 14\n",
      "TESTED: 15\n",
      "DIED: 16\n",
      "############# PHARMS ##############\n",
      "LL_SIMVASTATIN: 17\n",
      "LL_PDC: 28\n",
      "CVD_FELODIPINE: 29\n",
      "CVD_HYDROCHLOROTHIAZIDE: 81\n",
      "OTHER_TENOXICAM: 82\n",
      "OTHER_VILDAGLIPTIN: 119\n",
      "############# NMDS ##############\n",
      "NUMBER_OF_DAYS: 120\n",
      "hx_broad_cvd: 122\n",
      "out_atrial_fibrillation: 162\n",
      "############# HbA1c, GFR and PT ##############\n",
      "HBA1C: 163\n",
      "TEST_HBA1C: 164\n",
      "TESTED_HBA1c: 165\n",
      "EGFR: 166\n",
      "TEST_EGFR: 167\n",
      "TESTED_EGFR: 168\n",
      "PT_SBP: 169\n",
      "PT_DIABETES_YR: 179\n",
      "PT_ATRIAL_FIBRILLATION: 180\n",
      "PT_IMP_FATAL_CVD: 181\n"
     ]
    }
   ],
   "source": [
    "print('AGE:', view_1hot_df.columns.get_loc('AGE'))\n",
    "print('NZDEP:', view_1hot_df.columns.get_loc('NZDEP'))\n",
    "print('ETHN_1:', view_1hot_df.columns.get_loc('ETHN_1'))\n",
    "print('ETHN_5:', view_1hot_df.columns.get_loc('ETHN_5'))\n",
    "print('TEST:', view_1hot_df.columns.get_loc('TEST'))\n",
    "print('HDL:', view_1hot_df.columns.get_loc('HDL'))\n",
    "print('LDL:', view_1hot_df.columns.get_loc('LDL'))\n",
    "print('TRI:', view_1hot_df.columns.get_loc('TRI'))\n",
    "print('TCL:', view_1hot_df.columns.get_loc('TCL'))\n",
    "print('TCHDL:', view_1hot_df.columns.get_loc('TCHDL'))\n",
    "print('TESTED:', view_1hot_df.columns.get_loc('TESTED'))\n",
    "print('DIED:', view_1hot_df.columns.get_loc('DIED'))\n",
    "print('############# PHARMS ##############')\n",
    "print('LL_SIMVASTATIN:', view_1hot_df.columns.get_loc('LL_SIMVASTATIN'))\n",
    "print('LL_PDC:', view_1hot_df.columns.get_loc('LL_PDC'))\n",
    "print('CVD_FELODIPINE:', view_1hot_df.columns.get_loc('CVD_FELODIPINE'))\n",
    "print('CVD_HYDROCHLOROTHIAZIDE:', view_1hot_df.columns.get_loc('CVD_HYDROCHLOROTHIAZIDE'))\n",
    "print('OTHER_TENOXICAM:', view_1hot_df.columns.get_loc('OTHER_TENOXICAM'))\n",
    "print('OTHER_VILDAGLIPTIN:', view_1hot_df.columns.get_loc('OTHER_VILDAGLIPTIN'))\n",
    "print('############# NMDS ##############')\n",
    "print('NUMBER_OF_DAYS:', view_1hot_df.columns.get_loc('NUMBER_OF_DAYS'))\n",
    "print('hx_broad_cvd:', view_1hot_df.columns.get_loc('hx_broad_cvd'))\n",
    "print('out_atrial_fibrillation:', view_1hot_df.columns.get_loc('out_atrial_fibrillation'))\n",
    "print('############# HbA1c, GFR and PT ##############')\n",
    "print('HBA1C:', view_1hot_df.columns.get_loc('HBA1C'))\n",
    "print('TEST_HBA1C:', view_1hot_df.columns.get_loc('TEST_HBA1C'))\n",
    "print('TESTED_HBA1c:', view_1hot_df.columns.get_loc('TESTED_HBA1C'))\n",
    "print('EGFR:', view_1hot_df.columns.get_loc('EGFR'))\n",
    "print('TEST_EGFR:',view_1hot_df.columns.get_loc('TEST_EGFR'))\n",
    "print('TESTED_EGFR:', view_1hot_df.columns.get_loc('TESTED_EGFR'))\n",
    "print('PT_SBP:', view_1hot_df.columns.get_loc('PT_SBP'))\n",
    "print('PT_DIABETES_YR:', view_1hot_df.columns.get_loc('PT_DIABETES_YR'))\n",
    "print('PT_ATRIAL_FIBRILLATION:', view_1hot_df.columns.get_loc('PT_ATRIAL_FIBRILLATION'))\n",
    "print('PT_IMP_FATAL_CVD:', view_1hot_df.columns.get_loc('PT_IMP_FATAL_CVD'))"
   ]
  },
  {
   "cell_type": "code",
   "execution_count": 6,
   "metadata": {},
   "outputs": [
    {
     "name": "stdout",
     "output_type": "stream",
     "text": [
      "['VSIMPLE_INDEX_MASTER', 'AGE', 'SEX', 'NZDEP', 'ETHN_1', 'ETHN_2', 'ETHN_3', 'ETHN_4', 'ETHN_5', 'TEST', 'HDL', 'LDL', 'TRI', 'TCL', 'TCHDL', 'TESTED', 'DIED', 'LL_SIMVASTATIN', 'LL_BEZAFIBRATE', 'LL_ATORVASTATIN', 'LL_EZETIMIBE', 'LL_NICOTINIC_ACID', 'LL_ACIPIMOX', 'LL_CHOLESTYRAMINE', 'LL_COLESTIPOL_HYDROCHLORIDE', 'LL_PRAVASTATIN', 'LL_EZETIMIBE_WITH_SIMVASTATIN', 'LL_GEMFIBROZIL', 'LL_PDC', 'CVD_FELODIPINE', 'CVD_QUINAPRIL', 'CVD_METOPROLOL_SUCCINATE', 'CVD_CILAZAPRIL', 'CVD_ATENOLOL', 'CVD_BENDROFLUMETHIAZIDE', 'CVD_WARFARIN_SODIUM', 'CVD_FUROSEMIDE', 'CVD_CELIPROLOL', 'CVD_DILTIAZEM_HYDROCHLORIDE', 'CVD_ASPIRIN', 'CVD_NIFEDIPINE', 'CVD_CAPTOPRIL', 'CVD_DIPYRIDAMOLE', 'CVD_CANDESARTAN_CILEXETIL', 'CVD_INDAPAMIDE', 'CVD_ENALAPRIL_MALEATE', 'CVD_SOTALOL', 'CVD_GLYCERYL_TRINITRATE', 'CVD_ISOSORBIDE_MONONITRATE', 'CVD_PINDOLOL', 'CVD_CARVEDILOL', 'CVD_METHYLDOPA', 'CVD_LOSARTAN_POTASSIUM', 'CVD_VERAPAMIL_HYDROCHLORIDE', 'CVD_AMILORIDE_HYDROCHLORIDE', 'CVD_CLONIDINE_HYDROCHLORIDE', 'CVD_CLONIDINE', 'CVD_NADOLOL', 'CVD_PROPRANOLOL', 'CVD_AMLODIPINE', 'CVD_LABETALOL', 'CVD_LISINOPRIL', 'CVD_TRIAMTERENE', 'CVD_TIMOLOL', 'CVD_METOPROLOL_TARTRATE', 'CVD_ACEBUTOLOL', 'CVD_PERHEXILINE_MALEATE', 'CVD_CHLORTALIDONE', 'CVD_BUMETANIDE', 'CVD_PERINDOPRIL', 'CVD_TRANDOLAPRIL', 'CVD_CLOPIDOGREL', 'CVD_ISRADIPINE', 'CVD_RIVAROXABAN', 'CVD_DABIGATRAN', 'CVD_BISOPROLOL_FUMARATE', 'CVD_PRASUGREL', 'CVD_NICORANDIL', 'CVD_METOLAZONE', 'CVD_TICAGRELOR', 'CVD_HYDRALAZINE_HYDROCHLORIDE', 'CVD_HYDROCHLOROTHIAZIDE', 'OTHER_TENOXICAM', 'OTHER_PANTOPRAZOLE', 'OTHER_OMEPRAZOLE', 'OTHER_NAPROXEN_SODIUM', 'OTHER_DICLOFENAC_SODIUM', 'OTHER_METFORMIN_HYDROCHLORIDE', 'OTHER_SULINDAC', 'OTHER_GLICLAZIDE', 'OTHER_GLIPIZIDE', 'OTHER_INSULIN_ISOPHANE', 'OTHER_INSULIN_NEUTRAL', 'OTHER_KETOPROFEN', 'OTHER_IBUPROFEN', 'OTHER_INSULIN_ASPART', 'OTHER_PREDNISONE', 'OTHER_INDOMETHACIN', 'OTHER_NAPROXEN', 'OTHER_GLIBENCLAMIDE', 'OTHER_RANITIDINE', 'OTHER_PIROXICAM', 'OTHER_INSULIN_LISPRO', 'OTHER_TIAPROFENIC_ACID', 'OTHER_PIOGLITAZONE', 'OTHER_DEXAMETHASONE', 'OTHER_INSULIN_ZINC_SUSPENSION', 'OTHER_HYDROCORTISONE', 'OTHER_PREDNISOLONE', 'OTHER_TOLBUTAMIDE', 'OTHER_MEFENAMIC_ACID', 'OTHER_LANSOPRAZOLE', 'OTHER_METHYLPREDNISOLONE', 'OTHER_INSULIN_GLARGINE', 'OTHER_INSULIND_GLULISINE', 'OTHER_AMOXYCILLIN', 'OTHER_CLARITHROMYCIN', 'OTHER_INSULIN_LISPRO_PROTAMINE', 'OTHER_INSULIN_ASPART_PROTAMINE', 'OTHER_VILDAGLIPTIN', 'NUMBER_OF_DAYS', 'ACUTE_ADM', 'hx_broad_cvd', 'hx_athero_cvd', 'hx_chd_diags', 'hx_acs', 'hx_mi', 'hx_unst_angina', 'hx_angina', 'hx_other_chd', 'hx_chd_procs', 'hx_pci', 'hx_cabg', 'hx_other_chd_procs', 'hx_pvd_diags', 'hx_pvd_procs', 'hx_haemorrhagic_stroke', 'hx_cevd', 'hx_ischaemic_stroke', 'hx_tia', 'hx_other_cevd', 'hx_heart_failure', 'hx_atrial_fibrillation', 'mortality_broad_cvd_with_other', 'mortality_other_related_cvd_deaths', 'out_broad_cvd', 'out_athero_cvd', 'out_chd', 'out_mi', 'out_acs', 'out_unst_angina', 'out_angina', 'out_other_chd', 'out_pvd_diags', 'out_pvd_procs', 'out_pci_cabg', 'out_haemorrhagic_stroke', 'out_cevd', 'out_ischaemic_stroke', 'out_tia', 'out_other_cevd', 'out_heart_failure', 'out_atrial_fibrillation', 'HBA1C', 'TEST_HBA1C', 'TESTED_HBA1C', 'EGFR', 'TEST_EGFR', 'TESTED_EGFR', 'PT_SBP', 'PT_SBP2', 'PT_DBP', 'PT_DBP2', 'PT_SMOKING', 'PT_EN_TCHDL', 'PT_DIABETES', 'PT_FAMILY_HISTORY', 'PT_GEN_LIPID', 'PT_RENAL', 'PT_DIABETES_YR', 'PT_ATRIAL_FIBRILLATION', 'PT_IMP_FATAL_CVD', 'TRUE_HDL', 'TRUE_LDL', 'TRUE_TRI', 'TRUE_TCL', 'TRUE_TCHDL', 'TRUE_HBA1C', 'TRUE_EGFR']\n"
     ]
    }
   ],
   "source": [
    "print(list(view_1hot_df.columns))"
   ]
  },
  {
   "cell_type": "code",
   "execution_count": 9,
   "metadata": {},
   "outputs": [],
   "source": [
    "def setup_xy_last_quarter(time_series_v):\n",
    "    num_of_inds = time_series_v.shape[0]//28\n",
    "    num_of_features = time_series_v.shape[1]\n",
    "    \n",
    "    x_ = np.empty((num_of_inds, num_of_features))\n",
    "    y_ = []\n",
    "    for i in range(num_of_inds):\n",
    "        ind_v = copy.deepcopy(time_series_v[(i*28):((i+1)*28), :])\n",
    "        x_[i, :] = ind_v[7, :]\n",
    "        ###########################\n",
    "        # construct y\n",
    "        ###########################\n",
    "        event = False\n",
    "        for j in range(8, 28):\n",
    "            if ind_v[j, 121] == 1.0 and \\\n",
    "                1.0 in ind_v[j, 143:162]: # an acute CVD event\n",
    "                event = True\n",
    "        if 1.0 in ind_v[8:, 181]: # a CVD death\n",
    "            event = True\n",
    "        if event:\n",
    "            y_.append(1)\n",
    "        else:\n",
    "            y_.append(0)\n",
    "    return x_, np.array(y_)"
   ]
  },
  {
   "cell_type": "code",
   "execution_count": 10,
   "metadata": {},
   "outputs": [],
   "source": [
    "def setup_xy_aggregated(time_series_v):\n",
    "    num_of_inds = time_series_v.shape[0]//28\n",
    "    num_of_features = time_series_v.shape[1]\n",
    "    \n",
    "    x_ = np.empty((num_of_inds, num_of_features))\n",
    "    y_ = []\n",
    "    for i in range(num_of_inds):\n",
    "        ind_v = copy.deepcopy(time_series_v[(i*28):((i+1)*28), :])\n",
    "        x_[i, 0:9] = ind_v[7, 0:9]\n",
    "        x_[i, 9:169] = np.sum(ind_v[:8, 9:169], axis=0)/8.0\n",
    "        x_[i, 169:182] = ind_v[7, 169:182]\n",
    "        ###########################\n",
    "        # construct y\n",
    "        ###########################\n",
    "        event = False\n",
    "        for j in range(8, 28):\n",
    "            if ind_v[j, 121] == 1.0 and \\\n",
    "                1.0 in ind_v[j, 143:162]: # an acute CVD event\n",
    "                event = True\n",
    "        if 1.0 in ind_v[8:, 181]:  # a CVD death\n",
    "            event = True\n",
    "        if event:\n",
    "            y_.append(1)\n",
    "        else:\n",
    "            y_.append(0)\n",
    "    return x_, np.array(y_)"
   ]
  },
  {
   "cell_type": "code",
   "execution_count": 11,
   "metadata": {},
   "outputs": [],
   "source": [
    "def setup_xy(time_series_v):\n",
    "    x_ = []\n",
    "    y_ = []\n",
    "    num_of_inds = time_series_v.shape[0]//28\n",
    "    num_of_features = time_series_v.shape[1]\n",
    "    print(\"Number of inds:\", num_of_inds)\n",
    "    print(\"Number of features:\", num_of_features)\n",
    "    for i in range(num_of_inds):\n",
    "        ind_v = time_series_v[(i*28):((i+1)*28), :]\n",
    "        ind_x = ind_v[:8, :] \n",
    "        ind_flat_x = []\n",
    "        for j in range(len(ind_x)):\n",
    "            if j == 0:\n",
    "                ind_flat_x.extend(ind_x[j, :])\n",
    "            else:\n",
    "                ind_flat_x.extend(ind_x[j, 1:])\n",
    "        x_.append(np.array(ind_flat_x))\n",
    "        ###########################\n",
    "        # construct y\n",
    "        ###########################\n",
    "        event = False\n",
    "        for j in range(8, 28):\n",
    "            if ind_v[j, 121] == 1.0 and \\\n",
    "                1.0 in ind_v[j, 143:162]: # an acute CVD event\n",
    "                event = True\n",
    "        if 1.0 in ind_v[8:, 181]: # a CVD death\n",
    "            event = True\n",
    "        if event:\n",
    "            y_.append(1)\n",
    "        else:\n",
    "            y_.append(0)\n",
    "    return np.array(x_), np.array(y_)"
   ]
  },
  {
   "cell_type": "code",
   "execution_count": 55,
   "metadata": {},
   "outputs": [
    {
     "name": "stdout",
     "output_type": "stream",
     "text": [
      "(90000, 182)\n",
      "(90000,)\n",
      "(10096, 182)\n",
      "(10096,)\n",
      "10945\n",
      "1286\n"
     ]
    }
   ],
   "source": [
    "#x_train, y_train = setup_xy(train_v)\n",
    "#x_test, y_test = setup_xy(test_v)\n",
    "\n",
    "#x_train, y_train = setup_xy_aggregated(train_v)\n",
    "#x_test, y_test = setup_xy_aggregated(test_v)\n",
    "\n",
    "x_train, y_train = setup_xy_last_quarter(train_v)\n",
    "x_test, y_test = setup_xy_last_quarter(test_v)\n",
    "\n",
    "print(x_train.shape)\n",
    "print(y_train.shape)\n",
    "print(x_test.shape)\n",
    "print(y_test.shape)\n",
    "print(np.count_nonzero(y_train==1))\n",
    "print(np.count_nonzero(y_test==1))\n",
    "#print(y_train[y_train==1].shape)\n",
    "#print(y_test[y_test==1].shape)"
   ]
  },
  {
   "cell_type": "code",
   "execution_count": 56,
   "metadata": {},
   "outputs": [],
   "source": [
    "# For Logistic Regression\n",
    "scaler = MinMaxScaler()\n",
    "scaled_train = scaler.fit_transform(x_train)\n",
    "scaled_test = scaler.transform(x_test)\n",
    "x_train = scaled_train\n",
    "x_test = scaled_test"
   ]
  },
  {
   "cell_type": "code",
   "execution_count": 11,
   "metadata": {},
   "outputs": [
    {
     "name": "stdout",
     "output_type": "stream",
     "text": [
      "[0 0 0 0 0 0 0 1 0 0 0 0 0 0 0 0 0 0 1 0 0 1 0 0 1 0 0 0 0 0 0 0 0 0 0 0 0\n",
      " 1 0 0 1 0 0 0 0 0 0 0 0 0 0 0 1 0 0 0 0 0 0 0 0 0 0 0 0 0 0 0 1 0 0 0 0 0\n",
      " 0 0 0 0 0 1 0 0 0 0 0 0 0 0 1 0 0 0 0 0 0 0 0 1 0 0]\n",
      "[1 0 1 1 0 0 1 0 0 0 0 0 0 0 0 0 0 0 0 0 0 1 0 0 0 0 0 1 1 0 0 0 0 0 0 0 0\n",
      " 0 0 0 0 0 0 0 0 0 0 0 0 1 0 0 0 0 1 0 0 0 0 0 0 0 0 0 0 0 0 0 0 0 0 0 0 0\n",
      " 0 0 0 0 0 0 0 0 0 0 0 0 0 0 0 0 0 0 0 0 0 0 0 0 0 0]\n",
      "(90000,)\n",
      "(78528,)\n",
      "(11472,)\n",
      "\n",
      "(10096,)\n",
      "(8739,)\n",
      "(1357,)\n"
     ]
    }
   ],
   "source": [
    "print(y_train[:100])\n",
    "print(y_test[:100])\n",
    "print(y_train.shape)\n",
    "print(y_train[y_train[:] == 0].shape)\n",
    "print(y_train[y_train[:] == 1].shape)\n",
    "print()\n",
    "print(y_test.shape)\n",
    "print(y_test[y_test[:] == 0].shape)\n",
    "print(y_test[y_test[:] == 1].shape)"
   ]
  },
  {
   "cell_type": "code",
   "execution_count": 15,
   "metadata": {},
   "outputs": [
    {
     "data": {
      "image/png": "[encoded data removed]",
      "text/plain": [
       "<Figure size 576x648 with 1 Axes>"
      ]
     },
     "metadata": {
      "needs_background": "light"
     },
     "output_type": "display_data"
    }
   ],
   "source": [
    "pyplot.rcParams.update({'font.size':16})\n",
    "pyplot.figure(figsize=(8,9))\n",
    "\n",
    "fs= 20\n",
    "pyplot.subplot(111)\n",
    "pyplot.hist(y_test[:], bins=10, color='gray')\n",
    "\n",
    "pyplot.subplots_adjust(top=0.9, bottom=0.1, left=0.10, right=0.90, hspace=0.4, wspace=0.2)\n",
    "\n",
    "pyplot.xlim(-0.2, 1.2)\n",
    "pyplot.xticks([0.05, 0.95], [\"No Event\", \"Event\"], fontsize=fs*1.2)\n",
    "pyplot.title('No Event and Event Class Frequency \\n (test set)', fontsize=fs*1.3)\n",
    "pyplot.xlabel('Classes', fontsize=fs*1.2)\n",
    "pyplot.ylabel('Count', fontsize=fs*1.2)\n",
    "#pyplot.legend(fontsize=fs*0.8, loc='lower right')\n",
    "filename = \"/home/whsu014/plots/EVENT_class_frequency_test_I.png\"\n",
    "#pyplot.savefig(filename, bbox_inches='tight')\n",
    "pyplot.show()"
   ]
  },
  {
   "cell_type": "code",
   "execution_count": 57,
   "metadata": {},
   "outputs": [
    {
     "name": "stdout",
     "output_type": "stream",
     "text": [
      "Number of inds: 90000\n",
      "Number per fold: 9000\n",
      "train_x_lr: (90000, 182)\n",
      "train_y_lr: (90000,)\n",
      "val num: 9000\n",
      "Train x shape: (81000, 182)\n",
      "Train y shape: (81000,)\n",
      "Val x shape: (9000, 182)\n",
      "Val y shape: (9000,)\n",
      "Mean accuracy: 0.7577777777777778\n",
      "Test x shape: (10096, 182)\n",
      "Test y shape: (10096,)\n",
      "Regression model probs shape: (10096,)\n",
      "(10096, 1)\n",
      "Entire process took:  3.512629508972168\n"
     ]
    },
    {
     "name": "stderr",
     "output_type": "stream",
     "text": [
      "/home/whsu014/.conda/envs/whsuphd/lib/python3.6/site-packages/sklearn/linear_model/logistic.py:947: ConvergenceWarning: lbfgs failed to converge. Increase the number of iterations.\n",
      "  \"of iterations.\", ConvergenceWarning)\n"
     ]
    }
   ],
   "source": [
    "num_of_inds = x_train.shape[0]\n",
    "num_per_fold = num_of_inds//10\n",
    "print(\"Number of inds:\", num_of_inds)\n",
    "print(\"Number per fold:\", num_per_fold)\n",
    "\n",
    "start_time = time.time()\n",
    "for f in range(1):\n",
    "    #start = f*num_per_fold\n",
    "    end = (f+1)*num_per_fold\n",
    "    train1_x = x_train[:end, ]\n",
    "    train2_x = x_train[end:, ]\n",
    "    train_x_lr = np.append(train2_x, train1_x, axis=0) #new obj\n",
    "    train1_y = y_train[:end, ]\n",
    "    train2_y = y_train[end:, ]\n",
    "    train_y_lr = np.append(train2_y, train1_y, axis=0)\n",
    "    print(\"train_x_lr:\", train_x_lr.shape)\n",
    "    print(\"train_y_lr:\", train_y_lr.shape)\n",
    "    \n",
    "    # remove data used for \n",
    "    # validation set\n",
    "    \n",
    "    val_num = int(np.ceil(train_x_lr.shape[0]/10))\n",
    "    print(\"val num:\", val_num)\n",
    "    train_x = train_x_lr[:-val_num, :]\n",
    "    print(\"Train x shape:\", train_x.shape)\n",
    "    train_y = train_y_lr[:-val_num]\n",
    "    print(\"Train y shape:\", train_y.shape)\n",
    "    \n",
    "    val_x = train_x_lr[-val_num:, :]\n",
    "    val_y = train_y_lr[-val_num:]\n",
    "    print(\"Val x shape:\", val_x.shape)\n",
    "    print(\"Val y shape:\", val_y.shape)\n",
    "\n",
    "    ###########################\n",
    "    # RidgeClassifier\n",
    "    ###########################\n",
    "    '''\n",
    "    rcv = RidgeClassifierCV(alphas=[1e-6, 1e-5, 1e-4, \n",
    "                          1e-3, 1e-2, 1e-1,\n",
    "                          1.0, 10.0], \n",
    "                          normalize=True,\n",
    "                          class_weight='balanced',\n",
    "                          store_cv_values=True).fit(train_x, train_y)\n",
    "\n",
    "    print(\"Prediction using RidgeCV\")\n",
    "    a = rcv.alpha_\n",
    "    print(\"Alpha:\", a)\n",
    "    print(\"Mean accuracy:\", rcv.score(val_x, val_y))\n",
    "    '''\n",
    "    ###########################\n",
    "    # LogisticRegression\n",
    "    ###########################\n",
    "    \n",
    "    rcv = LogisticRegression(solver='lbfgs',\n",
    "                            penalty='none',\n",
    "                            #max_iter=10000,\n",
    "                            class_weight='balanced'\n",
    "                            ).fit(train_x, train_y)\n",
    "    print(\"Mean accuracy:\", rcv.score(val_x, val_y))\n",
    "    \n",
    "    ########################\n",
    "    # Predict on test set\n",
    "    ########################\n",
    "    print(\"Test x shape:\", x_test.shape)\n",
    "    print(\"Test y shape:\", y_test.shape)\n",
    "    test_yhat = rcv.predict(x_test)\n",
    "    rc_probs = rcv.decision_function(x_test)\n",
    "    print('Regression model probs shape:', rc_probs.shape)\n",
    "    print(np.array([rc_probs[: ]]).T.shape)\n",
    "    \n",
    "print(\"Entire process took: \", time.time() - start_time)"
   ]
  },
  {
   "cell_type": "code",
   "execution_count": 58,
   "metadata": {},
   "outputs": [
    {
     "name": "stdout",
     "output_type": "stream",
     "text": [
      "(10096, 1)\n"
     ]
    }
   ],
   "source": [
    "rc_probs_df = pd.DataFrame(rc_probs)\n",
    "rc_probs_df.columns = ['CVD_EVENT']\n",
    "print(rc_probs_df.shape)\n",
    "#feather.write_dataframe(rc_probs_df, \"/home/whsu014/data/EVENT_RC_Class_weight_yhat.feather\")\n",
    "feather.write_dataframe(rc_probs_df, \"/home/whsu014/data/EVENT_LR_L_Class_Weight_IFC_patched_yhat.feather\")"
   ]
  },
  {
   "cell_type": "code",
   "execution_count": 108,
   "metadata": {},
   "outputs": [
    {
     "name": "stdout",
     "output_type": "stream",
     "text": [
      "(2714, 1)\n"
     ]
    }
   ],
   "source": [
    "y_test_df = pd.DataFrame(y_test)\n",
    "print(y_test_df.shape)\n",
    "y_test_df.columns = ['CVD_EVENT']\n",
    "feather.write_dataframe(y_test_df, \"/home/whsu014/data/EVENT_balanced_y_test.feather\")"
   ]
  },
  {
   "cell_type": "markdown",
   "metadata": {},
   "source": [
    "## Cox proportional hazard data preparation.\n",
    "## Will Use Package 'survival' and 'pec' in R\n",
    "## for Cox regression analysis."
   ]
  },
  {
   "cell_type": "code",
   "execution_count": 62,
   "metadata": {},
   "outputs": [],
   "source": [
    "def setup_xy_last_quarter_cox(time_series_v):\n",
    "    num_of_inds = time_series_v.shape[0]//28\n",
    "    num_of_features = time_series_v.shape[1]\n",
    "    \n",
    "    x_ = np.empty((num_of_inds, num_of_features + 1)) # additional feature time\n",
    "    y_ = []\n",
    "    for i in range(num_of_inds):\n",
    "        ind_v = copy.deepcopy(time_series_v[(i*28):((i+1)*28), :])\n",
    "        x_[i, :-1] = ind_v[7, :]\n",
    "        ###########################\n",
    "        # construct y\n",
    "        ###########################\n",
    "        event = False\n",
    "        event_time = [90 * 20]\n",
    "        for j in range(8, 28):\n",
    "            if ind_v[j, 121] == 1.0 and \\\n",
    "                1.0 in ind_v[j, 143:162]: # an acute CVD event\n",
    "                event = True\n",
    "                event_time.append((j-7)*90)\n",
    "            if 1.0 == ind_v[j, 181]: # a CVD death\n",
    "                event = True\n",
    "                event_time.append((j-7)*90)\n",
    "        x_[i, -1] = min(event_time) # time to first event\n",
    "        if event:\n",
    "            y_.append(1)\n",
    "        else:\n",
    "            y_.append(0)\n",
    "    return x_, np.array(y_)"
   ]
  },
  {
   "cell_type": "code",
   "execution_count": 63,
   "metadata": {},
   "outputs": [],
   "source": [
    "def setup_xy_aggregated_cox(time_series_v):\n",
    "    num_of_inds = time_series_v.shape[0]//28\n",
    "    num_of_features = time_series_v.shape[1]\n",
    "    \n",
    "    x_ = np.empty((num_of_inds, num_of_features + 1)) # additional feature time\n",
    "    y_ = []\n",
    "    for i in range(num_of_inds):\n",
    "        ind_v = copy.deepcopy(time_series_v[(i*28):((i+1)*28), :])\n",
    "        x_[i, 0:9] = ind_v[7, 0:9]\n",
    "        x_[i, 9:169] = np.sum(ind_v[:8, 9:169], axis=0)/8.0\n",
    "        x_[i, 169:182] = ind_v[7, 169:182]\n",
    "        ###########################\n",
    "        # construct y\n",
    "        ###########################\n",
    "        event = False\n",
    "        event_time = [90 * 20]\n",
    "        for j in range(8, 28):\n",
    "            if ind_v[j, 121] == 1.0 and \\\n",
    "                1.0 in ind_v[j, 143:162]:  # an acute CVD event\n",
    "                event = True\n",
    "                event_time.append((j-7)*90)\n",
    "            if 1.0 == ind_v[j, 181]: # a CVD death\n",
    "                event = True\n",
    "                event_time.append((j-7)*90)\n",
    "        x_[i, -1] = min(event_time) # time to first event\n",
    "        if event:\n",
    "            y_.append(1)\n",
    "        else:\n",
    "            y_.append(0)\n",
    "    return x_, np.array(y_)"
   ]
  },
  {
   "cell_type": "code",
   "execution_count": 64,
   "metadata": {},
   "outputs": [],
   "source": [
    "def setup_xy_cox(time_series_v):\n",
    "    x_ = []\n",
    "    y_ = []\n",
    "    num_of_inds = time_series_v.shape[0]//28\n",
    "    num_of_features = time_series_v.shape[1]\n",
    "    print(\"Number of inds:\", num_of_inds)\n",
    "    print(\"Number of features:\", num_of_features)\n",
    "    for i in range(num_of_inds):\n",
    "        ind_v = time_series_v[(i*28):((i+1)*28), :]\n",
    "        ind_x = ind_v[:8, :] \n",
    "        ind_flat_x = []\n",
    "        for j in range(len(ind_x)):\n",
    "            if j == 0:\n",
    "                ind_flat_x.extend(ind_x[j, :])\n",
    "            else:\n",
    "                ind_flat_x.extend(ind_x[j, 1:])\n",
    "        ###########################\n",
    "        # construct y\n",
    "        ###########################\n",
    "        event = False\n",
    "        event_time = [90 * 20]\n",
    "        for j in range(8, 28):\n",
    "            if ind_v[j, 121] == 1.0 and \\\n",
    "                1.0 in ind_v[j, 143:162]: # an acute CVD event\n",
    "                event = True\n",
    "                event_time.append((j-7)*90)\n",
    "            if 1.0 == ind_v[j, 181]: # a CVD death\n",
    "                event = True\n",
    "                event_time.append((j-7)*90)\n",
    "        ind_flat_x.append(min(event_time)) # time to first event\n",
    "        x_.append(np.array(ind_flat_x))\n",
    "        if event:\n",
    "            y_.append(1)\n",
    "        else:\n",
    "            y_.append(0)\n",
    "    return np.array(x_), np.array(y_)"
   ]
  },
  {
   "cell_type": "code",
   "execution_count": 84,
   "metadata": {},
   "outputs": [
    {
     "name": "stdout",
     "output_type": "stream",
     "text": [
      "(90000, 183)\n",
      "(90000,)\n",
      "(10096, 183)\n",
      "(10096,)\n",
      "10945\n",
      "1286\n"
     ]
    }
   ],
   "source": [
    "# dimensions are (row, (column + 1)): 1 being time to event \n",
    "#x_train, y_train = setup_xy_cox(train_v)\n",
    "#x_test, y_test = setup_xy_cox(test_v)\n",
    "\n",
    "#x_train, y_train = setup_xy_aggregated_cox(train_v)\n",
    "#x_test, y_test = setup_xy_aggregated_cox(test_v)\n",
    "\n",
    "x_train, y_train = setup_xy_last_quarter_cox(train_v)\n",
    "x_test, y_test = setup_xy_last_quarter_cox(test_v)\n",
    "\n",
    "\n",
    "print(x_train.shape)\n",
    "print(y_train.shape)\n",
    "print(x_test.shape)\n",
    "print(y_test.shape)\n",
    "print(np.count_nonzero(y_train))\n",
    "print(np.count_nonzero(y_test))"
   ]
  },
  {
   "cell_type": "code",
   "execution_count": 69,
   "metadata": {},
   "outputs": [
    {
     "name": "stdout",
     "output_type": "stream",
     "text": [
      "[1 0 1 1 0 0 0 0 0 0 0 0 0 0 0 0 0 0 0 0 0 1 0 0 0 0 0 1 1 0 0 0 0 0 0 0 0\n",
      " 0 0 0]\n",
      "[[   0. 1080.]\n",
      " [   0. 1800.]\n",
      " [   0. 1800.]\n",
      " [   0. 1530.]\n",
      " [   0. 1800.]\n",
      " [   0. 1800.]\n",
      " [   0. 1800.]\n",
      " [   0. 1800.]\n",
      " [   0. 1800.]\n",
      " [   0. 1800.]\n",
      " [   0. 1800.]\n",
      " [   0. 1800.]\n",
      " [   0. 1800.]\n",
      " [   0. 1800.]\n",
      " [   0. 1800.]\n",
      " [   0. 1800.]\n",
      " [   0. 1800.]\n",
      " [   0. 1800.]\n",
      " [   0. 1800.]\n",
      " [   0. 1800.]\n",
      " [   0. 1800.]\n",
      " [   0.  630.]\n",
      " [   0. 1800.]\n",
      " [   0. 1800.]\n",
      " [   0. 1800.]\n",
      " [   0. 1800.]\n",
      " [   0. 1800.]\n",
      " [   0.  630.]\n",
      " [   0.  810.]\n",
      " [   0. 1800.]\n",
      " [   0. 1800.]\n",
      " [   0. 1800.]\n",
      " [   0. 1800.]\n",
      " [   0. 1800.]\n",
      " [   0. 1800.]\n",
      " [   0. 1800.]\n",
      " [   0. 1800.]\n",
      " [   0. 1800.]\n",
      " [   0. 1800.]\n",
      " [   0. 1800.]]\n"
     ]
    }
   ],
   "source": [
    "print(y_test[:40])\n",
    "print(x_test[:40, -2:])"
   ]
  },
  {
   "cell_type": "code",
   "execution_count": 16,
   "metadata": {},
   "outputs": [
    {
     "name": "stdout",
     "output_type": "stream",
     "text": [
      "(90000, 1448)\n",
      "(10096, 1448)\n"
     ]
    },
    {
     "data": {
      "text/plain": [
       "'\\nscaler = MinMaxScaler()\\nx_train_scaled = scaler.fit_transform(x_train)\\nx_test_scaled = scaler.transform(x_test)\\nprint(x_train_scaled.shape)\\nprint(x_test_scaled.shape)\\nprint(np.round(x_train_scaled[:5, :30], \\n              decimals=2))\\n'"
      ]
     },
     "execution_count": 16,
     "metadata": {},
     "output_type": "execute_result"
    }
   ],
   "source": [
    "# Don't scale time to event\n",
    "'''\n",
    "scaler = MinMaxScaler()\n",
    "scaled_train = scaler.fit_transform(x_train[:, :-1]) # don't scale time to event\n",
    "scaled_test = scaler.transform(x_test[:, :-1])\n",
    "x_train_scaled = np.append(scaled_train, \n",
    "                           np.array([x_train[:, -1]]).T, \n",
    "                           axis=1)\n",
    "x_test_scaled = np.append(scaled_test, \n",
    "                          np.array([x_test[:, -1]]).T,\n",
    "                          axis=1)\n",
    "print(scaled_train.shape)\n",
    "print(scaled_test.shape)\n",
    "'''\n",
    "# Scale time to event\n",
    "'''\n",
    "scaler = MinMaxScaler()\n",
    "x_train_scaled = scaler.fit_transform(x_train)\n",
    "x_test_scaled = scaler.transform(x_test)\n",
    "print(x_train_scaled.shape)\n",
    "print(x_test_scaled.shape)\n",
    "print(np.round(x_train_scaled[:5, :30], \n",
    "              decimals=2))\n",
    "'''"
   ]
  },
  {
   "cell_type": "code",
   "execution_count": 37,
   "metadata": {},
   "outputs": [
    {
     "name": "stdout",
     "output_type": "stream",
     "text": [
      "(90000, 184)\n",
      "(10096, 184)\n"
     ]
    }
   ],
   "source": [
    "'''\n",
    "train_cox_v = np.append(x_train_scaled, np.array([y_train]).T, axis = 1)\n",
    "print(train_cox_v.shape)\n",
    "test_cox_v = np.append(x_test_scaled, np.array([y_test]).T, axis = 1)\n",
    "print(test_cox_v.shape)\n",
    "'''"
   ]
  },
  {
   "cell_type": "code",
   "execution_count": 70,
   "metadata": {},
   "outputs": [
    {
     "name": "stdout",
     "output_type": "stream",
     "text": [
      "1451\n"
     ]
    }
   ],
   "source": [
    "# generate long column name\n",
    "col_names = list(test_df.columns)\n",
    "col_names = col_names[:-7]\n",
    "\n",
    "new_col_names = []\n",
    "for i in range(8):\n",
    "    for j in range(len(col_names)):\n",
    "        if i == 0: # first row, include ID\n",
    "            name = col_names[j] + \"_\" + str(i+1)\n",
    "            new_col_names.append(name)\n",
    "        else:\n",
    "            if j > 0: # exclude ID\n",
    "                name = col_names[j] + \"_\" + str(i+1)\n",
    "                new_col_names.append(name)\n",
    "new_col_names.extend([\"TIME\", \"STATUS\"])\n",
    "print(len(new_col_names))"
   ]
  },
  {
   "cell_type": "code",
   "execution_count": 85,
   "metadata": {},
   "outputs": [
    {
     "name": "stdout",
     "output_type": "stream",
     "text": [
      "182\n",
      "184\n"
     ]
    }
   ],
   "source": [
    "# short column names\n",
    "col_names = list(test_df.columns)\n",
    "col_names = col_names[:-7]\n",
    "print(len(col_names))\n",
    "col_names.extend([\"TIME\", \"STATUS\"])\n",
    "print(len(col_names))"
   ]
  },
  {
   "cell_type": "code",
   "execution_count": 86,
   "metadata": {},
   "outputs": [
    {
     "name": "stdout",
     "output_type": "stream",
     "text": [
      "(90000, 183)\n",
      "(90000,)\n",
      "(10096, 183)\n",
      "(10096,)\n",
      "\n",
      "(90000, 184)\n",
      "(10096, 184)\n"
     ]
    }
   ],
   "source": [
    "print(x_train.shape)\n",
    "print(y_train.shape)\n",
    "print(x_test.shape)\n",
    "print(y_test.shape)\n",
    "print()\n",
    "train_cox_v = np.append(x_train, np.array([y_train]).T, axis = 1)\n",
    "print(train_cox_v.shape)\n",
    "test_cox_v = np.append(x_test, np.array([y_test]).T, axis = 1)\n",
    "print(test_cox_v.shape)"
   ]
  },
  {
   "cell_type": "code",
   "execution_count": 87,
   "metadata": {},
   "outputs": [],
   "source": [
    "train_cox_df = pd.DataFrame(train_cox_v)\n",
    "test_cox_df = pd.DataFrame(test_cox_v)\n",
    "train_cox_df.columns = col_names\n",
    "test_cox_df.columns = col_names\n",
    "\n",
    "feather.write_dataframe(train_cox_df, \"/home/whsu014/data/Cox_EVENT_last_quarter_train.feather\")\n",
    "feather.write_dataframe(test_cox_df, \"/home/whsu014/data/Cox_EVENT_last_quarter_test.feather\")"
   ]
  },
  {
   "cell_type": "markdown",
   "metadata": {},
   "source": [
    "## create a vector of sample weights"
   ]
  },
  {
   "cell_type": "code",
   "execution_count": 17,
   "metadata": {},
   "outputs": [
    {
     "name": "stdout",
     "output_type": "stream",
     "text": [
      "(90000,)\n",
      "(90000,)\n",
      "[0.57304401 3.92259414]\n"
     ]
    }
   ],
   "source": [
    "print(y_train.shape)\n",
    "sample_weight=class_weight.compute_sample_weight(\"balanced\",\n",
    "                                                  y_train)\n",
    "print(sample_weight.shape)\n",
    "print(np.unique(sample_weight))\n",
    "sample_weight_df = pd.DataFrame(sample_weight)\n",
    "sample_weight_df.columns = [\"SAMPLE_WEIGHT\"]\n",
    "feather.write_dataframe(sample_weight_df, \"/home/whsu014/data/Cox_EVENT_train_sample_weights.feather\")"
   ]
  },
  {
   "cell_type": "code",
   "execution_count": 46,
   "metadata": {},
   "outputs": [
    {
     "name": "stdout",
     "output_type": "stream",
     "text": [
      "VSIMPLE_INDEX_MASTER + AGE + SEX + NZDEP + ETHN_1 + ETHN_2 + ETHN_3 + ETHN_4 + ETHN_5 + TEST + HDL + LDL + TRI + TCL + TCHDL + TESTED + DIED + LL_SIMVASTATIN + LL_BEZAFIBRATE + LL_ATORVASTATIN + LL_EZETIMIBE + LL_NICOTINIC_ACID + LL_ACIPIMOX + LL_CHOLESTYRAMINE + LL_COLESTIPOL_HYDROCHLORIDE + LL_PRAVASTATIN + LL_EZETIMIBE_WITH_SIMVASTATIN + LL_GEMFIBROZIL + LL_PDC + CVD_FELODIPINE + CVD_QUINAPRIL + CVD_METOPROLOL_SUCCINATE + CVD_CILAZAPRIL + CVD_ATENOLOL + CVD_BENDROFLUMETHIAZIDE + CVD_WARFARIN_SODIUM + CVD_FUROSEMIDE + CVD_CELIPROLOL + CVD_DILTIAZEM_HYDROCHLORIDE + CVD_ASPIRIN + CVD_NIFEDIPINE + CVD_CAPTOPRIL + CVD_DIPYRIDAMOLE + CVD_CANDESARTAN_CILEXETIL + CVD_INDAPAMIDE + CVD_ENALAPRIL_MALEATE + CVD_SOTALOL + CVD_GLYCERYL_TRINITRATE + CVD_ISOSORBIDE_MONONITRATE + CVD_PINDOLOL + CVD_CARVEDILOL + CVD_METHYLDOPA + CVD_LOSARTAN_POTASSIUM + CVD_VERAPAMIL_HYDROCHLORIDE + CVD_AMILORIDE_HYDROCHLORIDE + CVD_CLONIDINE_HYDROCHLORIDE + CVD_CLONIDINE + CVD_NADOLOL + CVD_PROPRANOLOL + CVD_AMLODIPINE + CVD_LABETALOL + CVD_LISINOPRIL + CVD_TRIAMTERENE + CVD_TIMOLOL + CVD_METOPROLOL_TARTRATE + CVD_ACEBUTOLOL + CVD_PERHEXILINE_MALEATE + CVD_CHLORTALIDONE + CVD_BUMETANIDE + CVD_PERINDOPRIL + CVD_TRANDOLAPRIL + CVD_CLOPIDOGREL + CVD_ISRADIPINE + CVD_RIVAROXABAN + CVD_DABIGATRAN + CVD_BISOPROLOL_FUMARATE + CVD_PRASUGREL + CVD_NICORANDIL + CVD_METOLAZONE + CVD_TICAGRELOR + CVD_HYDRALAZINE_HYDROCHLORIDE + CVD_HYDROCHLOROTHIAZIDE + OTHER_TENOXICAM + OTHER_PANTOPRAZOLE + OTHER_OMEPRAZOLE + OTHER_NAPROXEN_SODIUM + OTHER_DICLOFENAC_SODIUM + OTHER_METFORMIN_HYDROCHLORIDE + OTHER_SULINDAC + OTHER_GLICLAZIDE + OTHER_GLIPIZIDE + OTHER_INSULIN_ISOPHANE + OTHER_INSULIN_NEUTRAL + OTHER_KETOPROFEN + OTHER_IBUPROFEN + OTHER_INSULIN_ASPART + OTHER_PREDNISONE + OTHER_INDOMETHACIN + OTHER_NAPROXEN + OTHER_GLIBENCLAMIDE + OTHER_RANITIDINE + OTHER_PIROXICAM + OTHER_INSULIN_LISPRO + OTHER_TIAPROFENIC_ACID + OTHER_PIOGLITAZONE + OTHER_DEXAMETHASONE + OTHER_INSULIN_ZINC_SUSPENSION + OTHER_HYDROCORTISONE + OTHER_PREDNISOLONE + OTHER_TOLBUTAMIDE + OTHER_MEFENAMIC_ACID + OTHER_LANSOPRAZOLE + OTHER_METHYLPREDNISOLONE + OTHER_INSULIN_GLARGINE + OTHER_INSULIND_GLULISINE + OTHER_AMOXYCILLIN + OTHER_CLARITHROMYCIN + OTHER_INSULIN_LISPRO_PROTAMINE + OTHER_INSULIN_ASPART_PROTAMINE + OTHER_VILDAGLIPTIN + NUMBER_OF_DAYS + ACUTE_ADM + hx_broad_cvd + hx_athero_cvd + hx_chd_diags + hx_acs + hx_mi + hx_unst_angina + hx_angina + hx_other_chd + hx_chd_procs + hx_pci + hx_cabg + hx_other_chd_procs + hx_pvd_diags + hx_pvd_procs + hx_haemorrhagic_stroke + hx_cevd + hx_ischaemic_stroke + hx_tia + hx_other_cevd + hx_heart_failure + hx_atrial_fibrillation + mortality_broad_cvd_with_other + mortality_other_related_cvd_deaths + out_broad_cvd + out_athero_cvd + out_chd + out_mi + out_acs + out_unst_angina + out_angina + out_other_chd + out_pvd_diags + out_pvd_procs + out_pci_cabg + out_haemorrhagic_stroke + out_cevd + out_ischaemic_stroke + out_tia + out_other_cevd + out_heart_failure + out_atrial_fibrillation + HBA1C + TEST_HBA1C + TESTED_HBA1C + EGFR + TEST_EGFR + TESTED_EGFR + PT_SBP + PT_SBP2 + PT_DBP + PT_DBP2 + PT_SMOKING + PT_EN_TCHDL + PT_DIABETES + PT_FAMILY_HISTORY + PT_GEN_LIPID + PT_RENAL + PT_DIABETES_YR + PT_ATRIAL_FIBRILLATION + PT_IMP_FATAL_CVD + TIME + STATUS + \n"
     ]
    }
   ],
   "source": [
    "train_df = feather.read_dataframe(\"/home/whsu014/data/Cox_EVENT_aggregated_normalized_train.feather\")\n",
    "R_formula = \"\"\n",
    "for i in list(train_df.columns):\n",
    "    R_formula += i + \" + \"\n",
    "print(R_formula)"
   ]
  },
  {
   "cell_type": "markdown",
   "metadata": {},
   "source": [
    "## Data check"
   ]
  },
  {
   "cell_type": "code",
   "execution_count": 86,
   "metadata": {},
   "outputs": [
    {
     "name": "stdout",
     "output_type": "stream",
     "text": [
      "(22944, 184)\n",
      "Index(['VSIMPLE_INDEX_MASTER', 'AGE', 'SEX', 'NZDEP', 'ETHN_1', 'ETHN_2',\n",
      "       'ETHN_3', 'ETHN_4', 'ETHN_5', 'TEST',\n",
      "       ...\n",
      "       'PT_EN_TCHDL', 'PT_DIABETES', 'PT_FAMILY_HISTORY', 'PT_GEN_LIPID',\n",
      "       'PT_RENAL', 'PT_DIABETES_YR', 'PT_ATRIAL_FIBRILLATION',\n",
      "       'PT_IMP_FATAL_CVD', 'TIME', 'STATUS'],\n",
      "      dtype='object', length=184)\n",
      "[1800.   90. 1260.  450.  630.  810. 1620.  360. 1530.  720.  540.  180.\n",
      "  900. 1710.  270. 1350. 1170. 1080.  990. 1440.]\n",
      "[0. 1.]\n",
      "         TIME  STATUS\n",
      "22934  360.0   1.0   \n",
      "22935  720.0   1.0   \n",
      "22936  630.0   1.0   \n",
      "22937  1440.0  1.0   \n",
      "22938  1710.0  1.0   \n",
      "22939  1620.0  1.0   \n",
      "22940  720.0   1.0   \n",
      "22941  180.0   1.0   \n",
      "22942  450.0   1.0   \n",
      "22943  990.0   1.0   \n"
     ]
    }
   ],
   "source": [
    "train_df = feather.read_dataframe(\"/home/whsu014/data/Cox_EVENT_balanced_aggregated_train.feather\")\n",
    "print(train_df.shape)\n",
    "print(train_df.columns)\n",
    "print(train_df['TIME'].unique())\n",
    "print(train_df['STATUS'].unique())\n",
    "print(train_df[[\"TIME\", \"STATUS\"]].iloc[-10:])"
   ]
  },
  {
   "cell_type": "code",
   "execution_count": 18,
   "metadata": {},
   "outputs": [
    {
     "name": "stdout",
     "output_type": "stream",
     "text": [
      "(10096, 184)\n",
      "Index(['VSIMPLE_INDEX_MASTER', 'AGE', 'SEX', 'NZDEP', 'ETHN_1', 'ETHN_2',\n",
      "       'ETHN_3', 'ETHN_4', 'ETHN_5', 'TEST',\n",
      "       ...\n",
      "       'PT_EN_TCHDL', 'PT_DIABETES', 'PT_FAMILY_HISTORY', 'PT_GEN_LIPID',\n",
      "       'PT_RENAL', 'PT_DIABETES_YR', 'PT_ATRIAL_FIBRILLATION',\n",
      "       'PT_IMP_FATAL_CVD', 'TIME', 'STATUS'],\n",
      "      dtype='object', length=184)\n",
      "[1080. 1800. 1530. 1170.  630.  810.  270.  450. 1350.   90.  180. 1710.\n",
      "  900.  720.  990. 1620.  360. 1260.  540. 1440.]\n",
      "[1. 0.]\n"
     ]
    }
   ],
   "source": [
    "test_df = feather.read_dataframe(\"/home/whsu014/data/Cox_EVENT_aggregated_test_10096inds.feather\")\n",
    "print(test_df.shape)\n",
    "print(test_df.columns)\n",
    "print(test_df['TIME'].unique())\n",
    "print(test_df['STATUS'].unique())"
   ]
  },
  {
   "cell_type": "markdown",
   "metadata": {},
   "source": [
    "## Generate balance data"
   ]
  },
  {
   "cell_type": "code",
   "execution_count": 18,
   "metadata": {},
   "outputs": [],
   "source": [
    "def setup_xy(time_series_v):\n",
    "    x_ = []\n",
    "    y_ = []\n",
    "    event_id = []\n",
    "    non_event_id = []\n",
    "    num_of_inds = time_series_v.shape[0]//28\n",
    "    num_of_features = time_series_v.shape[1]\n",
    "    print(\"Number of inds:\", num_of_inds)\n",
    "    print(\"Number of features:\", num_of_features)\n",
    "    for i in range(num_of_inds):\n",
    "        ind_v = time_series_v[(i*28):((i+1)*28), :]\n",
    "        ind_x = ind_v[:8, :] \n",
    "        ind_flat_x = []\n",
    "        for j in range(len(ind_x)):\n",
    "            if j == 0:\n",
    "                ind_flat_x.extend(ind_x[j, :])\n",
    "            else:\n",
    "                ind_flat_x.extend(ind_x[j, 1:])\n",
    "        x_.append(np.array(ind_flat_x))\n",
    "        ###########################\n",
    "        # construct y\n",
    "        ###########################\n",
    "        event = False\n",
    "        for j in range(8, 28):\n",
    "            if ind_v[j, 121] == 1.0 and \\\n",
    "                1.0 in ind_v[j, 143:163]: # an acute CVD event\n",
    "                event = True\n",
    "            if 1.0 in ind_v[8:, 181]: # a CVD death\n",
    "                event = True\n",
    "        if event:\n",
    "            y_.append(1)\n",
    "            event_id.append(ind_v[0, 0])\n",
    "        else:\n",
    "            y_.append(0)\n",
    "            non_event_id.append(ind_v[0, 0])\n",
    "    return np.array(x_), np.array(y_), event_id, non_event_id"
   ]
  },
  {
   "cell_type": "code",
   "execution_count": 19,
   "metadata": {},
   "outputs": [
    {
     "name": "stdout",
     "output_type": "stream",
     "text": [
      "Number of inds: 90000\n",
      "Number of features: 182\n",
      "Number of inds: 10096\n",
      "Number of features: 182\n",
      "(90000, 1449)\n",
      "(90000,)\n",
      "(10096, 1449)\n",
      "(10096,)\n",
      "#################\n",
      "11472\n",
      "78528\n",
      "1357\n",
      "8739\n"
     ]
    }
   ],
   "source": [
    "x_train, y_train, event_id_train, non_event_id_train = setup_xy(train_v)\n",
    "x_test, y_test, event_id_test, non_event_id_test = setup_xy(test_v)\n",
    "\n",
    "print(x_train.shape)\n",
    "print(y_train.shape)\n",
    "print(x_test.shape)\n",
    "print(y_test.shape)\n",
    "print(\"#################\")\n",
    "print(len(event_id_train))\n",
    "print(len(non_event_id_train))\n",
    "print(len(event_id_test))\n",
    "print(len(non_event_id_test))"
   ]
  },
  {
   "cell_type": "code",
   "execution_count": 20,
   "metadata": {},
   "outputs": [
    {
     "name": "stdout",
     "output_type": "stream",
     "text": [
      "11472\n",
      "11472\n",
      "1357\n",
      "1357\n",
      "22944\n",
      "2714\n"
     ]
    }
   ],
   "source": [
    "#########################################\n",
    "# balance positive and negative samples\n",
    "#########################################\n",
    "non_event_id_train = non_event_id_train[:len(event_id_train)]\n",
    "non_event_id_test = non_event_id_test[:len(event_id_test)]\n",
    "print(len(event_id_train))\n",
    "print(len(non_event_id_train))\n",
    "print(len(event_id_test))\n",
    "print(len(non_event_id_test))\n",
    "event_id_train.extend(non_event_id_train)\n",
    "event_id_test.extend(non_event_id_test)\n",
    "print(len(event_id_train))\n",
    "print(len(event_id_test))\n",
    "balanced_ids_train = pd.DataFrame(event_id_train)\n",
    "balanced_ids_test = pd.DataFrame(event_id_test)\n",
    "balanced_ids_train.columns = [\"VSIMPLE_INDEX_MASTER\"]\n",
    "balanced_ids_test.columns = [\"VSIMPLE_INDEX_MASTER\"]"
   ]
  },
  {
   "cell_type": "code",
   "execution_count": 12,
   "metadata": {},
   "outputs": [],
   "source": [
    "feather.write_dataframe(balanced_ids_train, \"/home/whsu014/data/EVENT_balanced_ids_train.feather\")\n",
    "feather.write_dataframe(balanced_ids_test, \"/home/whsu014/data/EVENT_balanced_ids_test.feather\")"
   ]
  },
  {
   "cell_type": "code",
   "execution_count": null,
   "metadata": {},
   "outputs": [],
   "source": []
  }
 ],
 "metadata": {
  "kernelspec": {
   "display_name": "Python 3",
   "language": "python",
   "name": "python3"
  },
  "language_info": {
   "codemirror_mode": {
    "name": "ipython",
    "version": 3
   },
   "file_extension": ".py",
   "mimetype": "text/x-python",
   "name": "python",
   "nbconvert_exporter": "python",
   "pygments_lexer": "ipython3",
   "version": "3.6.8"
  }
 },
 "nbformat": 4,
 "nbformat_minor": 2
}
