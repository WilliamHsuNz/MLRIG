{
 "cells": [
  {
   "cell_type": "code",
   "execution_count": 1,
   "metadata": {},
   "outputs": [],
   "source": [
    "import os\n",
    "import pandas as pd\n",
    "import datetime\n",
    "from matplotlib import pyplot\n",
    "from sklearn.preprocessing import MinMaxScaler\n",
    "from sklearn.preprocessing import StandardScaler\n",
    "from sklearn.preprocessing import LabelEncoder\n",
    "from sklearn.preprocessing import OneHotEncoder\n",
    "from sklearn.metrics import mean_squared_error\n",
    "from sklearn.metrics import mean_absolute_error\n",
    "from sklearn.linear_model import LinearRegression\n",
    "import numpy as np\n",
    "import scipy \n",
    "import math\n",
    "import h5py\n",
    "import time\n",
    "import copy\n",
    "import sys\n",
    "import feather\n",
    "from sklearn.metrics import mean_absolute_error\n",
    "from numpy.random import seed\n",
    "pd.set_option('display.max_rows', None)\n",
    "pd.set_option('display.max_columns', None)\n",
    "pd.set_option('display.width', None)\n",
    "pd.set_option('display.max_colwidth', -1)\n",
    "seed(123)\n",
    "from tensorflow import set_random_seed\n",
    "set_random_seed(456)\n",
    "np.set_printoptions(threshold=sys.maxsize)"
   ]
  },
  {
   "cell_type": "code",
   "execution_count": 2,
   "metadata": {},
   "outputs": [
    {
     "name": "stdout",
     "output_type": "stream",
     "text": [
      "Index(['VSIMPLE_INDEX_MASTER', 'QUARTER', 'AGE', 'SEX', 'NZDEP', 'ETHN_1',\n",
      "       'ETHN_2', 'ETHN_3', 'ETHN_4', 'ETHN_5',\n",
      "       ...\n",
      "       'PT_DIABETES_YR', 'PT_ATRIAL_FIBRILLATION', 'PT_IMP_FATAL_CVD',\n",
      "       'TRUE_HDL', 'TRUE_LDL', 'TRUE_TRI', 'TRUE_TCL', 'TRUE_TCHDL',\n",
      "       'TRUE_HBA1C', 'TRUE_EGFR'],\n",
      "      dtype='object', length=191)\n",
      "(2902784, 191)\n",
      "[0.]\n",
      "Number of inds: 100096\n",
      "100096.0\n",
      "100096.0\n",
      "(282688, 189)\n",
      "10096.0\n"
     ]
    }
   ],
   "source": [
    "# set up training set\n",
    "view_1hot_df = feather.read_dataframe(\"/home/whsu014/data/view_1hot_nona_len29_float_age_impute_and_True_HG_100096inds.feather\")\n",
    "print(view_1hot_df.columns)\n",
    "print(view_1hot_df.shape)\n",
    "\n",
    "print(view_1hot_df['CVD_ISOSORBRIDE_DINITRATE'].unique())\n",
    "view_1hot_df = view_1hot_df.drop(['CVD_ISOSORBRIDE_DINITRATE'], axis=1)\n",
    "print(\"Number of inds:\", len(view_1hot_df['VSIMPLE_INDEX_MASTER'].unique()))\n",
    "# set length to 28\n",
    "print(view_1hot_df.shape[0]/29)\n",
    "view_1hot_df = copy.deepcopy(view_1hot_df[view_1hot_df['QUARTER']!=0])\n",
    "print(view_1hot_df.shape[0]/28)\n",
    "# Take 90000 inds for train and validation set\n",
    "# remove true values\n",
    "# remove QUARTER\n",
    "view_1hot_df = view_1hot_df.drop(['QUARTER'], axis=1)\n",
    "view_v = copy.deepcopy(view_1hot_df.iloc[(28*90000):, :].values)\n",
    "print(view_v.shape)\n",
    "print(view_v.shape[0]/28)"
   ]
  },
  {
   "cell_type": "code",
   "execution_count": 3,
   "metadata": {},
   "outputs": [
    {
     "name": "stdout",
     "output_type": "stream",
     "text": [
      "(282688, 189)\n",
      "(282688, 182)\n",
      "(282688, 182)\n",
      "(282688, 182)\n",
      "(282688, 182)\n",
      "(282688, 182)\n",
      "Number of inds: 10096\n"
     ]
    }
   ],
   "source": [
    "test_df = feather.read_dataframe(\"/home/whsu014/data/Test_set_with_TRUE_10096inds.feather\")\n",
    "#lstm_yhat_df = feather.read_dataframe(\"/home/whsu014/data/TCHDL_GRU_bidirectional_yhat.feather\")\n",
    "gru_yhat_df = feather.read_dataframe(\"/home/whsu014/data/TCHDL_GRU_yhat.feather\")\n",
    "lstm_yhat_df = feather.read_dataframe(\"/home/whsu014/data/TCHDL_LSTM_yhat.feather\")\n",
    "#lstm_yhat_df = feather.read_dataframe(\"/home/whsu014/data/TCHDL_LSTM_04val_yhat.feather\")\n",
    "rnn_yhat_df = feather.read_dataframe(\"/home/whsu014/data/TCHDL_RNN_yhat.feather\")\n",
    "mlp_yhat_df = feather.read_dataframe(\"/home/whsu014/data/TCHDL_MLP_yhat.feather\")\n",
    "rr_yhat_df = feather.read_dataframe(\"/home/whsu014/data/TCHDL_Ridge_Regression_yhat.feather\")\n",
    "\n",
    "print(test_df.shape)\n",
    "print(gru_yhat_df.shape)\n",
    "print(lstm_yhat_df.shape)\n",
    "print(rnn_yhat_df.shape)\n",
    "print(mlp_yhat_df.shape)\n",
    "print(rr_yhat_df.shape)\n",
    "print(\"Number of inds:\", len(test_df['VSIMPLE_INDEX_MASTER'].unique()))"
   ]
  },
  {
   "cell_type": "code",
   "execution_count": 4,
   "metadata": {},
   "outputs": [
    {
     "name": "stdout",
     "output_type": "stream",
     "text": [
      "TEST: 9\n",
      "TCHDL: 14\n",
      "TRUE_TCHDL: 186\n"
     ]
    }
   ],
   "source": [
    "print(\"TEST:\", test_df.columns.get_loc('TEST'))\n",
    "print(\"TCHDL:\", test_df.columns.get_loc('TCHDL'))\n",
    "print(\"TRUE_TCHDL:\", test_df.columns.get_loc('TRUE_TCHDL'))"
   ]
  },
  {
   "cell_type": "code",
   "execution_count": 5,
   "metadata": {},
   "outputs": [
    {
     "name": "stdout",
     "output_type": "stream",
     "text": [
      "(282688, 189)\n",
      "(282688, 15)\n",
      "(282688, 15)\n",
      "(282688, 15)\n",
      "(282688, 15)\n",
      "(282688, 15)\n"
     ]
    }
   ],
   "source": [
    "test_v = copy.deepcopy(test_df.values)\n",
    "gru_yhat_v = copy.deepcopy(gru_yhat_df.iloc[:, :15].values)\n",
    "lstm_yhat_v = copy.deepcopy(lstm_yhat_df.iloc[:, :15].values)\n",
    "rnn_yhat_v = copy.deepcopy(rnn_yhat_df.iloc[:, :15].values)\n",
    "mlp_yhat_v = copy.deepcopy(mlp_yhat_df.iloc[:, :15].values)\n",
    "rr_yhat_v = copy.deepcopy(rr_yhat_df.iloc[:, :15].values)\n",
    "print(test_v.shape)\n",
    "print(lstm_yhat_v.shape)\n",
    "print(gru_yhat_v.shape)\n",
    "print(rnn_yhat_v.shape)\n",
    "print(mlp_yhat_v.shape)\n",
    "print(rr_yhat_v.shape)"
   ]
  },
  {
   "cell_type": "code",
   "execution_count": 6,
   "metadata": {},
   "outputs": [
    {
     "name": "stdout",
     "output_type": "stream",
     "text": [
      "[0 1]\n",
      "False\n",
      "[75768. 75768. 75768. 75768. 75768. 75768. 75768. 75768. 75768. 75768.\n",
      " 75768. 75768. 75768. 75768. 75768. 75768. 75768. 75768. 75768. 75768.\n",
      " 75768. 75768. 75768. 75768. 75768. 75768. 75768. 75768.   786.   786.]\n",
      "[75768.0 75768.0 75768.0 75768.0 75768.0 75768.0 75768.0 75768.0 75768.0\n",
      " 75768.0 75768.0 75768.0 75768.0 75768.0 75768.0 75768.0 75768.0 75768.0\n",
      " 75768.0 75768.0 75768.0 75768.0 75768.0 75768.0 75768.0 75768.0 75768.0\n",
      " 75768.0 786.0 786.0]\n"
     ]
    }
   ],
   "source": [
    "print(np.unique(test_v[:, 9]))\n",
    "print(np.array_equal(lstm_yhat_v[:, 0], test_v[:, 0]))\n",
    "print(lstm_yhat_v[:30, 0])\n",
    "print(test_v[:30, 0])"
   ]
  },
  {
   "cell_type": "code",
   "execution_count": 7,
   "metadata": {},
   "outputs": [
    {
     "name": "stdout",
     "output_type": "stream",
     "text": [
      "TCHDL: 14\n",
      "(2802688, 189)\n"
     ]
    }
   ],
   "source": [
    "\n",
    "print(\"TCHDL:\", view_1hot_df.columns.get_loc('TCHDL'))\n",
    "print(view_1hot_df.shape)\n"
   ]
  },
  {
   "cell_type": "code",
   "execution_count": 8,
   "metadata": {},
   "outputs": [
    {
     "name": "stdout",
     "output_type": "stream",
     "text": [
      "Number of inds: 10096\n",
      "139648\n",
      "10096\n",
      "10096\n",
      "10096\n",
      "10096\n",
      "10096\n",
      "10096\n",
      "10096\n",
      "10096\n",
      "10096\n",
      "10096\n",
      "10096\n",
      "10096\n",
      "RMSE Interp:\t 0.17662063160331065\n",
      "RMSE Exterp:\t 0.8127340583988681\n",
      "RMSE LSTM:\t 0.7060933334273491\n",
      "RMSE RNN:\t 0.6997968952323724\n",
      "RMSE MLP:\t 0.698808118277145\n",
      "RMSE RR:\t 0.704374888720161\n",
      "MAE Interp:\t 0.1224147945871851\n",
      "MAE Exterp:\t 0.7179975227170701\n",
      "MAE LSTM:\t 0.611978861985037\n",
      "MAE RNN:\t 0.6052539239710247\n",
      "MAE MLP:\t 0.6052471801762574\n",
      "MAE RR:\t\t 0.6125186015997773\n"
     ]
    }
   ],
   "source": [
    "#######################################\n",
    "# Error calculation\n",
    "#######################################\n",
    "value_indicating_test = max(np.unique(test_v[:, 9]))\n",
    "value_indicating_no_test = min(np.unique(test_v[:, 9]))\n",
    "\n",
    "empty_list_count = 0\n",
    "empty_list_IDs = []\n",
    "\n",
    "rmse_interp_list = []\n",
    "rmse_exterp_list = []\n",
    "rmse_lstm_list = []\n",
    "rmse_rnn_list = []\n",
    "rmse_mlp_list = []\n",
    "rmse_rr_list = []\n",
    "\n",
    "mae_interp_list = []\n",
    "mae_exterp_list = []\n",
    "mae_lstm_list = []\n",
    "mae_rnn_list = []\n",
    "mae_mlp_list = []\n",
    "mae_rr_list = []\n",
    "\n",
    "num_of_inds = test_v.shape[0]//28\n",
    "print(\"Number of inds:\", num_of_inds)\n",
    "\n",
    "for i in range(num_of_inds):\n",
    "    ind_id = test_v[i*28, 0]#view_v[i*28, 0]\n",
    "    ind_y_v = view_v[(i*28):((i+1)*28), :]\n",
    "    ind_exp_v = test_v[(i*28):((i+1)*28), :]\n",
    "    ind_lstm_yhat_v = lstm_yhat_v[(i*28):((i+1)*28), :]\n",
    "    ind_rnn_yhat_v = rnn_yhat_v[(i*28):((i+1)*28), :]\n",
    "    ind_mlp_yhat_v = mlp_yhat_v[(i*28):((i+1)*28), :]\n",
    "    ind_rr_yhat_v = rr_yhat_v[(i*28):((i+1)*28), :]\n",
    "    \n",
    "    ind_TCHDL_list = []\n",
    "    ind_interp_list = []\n",
    "    ind_exterp_list = []\n",
    "    ind_lstm_list = []\n",
    "    ind_rnn_list = []\n",
    "    ind_mlp_list = []\n",
    "    ind_rr_list = []\n",
    "    for j in range(8, 28):\n",
    "        #if ind_y_v[j, 9] == value_indicating_test:\n",
    "        if len(ind_y_v[j, 186]) > 2:\n",
    "            TCHDLs = [float(TCHDL) for TCHDL in ind_y_v[j, 186][1:-1].split(\", \")]\n",
    "            mean_TCHDL = sum(TCHDLs)/len(TCHDLs)\n",
    "            ind_TCHDL_list.append(mean_TCHDL)\n",
    "            ind_interp_list.append(ind_y_v[j, 14])\n",
    "            ind_exterp_list.append(ind_exp_v[j, 14])\n",
    "            ind_lstm_list.append(ind_lstm_yhat_v[j, 14])\n",
    "            ind_rnn_list.append(ind_rnn_yhat_v[j, 14])\n",
    "            ind_mlp_list.append(ind_mlp_yhat_v[j, 14])\n",
    "            ind_rr_list.append(ind_rr_yhat_v[j, 14])\n",
    "        else:\n",
    "            empty_list_count += 1\n",
    "            empty_list_IDs.append(ind_id)\n",
    "    # case rmse\n",
    "    ind_rmse_interp = math.sqrt(mean_squared_error(ind_TCHDL_list, ind_interp_list))   \n",
    "    ind_rmse_exterp = math.sqrt(mean_squared_error(ind_TCHDL_list, ind_exterp_list))\n",
    "    ind_rmse_lstm = math.sqrt(mean_squared_error(ind_TCHDL_list, ind_lstm_list))\n",
    "    ind_rmse_rnn = math.sqrt(mean_squared_error(ind_TCHDL_list, ind_rnn_list))\n",
    "    ind_rmse_mlp = math.sqrt(mean_squared_error(ind_TCHDL_list, ind_mlp_list))\n",
    "    ind_rmse_rr = math.sqrt(mean_squared_error(ind_TCHDL_list, ind_rr_list))\n",
    "    # case mae\n",
    "    ind_mae_interp = mean_absolute_error(ind_TCHDL_list, ind_interp_list)\n",
    "    ind_mae_exterp = mean_absolute_error(ind_TCHDL_list, ind_exterp_list)\n",
    "    ind_mae_lstm = mean_absolute_error(ind_TCHDL_list, ind_lstm_list)\n",
    "    ind_mae_rnn = mean_absolute_error(ind_TCHDL_list, ind_rnn_list)\n",
    "    ind_mae_mlp = mean_absolute_error(ind_TCHDL_list, ind_mlp_list)\n",
    "    ind_mae_rr = mean_absolute_error(ind_TCHDL_list, ind_rr_list)\n",
    "    \n",
    "    rmse_interp_list.append(ind_rmse_interp)\n",
    "    rmse_exterp_list.append(ind_rmse_exterp)\n",
    "    rmse_lstm_list.append(ind_rmse_lstm)\n",
    "    rmse_rnn_list.append(ind_rmse_rnn)\n",
    "    rmse_mlp_list.append(ind_rmse_mlp)\n",
    "    rmse_rr_list.append(ind_rmse_rr)\n",
    "\n",
    "    mae_interp_list.append(ind_mae_interp)\n",
    "    mae_exterp_list.append(ind_mae_exterp)\n",
    "    mae_lstm_list.append(ind_mae_lstm)\n",
    "    mae_rnn_list.append(ind_mae_rnn)\n",
    "    mae_mlp_list.append(ind_mae_mlp)\n",
    "    mae_rr_list.append(ind_mae_rr)\n",
    "    \n",
    "print(empty_list_count)\n",
    "#print(empty_list_IDs)\n",
    "\n",
    "print(len(rmse_interp_list))\n",
    "print(len(rmse_exterp_list))\n",
    "print(len(rmse_lstm_list))\n",
    "print(len(rmse_rnn_list))\n",
    "print(len(rmse_mlp_list))\n",
    "print(len(rmse_rr_list))\n",
    "\n",
    "print(len(mae_interp_list))\n",
    "print(len(mae_exterp_list))\n",
    "print(len(mae_lstm_list))\n",
    "print(len(mae_rnn_list))\n",
    "print(len(mae_mlp_list))\n",
    "print(len(mae_rr_list))\n",
    "\n",
    "print(\"RMSE Interp:\\t\", np.mean(rmse_interp_list))\n",
    "print(\"RMSE Exterp:\\t\", np.mean(rmse_exterp_list))\n",
    "print(\"RMSE LSTM:\\t\", np.mean(rmse_lstm_list))\n",
    "print(\"RMSE RNN:\\t\", np.mean(rmse_rnn_list))\n",
    "print(\"RMSE MLP:\\t\", np.mean(rmse_mlp_list))    \n",
    "print(\"RMSE RR:\\t\", np.mean(rmse_rr_list))    \n",
    "\n",
    "print(\"MAE Interp:\\t\", np.mean(mae_interp_list))\n",
    "print(\"MAE Exterp:\\t\", np.mean(mae_exterp_list))\n",
    "print(\"MAE LSTM:\\t\", np.mean(mae_lstm_list))\n",
    "print(\"MAE RNN:\\t\", np.mean(mae_rnn_list))\n",
    "print(\"MAE MLP:\\t\", np.mean(mae_mlp_list))         \n",
    "print(\"MAE RR:\\t\\t\", np.mean(mae_rr_list))         "
   ]
  },
  {
   "cell_type": "code",
   "execution_count": 10,
   "metadata": {},
   "outputs": [
    {
     "data": {
      "text/plain": [
       "(array([ 70., 165., 353., 593., 793., 798., 812., 749., 700., 644., 560.,\n",
       "        493., 446., 411., 314., 289., 298., 237., 196., 191., 166., 123.,\n",
       "         92.,  97.,  66.,  68.,  53.,  41.,  36.,  33.,  31.,  28.,  21.,\n",
       "         16.,  16.,  13.,   7.,   5.,   6.,   6.,   3.,   7.,   6.,   4.,\n",
       "          5.,   2.,   3.,   4.,   0.,   3.,   0.,   1.,   2.,   1.,   2.,\n",
       "          2.,   0.,   3.,   2.,   1.,   2.,   1.,   0.,   0.,   0.,   0.,\n",
       "          0.,   0.,   0.,   0.,   2.,   0.,   1.,   0.,   0.,   0.,   0.,\n",
       "          0.,   0.,   0.,   0.,   0.,   0.,   0.,   1.,   0.,   0.,   0.,\n",
       "          0.,   0.,   0.,   0.,   0.,   0.,   1.,   0.,   0.,   0.,   0.,\n",
       "          1.]),\n",
       " array([2.43443526e-03, 6.78026409e-02, 1.33170847e-01, 1.98539052e-01,\n",
       "        2.63907258e-01, 3.29275463e-01, 3.94643669e-01, 4.60011875e-01,\n",
       "        5.25380080e-01, 5.90748286e-01, 6.56116492e-01, 7.21484697e-01,\n",
       "        7.86852903e-01, 8.52221109e-01, 9.17589314e-01, 9.82957520e-01,\n",
       "        1.04832573e+00, 1.11369393e+00, 1.17906214e+00, 1.24443034e+00,\n",
       "        1.30979855e+00, 1.37516675e+00, 1.44053496e+00, 1.50590316e+00,\n",
       "        1.57127137e+00, 1.63663958e+00, 1.70200778e+00, 1.76737599e+00,\n",
       "        1.83274419e+00, 1.89811240e+00, 1.96348060e+00, 2.02884881e+00,\n",
       "        2.09421702e+00, 2.15958522e+00, 2.22495343e+00, 2.29032163e+00,\n",
       "        2.35568984e+00, 2.42105804e+00, 2.48642625e+00, 2.55179446e+00,\n",
       "        2.61716266e+00, 2.68253087e+00, 2.74789907e+00, 2.81326728e+00,\n",
       "        2.87863548e+00, 2.94400369e+00, 3.00937189e+00, 3.07474010e+00,\n",
       "        3.14010831e+00, 3.20547651e+00, 3.27084472e+00, 3.33621292e+00,\n",
       "        3.40158113e+00, 3.46694933e+00, 3.53231754e+00, 3.59768575e+00,\n",
       "        3.66305395e+00, 3.72842216e+00, 3.79379036e+00, 3.85915857e+00,\n",
       "        3.92452677e+00, 3.98989498e+00, 4.05526318e+00, 4.12063139e+00,\n",
       "        4.18599960e+00, 4.25136780e+00, 4.31673601e+00, 4.38210421e+00,\n",
       "        4.44747242e+00, 4.51284062e+00, 4.57820883e+00, 4.64357704e+00,\n",
       "        4.70894524e+00, 4.77431345e+00, 4.83968165e+00, 4.90504986e+00,\n",
       "        4.97041806e+00, 5.03578627e+00, 5.10115447e+00, 5.16652268e+00,\n",
       "        5.23189089e+00, 5.29725909e+00, 5.36262730e+00, 5.42799550e+00,\n",
       "        5.49336371e+00, 5.55873191e+00, 5.62410012e+00, 5.68946833e+00,\n",
       "        5.75483653e+00, 5.82020474e+00, 5.88557294e+00, 5.95094115e+00,\n",
       "        6.01630935e+00, 6.08167756e+00, 6.14704577e+00, 6.21241397e+00,\n",
       "        6.27778218e+00, 6.34315038e+00, 6.40851859e+00, 6.47388679e+00,\n",
       "        6.53925500e+00]),\n",
       " <a list of 100 Patch objects>)"
      ]
     },
     "execution_count": 10,
     "metadata": {},
     "output_type": "execute_result"
    },
    {
     "data": {
      "image/png": "[encoded data removed]",
      "text/plain": [
       "<Figure size 432x288 with 1 Axes>"
      ]
     },
     "metadata": {
      "needs_background": "light"
     },
     "output_type": "display_data"
    }
   ],
   "source": [
    "pyplot.hist(rmse_lstm_list, bins = 100)"
   ]
  },
  {
   "cell_type": "code",
   "execution_count": null,
   "metadata": {},
   "outputs": [],
   "source": [
    "GRU\n",
    "RMSE Interp:\t 0.17662063160331065\n",
    "RMSE Exterp:\t 0.8127340583988681\n",
    "RMSE GRU:\t 0.7026665813620571\n",
    "RMSE RNN:\t 0.6997968952323724\n",
    "RMSE MLP:\t 0.698808118277145\n",
    "RMSE RR:\t 0.704374888720161\n",
    "MAE Interp:\t 0.1224147945871851\n",
    "MAE Exterp:\t 0.7179975227170701\n",
    "MAE GRU:\t 0.6084454696591313\n",
    "MAE RNN:\t 0.6052539239710247\n",
    "MAE MLP:\t 0.6052471801762574\n",
    "MAE RR:\t\t 0.6125186015997773"
   ]
  },
  {
   "cell_type": "markdown",
   "metadata": {},
   "source": [
    "## Quarter by quarter  error"
   ]
  },
  {
   "cell_type": "code",
   "execution_count": 13,
   "metadata": {},
   "outputs": [],
   "source": [
    "results_list = [[[],[],[],[],[],[],[],[],[],[],[],[],[],[],[],[],[],[],[],[]],\n",
    "                [[],[],[],[],[],[],[],[],[],[],[],[],[],[],[],[],[],[],[],[]],\n",
    "                [[],[],[],[],[],[],[],[],[],[],[],[],[],[],[],[],[],[],[],[]],\n",
    "                [[],[],[],[],[],[],[],[],[],[],[],[],[],[],[],[],[],[],[],[]],\n",
    "                [[],[],[],[],[],[],[],[],[],[],[],[],[],[],[],[],[],[],[],[]]]"
   ]
  },
  {
   "cell_type": "code",
   "execution_count": 14,
   "metadata": {},
   "outputs": [
    {
     "name": "stdout",
     "output_type": "stream",
     "text": [
      "Number of inds: 10096\n"
     ]
    }
   ],
   "source": [
    "num_of_inds = test_v.shape[0]//28\n",
    "print(\"Number of inds:\", num_of_inds)\n",
    "\n",
    "# results_v - lstm, gru, rnn, mlp, rr\n",
    "for i in range(num_of_inds):\n",
    "    ind_id = view_v[i*28, 0]\n",
    "    ind_y_v = view_v[(i*28):((i+1)*28), :]\n",
    "    ind_exp_v = test_v[(i*28):((i+1)*28), :]\n",
    "    ind_lstm_yhat_v = lstm_yhat_v[(i*28):((i+1)*28), :]\n",
    "    ind_gru_yhat_v = gru_yhat_v[(i*28):((i+1)*28), :]\n",
    "    ind_rnn_yhat_v = rnn_yhat_v[(i*28):((i+1)*28), :]\n",
    "    ind_mlp_yhat_v = mlp_yhat_v[(i*28):((i+1)*28), :]\n",
    "    ind_rr_yhat_v = rr_yhat_v[(i*28):((i+1)*28), :]\n",
    "    \n",
    "    for j in range(8, 28):\n",
    "        #if ind_y_v[j, 9] == value_indicating_test:\n",
    "        if len(ind_y_v[j, 186]) > 2:\n",
    "            TCHDLs = [float(TCHDL) for TCHDL in ind_y_v[j, 186][1:-1].split(\", \")]\n",
    "            mean_TCHDL = sum(TCHDLs)/len(TCHDLs)\n",
    "\n",
    "            results_list[0][j-8].append((ind_lstm_yhat_v[j, 14] - mean_TCHDL)) \n",
    "            results_list[1][j-8].append((ind_gru_yhat_v[j, 14] - mean_TCHDL))\n",
    "            results_list[2][j-8].append((ind_rnn_yhat_v[j, 14] - mean_TCHDL))\n",
    "            results_list[3][j-8].append((ind_mlp_yhat_v[j, 14] - mean_TCHDL))\n",
    "            results_list[4][j-8].append((ind_rr_yhat_v[j, 14] - mean_TCHDL))\n",
    "        else:\n",
    "            empty_list_count += 1\n",
    "            empty_list_IDs.append(ind_id)"
   ]
  },
  {
   "cell_type": "code",
   "execution_count": 32,
   "metadata": {},
   "outputs": [
    {
     "name": "stdout",
     "output_type": "stream",
     "text": [
      "LSTM\n",
      "QUARTER 1\tMAE: 0.62545 \t RMSE: 0.87554\n",
      "QUARTER 2\tMAE: 0.60212 \t RMSE: 0.86183\n",
      "QUARTER 3\tMAE: 0.58806 \t RMSE: 0.82344\n",
      "QUARTER 4\tMAE: 0.59746 \t RMSE: 0.83898\n",
      "QUARTER 5\tMAE: 0.59162 \t RMSE: 0.82456\n",
      "QUARTER 6\tMAE: 0.59778 \t RMSE: 0.82119\n",
      "QUARTER 7\tMAE: 0.61062 \t RMSE: 0.84924\n",
      "QUARTER 8\tMAE: 0.60862 \t RMSE: 0.82655\n",
      "QUARTER 9\tMAE: 0.60998 \t RMSE: 0.83878\n",
      "QUARTER 10\tMAE: 0.61519 \t RMSE: 0.84051\n",
      "QUARTER 11\tMAE: 0.59796 \t RMSE: 0.84778\n",
      "QUARTER 12\tMAE: 0.61891 \t RMSE: 0.89235\n",
      "QUARTER 13\tMAE: 0.62808 \t RMSE: 0.86703\n",
      "QUARTER 14\tMAE: 0.62126 \t RMSE: 0.84178\n",
      "QUARTER 15\tMAE: 0.61167 \t RMSE: 0.84268\n",
      "QUARTER 16\tMAE: 0.62960 \t RMSE: 0.96697\n",
      "QUARTER 17\tMAE: 0.62665 \t RMSE: 0.86635\n",
      "QUARTER 18\tMAE: 0.64720 \t RMSE: 0.90031\n",
      "QUARTER 19\tMAE: 0.60972 \t RMSE: 0.83135\n",
      "QUARTER 20\tMAE: 0.63129 \t RMSE: 0.87043\n",
      "###############################################\n",
      "GRU\n",
      "QUARTER 1\tMAE: 0.63203 \t RMSE: 0.88690\n",
      "QUARTER 2\tMAE: 0.59899 \t RMSE: 0.85736\n",
      "QUARTER 3\tMAE: 0.58659 \t RMSE: 0.82023\n",
      "QUARTER 4\tMAE: 0.59170 \t RMSE: 0.82892\n",
      "QUARTER 5\tMAE: 0.58752 \t RMSE: 0.81315\n",
      "QUARTER 6\tMAE: 0.59246 \t RMSE: 0.81266\n",
      "QUARTER 7\tMAE: 0.60532 \t RMSE: 0.83960\n",
      "QUARTER 8\tMAE: 0.60348 \t RMSE: 0.82032\n",
      "QUARTER 9\tMAE: 0.60624 \t RMSE: 0.82807\n",
      "QUARTER 10\tMAE: 0.61447 \t RMSE: 0.83813\n",
      "QUARTER 11\tMAE: 0.59690 \t RMSE: 0.84131\n",
      "QUARTER 12\tMAE: 0.61464 \t RMSE: 0.88442\n",
      "QUARTER 13\tMAE: 0.62289 \t RMSE: 0.85841\n",
      "QUARTER 14\tMAE: 0.61936 \t RMSE: 0.83593\n",
      "QUARTER 15\tMAE: 0.60722 \t RMSE: 0.83234\n",
      "QUARTER 16\tMAE: 0.62029 \t RMSE: 0.95298\n",
      "QUARTER 17\tMAE: 0.62213 \t RMSE: 0.85554\n",
      "QUARTER 18\tMAE: 0.64160 \t RMSE: 0.88926\n",
      "QUARTER 19\tMAE: 0.60932 \t RMSE: 0.82676\n",
      "QUARTER 20\tMAE: 0.62233 \t RMSE: 0.85596\n",
      "###############################################\n",
      "RNN\n",
      "QUARTER 1\tMAE: 0.62485 \t RMSE: 0.87507\n",
      "QUARTER 2\tMAE: 0.59867 \t RMSE: 0.85772\n",
      "QUARTER 3\tMAE: 0.58031 \t RMSE: 0.81397\n",
      "QUARTER 4\tMAE: 0.59275 \t RMSE: 0.82870\n",
      "QUARTER 5\tMAE: 0.58747 \t RMSE: 0.81733\n",
      "QUARTER 6\tMAE: 0.58994 \t RMSE: 0.81268\n",
      "QUARTER 7\tMAE: 0.59838 \t RMSE: 0.83498\n",
      "QUARTER 8\tMAE: 0.60221 \t RMSE: 0.82003\n",
      "QUARTER 9\tMAE: 0.60737 \t RMSE: 0.83721\n",
      "QUARTER 10\tMAE: 0.61187 \t RMSE: 0.83750\n",
      "QUARTER 11\tMAE: 0.59241 \t RMSE: 0.84324\n",
      "QUARTER 12\tMAE: 0.61262 \t RMSE: 0.88740\n",
      "QUARTER 13\tMAE: 0.62435 \t RMSE: 0.86832\n",
      "QUARTER 14\tMAE: 0.61468 \t RMSE: 0.83951\n",
      "QUARTER 15\tMAE: 0.60581 \t RMSE: 0.83841\n",
      "QUARTER 16\tMAE: 0.62080 \t RMSE: 0.95574\n",
      "QUARTER 17\tMAE: 0.62203 \t RMSE: 0.85923\n",
      "QUARTER 18\tMAE: 0.64007 \t RMSE: 0.89652\n",
      "QUARTER 19\tMAE: 0.61031 \t RMSE: 0.83218\n",
      "QUARTER 20\tMAE: 0.61804 \t RMSE: 0.84983\n",
      "###############################################\n",
      "MLP\n",
      "QUARTER 1\tMAE: 0.59206 \t RMSE: 0.84753\n",
      "QUARTER 2\tMAE: 0.58589 \t RMSE: 0.86501\n",
      "QUARTER 3\tMAE: 0.57887 \t RMSE: 0.84024\n",
      "QUARTER 4\tMAE: 0.58955 \t RMSE: 0.84346\n",
      "QUARTER 5\tMAE: 0.59316 \t RMSE: 0.82964\n",
      "QUARTER 6\tMAE: 0.59051 \t RMSE: 0.81450\n",
      "QUARTER 7\tMAE: 0.59587 \t RMSE: 0.84248\n",
      "QUARTER 8\tMAE: 0.60324 \t RMSE: 0.82595\n",
      "QUARTER 9\tMAE: 0.61283 \t RMSE: 0.84002\n",
      "QUARTER 10\tMAE: 0.61002 \t RMSE: 0.83719\n",
      "QUARTER 11\tMAE: 0.59455 \t RMSE: 0.85324\n",
      "QUARTER 12\tMAE: 0.61561 \t RMSE: 0.89477\n",
      "QUARTER 13\tMAE: 0.62955 \t RMSE: 0.87402\n",
      "QUARTER 14\tMAE: 0.61285 \t RMSE: 0.84123\n",
      "QUARTER 15\tMAE: 0.60786 \t RMSE: 0.83975\n",
      "QUARTER 16\tMAE: 0.62825 \t RMSE: 0.97369\n",
      "QUARTER 17\tMAE: 0.62384 \t RMSE: 0.86285\n",
      "QUARTER 18\tMAE: 0.63959 \t RMSE: 0.89487\n",
      "QUARTER 19\tMAE: 0.60971 \t RMSE: 0.83795\n",
      "QUARTER 20\tMAE: 0.62705 \t RMSE: 0.86852\n",
      "###############################################\n",
      "RR\n",
      "QUARTER 1\tMAE: 0.61357 \t RMSE: 0.86976\n",
      "QUARTER 2\tMAE: 0.59187 \t RMSE: 0.85110\n",
      "QUARTER 3\tMAE: 0.58413 \t RMSE: 0.82323\n",
      "QUARTER 4\tMAE: 0.60036 \t RMSE: 0.83643\n",
      "QUARTER 5\tMAE: 0.59424 \t RMSE: 0.81737\n",
      "QUARTER 6\tMAE: 0.60089 \t RMSE: 0.82450\n",
      "QUARTER 7\tMAE: 0.60540 \t RMSE: 0.84162\n",
      "QUARTER 8\tMAE: 0.60647 \t RMSE: 0.81488\n",
      "QUARTER 9\tMAE: 0.61214 \t RMSE: 0.82751\n",
      "QUARTER 10\tMAE: 0.62049 \t RMSE: 0.83691\n",
      "QUARTER 11\tMAE: 0.60049 \t RMSE: 0.84399\n",
      "QUARTER 12\tMAE: 0.62223 \t RMSE: 0.88276\n",
      "QUARTER 13\tMAE: 0.62759 \t RMSE: 0.85592\n",
      "QUARTER 14\tMAE: 0.62739 \t RMSE: 0.84438\n",
      "QUARTER 15\tMAE: 0.61510 \t RMSE: 0.83164\n",
      "QUARTER 16\tMAE: 0.63514 \t RMSE: 0.96037\n",
      "QUARTER 17\tMAE: 0.63512 \t RMSE: 0.86216\n",
      "QUARTER 18\tMAE: 0.64867 \t RMSE: 0.89258\n",
      "QUARTER 19\tMAE: 0.62612 \t RMSE: 0.83744\n",
      "QUARTER 20\tMAE: 0.63339 \t RMSE: 0.86293\n",
      "###############################################\n"
     ]
    }
   ],
   "source": [
    "model_dict = {0:\"LSTM\", 1:\"GRU\", 2:\"RNN\", 3:\"MLP\", 4:\"RR\"}\n",
    "for i in range(5):\n",
    "    print(model_dict[i])\n",
    "    for j in range(20):\n",
    "        #print(\"QUARTER \" + str((j+1)) + \n",
    "        #      \"\\t\" + str(len(results_list[i][j])))\n",
    "        mae = np.mean(np.absolute(results_list[i][j]))\n",
    "        rmse = np.sqrt(np.mean(np.power(results_list[i][j], 2)))\n",
    "        print(\"QUARTER \" + str(j+1) + \"\\t\" +\n",
    "              \"MAE: %0.5f \\t RMSE: %0.5f\" % (mae, rmse))\n",
    "    print(\"###############################################\")"
   ]
  },
  {
   "cell_type": "code",
   "execution_count": null,
   "metadata": {},
   "outputs": [],
   "source": []
  }
 ],
 "metadata": {
  "kernelspec": {
   "display_name": "Python 3",
   "language": "python",
   "name": "python3"
  },
  "language_info": {
   "codemirror_mode": {
    "name": "ipython",
    "version": 3
   },
   "file_extension": ".py",
   "mimetype": "text/x-python",
   "name": "python",
   "nbconvert_exporter": "python",
   "pygments_lexer": "ipython3",
   "version": "3.6.8"
  }
 },
 "nbformat": 4,
 "nbformat_minor": 2
}
